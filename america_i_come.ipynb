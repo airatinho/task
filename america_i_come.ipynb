{
 "cells": [
  {
   "cell_type": "code",
   "metadata": {
    "collapsed": true,
    "pycharm": {
     "name": "#%%\n"
    }
   },
   "source": [
    "%reset"
   ],
   "execution_count": 250,
   "outputs": []
  },
  {
   "cell_type": "code",
   "execution_count": 251,
   "outputs": [],
   "source": [
    "my_json=r\"\"\"{\n",
    "      \"webSearchUrl\": \"https://www.bing.com/search?q=keyspan+company\",\n",
    "      \"totalEstimatedMatches\": 385000,\n",
    "      \"value\": [\n",
    "        {\n",
    "          \"id\": \"https://api.cognitive.microsoft.com/api/v7/#WebPages.0\",\n",
    "          \"name\": \"KeySpan - Wikipedia\",\n",
    "          \"url\": \"https://en.wikipedia.org/wiki/KeySpan\",\n",
    "          \"about\": [\n",
    "            {\n",
    "              \"name\": \"KeySpan\"\n",
    "            }\n",
    "          ],\n",
    "          \"displayUrl\": \"https://en.wikipedia.org/wiki/KeySpan\",\n",
    "          \"snippet\": \"KeySpan Corporation, now part of National Grid USA, was the fifth largest distributor of natural gas in the United States. KeySpan was formed in 1998 as a result of ...\",\n",
    "          \"dateLastCrawled\": \"2018-01-06T19:18:00.0000000Z\"\n",
    "        },\n",
    "        {\n",
    "          \"id\": \"https://api.cognitive.microsoft.com/api/v7/#WebPages.1\",\n",
    "          \"name\": \"National Grid US - Official Site\",\n",
    "          \"url\": \"https://nationalgridus.com/\",\n",
    "          \"displayUrl\": \"https://nationalgridus.com\",\n",
    "          \"snippet\": \"Welcome to National Grid, providing New York, Rhode Island and Massachusetts with natural gas and electricity for homes and businesses.\",\n",
    "          \"deepLinks\": [\n",
    "            {\n",
    "              \"name\": \"Sign In\",\n",
    "              \"url\": \"https://online.nationalgridus.com/eservice_enu\"\n",
    "            },\n",
    "            {\n",
    "              \"name\": \"New York - Long Island\",\n",
    "              \"url\": \"https://www.nationalgridus.com/Upstate-NY-Home/Default\"\n",
    "            },\n",
    "            {\n",
    "              \"name\": \"Billing and Payments\",\n",
    "              \"url\": \"https://www.nationalgridus.com/RI-Home/Billing-Payments\"\n",
    "            },\n",
    "            {\n",
    "              \"name\": \"Online\",\n",
    "              \"url\": \"https://online.nationalgridus.com/viewmybills/LoginActivate?applicurl=aHR0cHM6Ly9vbmxpbmUubmF0aW9uYWxncmlkdXMuY29tL3ZpZXdteWJpbGxzL215YWNjb3VudC8=&auth_method=0\"\n",
    "            },\n",
    "            {\n",
    "              \"name\": \"MA\",\n",
    "              \"url\": \"https://www.nationalgridus.com/MA-Home/Default\"\n",
    "            }\n",
    "          ],\n",
    "          \"dateLastCrawled\": \"2018-01-05T00:23:00.0000000Z\"\n",
    "        },\n",
    "        {\n",
    "          \"id\": \"https://api.cognitive.microsoft.com/api/v7/#WebPages.2\",\n",
    "          \"name\": \"Keyspan Energy Corporation - The New York Times\",\n",
    "          \"url\": \"https://www.nytimes.com/topic/company/keyspan-energy-corporation\",\n",
    "          \"displayUrl\": \"https://www.nytimes.com/topic/company/keyspan-energy-corporation\",\n",
    "          \"snippet\": \"News about the Keyspan Energy Corporation. Commentary and archival information about the Keyspan Energy Corporation from The New York Times.\",\n",
    "          \"dateLastCrawled\": \"2017-12-29T17:34:00.0000000Z\"\n",
    "        },\n",
    "        {\n",
    "          \"id\": \"https://api.cognitive.microsoft.com/api/v7/#WebPages.3\",\n",
    "          \"name\": \"KeySpan Corporation: Private Company Information - Bloomberg\",\n",
    "          \"url\": \"https://www.bloomberg.com/research/stocks/private/snapshot.asp?privcapId=113131\",\n",
    "          \"about\": [\n",
    "            {\n",
    "              \"name\": \"KeySpan\"\n",
    "            }\n",
    "          ],\n",
    "          \"displayUrl\": \"https://www.bloomberg.com/research/stocks/private/snapshot.asp?...\",\n",
    "          \"snippet\": \"KeySpan Corporation company research & investing information. Find executives and the latest company news.\",\n",
    "          \"dateLastCrawled\": \"2018-01-02T10:43:00.0000000Z\"\n",
    "        },\n",
    "        {\n",
    "          \"id\": \"https://api.cognitive.microsoft.com/api/v7/#WebPages.4\",\n",
    "          \"name\": \"KeySpan Energy Co. -- Company History\",\n",
    "          \"url\": \"http://www.company-histories.com/KeySpan-Energy-Co-Company-History.html\",\n",
    "          \"displayUrl\": \"www.company-histories.com/KeySpan-Energy-Co-Company-History.html\",\n",
    "          \"snippet\": \"At KeySpan Energy, ... KeySpan Energy Co. is a holding company formed by the 1998 merger of Brooklyn Union Gas, the nation's fourth largest natural gas utility, ...\",\n",
    "          \"dateLastCrawled\": \"2017-12-21T10:19:00.0000000Z\"\n",
    "        },\n",
    "        {\n",
    "          \"id\": \"https://api.cognitive.microsoft.com/api/v7/#WebPages.5\",\n",
    "          \"name\": \"Keyspan Remotes & Adapters | Tripp Lite\",\n",
    "          \"url\": \"https://www.tripplite.com/products/keyspan-remotes-adapters~24\",\n",
    "          \"displayUrl\": \"https://www.tripplite.com/products/keyspan-remotes-adapters~24\",\n",
    "          \"snippet\": \"Convert older display cables to the newest technology and control presentations remotely in classrooms, conference rooms and auditoriums.\",\n",
    "          \"dateLastCrawled\": \"2018-01-06T20:07:00.0000000Z\"\n",
    "        },\n",
    "        {\n",
    "          \"id\": \"https://api.cognitive.microsoft.com/api/v7/#WebPages.6\",\n",
    "          \"name\": \"National Grid (Keyspan New York) - Choose Energy\",\n",
    "          \"url\": \"https://www.chooseenergy.com/utility/national-grid-keyspan-new-york-ny/#!\",\n",
    "          \"displayUrl\": \"https://www.chooseenergy.com/.../national-grid-keyspan-new-york-ny/#!\",\n",
    "          \"snippet\": \"National Grid (Keyspan New York) serves customers all across New York. Learn more about Keyspan New York's rates and \\\"Price to Compare\\\" at Choose Energy.\",\n",
    "          \"dateLastCrawled\": \"2018-01-07T05:23:00.0000000Z\"\n",
    "        },\n",
    "        {\n",
    "          \"id\": \"https://api.cognitive.microsoft.com/api/v7/#WebPages.7\",\n",
    "          \"name\": \"Long Island NY Gas | National Grid\",\n",
    "          \"url\": \"https://www.nationalgridus.com/Long-Island-NY-Home/Default\",\n",
    "          \"displayUrl\": \"https://www.nationalgridus.com/Long-Island-NY-Home/Default\",\n",
    "          \"snippet\": \"Pay your bill, report gas emergencies, and find useful energy saving and safety tips.\",\n",
    "          \"dateLastCrawled\": \"2018-01-06T16:42:00.0000000Z\"\n",
    "        },\n",
    "        {\n",
    "          \"id\": \"https://api.cognitive.microsoft.com/api/v7/#WebPages.8\",\n",
    "          \"name\": \"Cookies not enabled\",\n",
    "          \"url\": \"https://www1.nationalgridus.com/CorporateHub\",\n",
    "          \"about\": [\n",
    "            {\n",
    "              \"name\": \"National Grid plc\"\n",
    "            },\n",
    "            {\n",
    "              \"notname\": \"This should not show up\"\n",
    "            }\n",
    "          ],\n",
    "          \"displayUrl\": \"https://www1.nationalgridus.com/CorporateHub\",\n",
    "          \"snippet\": \"Thanks for visiting National Grid. We've detected your browser may be blocking cookies which our website requires to access your account. To get the best online ...\",\n",
    "          \"dateLastCrawled\": \"2018-01-06T22:37:00.0000000Z\"\n",
    "        },\n",
    "        {\n",
    "          \"id\": \"https://api.cognitive.microsoft.com/api/v7/#WebPages.9\",\n",
    "          \"name\": \"Tripp Lite - Official Site\",\n",
    "          \"url\": \"https://www.tripplite.com/\",\n",
    "          \"about\": [\n",
    "            {\n",
    "              \"name\": \"Tripp Lite\"\n",
    "            },\n",
    "            {\n",
    "              \"name\": \"Tripp Lite\"\n",
    "            }\n",
    "          ],\n",
    "          \"displayUrl\": \"https://www.tripplite.com\",\n",
    "          \"snippet\": \"ABOUT TRIPP LITE. Tripp Lite is a US-based manufacturer of solutions to power, connect, secure and protect equipment for IT environments. From the largest data center ...\",\n",
    "          \"dateLastCrawled\": \"2018-01-05T18:03:00.0000000Z\"\n",
    "        },\n",
    "        {\n",
    "          \"id\": \"https://api.cognitive.microsoft.com/api/v7/#WebPages.10\",\n",
    "          \"name\": \"National Grid Online Login\",\n",
    "          \"url\": \"https://online.nationalgridus.com/eservice_enu\",\n",
    "          \"displayUrl\": \"https://online.nationalgridus.com/eservice_enu\",\n",
    "          \"snippet\": \"Our vision is to become the premier energy and services company in the Northeastern United States. Note: The ... NYC Gas and MA Gas Sign in. All other ...\",\n",
    "          \"dateLastCrawled\": \"2018-01-03T11:03:00.0000000Z\"\n",
    "        },\n",
    "        {\n",
    "          \"id\": \"https://api.cognitive.microsoft.com/api/v7/#WebPages.11\",\n",
    "          \"name\": \"KEYSPAN CORP (KSE) SPO - NASDAQ.com\",\n",
    "          \"url\": \"http://www.nasdaq.com/markets/spos/company/keyspan-corp-52024-26411\",\n",
    "          \"displayUrl\": \"www.nasdaq.com/markets/spos/company/keyspan-corp-52024-26411\",\n",
    "          \"snippet\": \"KEYSPAN CORP (KSE) SPO - NASDAQ.com. Hot Topics: ETFs ... Home > Markets > SPOs > Company SPO Overview. KEYSPAN CORP (KSE) SPO. Overview; Financials & Filings;\",\n",
    "          \"dateLastCrawled\": \"2017-12-28T15:58:00.0000000Z\"\n",
    "        },\n",
    "        {\n",
    "          \"id\": \"https://api.cognitive.microsoft.com/api/v7/#WebPages.12\",\n",
    "          \"name\": \"KeySpan Corp Company Information - Forbes.com\",\n",
    "          \"url\": \"https://www.forbes.com/lists/2006/18/49337W100.html\",\n",
    "          \"displayUrl\": \"https://www.forbes.com/lists/2006/18/49337W100.html\",\n",
    "          \"snippet\": \"KeySpan Corp background, news, press releases, stock quote, financials, financial ratios, revenues, officers, and additional company information. Financial ...\",\n",
    "          \"dateLastCrawled\": \"2017-12-29T19:52:00.0000000Z\"\n",
    "        },\n",
    "        {\n",
    "          \"id\": \"https://api.cognitive.microsoft.com/api/v7/#WebPages.13\",\n",
    "          \"name\": \"Long Island Power Authority - Official Site\",\n",
    "          \"url\": \"http://www.lipower.org/\",\n",
    "          \"about\": [\n",
    "            {\n",
    "              \"name\": \"Long Island Power Authority\"\n",
    "            },\n",
    "            {\n",
    "              \"name\": \"Long Island Power Authority\"\n",
    "            }\n",
    "          ],\n",
    "          \"displayUrl\": \"www.lipower.org\",\n",
    "          \"snippet\": \"LIPA, a non-profit municipal electric provider, owns the retail electric Transmission and Distribution System on Long Island and provides electric service to Nassau ...\",\n",
    "          \"dateLastCrawled\": \"2018-01-07T20:34:00.0000000Z\"\n",
    "        },\n",
    "        {\n",
    "          \"id\": \"https://api.cognitive.microsoft.com/api/v7/#WebPages.14\",\n",
    "          \"name\": \"KeySpan Corp: Company Profile - Bloomberg\",\n",
    "          \"url\": \"https://www.bloomberg.com/profiles/companies/KSE:US-keyspan-corp\",\n",
    "          \"displayUrl\": \"https://www.bloomberg.com/profiles/companies/KSE:US-keyspan-corp\",\n",
    "          \"snippet\": \"Company profile & key executives for KeySpan Corp (KSE:-) including description, corporate address, management team and contact info.\",\n",
    "          \"dateLastCrawled\": \"2018-01-07T07:58:00.0000000Z\"\n",
    "        }\n",
    "      ]\n",
    "    }\"\"\""
   ],
   "metadata": {
    "collapsed": false,
    "pycharm": {
     "name": "#%%\n"
    }
   }
  },
  {
   "cell_type": "code",
   "execution_count": 252,
   "outputs": [
    {
     "name": "stdout",
     "output_type": "stream",
     "text": [
      "{\n",
      "      \"webSearchUrl\": \"https://www.bing.com/search?q=keyspan+company\",\n",
      "      \"totalEstimatedMatches\": 385000,\n",
      "      \"value\": [\n",
      "        {\n",
      "          \"id\": \"https://api.cognitive.microsoft.com/api/v7/#WebPages.0\",\n",
      "          \"name\": \"KeySpan - Wikipedia\",\n",
      "          \"url\": \"https://en.wikipedia.org/wiki/KeySpan\",\n",
      "          \"about\": [\n",
      "            {\n",
      "              \"name\": \"KeySpan\"\n",
      "            }\n",
      "          ],\n",
      "          \"displayUrl\": \"https://en.wikipedia.org/wiki/KeySpan\",\n",
      "          \"snippet\": \"KeySpan Corporation, now part of National Grid USA, was the fifth largest distributor of natural gas in the United States. KeySpan was formed in 1998 as a result of ...\",\n",
      "          \"dateLastCrawled\": \"2018-01-06T19:18:00.0000000Z\"\n",
      "        },\n",
      "        {\n",
      "          \"id\": \"https://api.cognitive.microsoft.com/api/v7/#WebPages.1\",\n",
      "          \"name\": \"National Grid US - Official Site\",\n",
      "          \"url\": \"https://nationalgridus.com/\",\n",
      "          \"displayUrl\": \"https://nationalgridus.com\",\n",
      "          \"snippet\": \"Welcome to National Grid, providing New York, Rhode Island and Massachusetts with natural gas and electricity for homes and businesses.\",\n",
      "          \"deepLinks\": [\n",
      "            {\n",
      "              \"name\": \"Sign In\",\n",
      "              \"url\": \"https://online.nationalgridus.com/eservice_enu\"\n",
      "            },\n",
      "            {\n",
      "              \"name\": \"New York - Long Island\",\n",
      "              \"url\": \"https://www.nationalgridus.com/Upstate-NY-Home/Default\"\n",
      "            },\n",
      "            {\n",
      "              \"name\": \"Billing and Payments\",\n",
      "              \"url\": \"https://www.nationalgridus.com/RI-Home/Billing-Payments\"\n",
      "            },\n",
      "            {\n",
      "              \"name\": \"Online\",\n",
      "              \"url\": \"https://online.nationalgridus.com/viewmybills/LoginActivate?applicurl=aHR0cHM6Ly9vbmxpbmUubmF0aW9uYWxncmlkdXMuY29tL3ZpZXdteWJpbGxzL215YWNjb3VudC8=&auth_method=0\"\n",
      "            },\n",
      "            {\n",
      "              \"name\": \"MA\",\n",
      "              \"url\": \"https://www.nationalgridus.com/MA-Home/Default\"\n",
      "            }\n",
      "          ],\n",
      "          \"dateLastCrawled\": \"2018-01-05T00:23:00.0000000Z\"\n",
      "        },\n",
      "        {\n",
      "          \"id\": \"https://api.cognitive.microsoft.com/api/v7/#WebPages.2\",\n",
      "          \"name\": \"Keyspan Energy Corporation - The New York Times\",\n",
      "          \"url\": \"https://www.nytimes.com/topic/company/keyspan-energy-corporation\",\n",
      "          \"displayUrl\": \"https://www.nytimes.com/topic/company/keyspan-energy-corporation\",\n",
      "          \"snippet\": \"News about the Keyspan Energy Corporation. Commentary and archival information about the Keyspan Energy Corporation from The New York Times.\",\n",
      "          \"dateLastCrawled\": \"2017-12-29T17:34:00.0000000Z\"\n",
      "        },\n",
      "        {\n",
      "          \"id\": \"https://api.cognitive.microsoft.com/api/v7/#WebPages.3\",\n",
      "          \"name\": \"KeySpan Corporation: Private Company Information - Bloomberg\",\n",
      "          \"url\": \"https://www.bloomberg.com/research/stocks/private/snapshot.asp?privcapId=113131\",\n",
      "          \"about\": [\n",
      "            {\n",
      "              \"name\": \"KeySpan\"\n",
      "            }\n",
      "          ],\n",
      "          \"displayUrl\": \"https://www.bloomberg.com/research/stocks/private/snapshot.asp?...\",\n",
      "          \"snippet\": \"KeySpan Corporation company research & investing information. Find executives and the latest company news.\",\n",
      "          \"dateLastCrawled\": \"2018-01-02T10:43:00.0000000Z\"\n",
      "        },\n",
      "        {\n",
      "          \"id\": \"https://api.cognitive.microsoft.com/api/v7/#WebPages.4\",\n",
      "          \"name\": \"KeySpan Energy Co. -- Company History\",\n",
      "          \"url\": \"http://www.company-histories.com/KeySpan-Energy-Co-Company-History.html\",\n",
      "          \"displayUrl\": \"www.company-histories.com/KeySpan-Energy-Co-Company-History.html\",\n",
      "          \"snippet\": \"At KeySpan Energy, ... KeySpan Energy Co. is a holding company formed by the 1998 merger of Brooklyn Union Gas, the nation's fourth largest natural gas utility, ...\",\n",
      "          \"dateLastCrawled\": \"2017-12-21T10:19:00.0000000Z\"\n",
      "        },\n",
      "        {\n",
      "          \"id\": \"https://api.cognitive.microsoft.com/api/v7/#WebPages.5\",\n",
      "          \"name\": \"Keyspan Remotes & Adapters | Tripp Lite\",\n",
      "          \"url\": \"https://www.tripplite.com/products/keyspan-remotes-adapters~24\",\n",
      "          \"displayUrl\": \"https://www.tripplite.com/products/keyspan-remotes-adapters~24\",\n",
      "          \"snippet\": \"Convert older display cables to the newest technology and control presentations remotely in classrooms, conference rooms and auditoriums.\",\n",
      "          \"dateLastCrawled\": \"2018-01-06T20:07:00.0000000Z\"\n",
      "        },\n",
      "        {\n",
      "          \"id\": \"https://api.cognitive.microsoft.com/api/v7/#WebPages.6\",\n",
      "          \"name\": \"National Grid (Keyspan New York) - Choose Energy\",\n",
      "          \"url\": \"https://www.chooseenergy.com/utility/national-grid-keyspan-new-york-ny/#!\",\n",
      "          \"displayUrl\": \"https://www.chooseenergy.com/.../national-grid-keyspan-new-york-ny/#!\",\n",
      "          \"snippet\": \"National Grid (Keyspan New York) serves customers all across New York. Learn more about Keyspan New York's rates and \\\"Price to Compare\\\" at Choose Energy.\",\n",
      "          \"dateLastCrawled\": \"2018-01-07T05:23:00.0000000Z\"\n",
      "        },\n",
      "        {\n",
      "          \"id\": \"https://api.cognitive.microsoft.com/api/v7/#WebPages.7\",\n",
      "          \"name\": \"Long Island NY Gas | National Grid\",\n",
      "          \"url\": \"https://www.nationalgridus.com/Long-Island-NY-Home/Default\",\n",
      "          \"displayUrl\": \"https://www.nationalgridus.com/Long-Island-NY-Home/Default\",\n",
      "          \"snippet\": \"Pay your bill, report gas emergencies, and find useful energy saving and safety tips.\",\n",
      "          \"dateLastCrawled\": \"2018-01-06T16:42:00.0000000Z\"\n",
      "        },\n",
      "        {\n",
      "          \"id\": \"https://api.cognitive.microsoft.com/api/v7/#WebPages.8\",\n",
      "          \"name\": \"Cookies not enabled\",\n",
      "          \"url\": \"https://www1.nationalgridus.com/CorporateHub\",\n",
      "          \"about\": [\n",
      "            {\n",
      "              \"name\": \"National Grid plc\"\n",
      "            },\n",
      "            {\n",
      "              \"notname\": \"This should not show up\"\n",
      "            }\n",
      "          ],\n",
      "          \"displayUrl\": \"https://www1.nationalgridus.com/CorporateHub\",\n",
      "          \"snippet\": \"Thanks for visiting National Grid. We've detected your browser may be blocking cookies which our website requires to access your account. To get the best online ...\",\n",
      "          \"dateLastCrawled\": \"2018-01-06T22:37:00.0000000Z\"\n",
      "        },\n",
      "        {\n",
      "          \"id\": \"https://api.cognitive.microsoft.com/api/v7/#WebPages.9\",\n",
      "          \"name\": \"Tripp Lite - Official Site\",\n",
      "          \"url\": \"https://www.tripplite.com/\",\n",
      "          \"about\": [\n",
      "            {\n",
      "              \"name\": \"Tripp Lite\"\n",
      "            },\n",
      "            {\n",
      "              \"name\": \"Tripp Lite\"\n",
      "            }\n",
      "          ],\n",
      "          \"displayUrl\": \"https://www.tripplite.com\",\n",
      "          \"snippet\": \"ABOUT TRIPP LITE. Tripp Lite is a US-based manufacturer of solutions to power, connect, secure and protect equipment for IT environments. From the largest data center ...\",\n",
      "          \"dateLastCrawled\": \"2018-01-05T18:03:00.0000000Z\"\n",
      "        },\n",
      "        {\n",
      "          \"id\": \"https://api.cognitive.microsoft.com/api/v7/#WebPages.10\",\n",
      "          \"name\": \"National Grid Online Login\",\n",
      "          \"url\": \"https://online.nationalgridus.com/eservice_enu\",\n",
      "          \"displayUrl\": \"https://online.nationalgridus.com/eservice_enu\",\n",
      "          \"snippet\": \"Our vision is to become the premier energy and services company in the Northeastern United States. Note: The ... NYC Gas and MA Gas Sign in. All other ...\",\n",
      "          \"dateLastCrawled\": \"2018-01-03T11:03:00.0000000Z\"\n",
      "        },\n",
      "        {\n",
      "          \"id\": \"https://api.cognitive.microsoft.com/api/v7/#WebPages.11\",\n",
      "          \"name\": \"KEYSPAN CORP (KSE) SPO - NASDAQ.com\",\n",
      "          \"url\": \"http://www.nasdaq.com/markets/spos/company/keyspan-corp-52024-26411\",\n",
      "          \"displayUrl\": \"www.nasdaq.com/markets/spos/company/keyspan-corp-52024-26411\",\n",
      "          \"snippet\": \"KEYSPAN CORP (KSE) SPO - NASDAQ.com. Hot Topics: ETFs ... Home > Markets > SPOs > Company SPO Overview. KEYSPAN CORP (KSE) SPO. Overview; Financials & Filings;\",\n",
      "          \"dateLastCrawled\": \"2017-12-28T15:58:00.0000000Z\"\n",
      "        },\n",
      "        {\n",
      "          \"id\": \"https://api.cognitive.microsoft.com/api/v7/#WebPages.12\",\n",
      "          \"name\": \"KeySpan Corp Company Information - Forbes.com\",\n",
      "          \"url\": \"https://www.forbes.com/lists/2006/18/49337W100.html\",\n",
      "          \"displayUrl\": \"https://www.forbes.com/lists/2006/18/49337W100.html\",\n",
      "          \"snippet\": \"KeySpan Corp background, news, press releases, stock quote, financials, financial ratios, revenues, officers, and additional company information. Financial ...\",\n",
      "          \"dateLastCrawled\": \"2017-12-29T19:52:00.0000000Z\"\n",
      "        },\n",
      "        {\n",
      "          \"id\": \"https://api.cognitive.microsoft.com/api/v7/#WebPages.13\",\n",
      "          \"name\": \"Long Island Power Authority - Official Site\",\n",
      "          \"url\": \"http://www.lipower.org/\",\n",
      "          \"about\": [\n",
      "            {\n",
      "              \"name\": \"Long Island Power Authority\"\n",
      "            },\n",
      "            {\n",
      "              \"name\": \"Long Island Power Authority\"\n",
      "            }\n",
      "          ],\n",
      "          \"displayUrl\": \"www.lipower.org\",\n",
      "          \"snippet\": \"LIPA, a non-profit municipal electric provider, owns the retail electric Transmission and Distribution System on Long Island and provides electric service to Nassau ...\",\n",
      "          \"dateLastCrawled\": \"2018-01-07T20:34:00.0000000Z\"\n",
      "        },\n",
      "        {\n",
      "          \"id\": \"https://api.cognitive.microsoft.com/api/v7/#WebPages.14\",\n",
      "          \"name\": \"KeySpan Corp: Company Profile - Bloomberg\",\n",
      "          \"url\": \"https://www.bloomberg.com/profiles/companies/KSE:US-keyspan-corp\",\n",
      "          \"displayUrl\": \"https://www.bloomberg.com/profiles/companies/KSE:US-keyspan-corp\",\n",
      "          \"snippet\": \"Company profile & key executives for KeySpan Corp (KSE:-) including description, corporate address, management team and contact info.\",\n",
      "          \"dateLastCrawled\": \"2018-01-07T07:58:00.0000000Z\"\n",
      "        }\n",
      "      ]\n",
      "    }\n"
     ]
    }
   ],
   "source": [
    "import json\n",
    "\n",
    "print(my_json)"
   ],
   "metadata": {
    "collapsed": false,
    "pycharm": {
     "name": "#%%\n"
    }
   }
  },
  {
   "cell_type": "code",
   "execution_count": 253,
   "outputs": [
    {
     "name": "stdout",
     "output_type": "stream",
     "text": [
      "{'totalEstimatedMatches': 385000,\n",
      " 'value': [{'about': [{'name': 'KeySpan'}],\n",
      "            'dateLastCrawled': '2018-01-06T19:18:00.0000000Z',\n",
      "            'displayUrl': 'https://en.wikipedia.org/wiki/KeySpan',\n",
      "            'id': 'https://api.cognitive.microsoft.com/api/v7/#WebPages.0',\n",
      "            'name': 'KeySpan - Wikipedia',\n",
      "            'snippet': 'KeySpan Corporation, now part of National Grid USA, '\n",
      "                       'was the fifth largest distributor of natural gas in '\n",
      "                       'the United States. KeySpan was formed in 1998 as a '\n",
      "                       'result of ...',\n",
      "            'url': 'https://en.wikipedia.org/wiki/KeySpan'},\n",
      "           {'dateLastCrawled': '2018-01-05T00:23:00.0000000Z',\n",
      "            'deepLinks': [{'name': 'Sign In',\n",
      "                           'url': 'https://online.nationalgridus.com/eservice_enu'},\n",
      "                          {'name': 'New York - Long Island',\n",
      "                           'url': 'https://www.nationalgridus.com/Upstate-NY-Home/Default'},\n",
      "                          {'name': 'Billing and Payments',\n",
      "                           'url': 'https://www.nationalgridus.com/RI-Home/Billing-Payments'},\n",
      "                          {'name': 'Online',\n",
      "                           'url': 'https://online.nationalgridus.com/viewmybills/LoginActivate?applicurl=aHR0cHM6Ly9vbmxpbmUubmF0aW9uYWxncmlkdXMuY29tL3ZpZXdteWJpbGxzL215YWNjb3VudC8=&auth_method=0'},\n",
      "                          {'name': 'MA',\n",
      "                           'url': 'https://www.nationalgridus.com/MA-Home/Default'}],\n",
      "            'displayUrl': 'https://nationalgridus.com',\n",
      "            'id': 'https://api.cognitive.microsoft.com/api/v7/#WebPages.1',\n",
      "            'name': 'National Grid US - Official Site',\n",
      "            'snippet': 'Welcome to National Grid, providing New York, Rhode '\n",
      "                       'Island and Massachusetts with natural gas and '\n",
      "                       'electricity for homes and businesses.',\n",
      "            'url': 'https://nationalgridus.com/'},\n",
      "           {'dateLastCrawled': '2017-12-29T17:34:00.0000000Z',\n",
      "            'displayUrl': 'https://www.nytimes.com/topic/company/keyspan-energy-corporation',\n",
      "            'id': 'https://api.cognitive.microsoft.com/api/v7/#WebPages.2',\n",
      "            'name': 'Keyspan Energy Corporation - The New York Times',\n",
      "            'snippet': 'News about the Keyspan Energy Corporation. Commentary '\n",
      "                       'and archival information about the Keyspan Energy '\n",
      "                       'Corporation from The New York Times.',\n",
      "            'url': 'https://www.nytimes.com/topic/company/keyspan-energy-corporation'},\n",
      "           {'about': [{'name': 'KeySpan'}],\n",
      "            'dateLastCrawled': '2018-01-02T10:43:00.0000000Z',\n",
      "            'displayUrl': 'https://www.bloomberg.com/research/stocks/private/snapshot.asp?...',\n",
      "            'id': 'https://api.cognitive.microsoft.com/api/v7/#WebPages.3',\n",
      "            'name': 'KeySpan Corporation: Private Company Information - '\n",
      "                    'Bloomberg',\n",
      "            'snippet': 'KeySpan Corporation company research & investing '\n",
      "                       'information. Find executives and the latest company '\n",
      "                       'news.',\n",
      "            'url': 'https://www.bloomberg.com/research/stocks/private/snapshot.asp?privcapId=113131'},\n",
      "           {'dateLastCrawled': '2017-12-21T10:19:00.0000000Z',\n",
      "            'displayUrl': 'www.company-histories.com/KeySpan-Energy-Co-Company-History.html',\n",
      "            'id': 'https://api.cognitive.microsoft.com/api/v7/#WebPages.4',\n",
      "            'name': 'KeySpan Energy Co. -- Company History',\n",
      "            'snippet': 'At KeySpan Energy, ... KeySpan Energy Co. is a holding '\n",
      "                       'company formed by the 1998 merger of Brooklyn Union '\n",
      "                       \"Gas, the nation's fourth largest natural gas utility, \"\n",
      "                       '...',\n",
      "            'url': 'http://www.company-histories.com/KeySpan-Energy-Co-Company-History.html'},\n",
      "           {'dateLastCrawled': '2018-01-06T20:07:00.0000000Z',\n",
      "            'displayUrl': 'https://www.tripplite.com/products/keyspan-remotes-adapters~24',\n",
      "            'id': 'https://api.cognitive.microsoft.com/api/v7/#WebPages.5',\n",
      "            'name': 'Keyspan Remotes & Adapters | Tripp Lite',\n",
      "            'snippet': 'Convert older display cables to the newest technology '\n",
      "                       'and control presentations remotely in classrooms, '\n",
      "                       'conference rooms and auditoriums.',\n",
      "            'url': 'https://www.tripplite.com/products/keyspan-remotes-adapters~24'},\n",
      "           {'dateLastCrawled': '2018-01-07T05:23:00.0000000Z',\n",
      "            'displayUrl': 'https://www.chooseenergy.com/.../national-grid-keyspan-new-york-ny/#!',\n",
      "            'id': 'https://api.cognitive.microsoft.com/api/v7/#WebPages.6',\n",
      "            'name': 'National Grid (Keyspan New York) - Choose Energy',\n",
      "            'snippet': 'National Grid (Keyspan New York) serves customers all '\n",
      "                       \"across New York. Learn more about Keyspan New York's \"\n",
      "                       'rates and \"Price to Compare\" at Choose Energy.',\n",
      "            'url': 'https://www.chooseenergy.com/utility/national-grid-keyspan-new-york-ny/#!'},\n",
      "           {'dateLastCrawled': '2018-01-06T16:42:00.0000000Z',\n",
      "            'displayUrl': 'https://www.nationalgridus.com/Long-Island-NY-Home/Default',\n",
      "            'id': 'https://api.cognitive.microsoft.com/api/v7/#WebPages.7',\n",
      "            'name': 'Long Island NY Gas | National Grid',\n",
      "            'snippet': 'Pay your bill, report gas emergencies, and find useful '\n",
      "                       'energy saving and safety tips.',\n",
      "            'url': 'https://www.nationalgridus.com/Long-Island-NY-Home/Default'},\n",
      "           {'about': [{'name': 'National Grid plc'},\n",
      "                      {'notname': 'This should not show up'}],\n",
      "            'dateLastCrawled': '2018-01-06T22:37:00.0000000Z',\n",
      "            'displayUrl': 'https://www1.nationalgridus.com/CorporateHub',\n",
      "            'id': 'https://api.cognitive.microsoft.com/api/v7/#WebPages.8',\n",
      "            'name': 'Cookies not enabled',\n",
      "            'snippet': \"Thanks for visiting National Grid. We've detected your \"\n",
      "                       'browser may be blocking cookies which our website '\n",
      "                       'requires to access your account. To get the best '\n",
      "                       'online ...',\n",
      "            'url': 'https://www1.nationalgridus.com/CorporateHub'},\n",
      "           {'about': [{'name': 'Tripp Lite'}, {'name': 'Tripp Lite'}],\n",
      "            'dateLastCrawled': '2018-01-05T18:03:00.0000000Z',\n",
      "            'displayUrl': 'https://www.tripplite.com',\n",
      "            'id': 'https://api.cognitive.microsoft.com/api/v7/#WebPages.9',\n",
      "            'name': 'Tripp Lite - Official Site',\n",
      "            'snippet': 'ABOUT TRIPP LITE. Tripp Lite is a US-based '\n",
      "                       'manufacturer of solutions to power, connect, secure '\n",
      "                       'and protect equipment for IT environments. From the '\n",
      "                       'largest data center ...',\n",
      "            'url': 'https://www.tripplite.com/'},\n",
      "           {'dateLastCrawled': '2018-01-03T11:03:00.0000000Z',\n",
      "            'displayUrl': 'https://online.nationalgridus.com/eservice_enu',\n",
      "            'id': 'https://api.cognitive.microsoft.com/api/v7/#WebPages.10',\n",
      "            'name': 'National Grid Online Login',\n",
      "            'snippet': 'Our vision is to become the premier energy and '\n",
      "                       'services company in the Northeastern United States. '\n",
      "                       'Note: The ... NYC Gas and MA Gas Sign in. All other '\n",
      "                       '...',\n",
      "            'url': 'https://online.nationalgridus.com/eservice_enu'},\n",
      "           {'dateLastCrawled': '2017-12-28T15:58:00.0000000Z',\n",
      "            'displayUrl': 'www.nasdaq.com/markets/spos/company/keyspan-corp-52024-26411',\n",
      "            'id': 'https://api.cognitive.microsoft.com/api/v7/#WebPages.11',\n",
      "            'name': 'KEYSPAN CORP (KSE) SPO - NASDAQ.com',\n",
      "            'snippet': 'KEYSPAN CORP (KSE) SPO - NASDAQ.com. Hot Topics: ETFs '\n",
      "                       '... Home > Markets > SPOs > Company SPO Overview. '\n",
      "                       'KEYSPAN CORP (KSE) SPO. Overview; Financials & '\n",
      "                       'Filings;',\n",
      "            'url': 'http://www.nasdaq.com/markets/spos/company/keyspan-corp-52024-26411'},\n",
      "           {'dateLastCrawled': '2017-12-29T19:52:00.0000000Z',\n",
      "            'displayUrl': 'https://www.forbes.com/lists/2006/18/49337W100.html',\n",
      "            'id': 'https://api.cognitive.microsoft.com/api/v7/#WebPages.12',\n",
      "            'name': 'KeySpan Corp Company Information - Forbes.com',\n",
      "            'snippet': 'KeySpan Corp background, news, press releases, stock '\n",
      "                       'quote, financials, financial ratios, revenues, '\n",
      "                       'officers, and additional company information. '\n",
      "                       'Financial ...',\n",
      "            'url': 'https://www.forbes.com/lists/2006/18/49337W100.html'},\n",
      "           {'about': [{'name': 'Long Island Power Authority'},\n",
      "                      {'name': 'Long Island Power Authority'}],\n",
      "            'dateLastCrawled': '2018-01-07T20:34:00.0000000Z',\n",
      "            'displayUrl': 'www.lipower.org',\n",
      "            'id': 'https://api.cognitive.microsoft.com/api/v7/#WebPages.13',\n",
      "            'name': 'Long Island Power Authority - Official Site',\n",
      "            'snippet': 'LIPA, a non-profit municipal electric provider, owns '\n",
      "                       'the retail electric Transmission and Distribution '\n",
      "                       'System on Long Island and provides electric service to '\n",
      "                       'Nassau ...',\n",
      "            'url': 'http://www.lipower.org/'},\n",
      "           {'dateLastCrawled': '2018-01-07T07:58:00.0000000Z',\n",
      "            'displayUrl': 'https://www.bloomberg.com/profiles/companies/KSE:US-keyspan-corp',\n",
      "            'id': 'https://api.cognitive.microsoft.com/api/v7/#WebPages.14',\n",
      "            'name': 'KeySpan Corp: Company Profile - Bloomberg',\n",
      "            'snippet': 'Company profile & key executives for KeySpan Corp '\n",
      "                       '(KSE:-) including description, corporate address, '\n",
      "                       'management team and contact info.',\n",
      "            'url': 'https://www.bloomberg.com/profiles/companies/KSE:US-keyspan-corp'}],\n",
      " 'webSearchUrl': 'https://www.bing.com/search?q=keyspan+company'}\n"
     ]
    }
   ],
   "source": [
    "from pprint import pprint\n",
    "data = json.loads(my_json)\n",
    "pprint(data)"
   ],
   "metadata": {
    "collapsed": false,
    "pycharm": {
     "name": "#%%\n"
    }
   }
  },
  {
   "cell_type": "code",
   "execution_count": 254,
   "outputs": [
    {
     "name": "stdout",
     "output_type": "stream",
     "text": [
      "dict_keys(['webSearchUrl', 'totalEstimatedMatches', 'value'])\n"
     ]
    }
   ],
   "source": [
    "pprint(data.keys())"
   ],
   "metadata": {
    "collapsed": false,
    "pycharm": {
     "name": "#%%\n"
    }
   }
  },
  {
   "cell_type": "code",
   "execution_count": 255,
   "outputs": [
    {
     "data": {
      "text/plain": "15"
     },
     "execution_count": 255,
     "metadata": {},
     "output_type": "execute_result"
    }
   ],
   "source": [
    "len(data['value'])\n"
   ],
   "metadata": {
    "collapsed": false,
    "pycharm": {
     "name": "#%%\n"
    }
   }
  },
  {
   "cell_type": "code",
   "execution_count": 256,
   "outputs": [
    {
     "data": {
      "text/plain": "'KeySpan'"
     },
     "execution_count": 256,
     "metadata": {},
     "output_type": "execute_result"
    }
   ],
   "source": [
    "data['value'][0]['about'][0]['name']"
   ],
   "metadata": {
    "collapsed": false,
    "pycharm": {
     "name": "#%%\n"
    }
   }
  },
  {
   "cell_type": "code",
   "execution_count": 257,
   "outputs": [
    {
     "data": {
      "text/plain": "'https://api.cognitive.microsoft.com/api/v7/#WebPages.0'"
     },
     "execution_count": 257,
     "metadata": {},
     "output_type": "execute_result"
    }
   ],
   "source": [
    "data['value'][0]['id']"
   ],
   "metadata": {
    "collapsed": false,
    "pycharm": {
     "name": "#%%\n"
    }
   }
  },
  {
   "cell_type": "code",
   "execution_count": 258,
   "outputs": [
    {
     "data": {
      "text/plain": "'0'"
     },
     "execution_count": 258,
     "metadata": {},
     "output_type": "execute_result"
    }
   ],
   "source": [
    "data['value'][0]['id'][-1]\n"
   ],
   "metadata": {
    "collapsed": false,
    "pycharm": {
     "name": "#%%\n"
    }
   }
  },
  {
   "cell_type": "code",
   "execution_count": 259,
   "outputs": [],
   "source": [
    "# list(data['value'][0].keys())[list(data['value'][0].values())]"
   ],
   "metadata": {
    "collapsed": false,
    "pycharm": {
     "name": "#%%\n"
    }
   }
  },
  {
   "cell_type": "code",
   "execution_count": 260,
   "outputs": [
    {
     "data": {
      "text/plain": "[{'name': 'KeySpan'}]"
     },
     "execution_count": 260,
     "metadata": {},
     "output_type": "execute_result"
    }
   ],
   "source": [
    "data['value'][0]['about']"
   ],
   "metadata": {
    "collapsed": false,
    "pycharm": {
     "name": "#%%\n"
    }
   }
  },
  {
   "cell_type": "code",
   "execution_count": 261,
   "outputs": [
    {
     "data": {
      "text/plain": "['id', 'name', 'url', 'about', 'displayUrl', 'snippet', 'dateLastCrawled']"
     },
     "execution_count": 261,
     "metadata": {},
     "output_type": "execute_result"
    }
   ],
   "source": [
    "[*data['value'][0].keys()]\n"
   ],
   "metadata": {
    "collapsed": false,
    "pycharm": {
     "name": "#%%\n"
    }
   }
  },
  {
   "cell_type": "code",
   "execution_count": 272,
   "outputs": [
    {
     "data": {
      "text/plain": "{'id': 'https://api.cognitive.microsoft.com/api/v7/#WebPages.0',\n 'name': 'KeySpan - Wikipedia',\n 'url': 'https://en.wikipedia.org/wiki/KeySpan',\n 'about': [{'name': 'KeySpan'}],\n 'displayUrl': 'https://en.wikipedia.org/wiki/KeySpan',\n 'snippet': 'KeySpan Corporation, now part of National Grid USA, was the fifth largest distributor of natural gas in the United States. KeySpan was formed in 1998 as a result of ...',\n 'dateLastCrawled': '2018-01-06T19:18:00.0000000Z'}"
     },
     "execution_count": 272,
     "metadata": {},
     "output_type": "execute_result"
    }
   ],
   "source": [
    "data['value'][0]"
   ],
   "metadata": {
    "collapsed": false,
    "pycharm": {
     "name": "#%%\n"
    }
   }
  },
  {
   "cell_type": "code",
   "execution_count": 263,
   "outputs": [],
   "source": [
    "ma_str=\"https://api.cognitive.microsoft.com/api/v7/#WebPages.18\"\n"
   ],
   "metadata": {
    "collapsed": false,
    "pycharm": {
     "name": "#%%\n"
    }
   }
  },
  {
   "cell_type": "code",
   "execution_count": 264,
   "outputs": [
    {
     "data": {
      "text/plain": "'18'"
     },
     "execution_count": 264,
     "metadata": {},
     "output_type": "execute_result"
    }
   ],
   "source": [
    "ma_str[ma_str.rfind('.')+1:]"
   ],
   "metadata": {
    "collapsed": false,
    "pycharm": {
     "name": "#%%\n"
    }
   }
  },
  {
   "cell_type": "code",
   "execution_count": 280,
   "outputs": [
    {
     "name": "stdout",
     "output_type": "stream",
     "text": [
      "0\n",
      "3\n",
      "KeySpan [0, 3]\n"
     ]
    }
   ],
   "source": [
    "usr_str='KeySpan'\n",
    "def my_func(inp_str:str):\n",
    "    u_list=[]\n",
    "    for i in data['value']:\n",
    "        try:\n",
    "            for j in i['about']:\n",
    "                # print(j)\n",
    "                if j['name']==inp_str:\n",
    "                    print(i['id'][i['id'].rfind('.')+1:])\n",
    "                    u_list.append(int(i['id'][i['id'].rfind('.')+1:]))\n",
    "        except KeyError:\n",
    "            continue\n",
    "    print(inp_str,u_list)\n",
    "my_func('KeySpan')"
   ],
   "metadata": {
    "collapsed": false,
    "pycharm": {
     "name": "#%%\n"
    }
   }
  },
  {
   "cell_type": "code",
   "execution_count": null,
   "outputs": [],
   "source": [],
   "metadata": {
    "collapsed": false,
    "pycharm": {
     "name": "#%%\n"
    }
   }
  }
 ],
 "metadata": {
  "kernelspec": {
   "name": "pycharm-39114d3a",
   "language": "python",
   "display_name": "PyCharm (client_server)"
  },
  "language_info": {
   "codemirror_mode": {
    "name": "ipython",
    "version": 2
   },
   "file_extension": ".py",
   "mimetype": "text/x-python",
   "name": "python",
   "nbconvert_exporter": "python",
   "pygments_lexer": "ipython2",
   "version": "2.7.6"
  }
 },
 "nbformat": 4,
 "nbformat_minor": 0
}