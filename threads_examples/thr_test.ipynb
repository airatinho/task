{
 "cells": [
  {
   "cell_type": "code",
   "execution_count": 13,
   "outputs": [
    {
     "data": {
      "text/plain": "dict_values([5, 4, 3])"
     },
     "execution_count": 13,
     "metadata": {},
     "output_type": "execute_result"
    }
   ],
   "source": [
    "a = {'aa':5,'b':4,'c':3}\n",
    "# print(**a)\n",
    "a.values()\n",
    "# b"
   ],
   "metadata": {
    "collapsed": false,
    "pycharm": {
     "name": "#%%\n"
    }
   }
  },
  {
   "cell_type": "code",
   "execution_count": 14,
   "outputs": [
    {
     "data": {
      "text/plain": "[1, 2]"
     },
     "execution_count": 14,
     "metadata": {},
     "output_type": "execute_result"
    }
   ],
   "source": [
    "a[:2]"
   ],
   "metadata": {
    "collapsed": false,
    "pycharm": {
     "name": "#%%\n"
    }
   }
  },
  {
   "cell_type": "code",
   "execution_count": 15,
   "outputs": [
    {
     "data": {
      "text/plain": "[3, 4]"
     },
     "execution_count": 15,
     "metadata": {},
     "output_type": "execute_result"
    }
   ],
   "source": [
    "a[2:4]"
   ],
   "metadata": {
    "collapsed": false,
    "pycharm": {
     "name": "#%%\n"
    }
   }
  },
  {
   "cell_type": "code",
   "execution_count": 8,
   "outputs": [
    {
     "name": "stdout",
     "output_type": "stream",
     "text": [
      "Идет подготовка потока 0\n",
      "\n",
      "Поток 0 запущен!\n",
      "\n",
      "Идет подготовка потока 1\n",
      "Поток 1 запущен!\n",
      "\n",
      "\n",
      "Идет подготовка потока 2\n",
      "\n",
      "Поток 2 запущен!\n",
      "\n",
      "Идет подготовка потока 3\n",
      "Поток 3 запущен!\n",
      "\n",
      "\n",
      "Идет подготовка потока 4\n",
      "Поток 4 запущен!\n",
      "\n",
      "\n",
      "Идет подготовка потока 5\n",
      "\n",
      "Поток 5 запущен!\n",
      "\n",
      "Идет подготовка потока 6\n",
      "Поток 6 запущен!\n",
      "\n",
      "\n",
      "Идет подготовка потока 7\n",
      "\n",
      "Поток 7 запущен!\n",
      "\n",
      "Идет подготовка потока 8\n",
      "Поток 8 запущен!\n",
      "\n",
      "\n",
      "Идет подготовка потока 9\n",
      "Поток 9 запущен!\n",
      "\n",
      "\n",
      "Изображение от 0 отправлено\n",
      "Изображение от 6 отправлено\n",
      "Изображение от 7 отправлено\n",
      "Изображение от 1 отправлено\n",
      "Изображение от 4 отправлено\n",
      "\n",
      "Изображение от 8 отправлено\n",
      "Изображение от 9 отправлено\n",
      "\n",
      "\n",
      "\n",
      "\n",
      "Изображение от 5 отправлено\n",
      "\n",
      "\n",
      "Изображение от 2 отправлено\n",
      "\n",
      "\n",
      "Изображение от 3 отправлено\n",
      "\n"
     ]
    }
   ],
   "source": [
    "\"\"\"Event-ы\n",
    "is_set()\n",
    "    Возвращает True если флаг находится в взведенном состоянии.\n",
    "set()\n",
    "    Переводит флаг в взведенное состояние.\n",
    "clear()\n",
    "    Переводит флаг в сброшенное состояние.\n",
    "wait(timeout=None)\n",
    "    Блокирует вызвавший данный метод поток если флаг\n",
    "    соответствующего Event-объекта находится в сброшенном\n",
    "    состоянии. Время нахождения в состоянии блокировки можно\n",
    "     задать через параметр timeout.\"\"\"\n",
    "import threading\n",
    "import time\n",
    "\n",
    "event=threading.Event()\n",
    "def image_hanlder():\n",
    "    thr_num=threading.current_thread().name\n",
    "    print(f\"Идет подготовка потока {thr_num}\\n\")\n",
    "    event.wait()\n",
    "    print(f\"Изображение от {thr_num} отправлено\\n\")\n",
    "\n",
    "for i in range(10):\n",
    "    threading.Thread(target=image_hanlder,name=str(i)).start()\n",
    "    print(f\"Поток {i} запущен!\\n\")\n",
    "    time.sleep(1)\n",
    "\n",
    "if threading.active_count()>=10:\n",
    "    event.set()"
   ],
   "metadata": {
    "collapsed": false,
    "pycharm": {
     "name": "#%%\n"
    }
   }
  },
  {
   "cell_type": "code",
   "execution_count": 3,
   "outputs": [
    {
     "name": "stdout",
     "output_type": "stream",
     "text": [
      "Получили событие!\n",
      "\n"
     ]
    }
   ],
   "source": [
    "\"\"\"Condition-s условия\n",
    "отличие условий от event-ов в том, что ивенты делят поток на части -\n",
    "до и после выполнения ивента, а условия могут работать в разных\n",
    "потоках.\n",
    "\n",
    "acquire(*args)\n",
    "    Захват объекта-блокировки.\n",
    "release()\n",
    "    Освобождение объекта-блокировки.\n",
    "wait(timeout=None)\n",
    "    Блокировка выполнения потока до оповещения о снятии\n",
    "    блокировки. Через параметр timeout можно задать время\n",
    "    ожидания оповещения о снятии блокировки. Если вызвать wait()\n",
    "    на Условной переменной, у которой предварительно не был вызван\n",
    "    acquire(), то будет выброшено исключение RuntimeError.\n",
    "wait_for(predicate, timeout=None)\n",
    "    Метод позволяет сократить количество кода,\n",
    "    которое нужно написать для контроля готовности\n",
    "    ресурса и ожидания оповещения. Он заменяет собой\n",
    "    следующую конструкцию:\n",
    "        while not predicate():\n",
    "            cv.wait()\n",
    "notify(n=1)\n",
    "    Снимает блокировку с остановленного методом wait() потока.\n",
    "    Если необходимо разблокировать несколько потоков, то для\n",
    "    этого следует передать их количество через аргумент n.\n",
    "notify_all()\n",
    "    Снимает блокировку со всех остановленных\n",
    "    методом wait() потоков.\n",
    "\"\"\"\n",
    "import threading\n",
    "import time\n",
    "from threading import Condition\n",
    "cond = Condition()\n",
    "def f1():\n",
    "    while True:\n",
    "        with cond:\n",
    "            cond.wait()\n",
    "            print(\"Получили событие!\\n\")\n",
    "\n",
    "def f2():\n",
    "    for i in range(20):\n",
    "        if i%10==0:\n",
    "            with cond:\n",
    "                cond.notify()\n",
    "        else:\n",
    "            print(f\"f1:{i}\")\n",
    "        time.sleep(1)\n",
    "threading.Thread(target=f1).start()\n",
    "threading.Thread(target=f2).start()"
   ],
   "metadata": {
    "collapsed": false,
    "pycharm": {
     "name": "#%%\n"
    }
   }
  },
  {
   "cell_type": "code",
   "execution_count": 4,
   "outputs": [
    {
     "name": "stdout",
     "output_type": "stream",
     "text": [
      "from child thread: 0App stop\n",
      "\n"
     ]
    }
   ],
   "source": [
    "from threading import Thread\n",
    "def func():\n",
    "    for i in range(5):\n",
    "        print(f\"from child thread: {i}\")\n",
    "        time.sleep(0.5)\n",
    "\n",
    "\n",
    "th = Thread(target=func,daemon=True)\n",
    "th.start()\n",
    "# th.join()\n",
    "print(\"App stop\")\n"
   ],
   "metadata": {
    "collapsed": false,
    "pycharm": {
     "name": "#%%\n"
    }
   }
  },
  {
   "cell_type": "code",
   "execution_count": 5,
   "outputs": [],
   "source": [
    "from threading import Thread, BoundedSemaphore\n",
    "from time import sleep, time\n",
    "ticket_office = BoundedSemaphore(value=3)\n",
    "def ticket_buyer(number):\n",
    "   start_service = time()\n",
    "   with ticket_office:\n",
    "       sleep(1)\n",
    "       print(f\"client {number}, service time: {time() - start_service}\")\n",
    "buyer = [Thread(target=ticket_buyer, args=(i,)) for i in range(5)]\n",
    "for b in buyer:\n",
    "   b.start()\n"
   ],
   "metadata": {
    "collapsed": false,
    "pycharm": {
     "name": "#%%\n"
    }
   }
  },
  {
   "cell_type": "code",
   "execution_count": 6,
   "outputs": [],
   "source": [
    "\"\"\" Timer Запускает функцию после истечения указанного времени\n",
    "Параметры:\n",
    "\n",
    "interval\n",
    "    Количество секунд, по истечении которых будет вызвана функция function.\n",
    "function\n",
    "    Функция, вызов которой нужно осуществить по таймеру.\n",
    "args, kwargs\n",
    "    Аргументы функции function.\n",
    "\"\"\"\n",
    "from threading import Timer\n",
    "from time import sleep, time\n",
    "timer = Timer(interval=3,function=lambda: print(\"Message from Timer!\"))\n",
    "timer.start()\n"
   ],
   "metadata": {
    "collapsed": false,
    "pycharm": {
     "name": "#%%\n"
    }
   }
  },
  {
   "cell_type": "code",
   "execution_count": 7,
   "outputs": [
    {
     "name": "stdout",
     "output_type": "stream",
     "text": [
      "Calc part1\n",
      "Calc part2\n",
      "Calc part2\n",
      "Calc part1\n",
      "Barier end!\n",
      "Result:  147\n"
     ]
    }
   ],
   "source": [
    "\"\"\"\n",
    "Данный объект синхронизации может применяться\n",
    "в случаях когда необходимо дождаться результатов\n",
    "работы всех потоков (как в примере выше), либо для\n",
    "синхронизации процесса инициализации потоков, когда\n",
    "перед стартом их работы требуется, чтобы все потоки\n",
    "выполнили процедуру инициализации.\"\"\"\n",
    "from threading import Barrier, Thread\n",
    "from time import sleep, time\n",
    "br = Barrier(3,action=lambda : print(\"Barier end!\"))\n",
    "store = []\n",
    "def f1(x):\n",
    "   print(\"Calc part1\")\n",
    "   store.append(x**2)\n",
    "   sleep(0.5)\n",
    "   br.wait()\n",
    "def f2(x):\n",
    "   print(\"Calc part2\")\n",
    "   store.append(x*2)\n",
    "   sleep(1)\n",
    "   br.wait()\n",
    "Thread(target=f1, args=(3,)).start()\n",
    "Thread(target=f2, args=(7,)).start()\n",
    "Thread(target=f2, args=(12,)).start()\n",
    "Thread(target=f1, args=(10,)).start()\n",
    "br.wait()\n",
    "print(\"Result: \", sum(store))"
   ],
   "metadata": {
    "collapsed": false,
    "pycharm": {
     "name": "#%%\n"
    }
   }
  }
 ],
 "metadata": {
  "kernelspec": {
   "display_name": "Python 3",
   "language": "python",
   "name": "python3"
  },
  "language_info": {
   "codemirror_mode": {
    "name": "ipython",
    "version": 2
   },
   "file_extension": ".py",
   "mimetype": "text/x-python",
   "name": "python",
   "nbconvert_exporter": "python",
   "pygments_lexer": "ipython2",
   "version": "2.7.6"
  }
 },
 "nbformat": 4,
 "nbformat_minor": 0
}