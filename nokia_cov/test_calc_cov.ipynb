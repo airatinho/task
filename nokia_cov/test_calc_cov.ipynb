{
 "cells": [
  {
   "cell_type": "code",
   "execution_count": 1,
   "metadata": {
    "collapsed": true
   },
   "outputs": [],
   "source": [
    "%reset"
   ]
  },
  {
   "cell_type": "code",
   "execution_count": 2,
   "outputs": [],
   "source": [
    "import os\n",
    "import pandas as pd\n",
    "import sys\n",
    "import numpy as np\n",
    "import re\n",
    "import logging\n",
    "import numba"
   ],
   "metadata": {
    "collapsed": false,
    "pycharm": {
     "name": "#%%\n"
    }
   }
  },
  {
   "cell_type": "code",
   "execution_count": 2,
   "outputs": [],
   "source": [],
   "metadata": {
    "collapsed": false,
    "pycharm": {
     "name": "#%%\n"
    }
   }
  },
  {
   "cell_type": "code",
   "execution_count": 3,
   "outputs": [],
   "source": [
    "logging.basicConfig(filename=r'logging1.txt.txt',\n",
    "                    level=logging.INFO, format=' %(asctime)s - %(levelname)s - %(message)s')\n",
    "# 800 - 5 , 1800 - 15, 2100 - 15, 2600 - 10\n",
    "bands = {\n",
    "    6413: [6413, 1301, 525, 3300],\n",
    "    1301: [1301, 525],\n",
    "    525: [1301, 525],\n",
    "    3300: [1301, 525, 3300, 1275],\n",
    "    1275: [3300,1275]\n",
    "        }"
   ],
   "metadata": {
    "collapsed": false,
    "pycharm": {
     "name": "#%%\n"
    }
   }
  },
  {
   "cell_type": "code",
   "execution_count": 4,
   "outputs": [
    {
     "name": "stdout",
     "output_type": "stream",
     "text": [
      "Wall time: 0 ns\n"
     ]
    }
   ],
   "source": [
    "%time\n",
    "# список сот по которым будем делать расчет\n",
    "cells = [2324419,2325348,2320878,2332045,2323048,2310077,2350455,2350456,2310277,2332146,2370397,2310778,2332295,2332085,2310089,2325825,2325826,2369147,2310219,2332125,2332126,2325735,2393048,2370379,2309318,2332316,2341509,2325566,2320988,2350104,2310059,2346808,2346809,2393017,2393019,2310447,2310727,2310729,2323108,2320748,2310197,2320208,2363607,2341769,2310738,2325465,2325764,2325766,2363617,2332066,2325994,2320848,2320849,2323059,2310799,2332305,2320137,2325964,2325965,2320868,2320869,2313759,2320150,2310278,2310508,2332106,2311869,2332294,2320147,2310087,2369149,2310598,2310599,2310029,2310658,2310067,2325734,2325544,2325565,2320987,2323017,2310057,2332784,2332785,2346789,2310448,2332725,2350116,2323109,2325554,2341718,2332524,2332216,2320307,2325956,2310737,2369287,2310677,2325594,2325596,2363619,2341607,2341608,2370389,2325614,2325615,2310269,2323057,2325636,2320132,2320133,2332044,2332076,2350454,2320158,2310279,2325936,2310247,2310248,2310249,2311868,2320148,2310829,2341708,2325586,2310027,2332025,2332026,2325836,230009201,2310068,2325736,2310318,2320897,2325564,2393028,2393108,2325686,2310058,2369137,2369138,2310807,2310809,2370277,2325556,2320749,2341717,2341547,2325494,2393038,2311928,2332214,2320309,2310367,2310369,2310679,2332065,2325995,2325996,2393088,2350144,2310798,2324417,2306947,2320138,2320867,2332075,2309049,2310507,2341597,2341598,2393009,2310358,2310359,2332206,2393099,2310069,2393047,2332314,2341508,2325545,2320898,2393029,2393109,2325684,2369139,2346787,2346807,2332726,2310198,2341548,2320207,2332415,2369467,2393039,2332525,2310527,2310528,2325904,2310907,2363608,2363609,2325358,2325359,2325955,2310368,2363597,2320847,2325664,2325666,2320227,2310797,2332306,2306948,2325966,2313757,2313758,2323047,2332074,2320157,2309048,2393079,2310357,2332296,2369148,2332204,2332205,2310028,2310049,2310659,2325504,2325506,2300829,2341507,2320777,2320738,2332034,2323019,2370278,2325806,2332724,2323107,2332416,2310418,2369468,2325906,2325605,2320568,2363588,2369127,2369288,2310678,2363599,2363618,2341609,2325634,2324418,2320131,2310078,2320647,2320997,2325934,2332145,2320149,2310088,2311969,2325585,2310047,2310048,2346837,2332614,230009203,2310497,2310498,2393049,2309317,2332315,2300827,2300828,2320778,2320737,2332035,2323018,2311998,2370279,2310389,2320747,2341719,2390384,2332414,2325496,2393037,2325905,2310908,2325606,2311929,2341767,2341768,2320308,2325954,2325464,2325595,2363598,2310267,2310268,2350145,2325347,2325349,2306949,2320877,2332046,2310079,2320648,2320649,2320999,2320156,2309047,2341599,2332144,2370398,2332245,2310777,2311867,2332086,2325476,2311967,2341707,2341709,2310218,2332124,2332024,2346839,2350134,2350135,2310617,2310618,2310619,2370377,2370378,2310317,2309319,2320739,2332036,2320989,2350106,2310808,2332196,2332195,2325804,2325805,2310449,2310728,2310387,2310388,2320209,2310419,2369469,2311927,2325357,2320567,2320569,2310739,2363587,2332064,2370388,2325616,2393089,2325635,2320228,2350146,2332304,2320879,2323049,2320998,2320159,2325935,2310509,2370399,2332104,2332105,2393007,2393008,2393077,2332244,2332246,2310779,2332084,2310828,2325474,2325475,2311968,2310597,2393097,2393098,2325834,2325835,2346838,2350136,2310657,2332615,2332616,230009202,2325505,2310319,2320779,2393107,2350105,2325685,2332786,2346788,2311997,2332194,2350114,2350115,2325555,2341549,2310417,2325495,2332526,2310529,2310909,2325604,2332215,2369128,2325765,2369289,2370387,2310957,2310958,2310959,2325665,2393087,2320229]\n",
    "file_date_1 = 'logos4g_cl-23-01_20210528_20210915113935_4G_ATOLL_EXPORT_25x25_v05_mrgps.csv'\n",
    "file_date_2 = 'logos4g_cl-23-01_20210803_20210915114232_4G_ATOLL_EXPORT_25x25_v05_mrgps.csv'\n",
    "rsrp_limit_1 = -95      # уровень при котором не считаем покрытие потерянным\n",
    "rsrp_delta_1 = 3        # дельта при которой считаем покрытие не потеряно\n",
    "rsrp_limit_2 = -95     # уровень при котором не считаем покрытие не улучшено\n",
    "rsrp_delta_2 = 3        # дельта при которой считаем покрытие не улучшено\n",
    "\n",
    "# определяем названия столбцов lat lon так как они меняются из-за бинов\n",
    "date_1_data = pd.read_csv(file_date_1)\n",
    "for col in date_1_data.columns:\n",
    "    if re.search('LONGITUDE_\\d\\d', col):\n",
    "        longitude = col\n",
    "    elif re.search('LATITUDE_\\d\\d', col):\n",
    "        latitude = col\n"
   ],
   "metadata": {
    "collapsed": false,
    "pycharm": {
     "name": "#%%\n"
    }
   }
  },
  {
   "cell_type": "code",
   "execution_count": 5,
   "outputs": [
    {
     "data": {
      "text/plain": "433"
     },
     "execution_count": 5,
     "metadata": {},
     "output_type": "execute_result"
    }
   ],
   "source": [
    "len(cells)"
   ],
   "metadata": {
    "collapsed": false,
    "pycharm": {
     "name": "#%%\n"
    }
   }
  },
  {
   "cell_type": "code",
   "execution_count": 6,
   "outputs": [],
   "source": [
    "cell_id_geos = (int(str(cells[0])[:-1]) * 256 + int(str(cells[0])[-1]))\n",
    "# берем координаты точек для первого дня для нашей соты\n",
    "date_1_data = pd.read_csv(file_date_1,\n",
    "                          usecols=['CELLID_PCELL', 'RSRP_PCELL', 'CARRIER_FREQ', longitude, latitude],\n",
    "                          low_memory=False)\n",
    "date_1_data_cell = date_1_data[(date_1_data.CELLID_PCELL == cell_id_geos)]\n",
    "# определяем частоту нашей соты"
   ],
   "metadata": {
    "collapsed": false,
    "pycharm": {
     "name": "#%%\n"
    }
   }
  },
  {
   "cell_type": "code",
   "execution_count": 7,
   "outputs": [
    {
     "data": {
      "text/plain": "1275"
     },
     "execution_count": 7,
     "metadata": {},
     "output_type": "execute_result"
    }
   ],
   "source": [
    "int(date_1_data_cell['CARRIER_FREQ'].loc[date_1_data_cell.index.tolist()[0]])"
   ],
   "metadata": {
    "collapsed": false,
    "pycharm": {
     "name": "#%%\n"
    }
   }
  },
  {
   "cell_type": "code",
   "execution_count": 12,
   "outputs": [
    {
     "data": {
      "text/plain": "array([1275], dtype=int64)"
     },
     "execution_count": 12,
     "metadata": {},
     "output_type": "execute_result"
    }
   ],
   "source": [
    "# date_1_data_cell.index.tolist()[0]\n",
    "date_1_data_cell['CARRIER_FREQ'].unique()"
   ],
   "metadata": {
    "collapsed": false,
    "pycharm": {
     "name": "#%%\n"
    }
   }
  },
  {
   "cell_type": "code",
   "execution_count": 9,
   "outputs": [
    {
     "data": {
      "text/plain": "190588"
     },
     "execution_count": 9,
     "metadata": {},
     "output_type": "execute_result"
    }
   ],
   "source": [
    "date_1_data_cell.index.tolist()[0]"
   ],
   "metadata": {
    "collapsed": false,
    "pycharm": {
     "name": "#%%\n"
    }
   }
  },
  {
   "cell_type": "code",
   "execution_count": 10,
   "outputs": [
    {
     "data": {
      "text/plain": "1275"
     },
     "execution_count": 10,
     "metadata": {},
     "output_type": "execute_result"
    }
   ],
   "source": [
    "# np.array(date_1_data_cell['CARRIER_FREQ'])[0]\n",
    "date_1_data_cell['CARRIER_FREQ'].values[0]"
   ],
   "metadata": {
    "collapsed": false,
    "pycharm": {
     "name": "#%%\n"
    }
   }
  },
  {
   "cell_type": "code",
   "execution_count": 11,
   "outputs": [
    {
     "data": {
      "text/plain": "        CELLID_PCELL  RSRP_PCELL  LONGITUDE_25  LATITUDE_25\n190588      59504905     -100.00     39.718493    43.627811\n190589      59504905     -100.00     39.720055    43.625338\n190590      59504905     -100.00     39.716618    43.630733\n190591      59504905     -100.00     39.716930    43.623316\n190592      59504905     -100.00     39.765361    43.567799\n...              ...         ...           ...          ...\n190975      59504905      -99.07     39.717555    43.622416\n190976      59504905      -99.15     39.720992    43.626237\n190977      59504905      -99.32     39.720055    43.627361\n190978      59504905      -99.50     39.720680    43.630058\n190979      59504905      -99.64     39.716930    43.622866\n\n[392 rows x 4 columns]",
      "text/html": "<div>\n<style scoped>\n    .dataframe tbody tr th:only-of-type {\n        vertical-align: middle;\n    }\n\n    .dataframe tbody tr th {\n        vertical-align: top;\n    }\n\n    .dataframe thead th {\n        text-align: right;\n    }\n</style>\n<table border=\"1\" class=\"dataframe\">\n  <thead>\n    <tr style=\"text-align: right;\">\n      <th></th>\n      <th>CELLID_PCELL</th>\n      <th>RSRP_PCELL</th>\n      <th>LONGITUDE_25</th>\n      <th>LATITUDE_25</th>\n    </tr>\n  </thead>\n  <tbody>\n    <tr>\n      <th>190588</th>\n      <td>59504905</td>\n      <td>-100.00</td>\n      <td>39.718493</td>\n      <td>43.627811</td>\n    </tr>\n    <tr>\n      <th>190589</th>\n      <td>59504905</td>\n      <td>-100.00</td>\n      <td>39.720055</td>\n      <td>43.625338</td>\n    </tr>\n    <tr>\n      <th>190590</th>\n      <td>59504905</td>\n      <td>-100.00</td>\n      <td>39.716618</td>\n      <td>43.630733</td>\n    </tr>\n    <tr>\n      <th>190591</th>\n      <td>59504905</td>\n      <td>-100.00</td>\n      <td>39.716930</td>\n      <td>43.623316</td>\n    </tr>\n    <tr>\n      <th>190592</th>\n      <td>59504905</td>\n      <td>-100.00</td>\n      <td>39.765361</td>\n      <td>43.567799</td>\n    </tr>\n    <tr>\n      <th>...</th>\n      <td>...</td>\n      <td>...</td>\n      <td>...</td>\n      <td>...</td>\n    </tr>\n    <tr>\n      <th>190975</th>\n      <td>59504905</td>\n      <td>-99.07</td>\n      <td>39.717555</td>\n      <td>43.622416</td>\n    </tr>\n    <tr>\n      <th>190976</th>\n      <td>59504905</td>\n      <td>-99.15</td>\n      <td>39.720992</td>\n      <td>43.626237</td>\n    </tr>\n    <tr>\n      <th>190977</th>\n      <td>59504905</td>\n      <td>-99.32</td>\n      <td>39.720055</td>\n      <td>43.627361</td>\n    </tr>\n    <tr>\n      <th>190978</th>\n      <td>59504905</td>\n      <td>-99.50</td>\n      <td>39.720680</td>\n      <td>43.630058</td>\n    </tr>\n    <tr>\n      <th>190979</th>\n      <td>59504905</td>\n      <td>-99.64</td>\n      <td>39.716930</td>\n      <td>43.622866</td>\n    </tr>\n  </tbody>\n</table>\n<p>392 rows × 4 columns</p>\n</div>"
     },
     "execution_count": 11,
     "metadata": {},
     "output_type": "execute_result"
    }
   ],
   "source": [
    "date_1_data_cell[['CELLID_PCELL', 'RSRP_PCELL', longitude, latitude]]"
   ],
   "metadata": {
    "collapsed": false,
    "pycharm": {
     "name": "#%%\n"
    }
   }
  },
  {
   "cell_type": "code",
   "execution_count": 11,
   "outputs": [
    {
     "data": {
      "text/plain": "        CELLID_PCELL  CARRIER_FREQ  RSRP_PCELL  LONGITUDE_25  LATITUDE_25\n0           61263369          1275      -99.50     39.742864    43.621517\n1           61263369          1275      -99.50     39.728179    43.626912\n2           61263369          1275      -99.50     39.764736    43.631857\n3           61263369          1275      -99.50     39.747551    43.644443\n4           61263369          1275      -99.62     39.731303    43.627811\n...              ...           ...         ...           ...          ...\n289117      58901001          1275      -99.47     39.725054    43.618820\n289118      58901001          1275      -99.50     39.721617    43.620394\n289119      58901001          1275      -99.50     39.720367    43.619270\n289120      58901001          1275      -99.50     39.721930    43.619495\n289121      58901001          1275      -99.50     39.718805    43.614550\n\n[289122 rows x 5 columns]",
      "text/html": "<div>\n<style scoped>\n    .dataframe tbody tr th:only-of-type {\n        vertical-align: middle;\n    }\n\n    .dataframe tbody tr th {\n        vertical-align: top;\n    }\n\n    .dataframe thead th {\n        text-align: right;\n    }\n</style>\n<table border=\"1\" class=\"dataframe\">\n  <thead>\n    <tr style=\"text-align: right;\">\n      <th></th>\n      <th>CELLID_PCELL</th>\n      <th>CARRIER_FREQ</th>\n      <th>RSRP_PCELL</th>\n      <th>LONGITUDE_25</th>\n      <th>LATITUDE_25</th>\n    </tr>\n  </thead>\n  <tbody>\n    <tr>\n      <th>0</th>\n      <td>61263369</td>\n      <td>1275</td>\n      <td>-99.50</td>\n      <td>39.742864</td>\n      <td>43.621517</td>\n    </tr>\n    <tr>\n      <th>1</th>\n      <td>61263369</td>\n      <td>1275</td>\n      <td>-99.50</td>\n      <td>39.728179</td>\n      <td>43.626912</td>\n    </tr>\n    <tr>\n      <th>2</th>\n      <td>61263369</td>\n      <td>1275</td>\n      <td>-99.50</td>\n      <td>39.764736</td>\n      <td>43.631857</td>\n    </tr>\n    <tr>\n      <th>3</th>\n      <td>61263369</td>\n      <td>1275</td>\n      <td>-99.50</td>\n      <td>39.747551</td>\n      <td>43.644443</td>\n    </tr>\n    <tr>\n      <th>4</th>\n      <td>61263369</td>\n      <td>1275</td>\n      <td>-99.62</td>\n      <td>39.731303</td>\n      <td>43.627811</td>\n    </tr>\n    <tr>\n      <th>...</th>\n      <td>...</td>\n      <td>...</td>\n      <td>...</td>\n      <td>...</td>\n      <td>...</td>\n    </tr>\n    <tr>\n      <th>289117</th>\n      <td>58901001</td>\n      <td>1275</td>\n      <td>-99.47</td>\n      <td>39.725054</td>\n      <td>43.618820</td>\n    </tr>\n    <tr>\n      <th>289118</th>\n      <td>58901001</td>\n      <td>1275</td>\n      <td>-99.50</td>\n      <td>39.721617</td>\n      <td>43.620394</td>\n    </tr>\n    <tr>\n      <th>289119</th>\n      <td>58901001</td>\n      <td>1275</td>\n      <td>-99.50</td>\n      <td>39.720367</td>\n      <td>43.619270</td>\n    </tr>\n    <tr>\n      <th>289120</th>\n      <td>58901001</td>\n      <td>1275</td>\n      <td>-99.50</td>\n      <td>39.721930</td>\n      <td>43.619495</td>\n    </tr>\n    <tr>\n      <th>289121</th>\n      <td>58901001</td>\n      <td>1275</td>\n      <td>-99.50</td>\n      <td>39.718805</td>\n      <td>43.614550</td>\n    </tr>\n  </tbody>\n</table>\n<p>289122 rows × 5 columns</p>\n</div>"
     },
     "execution_count": 11,
     "metadata": {},
     "output_type": "execute_result"
    }
   ],
   "source": [
    "pd.read_csv(file_date_1,\n",
    "                                  usecols=['CELLID_PCELL', 'RSRP_PCELL', 'CARRIER_FREQ', longitude, latitude],\n",
    "                                  low_memory=False)"
   ],
   "metadata": {
    "collapsed": false,
    "pycharm": {
     "name": "#%%\n"
    }
   }
  },
  {
   "cell_type": "code",
   "execution_count": 12,
   "outputs": [
    {
     "name": "stdout",
     "output_type": "stream",
     "text": [
      "Wall time: 0 ns\n",
      "2324419\n",
      "2325348\n",
      "2320878\n",
      "2323048\n",
      "2310077\n",
      "2350455\n",
      "2350456\n",
      "2310277\n",
      "2332146\n",
      "2370397\n",
      "2310778\n",
      "2332295\n",
      "2332085\n",
      "2310089\n",
      "2325825\n",
      "2325826\n",
      "2369147\n",
      "2310219\n",
      "2332125\n",
      "2332126\n",
      "2325735\n",
      "2393048\n",
      "2370379\n",
      "2309318\n",
      "2332316\n",
      "2341509\n",
      "2325566\n",
      "2320988\n",
      "2350104\n",
      "2310059\n",
      "2346808\n",
      "2346809\n",
      "2393017\n",
      "2393019\n",
      "2310447\n",
      "2310727\n",
      "2310729\n",
      "2323108\n",
      "2320748\n",
      "2310197\n",
      "2320208\n",
      "2363607\n",
      "2341769\n",
      "2310738\n",
      "2325465\n",
      "2325764\n",
      "2325766\n",
      "2363617\n",
      "2332066\n",
      "2325994\n",
      "2320848\n",
      "2320849\n",
      "2323059\n",
      "2310799\n",
      "2332305\n",
      "2320137\n",
      "2325964\n",
      "2325965\n",
      "2320868\n",
      "2320869\n",
      "2313759\n",
      "2320150\n",
      "2310278\n",
      "2310508\n",
      "2332106\n",
      "2332294\n",
      "2320147\n",
      "2310087\n",
      "2369149\n",
      "2310598\n",
      "2310599\n",
      "2310029\n",
      "2310658\n",
      "2310067\n",
      "2325734\n",
      "2325544\n",
      "2325565\n",
      "2320987\n",
      "2323017\n",
      "2310057\n",
      "2332784\n",
      "2332785\n",
      "2346789\n",
      "2310448\n",
      "2332725\n",
      "2350116\n",
      "2323109\n",
      "2325554\n",
      "2341718\n",
      "2332524\n",
      "2332216\n",
      "2320307\n",
      "2325956\n",
      "2310737\n",
      "2369287\n",
      "2310677\n",
      "2325594\n",
      "2325596\n",
      "2363619\n",
      "2341607\n",
      "2341608\n",
      "2370389\n",
      "2325614\n",
      "2325615\n",
      "2310269\n",
      "2323057\n",
      "2325636\n",
      "2320132\n",
      "2320133\n",
      "2332076\n",
      "2350454\n",
      "2320158\n",
      "2310279\n",
      "2325936\n",
      "2310247\n",
      "2310248\n",
      "2310249\n",
      "2320148\n",
      "2310829\n",
      "2341708\n",
      "2325586\n",
      "2310027\n",
      "2332025\n",
      "2332026\n",
      "2325836\n",
      "2310068\n",
      "2325736\n",
      "2310318\n",
      "2320897\n",
      "2325564\n",
      "2393028\n",
      "2393108\n",
      "2325686\n",
      "2310058\n",
      "2369137\n",
      "2369138\n",
      "2310807\n",
      "2310809\n",
      "2370277\n",
      "2325556\n",
      "2320749\n",
      "2341717\n",
      "2341547\n",
      "2325494\n",
      "2393038\n",
      "2311928\n",
      "2332214\n",
      "2320309\n",
      "2310367\n",
      "2310369\n",
      "2310679\n",
      "2332065\n",
      "2325995\n",
      "2325996\n",
      "2393088\n",
      "2350144\n",
      "2310798\n",
      "2324417\n",
      "2306947\n",
      "2320138\n",
      "2320867\n",
      "2332075\n",
      "2309049\n",
      "2310507\n",
      "2341597\n",
      "2341598\n",
      "2393009\n",
      "2310358\n",
      "2310359\n",
      "2332206\n",
      "2393099\n",
      "2310069\n",
      "2393047\n",
      "2332314\n",
      "2341508\n",
      "2325545\n",
      "2320898\n",
      "2393029\n",
      "2393109\n",
      "2325684\n",
      "2369139\n",
      "2346787\n",
      "2346807\n",
      "2332726\n",
      "2310198\n",
      "2341548\n",
      "2320207\n",
      "2332415\n",
      "2369467\n",
      "2393039\n",
      "2332525\n",
      "2310527\n",
      "2310528\n",
      "2325904\n",
      "2310907\n",
      "2363608\n",
      "2363609\n",
      "2325955\n",
      "2310368\n",
      "2363597\n",
      "2320847\n",
      "2325664\n",
      "2325666\n",
      "2320227\n",
      "2310797\n",
      "2332306\n",
      "2306948\n",
      "2325966\n",
      "2313757\n",
      "2313758\n",
      "2323047\n",
      "2332074\n",
      "2320157\n",
      "2309048\n",
      "2393079\n",
      "2310357\n",
      "2332296\n",
      "2369148\n",
      "2332204\n",
      "2332205\n",
      "2310028\n",
      "2310049\n",
      "2310659\n",
      "2325504\n",
      "2325506\n",
      "2300829\n",
      "2341507\n",
      "2320777\n",
      "2320738\n",
      "2332034\n",
      "2323019\n",
      "2370278\n",
      "2325806\n",
      "2332724\n",
      "2323107\n",
      "2332416\n",
      "2310418\n",
      "2369468\n",
      "2325906\n",
      "2325605\n",
      "2320568\n",
      "2363588\n",
      "2369127\n",
      "2369288\n",
      "2310678\n",
      "2363599\n",
      "2363618\n",
      "2341609\n",
      "2325634\n",
      "2324418\n",
      "2320131\n",
      "2310078\n",
      "2320647\n",
      "2325934\n",
      "2332145\n",
      "2320149\n",
      "2310088\n",
      "2311969\n",
      "2325585\n",
      "2310047\n",
      "2310048\n",
      "2346837\n",
      "2332614\n",
      "2310497\n",
      "2310498\n",
      "2393049\n",
      "2309317\n",
      "2332315\n",
      "2300827\n",
      "2300828\n",
      "2320778\n",
      "2320737\n",
      "2332035\n",
      "2323018\n",
      "2370279\n",
      "2310389\n",
      "2320747\n",
      "2341719\n",
      "2390384\n",
      "2332414\n",
      "2325496\n",
      "2393037\n",
      "2325905\n",
      "2310908\n",
      "2325606\n",
      "2311929\n",
      "2341767\n",
      "2341768\n",
      "2320308\n",
      "2325954\n",
      "2325464\n",
      "2325595\n",
      "2363598\n",
      "2310267\n",
      "2310268\n",
      "2350145\n",
      "2325349\n",
      "2306949\n",
      "2320877\n",
      "2310079\n",
      "2320648\n",
      "2320649\n",
      "2320156\n",
      "2309047\n",
      "2341599\n",
      "2332144\n",
      "2370398\n",
      "2332245\n",
      "2310777\n",
      "2332086\n",
      "2325476\n",
      "2311967\n",
      "2341707\n",
      "2341709\n",
      "2310218\n",
      "2332124\n",
      "2332024\n",
      "2346839\n",
      "2350134\n",
      "2350135\n",
      "2310617\n",
      "2310618\n",
      "2310619\n",
      "2370377\n",
      "2370378\n",
      "2310317\n",
      "2309319\n",
      "2320739\n",
      "2332036\n",
      "2320989\n",
      "2350106\n",
      "2310808\n",
      "2332196\n",
      "2332195\n",
      "2325804\n",
      "2325805\n",
      "2310449\n",
      "2310728\n",
      "2310387\n",
      "2310388\n",
      "2320209\n",
      "2310419\n",
      "2369469\n",
      "2311927\n",
      "2320567\n",
      "2320569\n",
      "2310739\n",
      "2363587\n",
      "2332064\n",
      "2370388\n",
      "2325616\n",
      "2393089\n",
      "2325635\n",
      "2320228\n",
      "2350146\n",
      "2332304\n",
      "2320879\n",
      "2323049\n",
      "2320159\n",
      "2325935\n",
      "2310509\n",
      "2370399\n",
      "2332104\n",
      "2332105\n",
      "2393007\n",
      "2393008\n",
      "2393077\n",
      "2332244\n",
      "2332246\n",
      "2310779\n",
      "2332084\n",
      "2310828\n",
      "2325474\n",
      "2325475\n",
      "2311968\n",
      "2310597\n",
      "2393097\n",
      "2393098\n",
      "2325834\n",
      "2325835\n",
      "2346838\n",
      "2350136\n",
      "2310657\n",
      "2332615\n",
      "2332616\n",
      "2325505\n",
      "2310319\n",
      "2320779\n",
      "2393107\n",
      "2350105\n",
      "2325685\n",
      "2332786\n",
      "2346788\n",
      "2332194\n",
      "2350114\n",
      "2350115\n",
      "2325555\n",
      "2341549\n",
      "2310417\n",
      "2325495\n",
      "2332526\n",
      "2310529\n",
      "2310909\n",
      "2325604\n",
      "2332215\n",
      "2369128\n",
      "2325765\n",
      "2369289\n",
      "2370387\n",
      "2310957\n",
      "2310958\n",
      "2310959\n",
      "2325665\n",
      "2393087\n",
      "2320229\n"
     ]
    }
   ],
   "source": [
    "%time\n",
    "# @numba.jit()\n",
    "def coverage_check_for_cluster():\n",
    "    \"\"\"Эта функция считает покрытие с учетом сторонних band-ов\"\"\"\n",
    "    date_1_data = pd.read_csv(file_date_1,\n",
    "                                  usecols=['CELLID_PCELL', 'RSRP_PCELL', 'CARRIER_FREQ', longitude, latitude],\n",
    "                                  low_memory=False)\n",
    "    date_2_data = pd.read_csv(file_date_2,\n",
    "                                  usecols=['CELLID_PCELL', 'RSRP_PCELL', longitude, latitude],\n",
    "                                  low_memory=False)\n",
    "    bs_data = pd.read_csv(file_date_2,\n",
    "                              usecols=['CELLID_PCELL', 'RSRP_PCELL', 'CARRIER_FREQ', longitude, latitude],\n",
    "                              low_memory=False\n",
    "                              )\n",
    "\n",
    "    for cell in cells:\n",
    "\n",
    "        # преобразовываем список сот в формат Geos\n",
    "        cell_id_geos = (int(str(cell)[:-1]) * 256 + int(str(cell)[-1]))\n",
    "\n",
    "        # берем координаты точек для первого дня для нашей соты\n",
    "        date_1_data_cell = date_1_data[date_1_data['CELLID_PCELL'] == cell_id_geos]\n",
    "\n",
    "        # определяем частоту нашей соты\n",
    "        try:\n",
    "            # current_band = int(date_1_data_cell['CARRIER_FREQ'].loc[date_1_data_cell.index.tolist()[0]])\n",
    "            current_band = date_1_data_cell['CARRIER_FREQ'].values[0]\n",
    "        except (IndexError, ValueError):\n",
    "            continue\n",
    "        print(cell)\n",
    "        date_1_data_cell = date_1_data_cell[['CELLID_PCELL', 'RSRP_PCELL', longitude, latitude]]\n",
    "\n",
    "        # берем коодинаты точек и уровень для второго дня\n",
    "        date_2_data_cell = date_2_data[date_2_data['CELLID_PCELL'] == cell_id_geos]\n",
    "\n",
    "        # объединяем таблицы между собой:\n",
    "        dat_1_2 = date_1_data_cell.merge( date_2_data_cell, how=\"outer\", on=['CELLID_PCELL', longitude, latitude])\n",
    "\n",
    "        # формируем таблицу с двумя лучшими уровнями для второго дня исключив нашу соту\n",
    "        bs_data = bs_data[bs_data['CARRIER_FREQ'] != '\\\\N']\n",
    "        bs_data['CARRIER_FREQ'] = bs_data['CARRIER_FREQ'].astype(int)\n",
    "        bs_data_wo_our_cell_with_band = bs_data[bs_data['CELLID_PCELL'] != cell_id_geos]\n",
    "\n",
    "        # оставляем только нужные нам band-ы\n",
    "        # bs_data_wo_our_cell = bs_data_wo_our_cell_with_band.loc[bs_data_wo_our_cell_with_band['CARRIER_FREQ'] != '\\\\N']\n",
    "        bs_data_wo_our_cell = bs_data_wo_our_cell_with_band[bs_data_wo_our_cell_with_band['CARRIER_FREQ'].isin(bands[current_band])]\\\n",
    "            .drop(columns=['CELLID_PCELL', 'CARRIER_FREQ'])\n",
    "\n",
    "        # оставляем максимальное значения уровня две колонки\n",
    "        bs_data_wo_our_cell = bs_data_wo_our_cell.groupby([longitude, latitude]).max()\n",
    "\n",
    "        # формируем результирующую таблицу\n",
    "        date_1_2_bs = dat_1_2.merge(bs_data_wo_our_cell, how='left', on=[longitude, latitude])\n",
    "        date_1_2_bs = date_1_2_bs.rename(columns={'RSRP_PCELL_x': 'RSRP_Day_1', 'RSRP_PCELL_y': 'RSRP_Day_2','RSRP_PCELL': 'RSRP_BS_Another_cell'})\n",
    "        date_1_2_bs = date_1_2_bs[['CELLID_PCELL', longitude, latitude, 'RSRP_Day_1', 'RSRP_Day_2', 'RSRP_BS_Another_cell']]\n",
    "        # date_1_2_bs.to_csv('res.csv')\n",
    "\n",
    "        # create a list of our conditions\n",
    "        # conditions1 - это условия без учета rsrp_limit rsrp_delta\n",
    "        conditions1 = [\n",
    "            (date_1_2_bs['RSRP_Day_1'] > date_1_2_bs['RSRP_Day_2']) & (date_1_2_bs['RSRP_Day_2'] > date_1_2_bs['RSRP_BS_Another_cell']),\n",
    "            (date_1_2_bs['RSRP_Day_1'] > date_1_2_bs['RSRP_BS_Another_cell']) & (date_1_2_bs['RSRP_BS_Another_cell'] > date_1_2_bs['RSRP_Day_2']),\n",
    "            (date_1_2_bs['RSRP_Day_2'] > date_1_2_bs['RSRP_Day_1']) & (date_1_2_bs['RSRP_Day_1'] > date_1_2_bs['RSRP_BS_Another_cell']),\n",
    "            (date_1_2_bs['RSRP_Day_2'] > date_1_2_bs['RSRP_BS_Another_cell']) & (date_1_2_bs['RSRP_BS_Another_cell'] > date_1_2_bs['RSRP_Day_1']),\n",
    "            (date_1_2_bs['RSRP_Day_1'].isnull()) & (date_1_2_bs['RSRP_Day_2'] > date_1_2_bs['RSRP_BS_Another_cell']),\n",
    "            (date_1_2_bs['RSRP_Day_1'].isnull()) & (date_1_2_bs['RSRP_Day_2'].notnull()) & (date_1_2_bs['RSRP_BS_Another_cell'].isnull()),\n",
    "            (date_1_2_bs['RSRP_Day_1'] > date_1_2_bs['RSRP_BS_Another_cell']) & (date_1_2_bs['RSRP_Day_2'].isnull()),\n",
    "            (date_1_2_bs['RSRP_Day_1'].notnull()) & (date_1_2_bs['RSRP_Day_2'].isnull()) & (date_1_2_bs['RSRP_BS_Another_cell'].isnull()),\n",
    "            (date_1_2_bs['RSRP_Day_1'] > date_1_2_bs['RSRP_Day_2']) & (date_1_2_bs['RSRP_BS_Another_cell'].isnull()),\n",
    "            (date_1_2_bs['RSRP_Day_2'] > date_1_2_bs['RSRP_Day_1']) & (date_1_2_bs['RSRP_BS_Another_cell'].isnull()),\n",
    "            ]\n",
    "        # conditions2 - это условия c учетом rsrp_limit rsrp_delta\n",
    "        conditions2 = [\n",
    "            (date_1_2_bs['RSRP_Day_1'] > date_1_2_bs['RSRP_Day_2'] + rsrp_delta_1) & (date_1_2_bs['RSRP_Day_2'] > date_1_2_bs['RSRP_BS_Another_cell']) & (date_1_2_bs['RSRP_Day_2'] < rsrp_limit_1),\n",
    "            (date_1_2_bs['RSRP_Day_1'] > date_1_2_bs['RSRP_BS_Another_cell'] + rsrp_delta_1) & (date_1_2_bs['RSRP_BS_Another_cell'] > date_1_2_bs['RSRP_Day_2']) & (date_1_2_bs['RSRP_BS_Another_cell'] < rsrp_limit_1),\n",
    "            (date_1_2_bs['RSRP_Day_2'] > date_1_2_bs['RSRP_Day_1'] + rsrp_delta_2) & (date_1_2_bs['RSRP_Day_1'] > date_1_2_bs['RSRP_BS_Another_cell']) & (date_1_2_bs['RSRP_Day_1'] < rsrp_limit_2),\n",
    "            (date_1_2_bs['RSRP_Day_2'] > date_1_2_bs['RSRP_BS_Another_cell'] + rsrp_delta_2) & (date_1_2_bs['RSRP_BS_Another_cell'] > date_1_2_bs['RSRP_Day_1'])& (date_1_2_bs['RSRP_BS_Another_cell'] < rsrp_limit_2),\n",
    "            (date_1_2_bs['RSRP_Day_1'].isnull()) & (date_1_2_bs['RSRP_Day_2'] > date_1_2_bs['RSRP_BS_Another_cell'] + rsrp_delta_2)& (date_1_2_bs['RSRP_BS_Another_cell'] < rsrp_limit_2),\n",
    "            (date_1_2_bs['RSRP_Day_1'].isnull()) & (date_1_2_bs['RSRP_Day_2'].notnull()) & (date_1_2_bs['RSRP_BS_Another_cell'].isnull()),\n",
    "            (date_1_2_bs['RSRP_Day_1'] > date_1_2_bs['RSRP_BS_Another_cell'] + rsrp_delta_1) & (date_1_2_bs['RSRP_Day_2'].isnull()) & (date_1_2_bs['RSRP_BS_Another_cell'] < rsrp_limit_1),\n",
    "            (date_1_2_bs['RSRP_Day_1'].notnull()) & (date_1_2_bs['RSRP_Day_2'].isnull()) & (date_1_2_bs['RSRP_BS_Another_cell'].isnull()),\n",
    "            (date_1_2_bs['RSRP_Day_1'] > date_1_2_bs['RSRP_Day_2'] + rsrp_delta_1) & (date_1_2_bs['RSRP_BS_Another_cell'].isnull()) & (date_1_2_bs['RSRP_Day_2'] < rsrp_limit_1),\n",
    "            (date_1_2_bs['RSRP_Day_2'] > date_1_2_bs['RSRP_Day_1'] + rsrp_delta_2) & (date_1_2_bs['RSRP_BS_Another_cell'].isnull())& (date_1_2_bs['RSRP_Day_1'] < rsrp_limit_2),\n",
    "            ]\n",
    "\n",
    "        # create a list of the values we want to assign for each condition\n",
    "        values = [-1, -1, 1, 1, 1, 1, -1, -1, -1, 1]\n",
    "\n",
    "        # create a new column and use np.select to assign values to it using our lists as arguments\n",
    "        date_1_2_bs['Coverage_Status_Cond1'] = np.select(conditions1, values)\n",
    "        date_1_2_bs['Coverage_Status_Cond2'] = np.select(conditions2, values)\n",
    "\n",
    "        # экспортим результирующую таблицу\n",
    "        # date_1_2_bs.to_csv(str(cell) + '.csv')\n",
    "        Coverage_Status_1 = date_1_2_bs['Coverage_Status_Cond1'].sum()\n",
    "        points_nbr_1 = date_1_2_bs['Coverage_Status_Cond1'].count()\n",
    "        coverage_koef_1 = round(\n",
    "            100 * date_1_2_bs['Coverage_Status_Cond1'].sum() / date_1_2_bs['Coverage_Status_Cond1'].count(), 1)\n",
    "        Coverage_Status_2 = date_1_2_bs['Coverage_Status_Cond2'].sum()\n",
    "        points_nbr_2 = date_1_2_bs['Coverage_Status_Cond2'].count()\n",
    "        coverage_koef_2 = round(\n",
    "            100 * date_1_2_bs['Coverage_Status_Cond2'].sum() / date_1_2_bs['Coverage_Status_Cond2'].count(), 1)\n",
    "        logging.info('{0}\\t{1}\\t{2}\\t{3}\\t{4}\\t{5}\\t{6}'.format(cell,\n",
    "                                                                Coverage_Status_1,\n",
    "                                                                points_nbr_1,\n",
    "                                                                coverage_koef_1,\n",
    "                                                                Coverage_Status_2,\n",
    "                                                                points_nbr_2,\n",
    "                                                                coverage_koef_2))\n",
    "        # sys.exit()\n",
    "\n",
    "\n",
    "\n",
    "coverage_check_for_cluster()"
   ],
   "metadata": {
    "collapsed": false,
    "pycharm": {
     "name": "#%%\n"
    }
   }
  },
  {
   "cell_type": "code",
   "execution_count": null,
   "outputs": [],
   "source": [],
   "metadata": {
    "collapsed": false,
    "pycharm": {
     "name": "#%%\n"
    }
   }
  }
 ],
 "metadata": {
  "kernelspec": {
   "display_name": "Python 3",
   "language": "python",
   "name": "python3"
  },
  "language_info": {
   "codemirror_mode": {
    "name": "ipython",
    "version": 2
   },
   "file_extension": ".py",
   "mimetype": "text/x-python",
   "name": "python",
   "nbconvert_exporter": "python",
   "pygments_lexer": "ipython2",
   "version": "2.7.6"
  }
 },
 "nbformat": 4,
 "nbformat_minor": 0
}