{
 "cells": [
  {
   "cell_type": "code",
   "execution_count": 1,
   "metadata": {
    "collapsed": true
   },
   "outputs": [],
   "source": [
    "%reset\n",
    "\n"
   ]
  },
  {
   "cell_type": "code",
   "execution_count": 2,
   "outputs": [],
   "source": [
    "import networkx as nx"
   ],
   "metadata": {
    "collapsed": false,
    "pycharm": {
     "name": "#%%\n"
    }
   }
  },
  {
   "cell_type": "code",
   "execution_count": 3,
   "outputs": [],
   "source": [
    "class GeoPoint:\n",
    "    \"\"\"Класс Географическая точка\"\"\"\n",
    "    __slots__ = ('ID_PICK')\n",
    "    def __init__(self,ID_PICK:int):\n",
    "        self.ID_PICK =ID_PICK\n",
    "\n",
    "class House(GeoPoint):\n",
    "    \"\"\"Класс Объекта здания\"\"\"\n",
    "    def __init__(self, address:str, ID_PICK:int,floor:int,type:str):\n",
    "        super().__init__(ID_PICK)\n",
    "        self.address = address\n",
    "        self.floor=floor\n",
    "        self.type = type\n",
    "\n",
    "class Shop(GeoPoint):\n",
    "    \"\"\"Класс магазина\"\"\"\n",
    "    def __init__(self,  address:str, ID_PICK:int,type:str,cash:int):\n",
    "        super().__init__(ID_PICK)\n",
    "        self.address = address\n",
    "        self.type = type\n",
    "        self.cash=cash\n",
    "\n",
    "\n",
    "class Cafe(GeoPoint):\n",
    "    \"\"\"Класс кафешек\"\"\"\n",
    "    def __init__(self,  address:str, ID_PICK:int,type:str,cash:int):\n",
    "        super().__init__(ID_PICK)\n",
    "        self.address = address\n",
    "        self.type = type\n",
    "        self.cash=cash"
   ],
   "metadata": {
    "collapsed": false,
    "pycharm": {
     "name": "#%%\n"
    }
   }
  },
  {
   "cell_type": "code",
   "execution_count": 4,
   "outputs": [],
   "source": [
    "#где покушать\n",
    "tatmak=Cafe(ID_PICK=8,address='Донецкая,63',type='пиццерия',cash=150)\n",
    "dodo=Cafe(ID_PICK=7,address='Дементьева,72',type='пиццерия',cash=700)\n",
    "dobraya=Cafe(ID_PICK=4,address='Максимова,22',type='столовая',cash=120)\n",
    "marani=Cafe(ID_PICK=1,address='Чистопольская,42',type='Ресторан',cash=2200)\n",
    "\n",
    "#где купить\n",
    "bahetle=Shop(ID_PICK=2,address='Максимова,12',type='ТЦ',cash=1200)\n",
    "gold_fish=Shop(ID_PICK=6,address='Симонова,33',type='Рыбалка',cash=200)\n",
    "magnit=Shop(ID_PICK=5,address='Челюскина,6',type='Продукты',cash=500)\n",
    "\n",
    "#Здания\n",
    "police=House(ID_PICK=3,address='Челюскина,25',type='Полиция',floor=2)\n",
    "jilka=House(ID_PICK=9,address='Айдарова,2',type='Жилое здание',floor=9)\n",
    "hair=House(ID_PICK=10,address='Беломорская,7',type='Парикмахерская',floor=1)"
   ],
   "metadata": {
    "collapsed": false,
    "pycharm": {
     "name": "#%%\n"
    }
   }
  },
  {
   "cell_type": "code",
   "execution_count": 5,
   "outputs": [
    {
     "data": {
      "text/plain": "<networkx.classes.graph.Graph at 0x27701402cd0>"
     },
     "execution_count": 5,
     "metadata": {},
     "output_type": "execute_result"
    }
   ],
   "source": [
    "graph = nx.Graph()\n",
    "graph"
   ],
   "metadata": {
    "collapsed": false,
    "pycharm": {
     "name": "#%%\n"
    }
   }
  },
  {
   "cell_type": "code",
   "execution_count": 6,
   "outputs": [],
   "source": [
    "\"\"\"создаю узлы\"\"\"\n",
    "graph.add_node(tatmak)\n",
    "graph.add_node(dodo)\n",
    "graph.add_node(dobraya)\n",
    "graph.add_node(marani)\n",
    "\n",
    "graph.add_node(bahetle)\n",
    "graph.add_node(gold_fish)\n",
    "graph.add_node(magnit)\n",
    "\n",
    "graph.add_node(police)\n",
    "graph.add_node(jilka)\n",
    "graph.add_node(hair)"
   ],
   "metadata": {
    "collapsed": false,
    "pycharm": {
     "name": "#%%\n"
    }
   }
  },
  {
   "cell_type": "code",
   "execution_count": 7,
   "outputs": [],
   "source": [
    "\"\"\"создаю обоюдную связь между объектами - узлами\"\"\"\n",
    "def add_edge_w(item1, item2, weight,graph=None):\n",
    "      graph.add_edge(item1, item2,distance=weight)\n",
    "      graph.add_edge(item2, item1,distance=weight)\n",
    "\n"
   ],
   "metadata": {
    "collapsed": false,
    "pycharm": {
     "name": "#%%\n"
    }
   }
  },
  {
   "cell_type": "code",
   "execution_count": 8,
   "outputs": [],
   "source": [
    "add_edge_w(tatmak,dodo,weight=1000,graph=graph)\n",
    "\n",
    "add_edge_w(tatmak, dobraya, graph=graph,weight=10000)\n",
    "add_edge_w(tatmak, marani, graph=graph,weight=12000)\n",
    "add_edge_w(dobraya, marani, graph=graph,weight=500)\n",
    "\n",
    "add_edge_w(dobraya, police, graph=graph,weight=100)\n",
    "add_edge_w(tatmak, police, graph=graph,weight=50)\n",
    "add_edge_w(police, jilka, graph=graph,weight=150)\n",
    "add_edge_w(police, hair, graph=graph,weight=200)\n",
    "add_edge_w(jilka, hair, graph=graph,weight=10)\n",
    "add_edge_w(jilka, magnit, graph=graph,weight=50)\n",
    "\n",
    "add_edge_w(magnit, police, graph=graph,weight=100)\n",
    "add_edge_w(bahetle, gold_fish, graph=graph,weight=110)\n",
    "add_edge_w(gold_fish, police, graph=graph,weight=230)\n",
    "add_edge_w(hair, gold_fish, graph=graph,weight=70)\n",
    "\n",
    "add_edge_w(dobraya, bahetle, graph=graph,weight=190)"
   ],
   "metadata": {
    "collapsed": false,
    "pycharm": {
     "name": "#%%\n"
    }
   }
  },
  {
   "cell_type": "code",
   "execution_count": 9,
   "outputs": [
    {
     "data": {
      "text/plain": "<Figure size 432x288 with 1 Axes>",
      "image/png": "[encoded data removed]"
     },
     "metadata": {},
     "output_type": "display_data"
    }
   ],
   "source": [
    "nx.draw_networkx(graph,\n",
    "         node_color='red',\n",
    "         node_size=1000,\n",
    "         with_labels=False)"
   ],
   "metadata": {
    "collapsed": false,
    "pycharm": {
     "name": "#%%\n"
    }
   }
  },
  {
   "cell_type": "code",
   "execution_count": 92,
   "outputs": [
    {
     "data": {
      "text/plain": "190"
     },
     "execution_count": 92,
     "metadata": {},
     "output_type": "execute_result"
    }
   ],
   "source": [
    "\"\"\"Пример отображения дистанции между двумя объектами\"\"\"\n",
    "graph[dobraya][bahetle]['distance']\n"
   ],
   "metadata": {
    "collapsed": false,
    "pycharm": {
     "name": "#%%\n"
    }
   }
  }
 ],
 "metadata": {
  "kernelspec": {
   "display_name": "Python 3",
   "language": "python",
   "name": "python3"
  },
  "language_info": {
   "codemirror_mode": {
    "name": "ipython",
    "version": 2
   },
   "file_extension": ".py",
   "mimetype": "text/x-python",
   "name": "python",
   "nbconvert_exporter": "python",
   "pygments_lexer": "ipython2",
   "version": "2.7.6"
  }
 },
 "nbformat": 4,
 "nbformat_minor": 0
}