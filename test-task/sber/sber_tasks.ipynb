{
 "cells": [
  {
   "cell_type": "code",
   "execution_count": 497,
   "outputs": [],
   "source": [
    "%reset"
   ],
   "metadata": {
    "collapsed": false,
    "pycharm": {
     "name": "#%%\n"
    }
   }
  },
  {
   "cell_type": "code",
   "execution_count": 498,
   "metadata": {
    "collapsed": true
   },
   "outputs": [],
   "source": [
    "import pandas as pd"
   ]
  },
  {
   "cell_type": "code",
   "execution_count": 499,
   "outputs": [
    {
     "data": {
      "text/plain": "         Время активности                             Имя активности  \\\n0 2019-12-23 13:00:02.295                     Прослушал Главное меню   \n1 2019-12-23 13:00:05.713                     Прослушал Главное меню   \n2 2019-12-23 13:00:15.394                     Прослушал Главное меню   \n3 2019-12-23 13:00:16.180                     Прослушал Главное меню   \n4 2019-12-23 13:00:21.449  Кнопка 1 - Распределился на группу продаж   \n5 2019-12-23 13:00:23.410  Кнопка 1 - Распределился на группу продаж   \n6 2019-12-23 13:00:24.508                     Прослушал Главное меню   \n7 2019-12-23 13:00:29.569          Кнопка 3 - Прослушал Главное Меню   \n8 2019-12-23 13:00:37.747  Кнопка 1 - Распределился на группу продаж   \n9 2019-12-23 13:00:39.838  Кнопка 1 - Распределился на группу продаж   \n\n   Длительность  ID вызова  \n0            37  788547601  \n1            46  788547602  \n2            10  788547607  \n3            26  788547607  \n4            36  788547592  \n5            52  788547585  \n6            36  788547612  \n7            42  788547598  \n8            61  788547588  \n9            37  788547601  ",
      "text/html": "<div>\n<style scoped>\n    .dataframe tbody tr th:only-of-type {\n        vertical-align: middle;\n    }\n\n    .dataframe tbody tr th {\n        vertical-align: top;\n    }\n\n    .dataframe thead th {\n        text-align: right;\n    }\n</style>\n<table border=\"1\" class=\"dataframe\">\n  <thead>\n    <tr style=\"text-align: right;\">\n      <th></th>\n      <th>Время активности</th>\n      <th>Имя активности</th>\n      <th>Длительность</th>\n      <th>ID вызова</th>\n    </tr>\n  </thead>\n  <tbody>\n    <tr>\n      <th>0</th>\n      <td>2019-12-23 13:00:02.295</td>\n      <td>Прослушал Главное меню</td>\n      <td>37</td>\n      <td>788547601</td>\n    </tr>\n    <tr>\n      <th>1</th>\n      <td>2019-12-23 13:00:05.713</td>\n      <td>Прослушал Главное меню</td>\n      <td>46</td>\n      <td>788547602</td>\n    </tr>\n    <tr>\n      <th>2</th>\n      <td>2019-12-23 13:00:15.394</td>\n      <td>Прослушал Главное меню</td>\n      <td>10</td>\n      <td>788547607</td>\n    </tr>\n    <tr>\n      <th>3</th>\n      <td>2019-12-23 13:00:16.180</td>\n      <td>Прослушал Главное меню</td>\n      <td>26</td>\n      <td>788547607</td>\n    </tr>\n    <tr>\n      <th>4</th>\n      <td>2019-12-23 13:00:21.449</td>\n      <td>Кнопка 1 - Распределился на группу продаж</td>\n      <td>36</td>\n      <td>788547592</td>\n    </tr>\n    <tr>\n      <th>5</th>\n      <td>2019-12-23 13:00:23.410</td>\n      <td>Кнопка 1 - Распределился на группу продаж</td>\n      <td>52</td>\n      <td>788547585</td>\n    </tr>\n    <tr>\n      <th>6</th>\n      <td>2019-12-23 13:00:24.508</td>\n      <td>Прослушал Главное меню</td>\n      <td>36</td>\n      <td>788547612</td>\n    </tr>\n    <tr>\n      <th>7</th>\n      <td>2019-12-23 13:00:29.569</td>\n      <td>Кнопка 3 - Прослушал Главное Меню</td>\n      <td>42</td>\n      <td>788547598</td>\n    </tr>\n    <tr>\n      <th>8</th>\n      <td>2019-12-23 13:00:37.747</td>\n      <td>Кнопка 1 - Распределился на группу продаж</td>\n      <td>61</td>\n      <td>788547588</td>\n    </tr>\n    <tr>\n      <th>9</th>\n      <td>2019-12-23 13:00:39.838</td>\n      <td>Кнопка 1 - Распределился на группу продаж</td>\n      <td>37</td>\n      <td>788547601</td>\n    </tr>\n  </tbody>\n</table>\n</div>"
     },
     "execution_count": 499,
     "metadata": {},
     "output_type": "execute_result"
    }
   ],
   "source": [
    "df_i=pd.read_excel('Task1_INPUT.xlsx')\n",
    "df_i.head(10)"
   ],
   "metadata": {
    "collapsed": false,
    "pycharm": {
     "name": "#%%\n"
    }
   }
  },
  {
   "cell_type": "code",
   "execution_count": 500,
   "outputs": [
    {
     "data": {
      "text/plain": "(736, 4)"
     },
     "execution_count": 500,
     "metadata": {},
     "output_type": "execute_result"
    }
   ],
   "source": [
    "df_i.shape"
   ],
   "metadata": {
    "collapsed": false,
    "pycharm": {
     "name": "#%%\n"
    }
   }
  },
  {
   "cell_type": "code",
   "execution_count": 501,
   "outputs": [
    {
     "name": "stdout",
     "output_type": "stream",
     "text": [
      "<class 'pandas.core.frame.DataFrame'>\n",
      "RangeIndex: 736 entries, 0 to 735\n",
      "Data columns (total 4 columns):\n",
      " #   Column            Non-Null Count  Dtype         \n",
      "---  ------            --------------  -----         \n",
      " 0   Время активности  736 non-null    datetime64[ns]\n",
      " 1   Имя активности    736 non-null    object        \n",
      " 2   Длительность      736 non-null    int64         \n",
      " 3   ID вызова         736 non-null    int64         \n",
      "dtypes: datetime64[ns](1), int64(2), object(1)\n",
      "memory usage: 23.1+ KB\n"
     ]
    }
   ],
   "source": [
    "df_i.info()"
   ],
   "metadata": {
    "collapsed": false,
    "pycharm": {
     "name": "#%%\n"
    }
   }
  },
  {
   "cell_type": "code",
   "execution_count": 502,
   "outputs": [
    {
     "data": {
      "text/plain": "       Длительность     ID вызова\ncount    736.000000  7.360000e+02\nmean      42.452446  7.885485e+08\nstd       27.268390  5.095077e+02\nmin        0.000000  7.885476e+08\n25%       29.000000  7.885481e+08\n50%       37.000000  7.885485e+08\n75%       43.000000  7.885489e+08\nmax      179.000000  7.885494e+08",
      "text/html": "<div>\n<style scoped>\n    .dataframe tbody tr th:only-of-type {\n        vertical-align: middle;\n    }\n\n    .dataframe tbody tr th {\n        vertical-align: top;\n    }\n\n    .dataframe thead th {\n        text-align: right;\n    }\n</style>\n<table border=\"1\" class=\"dataframe\">\n  <thead>\n    <tr style=\"text-align: right;\">\n      <th></th>\n      <th>Длительность</th>\n      <th>ID вызова</th>\n    </tr>\n  </thead>\n  <tbody>\n    <tr>\n      <th>count</th>\n      <td>736.000000</td>\n      <td>7.360000e+02</td>\n    </tr>\n    <tr>\n      <th>mean</th>\n      <td>42.452446</td>\n      <td>7.885485e+08</td>\n    </tr>\n    <tr>\n      <th>std</th>\n      <td>27.268390</td>\n      <td>5.095077e+02</td>\n    </tr>\n    <tr>\n      <th>min</th>\n      <td>0.000000</td>\n      <td>7.885476e+08</td>\n    </tr>\n    <tr>\n      <th>25%</th>\n      <td>29.000000</td>\n      <td>7.885481e+08</td>\n    </tr>\n    <tr>\n      <th>50%</th>\n      <td>37.000000</td>\n      <td>7.885485e+08</td>\n    </tr>\n    <tr>\n      <th>75%</th>\n      <td>43.000000</td>\n      <td>7.885489e+08</td>\n    </tr>\n    <tr>\n      <th>max</th>\n      <td>179.000000</td>\n      <td>7.885494e+08</td>\n    </tr>\n  </tbody>\n</table>\n</div>"
     },
     "execution_count": 502,
     "metadata": {},
     "output_type": "execute_result"
    }
   ],
   "source": [
    "df_i.describe()"
   ],
   "metadata": {
    "collapsed": false,
    "pycharm": {
     "name": "#%%\n"
    }
   }
  },
  {
   "cell_type": "code",
   "execution_count": 503,
   "outputs": [
    {
     "data": {
      "text/plain": "['Время активности', 'Имя активности', 'Длительность', 'ID вызова']"
     },
     "execution_count": 503,
     "metadata": {},
     "output_type": "execute_result"
    }
   ],
   "source": [
    "df_i.columns.to_list()"
   ],
   "metadata": {
    "collapsed": false,
    "pycharm": {
     "name": "#%%\n"
    }
   }
  },
  {
   "cell_type": "code",
   "execution_count": 504,
   "outputs": [
    {
     "data": {
      "text/plain": "count                        736\nunique                        11\ntop       Прослушал Главное меню\nfreq                         341\nName: Имя активности, dtype: object"
     },
     "execution_count": 504,
     "metadata": {},
     "output_type": "execute_result"
    }
   ],
   "source": [
    "df_i['Имя активности'].describe()"
   ],
   "metadata": {
    "collapsed": false,
    "pycharm": {
     "name": "#%%\n"
    }
   }
  },
  {
   "cell_type": "code",
   "execution_count": 505,
   "outputs": [
    {
     "data": {
      "text/plain": "['Прослушал Главное меню',\n 'Кнопка 1 - Распределился на группу продаж',\n 'Кнопка 3 - Прослушал Главное Меню',\n 'Кнопка 3 - Распределился на оператора Группы Ипотеки',\n 'Кнопка 4 - Голосовой помощник',\n 'Кнопка 2 - Прослушал Главное Меню',\n 'Кнопка 2 - Прослушал автоинформатор',\n 'Повтор Главного меню',\n 'Кнопка 2 - Распределился на оператора Поддержки',\n 'Кнопка 3 - Распределился на оператора Группы Кредитов',\n 'Кнопка 2 - Повтор Главного Меню']"
     },
     "execution_count": 505,
     "metadata": {},
     "output_type": "execute_result"
    }
   ],
   "source": [
    "list(df_i['Имя активности'].unique())"
   ],
   "metadata": {
    "collapsed": false,
    "pycharm": {
     "name": "#%%\n"
    }
   }
  },
  {
   "cell_type": "code",
   "execution_count": 506,
   "outputs": [
    {
     "name": "stdout",
     "output_type": "stream",
     "text": [
      "Прослушал Главное меню\n",
      "Кнопка 3 - Прослушал Главное Меню\n",
      "Кнопка 2 - Прослушал Главное Меню\n"
     ]
    }
   ],
   "source": [
    "for i in df_i['Имя активности'].unique():\n",
    "    if 'Прослушал Главное меню'.lower() in i.lower():\n",
    "        print(i)"
   ],
   "metadata": {
    "collapsed": false,
    "pycharm": {
     "name": "#%%\n"
    }
   }
  },
  {
   "cell_type": "code",
   "execution_count": 507,
   "outputs": [
    {
     "name": "stdout",
     "output_type": "stream",
     "text": [
      "MEOW\n"
     ]
    }
   ],
   "source": [
    "if 'Прослушал Главное меню' in 'Кнопка 3 - Прослушал Главное Меню':\n",
    "    print(True)\n",
    "p='Прослушал Главное меню'\n",
    "a='Кнопка 3 - Прослушал Главное Меню'\n",
    "import re\n",
    "if re.search(a,p):\n",
    "    print()\n",
    "p='Прослушал Главное Меню'\n",
    "a='Кнопка 3 - Прослушал Главное меню'\n",
    "import re\n",
    "if re.search(p.lower(),a.lower()):\n",
    "    print(\"MEOW\")"
   ],
   "metadata": {
    "collapsed": false,
    "pycharm": {
     "name": "#%%\n"
    }
   }
  },
  {
   "cell_type": "code",
   "execution_count": 508,
   "outputs": [
    {
     "data": {
      "text/plain": "341"
     },
     "execution_count": 508,
     "metadata": {},
     "output_type": "execute_result"
    }
   ],
   "source": [
    "df_i['Имя активности'][df_i['Имя активности']=='Прослушал Главное меню'].count()"
   ],
   "metadata": {
    "collapsed": false,
    "pycharm": {
     "name": "#%%\n"
    }
   }
  },
  {
   "cell_type": "code",
   "execution_count": 509,
   "outputs": [
    {
     "data": {
      "text/plain": "         Время активности                             Имя активности  \\\n0 2019-12-23 13:00:02.295                     Прослушал Главное меню   \n1 2019-12-23 13:00:05.713                     Прослушал Главное меню   \n2 2019-12-23 13:00:15.394                     Прослушал Главное меню   \n3 2019-12-23 13:00:16.180                     Прослушал Главное меню   \n4 2019-12-23 13:00:21.449  Кнопка 1 - Распределился на группу продаж   \n\n   Длительность  ID вызова  \n0            37  788547601  \n1            46  788547602  \n2            10  788547607  \n3            26  788547607  \n4            36  788547592  ",
      "text/html": "<div>\n<style scoped>\n    .dataframe tbody tr th:only-of-type {\n        vertical-align: middle;\n    }\n\n    .dataframe tbody tr th {\n        vertical-align: top;\n    }\n\n    .dataframe thead th {\n        text-align: right;\n    }\n</style>\n<table border=\"1\" class=\"dataframe\">\n  <thead>\n    <tr style=\"text-align: right;\">\n      <th></th>\n      <th>Время активности</th>\n      <th>Имя активности</th>\n      <th>Длительность</th>\n      <th>ID вызова</th>\n    </tr>\n  </thead>\n  <tbody>\n    <tr>\n      <th>0</th>\n      <td>2019-12-23 13:00:02.295</td>\n      <td>Прослушал Главное меню</td>\n      <td>37</td>\n      <td>788547601</td>\n    </tr>\n    <tr>\n      <th>1</th>\n      <td>2019-12-23 13:00:05.713</td>\n      <td>Прослушал Главное меню</td>\n      <td>46</td>\n      <td>788547602</td>\n    </tr>\n    <tr>\n      <th>2</th>\n      <td>2019-12-23 13:00:15.394</td>\n      <td>Прослушал Главное меню</td>\n      <td>10</td>\n      <td>788547607</td>\n    </tr>\n    <tr>\n      <th>3</th>\n      <td>2019-12-23 13:00:16.180</td>\n      <td>Прослушал Главное меню</td>\n      <td>26</td>\n      <td>788547607</td>\n    </tr>\n    <tr>\n      <th>4</th>\n      <td>2019-12-23 13:00:21.449</td>\n      <td>Кнопка 1 - Распределился на группу продаж</td>\n      <td>36</td>\n      <td>788547592</td>\n    </tr>\n  </tbody>\n</table>\n</div>"
     },
     "execution_count": 509,
     "metadata": {},
     "output_type": "execute_result"
    }
   ],
   "source": [
    "df_i.head(5)"
   ],
   "metadata": {
    "collapsed": false,
    "pycharm": {
     "name": "#%%\n"
    }
   }
  },
  {
   "cell_type": "code",
   "execution_count": 510,
   "outputs": [],
   "source": [
    "# df_i.agg(x=('Имя активности',max)).agg(x=('ID вызова','count'))"
   ],
   "metadata": {
    "collapsed": false,
    "pycharm": {
     "name": "#%%\n"
    }
   }
  },
  {
   "cell_type": "code",
   "execution_count": 511,
   "outputs": [
    {
     "data": {
      "text/plain": "           Время активности          Имя активности  Длительность  ID вызова\n0   2019-12-23 13:00:02.295  Прослушал Главное меню            37  788547601\n1   2019-12-23 13:00:05.713  Прослушал Главное меню            46  788547602\n2   2019-12-23 13:00:15.394  Прослушал Главное меню            10  788547607\n3   2019-12-23 13:00:16.180  Прослушал Главное меню            26  788547607\n6   2019-12-23 13:00:24.508  Прослушал Главное меню            36  788547612\n..                      ...                     ...           ...        ...\n727 2019-12-23 13:58:53.290  Прослушал Главное меню            37  788549366\n728 2019-12-23 13:59:03.615  Прослушал Главное меню            28  788549371\n729 2019-12-23 13:59:11.499  Прослушал Главное меню            37  788549375\n733 2019-12-23 13:59:46.256  Прослушал Главное меню            30  788549393\n735 2019-12-23 13:59:53.654  Прослушал Главное меню            43  788549396\n\n[341 rows x 4 columns]",
      "text/html": "<div>\n<style scoped>\n    .dataframe tbody tr th:only-of-type {\n        vertical-align: middle;\n    }\n\n    .dataframe tbody tr th {\n        vertical-align: top;\n    }\n\n    .dataframe thead th {\n        text-align: right;\n    }\n</style>\n<table border=\"1\" class=\"dataframe\">\n  <thead>\n    <tr style=\"text-align: right;\">\n      <th></th>\n      <th>Время активности</th>\n      <th>Имя активности</th>\n      <th>Длительность</th>\n      <th>ID вызова</th>\n    </tr>\n  </thead>\n  <tbody>\n    <tr>\n      <th>0</th>\n      <td>2019-12-23 13:00:02.295</td>\n      <td>Прослушал Главное меню</td>\n      <td>37</td>\n      <td>788547601</td>\n    </tr>\n    <tr>\n      <th>1</th>\n      <td>2019-12-23 13:00:05.713</td>\n      <td>Прослушал Главное меню</td>\n      <td>46</td>\n      <td>788547602</td>\n    </tr>\n    <tr>\n      <th>2</th>\n      <td>2019-12-23 13:00:15.394</td>\n      <td>Прослушал Главное меню</td>\n      <td>10</td>\n      <td>788547607</td>\n    </tr>\n    <tr>\n      <th>3</th>\n      <td>2019-12-23 13:00:16.180</td>\n      <td>Прослушал Главное меню</td>\n      <td>26</td>\n      <td>788547607</td>\n    </tr>\n    <tr>\n      <th>6</th>\n      <td>2019-12-23 13:00:24.508</td>\n      <td>Прослушал Главное меню</td>\n      <td>36</td>\n      <td>788547612</td>\n    </tr>\n    <tr>\n      <th>...</th>\n      <td>...</td>\n      <td>...</td>\n      <td>...</td>\n      <td>...</td>\n    </tr>\n    <tr>\n      <th>727</th>\n      <td>2019-12-23 13:58:53.290</td>\n      <td>Прослушал Главное меню</td>\n      <td>37</td>\n      <td>788549366</td>\n    </tr>\n    <tr>\n      <th>728</th>\n      <td>2019-12-23 13:59:03.615</td>\n      <td>Прослушал Главное меню</td>\n      <td>28</td>\n      <td>788549371</td>\n    </tr>\n    <tr>\n      <th>729</th>\n      <td>2019-12-23 13:59:11.499</td>\n      <td>Прослушал Главное меню</td>\n      <td>37</td>\n      <td>788549375</td>\n    </tr>\n    <tr>\n      <th>733</th>\n      <td>2019-12-23 13:59:46.256</td>\n      <td>Прослушал Главное меню</td>\n      <td>30</td>\n      <td>788549393</td>\n    </tr>\n    <tr>\n      <th>735</th>\n      <td>2019-12-23 13:59:53.654</td>\n      <td>Прослушал Главное меню</td>\n      <td>43</td>\n      <td>788549396</td>\n    </tr>\n  </tbody>\n</table>\n<p>341 rows × 4 columns</p>\n</div>"
     },
     "execution_count": 511,
     "metadata": {},
     "output_type": "execute_result"
    }
   ],
   "source": [
    "df_i[df_i['Имя активности']=='Прослушал Главное меню']"
   ],
   "metadata": {
    "collapsed": false,
    "pycharm": {
     "name": "#%%\n"
    }
   }
  },
  {
   "cell_type": "code",
   "execution_count": 511,
   "outputs": [],
   "source": [],
   "metadata": {
    "collapsed": false,
    "pycharm": {
     "name": "#%%\n"
    }
   }
  },
  {
   "cell_type": "code",
   "execution_count": 512,
   "outputs": [],
   "source": [
    "# df_i.groupby('Имя активности').agg({'Количество вызовов': 'count'})"
   ],
   "metadata": {
    "collapsed": false,
    "pycharm": {
     "name": "#%%\n"
    }
   }
  },
  {
   "cell_type": "code",
   "execution_count": 513,
   "outputs": [
    {
     "data": {
      "text/plain": "                                                     Длительность\nИмя активности                            ID вызова              \nКнопка 1 - Распределился на группу продаж 788547585             1\n                                          788547588             1\n                                          788547592             1\n                                          788547601             1\n                                          788547602             1\n...                                                           ...\nПрослушал Главное меню                    788549366             1\n                                          788549371             1\n                                          788549375             1\n                                          788549393             1\n                                          788549396             1\n\n[667 rows x 1 columns]",
      "text/html": "<div>\n<style scoped>\n    .dataframe tbody tr th:only-of-type {\n        vertical-align: middle;\n    }\n\n    .dataframe tbody tr th {\n        vertical-align: top;\n    }\n\n    .dataframe thead th {\n        text-align: right;\n    }\n</style>\n<table border=\"1\" class=\"dataframe\">\n  <thead>\n    <tr style=\"text-align: right;\">\n      <th></th>\n      <th></th>\n      <th>Длительность</th>\n    </tr>\n    <tr>\n      <th>Имя активности</th>\n      <th>ID вызова</th>\n      <th></th>\n    </tr>\n  </thead>\n  <tbody>\n    <tr>\n      <th rowspan=\"5\" valign=\"top\">Кнопка 1 - Распределился на группу продаж</th>\n      <th>788547585</th>\n      <td>1</td>\n    </tr>\n    <tr>\n      <th>788547588</th>\n      <td>1</td>\n    </tr>\n    <tr>\n      <th>788547592</th>\n      <td>1</td>\n    </tr>\n    <tr>\n      <th>788547601</th>\n      <td>1</td>\n    </tr>\n    <tr>\n      <th>788547602</th>\n      <td>1</td>\n    </tr>\n    <tr>\n      <th>...</th>\n      <th>...</th>\n      <td>...</td>\n    </tr>\n    <tr>\n      <th rowspan=\"5\" valign=\"top\">Прослушал Главное меню</th>\n      <th>788549366</th>\n      <td>1</td>\n    </tr>\n    <tr>\n      <th>788549371</th>\n      <td>1</td>\n    </tr>\n    <tr>\n      <th>788549375</th>\n      <td>1</td>\n    </tr>\n    <tr>\n      <th>788549393</th>\n      <td>1</td>\n    </tr>\n    <tr>\n      <th>788549396</th>\n      <td>1</td>\n    </tr>\n  </tbody>\n</table>\n<p>667 rows × 1 columns</p>\n</div>"
     },
     "execution_count": 513,
     "metadata": {},
     "output_type": "execute_result"
    }
   ],
   "source": [
    "df_i.groupby(['Имя активности', 'ID вызова'])\\\n",
    "    .agg({'Длительность': 'count'})"
   ],
   "metadata": {
    "collapsed": false,
    "pycharm": {
     "name": "#%%\n"
    }
   }
  },
  {
   "cell_type": "code",
   "execution_count": 514,
   "outputs": [
    {
     "data": {
      "text/plain": "           Время активности                                   Имя активности  \\\n0   2019-12-23 13:00:02.295                           Прослушал Главное меню   \n1   2019-12-23 13:00:05.713                           Прослушал Главное меню   \n2   2019-12-23 13:00:15.394                           Прослушал Главное меню   \n3   2019-12-23 13:00:16.180                           Прослушал Главное меню   \n4   2019-12-23 13:00:21.449        Кнопка 1 - Распределился на группу продаж   \n..                      ...                                              ...   \n731 2019-12-23 13:59:32.105        Кнопка 1 - Распределился на группу продаж   \n732 2019-12-23 13:59:39.060  Кнопка 2 - Распределился на оператора Поддержки   \n733 2019-12-23 13:59:46.256                           Прослушал Главное меню   \n734 2019-12-23 13:59:48.399        Кнопка 1 - Распределился на группу продаж   \n735 2019-12-23 13:59:53.654                           Прослушал Главное меню   \n\n     Длительность  ID вызова  Количество вызовов  \n0              37  788547601                   0  \n1              46  788547602                   0  \n2              10  788547607                   0  \n3              26  788547607                   0  \n4              36  788547592                   0  \n..            ...        ...                 ...  \n731            28  788549371                   0  \n732           155  788549311                   0  \n733            30  788549393                   0  \n734            37  788549375                   0  \n735            43  788549396                   0  \n\n[736 rows x 5 columns]",
      "text/html": "<div>\n<style scoped>\n    .dataframe tbody tr th:only-of-type {\n        vertical-align: middle;\n    }\n\n    .dataframe tbody tr th {\n        vertical-align: top;\n    }\n\n    .dataframe thead th {\n        text-align: right;\n    }\n</style>\n<table border=\"1\" class=\"dataframe\">\n  <thead>\n    <tr style=\"text-align: right;\">\n      <th></th>\n      <th>Время активности</th>\n      <th>Имя активности</th>\n      <th>Длительность</th>\n      <th>ID вызова</th>\n      <th>Количество вызовов</th>\n    </tr>\n  </thead>\n  <tbody>\n    <tr>\n      <th>0</th>\n      <td>2019-12-23 13:00:02.295</td>\n      <td>Прослушал Главное меню</td>\n      <td>37</td>\n      <td>788547601</td>\n      <td>0</td>\n    </tr>\n    <tr>\n      <th>1</th>\n      <td>2019-12-23 13:00:05.713</td>\n      <td>Прослушал Главное меню</td>\n      <td>46</td>\n      <td>788547602</td>\n      <td>0</td>\n    </tr>\n    <tr>\n      <th>2</th>\n      <td>2019-12-23 13:00:15.394</td>\n      <td>Прослушал Главное меню</td>\n      <td>10</td>\n      <td>788547607</td>\n      <td>0</td>\n    </tr>\n    <tr>\n      <th>3</th>\n      <td>2019-12-23 13:00:16.180</td>\n      <td>Прослушал Главное меню</td>\n      <td>26</td>\n      <td>788547607</td>\n      <td>0</td>\n    </tr>\n    <tr>\n      <th>4</th>\n      <td>2019-12-23 13:00:21.449</td>\n      <td>Кнопка 1 - Распределился на группу продаж</td>\n      <td>36</td>\n      <td>788547592</td>\n      <td>0</td>\n    </tr>\n    <tr>\n      <th>...</th>\n      <td>...</td>\n      <td>...</td>\n      <td>...</td>\n      <td>...</td>\n      <td>...</td>\n    </tr>\n    <tr>\n      <th>731</th>\n      <td>2019-12-23 13:59:32.105</td>\n      <td>Кнопка 1 - Распределился на группу продаж</td>\n      <td>28</td>\n      <td>788549371</td>\n      <td>0</td>\n    </tr>\n    <tr>\n      <th>732</th>\n      <td>2019-12-23 13:59:39.060</td>\n      <td>Кнопка 2 - Распределился на оператора Поддержки</td>\n      <td>155</td>\n      <td>788549311</td>\n      <td>0</td>\n    </tr>\n    <tr>\n      <th>733</th>\n      <td>2019-12-23 13:59:46.256</td>\n      <td>Прослушал Главное меню</td>\n      <td>30</td>\n      <td>788549393</td>\n      <td>0</td>\n    </tr>\n    <tr>\n      <th>734</th>\n      <td>2019-12-23 13:59:48.399</td>\n      <td>Кнопка 1 - Распределился на группу продаж</td>\n      <td>37</td>\n      <td>788549375</td>\n      <td>0</td>\n    </tr>\n    <tr>\n      <th>735</th>\n      <td>2019-12-23 13:59:53.654</td>\n      <td>Прослушал Главное меню</td>\n      <td>43</td>\n      <td>788549396</td>\n      <td>0</td>\n    </tr>\n  </tbody>\n</table>\n<p>736 rows × 5 columns</p>\n</div>"
     },
     "execution_count": 514,
     "metadata": {},
     "output_type": "execute_result"
    }
   ],
   "source": [
    "import numpy as np\n",
    "df_i['Количество вызовов']=0\n",
    "df_i"
   ],
   "metadata": {
    "collapsed": false,
    "pycharm": {
     "name": "#%%\n"
    }
   }
  },
  {
   "cell_type": "code",
   "execution_count": 515,
   "outputs": [
    {
     "data": {
      "text/plain": "                                                    Количество вызовов\nИмя активности                                                        \nКнопка 1 - Распределился на группу продаж                          236\nКнопка 2 - Повтор Главного Меню                                      1\nКнопка 2 - Прослушал Главное Меню                                   18\nКнопка 2 - Прослушал автоинформатор                                 10\nКнопка 2 - Распределился на оператора Поддержки                      7\nКнопка 3 - Прослушал Главное Меню                                   41\nКнопка 3 - Распределился на оператора Группы Ип...                  35\nКнопка 3 - Распределился на оператора Группы Кр...                   2\nКнопка 4 - Голосовой помощник                                       23\nПовтор Главного меню                                                22\nПрослушал Главное меню                                             341",
      "text/html": "<div>\n<style scoped>\n    .dataframe tbody tr th:only-of-type {\n        vertical-align: middle;\n    }\n\n    .dataframe tbody tr th {\n        vertical-align: top;\n    }\n\n    .dataframe thead th {\n        text-align: right;\n    }\n</style>\n<table border=\"1\" class=\"dataframe\">\n  <thead>\n    <tr style=\"text-align: right;\">\n      <th></th>\n      <th>Количество вызовов</th>\n    </tr>\n    <tr>\n      <th>Имя активности</th>\n      <th></th>\n    </tr>\n  </thead>\n  <tbody>\n    <tr>\n      <th>Кнопка 1 - Распределился на группу продаж</th>\n      <td>236</td>\n    </tr>\n    <tr>\n      <th>Кнопка 2 - Повтор Главного Меню</th>\n      <td>1</td>\n    </tr>\n    <tr>\n      <th>Кнопка 2 - Прослушал Главное Меню</th>\n      <td>18</td>\n    </tr>\n    <tr>\n      <th>Кнопка 2 - Прослушал автоинформатор</th>\n      <td>10</td>\n    </tr>\n    <tr>\n      <th>Кнопка 2 - Распределился на оператора Поддержки</th>\n      <td>7</td>\n    </tr>\n    <tr>\n      <th>Кнопка 3 - Прослушал Главное Меню</th>\n      <td>41</td>\n    </tr>\n    <tr>\n      <th>Кнопка 3 - Распределился на оператора Группы Ипотеки</th>\n      <td>35</td>\n    </tr>\n    <tr>\n      <th>Кнопка 3 - Распределился на оператора Группы Кредитов</th>\n      <td>2</td>\n    </tr>\n    <tr>\n      <th>Кнопка 4 - Голосовой помощник</th>\n      <td>23</td>\n    </tr>\n    <tr>\n      <th>Повтор Главного меню</th>\n      <td>22</td>\n    </tr>\n    <tr>\n      <th>Прослушал Главное меню</th>\n      <td>341</td>\n    </tr>\n  </tbody>\n</table>\n</div>"
     },
     "execution_count": 515,
     "metadata": {},
     "output_type": "execute_result"
    }
   ],
   "source": [
    "df_i.groupby(['Имя активности']).agg({'Количество вызовов': 'count'})"
   ],
   "metadata": {
    "collapsed": false,
    "pycharm": {
     "name": "#%%\n"
    }
   }
  },
  {
   "cell_type": "code",
   "execution_count": 516,
   "outputs": [
    {
     "data": {
      "text/plain": "                                                    Количество вызовов\nИмя активности                                                        \nКнопка 1 - Распределился на группу продаж                          236\nКнопка 2 - Повтор Главного Меню                                      1\nКнопка 2 - Прослушал Главное Меню                                   18\nКнопка 2 - Прослушал автоинформатор                                 10\nКнопка 2 - Распределился на оператора Поддержки                      7\nКнопка 3 - Прослушал Главное Меню                                   41\nКнопка 3 - Распределился на оператора Группы Ип...                  35\nКнопка 3 - Распределился на оператора Группы Кр...                   2\nКнопка 4 - Голосовой помощник                                       23\nПовтор Главного меню                                                22\nПрослушал Главное меню                                             341",
      "text/html": "<div>\n<style scoped>\n    .dataframe tbody tr th:only-of-type {\n        vertical-align: middle;\n    }\n\n    .dataframe tbody tr th {\n        vertical-align: top;\n    }\n\n    .dataframe thead th {\n        text-align: right;\n    }\n</style>\n<table border=\"1\" class=\"dataframe\">\n  <thead>\n    <tr style=\"text-align: right;\">\n      <th></th>\n      <th>Количество вызовов</th>\n    </tr>\n    <tr>\n      <th>Имя активности</th>\n      <th></th>\n    </tr>\n  </thead>\n  <tbody>\n    <tr>\n      <th>Кнопка 1 - Распределился на группу продаж</th>\n      <td>236</td>\n    </tr>\n    <tr>\n      <th>Кнопка 2 - Повтор Главного Меню</th>\n      <td>1</td>\n    </tr>\n    <tr>\n      <th>Кнопка 2 - Прослушал Главное Меню</th>\n      <td>18</td>\n    </tr>\n    <tr>\n      <th>Кнопка 2 - Прослушал автоинформатор</th>\n      <td>10</td>\n    </tr>\n    <tr>\n      <th>Кнопка 2 - Распределился на оператора Поддержки</th>\n      <td>7</td>\n    </tr>\n    <tr>\n      <th>Кнопка 3 - Прослушал Главное Меню</th>\n      <td>41</td>\n    </tr>\n    <tr>\n      <th>Кнопка 3 - Распределился на оператора Группы Ипотеки</th>\n      <td>35</td>\n    </tr>\n    <tr>\n      <th>Кнопка 3 - Распределился на оператора Группы Кредитов</th>\n      <td>2</td>\n    </tr>\n    <tr>\n      <th>Кнопка 4 - Голосовой помощник</th>\n      <td>23</td>\n    </tr>\n    <tr>\n      <th>Повтор Главного меню</th>\n      <td>22</td>\n    </tr>\n    <tr>\n      <th>Прослушал Главное меню</th>\n      <td>341</td>\n    </tr>\n  </tbody>\n</table>\n</div>"
     },
     "execution_count": 516,
     "metadata": {},
     "output_type": "execute_result"
    }
   ],
   "source": [
    "import numpy as np\n",
    "df_i['Количество вызовов']=0\n",
    "agg_df=df_i.groupby(['Имя активности']).agg({'Количество вызовов': 'count'})\n",
    "agg_df"
   ],
   "metadata": {
    "collapsed": false,
    "pycharm": {
     "name": "#%%\n"
    }
   }
  },
  {
   "cell_type": "code",
   "execution_count": 517,
   "outputs": [
    {
     "data": {
      "text/plain": "                                                    Количество вызовов\nИмя активности                                                        \nКнопка 1 - Распределился на группу продаж                          236\nКнопка 2 - Повтор Главного Меню                                      1\nКнопка 2 - Прослушал Главное Меню                                   18\nКнопка 2 - Прослушал автоинформатор                                 10\nКнопка 2 - Распределился на оператора Поддержки                      7\nКнопка 3 - Прослушал Главное Меню                                   41\nКнопка 3 - Распределился на оператора Группы Ип...                  35\nКнопка 3 - Распределился на оператора Группы Кр...                   2\nКнопка 4 - Голосовой помощник                                       23\nПовтор Главного меню                                                22\nПрослушал Главное меню                                             341",
      "text/html": "<div>\n<style scoped>\n    .dataframe tbody tr th:only-of-type {\n        vertical-align: middle;\n    }\n\n    .dataframe tbody tr th {\n        vertical-align: top;\n    }\n\n    .dataframe thead th {\n        text-align: right;\n    }\n</style>\n<table border=\"1\" class=\"dataframe\">\n  <thead>\n    <tr style=\"text-align: right;\">\n      <th></th>\n      <th>Количество вызовов</th>\n    </tr>\n    <tr>\n      <th>Имя активности</th>\n      <th></th>\n    </tr>\n  </thead>\n  <tbody>\n    <tr>\n      <th>Кнопка 1 - Распределился на группу продаж</th>\n      <td>236</td>\n    </tr>\n    <tr>\n      <th>Кнопка 2 - Повтор Главного Меню</th>\n      <td>1</td>\n    </tr>\n    <tr>\n      <th>Кнопка 2 - Прослушал Главное Меню</th>\n      <td>18</td>\n    </tr>\n    <tr>\n      <th>Кнопка 2 - Прослушал автоинформатор</th>\n      <td>10</td>\n    </tr>\n    <tr>\n      <th>Кнопка 2 - Распределился на оператора Поддержки</th>\n      <td>7</td>\n    </tr>\n    <tr>\n      <th>Кнопка 3 - Прослушал Главное Меню</th>\n      <td>41</td>\n    </tr>\n    <tr>\n      <th>Кнопка 3 - Распределился на оператора Группы Ипотеки</th>\n      <td>35</td>\n    </tr>\n    <tr>\n      <th>Кнопка 3 - Распределился на оператора Группы Кредитов</th>\n      <td>2</td>\n    </tr>\n    <tr>\n      <th>Кнопка 4 - Голосовой помощник</th>\n      <td>23</td>\n    </tr>\n    <tr>\n      <th>Повтор Главного меню</th>\n      <td>22</td>\n    </tr>\n    <tr>\n      <th>Прослушал Главное меню</th>\n      <td>341</td>\n    </tr>\n  </tbody>\n</table>\n</div>"
     },
     "execution_count": 517,
     "metadata": {},
     "output_type": "execute_result"
    }
   ],
   "source": [
    "agg_df.groupby(['Имя активности']).agg({'Количество вызовов': 'max'})"
   ],
   "metadata": {
    "collapsed": false,
    "pycharm": {
     "name": "#%%\n"
    }
   }
  },
  {
   "cell_type": "code",
   "execution_count": 518,
   "outputs": [],
   "source": [
    "agg_df=agg_df.T"
   ],
   "metadata": {
    "collapsed": false,
    "pycharm": {
     "name": "#%%\n"
    }
   }
  },
  {
   "cell_type": "code",
   "execution_count": 519,
   "outputs": [
    {
     "data": {
      "text/plain": "Имя активности      Кнопка 1 - Распределился на группу продаж  \\\nКоличество вызовов                                        236   \n\nИмя активности      Кнопка 2 - Повтор Главного Меню  \\\nКоличество вызовов                                1   \n\nИмя активности      Кнопка 2 - Прослушал Главное Меню  \\\nКоличество вызовов                                 18   \n\nИмя активности      Кнопка 2 - Прослушал автоинформатор  \\\nКоличество вызовов                                   10   \n\nИмя активности      Кнопка 2 - Распределился на оператора Поддержки  \\\nКоличество вызовов                                                7   \n\nИмя активности      Кнопка 3 - Прослушал Главное Меню  \\\nКоличество вызовов                                 41   \n\nИмя активности      Кнопка 3 - Распределился на оператора Группы Ипотеки  \\\nКоличество вызовов                                                 35      \n\nИмя активности      Кнопка 3 - Распределился на оператора Группы Кредитов  \\\nКоличество вызовов                                                  2       \n\nИмя активности      Кнопка 4 - Голосовой помощник  Повтор Главного меню  \\\nКоличество вызовов                             23                    22   \n\nИмя активности      Прослушал Главное меню  Кнопка 3 - Потеряно в Меню  \nКоличество вызовов                     341                           4  ",
      "text/html": "<div>\n<style scoped>\n    .dataframe tbody tr th:only-of-type {\n        vertical-align: middle;\n    }\n\n    .dataframe tbody tr th {\n        vertical-align: top;\n    }\n\n    .dataframe thead th {\n        text-align: right;\n    }\n</style>\n<table border=\"1\" class=\"dataframe\">\n  <thead>\n    <tr style=\"text-align: right;\">\n      <th>Имя активности</th>\n      <th>Кнопка 1 - Распределился на группу продаж</th>\n      <th>Кнопка 2 - Повтор Главного Меню</th>\n      <th>Кнопка 2 - Прослушал Главное Меню</th>\n      <th>Кнопка 2 - Прослушал автоинформатор</th>\n      <th>Кнопка 2 - Распределился на оператора Поддержки</th>\n      <th>Кнопка 3 - Прослушал Главное Меню</th>\n      <th>Кнопка 3 - Распределился на оператора Группы Ипотеки</th>\n      <th>Кнопка 3 - Распределился на оператора Группы Кредитов</th>\n      <th>Кнопка 4 - Голосовой помощник</th>\n      <th>Повтор Главного меню</th>\n      <th>Прослушал Главное меню</th>\n      <th>Кнопка 3 - Потеряно в Меню</th>\n    </tr>\n  </thead>\n  <tbody>\n    <tr>\n      <th>Количество вызовов</th>\n      <td>236</td>\n      <td>1</td>\n      <td>18</td>\n      <td>10</td>\n      <td>7</td>\n      <td>41</td>\n      <td>35</td>\n      <td>2</td>\n      <td>23</td>\n      <td>22</td>\n      <td>341</td>\n      <td>4</td>\n    </tr>\n  </tbody>\n</table>\n</div>"
     },
     "execution_count": 519,
     "metadata": {},
     "output_type": "execute_result"
    }
   ],
   "source": [
    "agg_df['Кнопка 3 - Потеряно в Меню']=agg_df['Кнопка 3 - Прослушал Главное Меню']-agg_df['Кнопка 3 - Распределился на оператора Группы Ипотеки']-agg_df['Кнопка 3 - Распределился на оператора Группы Кредитов']\n",
    "# agg_df['Cреднее время обработки вызова (секунды)']=df_i['Длительность'].sum()/len(df_i['ID вызова'].unique())\n",
    "\n",
    "agg_df\n",
    "\n"
   ],
   "metadata": {
    "collapsed": false,
    "pycharm": {
     "name": "#%%\n"
    }
   }
  },
  {
   "cell_type": "code",
   "execution_count": 520,
   "outputs": [
    {
     "data": {
      "text/plain": "                                                    Количество вызовов\nИмя активности                                                        \nКнопка 1 - Распределился на группу продаж                          236\nКнопка 2 - Повтор Главного Меню                                      1\nКнопка 2 - Прослушал Главное Меню                                   18\nКнопка 2 - Прослушал автоинформатор                                 10\nКнопка 2 - Распределился на оператора Поддержки                      7\nКнопка 3 - Прослушал Главное Меню                                   41\nКнопка 3 - Распределился на оператора Группы Ип...                  35\nКнопка 3 - Распределился на оператора Группы Кр...                   2\nКнопка 4 - Голосовой помощник                                       23\nПовтор Главного меню                                                22\nПрослушал Главное меню                                             341\nКнопка 3 - Потеряно в Меню                                           4",
      "text/html": "<div>\n<style scoped>\n    .dataframe tbody tr th:only-of-type {\n        vertical-align: middle;\n    }\n\n    .dataframe tbody tr th {\n        vertical-align: top;\n    }\n\n    .dataframe thead th {\n        text-align: right;\n    }\n</style>\n<table border=\"1\" class=\"dataframe\">\n  <thead>\n    <tr style=\"text-align: right;\">\n      <th></th>\n      <th>Количество вызовов</th>\n    </tr>\n    <tr>\n      <th>Имя активности</th>\n      <th></th>\n    </tr>\n  </thead>\n  <tbody>\n    <tr>\n      <th>Кнопка 1 - Распределился на группу продаж</th>\n      <td>236</td>\n    </tr>\n    <tr>\n      <th>Кнопка 2 - Повтор Главного Меню</th>\n      <td>1</td>\n    </tr>\n    <tr>\n      <th>Кнопка 2 - Прослушал Главное Меню</th>\n      <td>18</td>\n    </tr>\n    <tr>\n      <th>Кнопка 2 - Прослушал автоинформатор</th>\n      <td>10</td>\n    </tr>\n    <tr>\n      <th>Кнопка 2 - Распределился на оператора Поддержки</th>\n      <td>7</td>\n    </tr>\n    <tr>\n      <th>Кнопка 3 - Прослушал Главное Меню</th>\n      <td>41</td>\n    </tr>\n    <tr>\n      <th>Кнопка 3 - Распределился на оператора Группы Ипотеки</th>\n      <td>35</td>\n    </tr>\n    <tr>\n      <th>Кнопка 3 - Распределился на оператора Группы Кредитов</th>\n      <td>2</td>\n    </tr>\n    <tr>\n      <th>Кнопка 4 - Голосовой помощник</th>\n      <td>23</td>\n    </tr>\n    <tr>\n      <th>Повтор Главного меню</th>\n      <td>22</td>\n    </tr>\n    <tr>\n      <th>Прослушал Главное меню</th>\n      <td>341</td>\n    </tr>\n    <tr>\n      <th>Кнопка 3 - Потеряно в Меню</th>\n      <td>4</td>\n    </tr>\n  </tbody>\n</table>\n</div>"
     },
     "execution_count": 520,
     "metadata": {},
     "output_type": "execute_result"
    }
   ],
   "source": [
    "agg_df=agg_df.T\n",
    "agg_df"
   ],
   "metadata": {
    "collapsed": false,
    "pycharm": {
     "name": "#%%\n"
    }
   }
  },
  {
   "cell_type": "code",
   "execution_count": 521,
   "outputs": [
    {
     "data": {
      "text/plain": "341"
     },
     "execution_count": 521,
     "metadata": {},
     "output_type": "execute_result"
    }
   ],
   "source": [
    "agg_df['Количество вызовов'].max()"
   ],
   "metadata": {
    "collapsed": false,
    "pycharm": {
     "name": "#%%\n"
    }
   }
  },
  {
   "cell_type": "code",
   "execution_count": 522,
   "outputs": [
    {
     "data": {
      "text/plain": "                                                    Количество вызовов  \\\nИмя активности                                                           \nКнопка 1 - Распределился на группу продаж                          236   \nКнопка 2 - Повтор Главного Меню                                      1   \nКнопка 2 - Прослушал Главное Меню                                   18   \nКнопка 2 - Прослушал автоинформатор                                 10   \nКнопка 2 - Распределился на оператора Поддержки                      7   \nКнопка 3 - Прослушал Главное Меню                                   41   \nКнопка 3 - Распределился на оператора Группы Ип...                  35   \nКнопка 3 - Распределился на оператора Группы Кр...                   2   \nКнопка 4 - Голосовой помощник                                       23   \nПовтор Главного меню                                                22   \nПрослушал Главное меню                                             341   \nКнопка 3 - Потеряно в Меню                                           4   \n\n                                                       ПРОЦЕНТ  \nИмя активности                                                  \nКнопка 1 - Распределился на группу продаж            69.208211  \nКнопка 2 - Повтор Главного Меню                       0.293255  \nКнопка 2 - Прослушал Главное Меню                     5.278592  \nКнопка 2 - Прослушал автоинформатор                   2.932551  \nКнопка 2 - Распределился на оператора Поддержки       2.052786  \nКнопка 3 - Прослушал Главное Меню                    12.023460  \nКнопка 3 - Распределился на оператора Группы Ип...   10.263930  \nКнопка 3 - Распределился на оператора Группы Кр...    0.586510  \nКнопка 4 - Голосовой помощник                         6.744868  \nПовтор Главного меню                                  6.451613  \nПрослушал Главное меню                              100.000000  \nКнопка 3 - Потеряно в Меню                            1.173021  ",
      "text/html": "<div>\n<style scoped>\n    .dataframe tbody tr th:only-of-type {\n        vertical-align: middle;\n    }\n\n    .dataframe tbody tr th {\n        vertical-align: top;\n    }\n\n    .dataframe thead th {\n        text-align: right;\n    }\n</style>\n<table border=\"1\" class=\"dataframe\">\n  <thead>\n    <tr style=\"text-align: right;\">\n      <th></th>\n      <th>Количество вызовов</th>\n      <th>ПРОЦЕНТ</th>\n    </tr>\n    <tr>\n      <th>Имя активности</th>\n      <th></th>\n      <th></th>\n    </tr>\n  </thead>\n  <tbody>\n    <tr>\n      <th>Кнопка 1 - Распределился на группу продаж</th>\n      <td>236</td>\n      <td>69.208211</td>\n    </tr>\n    <tr>\n      <th>Кнопка 2 - Повтор Главного Меню</th>\n      <td>1</td>\n      <td>0.293255</td>\n    </tr>\n    <tr>\n      <th>Кнопка 2 - Прослушал Главное Меню</th>\n      <td>18</td>\n      <td>5.278592</td>\n    </tr>\n    <tr>\n      <th>Кнопка 2 - Прослушал автоинформатор</th>\n      <td>10</td>\n      <td>2.932551</td>\n    </tr>\n    <tr>\n      <th>Кнопка 2 - Распределился на оператора Поддержки</th>\n      <td>7</td>\n      <td>2.052786</td>\n    </tr>\n    <tr>\n      <th>Кнопка 3 - Прослушал Главное Меню</th>\n      <td>41</td>\n      <td>12.023460</td>\n    </tr>\n    <tr>\n      <th>Кнопка 3 - Распределился на оператора Группы Ипотеки</th>\n      <td>35</td>\n      <td>10.263930</td>\n    </tr>\n    <tr>\n      <th>Кнопка 3 - Распределился на оператора Группы Кредитов</th>\n      <td>2</td>\n      <td>0.586510</td>\n    </tr>\n    <tr>\n      <th>Кнопка 4 - Голосовой помощник</th>\n      <td>23</td>\n      <td>6.744868</td>\n    </tr>\n    <tr>\n      <th>Повтор Главного меню</th>\n      <td>22</td>\n      <td>6.451613</td>\n    </tr>\n    <tr>\n      <th>Прослушал Главное меню</th>\n      <td>341</td>\n      <td>100.000000</td>\n    </tr>\n    <tr>\n      <th>Кнопка 3 - Потеряно в Меню</th>\n      <td>4</td>\n      <td>1.173021</td>\n    </tr>\n  </tbody>\n</table>\n</div>"
     },
     "execution_count": 522,
     "metadata": {},
     "output_type": "execute_result"
    }
   ],
   "source": [
    "# agg_df['ПРОЦЕНТ']=agg_df['Количество вызовов']\n",
    "agg_df=agg_df.astype(int)\n",
    "agg_df['ПРОЦЕНТ']=agg_df['Количество вызовов'].apply(lambda x:100*(x/agg_df['Количество вызовов'].max()))\n",
    "\n",
    "# agg_df['ПРОЦЕНТ']=agg_df['Количество вызовов'].apply(lambda x:str(int(100*(x/agg_df['Количество вызовов'].max())))+'%')\n",
    "agg_df"
   ],
   "metadata": {
    "collapsed": false,
    "pycharm": {
     "name": "#%%\n"
    }
   }
  },
  {
   "cell_type": "code",
   "execution_count": 495,
   "outputs": [
    {
     "data": {
      "text/plain": "                                                    Количество вызовов  \\\nИмя активности                                                           \nКнопка 1 - Распределился на группу продаж                   236.000000   \nКнопка 2 - Повтор Главного Меню                               1.000000   \nКнопка 2 - Прослушал Главное Меню                            18.000000   \nКнопка 2 - Прослушал автоинформатор                          10.000000   \nКнопка 2 - Распределился на оператора Поддержки               7.000000   \nКнопка 3 - Прослушал Главное Меню                            41.000000   \nКнопка 3 - Распределился на оператора Группы Ип...           35.000000   \nКнопка 3 - Распределился на оператора Группы Кр...            2.000000   \nКнопка 4 - Голосовой помощник                                23.000000   \nПовтор Главного меню                                         22.000000   \nПрослушал Главное меню                                      341.000000   \nКнопка 3 - Потеряно в Меню                                    4.000000   \nCреднее время обработки вызова (секунды)                     98.254717   \n\n                                                    ПРОЦЕНТ  \nИмя активности                                               \nКнопка 1 - Распределился на группу продаж              69.0  \nКнопка 2 - Повтор Главного Меню                         0.0  \nКнопка 2 - Прослушал Главное Меню                       5.0  \nКнопка 2 - Прослушал автоинформатор                     2.0  \nКнопка 2 - Распределился на оператора Поддержки         2.0  \nКнопка 3 - Прослушал Главное Меню                      12.0  \nКнопка 3 - Распределился на оператора Группы Ип...     10.0  \nКнопка 3 - Распределился на оператора Группы Кр...      0.0  \nКнопка 4 - Голосовой помощник                           6.0  \nПовтор Главного меню                                    6.0  \nПрослушал Главное меню                                100.0  \nКнопка 3 - Потеряно в Меню                              1.0  \nCреднее время обработки вызова (секунды)                NaN  ",
      "text/html": "<div>\n<style scoped>\n    .dataframe tbody tr th:only-of-type {\n        vertical-align: middle;\n    }\n\n    .dataframe tbody tr th {\n        vertical-align: top;\n    }\n\n    .dataframe thead th {\n        text-align: right;\n    }\n</style>\n<table border=\"1\" class=\"dataframe\">\n  <thead>\n    <tr style=\"text-align: right;\">\n      <th></th>\n      <th>Количество вызовов</th>\n      <th>ПРОЦЕНТ</th>\n    </tr>\n    <tr>\n      <th>Имя активности</th>\n      <th></th>\n      <th></th>\n    </tr>\n  </thead>\n  <tbody>\n    <tr>\n      <th>Кнопка 1 - Распределился на группу продаж</th>\n      <td>236.000000</td>\n      <td>69.0</td>\n    </tr>\n    <tr>\n      <th>Кнопка 2 - Повтор Главного Меню</th>\n      <td>1.000000</td>\n      <td>0.0</td>\n    </tr>\n    <tr>\n      <th>Кнопка 2 - Прослушал Главное Меню</th>\n      <td>18.000000</td>\n      <td>5.0</td>\n    </tr>\n    <tr>\n      <th>Кнопка 2 - Прослушал автоинформатор</th>\n      <td>10.000000</td>\n      <td>2.0</td>\n    </tr>\n    <tr>\n      <th>Кнопка 2 - Распределился на оператора Поддержки</th>\n      <td>7.000000</td>\n      <td>2.0</td>\n    </tr>\n    <tr>\n      <th>Кнопка 3 - Прослушал Главное Меню</th>\n      <td>41.000000</td>\n      <td>12.0</td>\n    </tr>\n    <tr>\n      <th>Кнопка 3 - Распределился на оператора Группы Ипотеки</th>\n      <td>35.000000</td>\n      <td>10.0</td>\n    </tr>\n    <tr>\n      <th>Кнопка 3 - Распределился на оператора Группы Кредитов</th>\n      <td>2.000000</td>\n      <td>0.0</td>\n    </tr>\n    <tr>\n      <th>Кнопка 4 - Голосовой помощник</th>\n      <td>23.000000</td>\n      <td>6.0</td>\n    </tr>\n    <tr>\n      <th>Повтор Главного меню</th>\n      <td>22.000000</td>\n      <td>6.0</td>\n    </tr>\n    <tr>\n      <th>Прослушал Главное меню</th>\n      <td>341.000000</td>\n      <td>100.0</td>\n    </tr>\n    <tr>\n      <th>Кнопка 3 - Потеряно в Меню</th>\n      <td>4.000000</td>\n      <td>1.0</td>\n    </tr>\n    <tr>\n      <th>Cреднее время обработки вызова (секунды)</th>\n      <td>98.254717</td>\n      <td>NaN</td>\n    </tr>\n  </tbody>\n</table>\n</div>"
     },
     "execution_count": 495,
     "metadata": {},
     "output_type": "execute_result"
    }
   ],
   "source": [
    "agg_df.append(\n",
    "    pd.Series((df_i['Длительность'].sum()/len(df_i['ID вызова'].unique()),None),\n",
    "              index=agg_df.columns, name='Cреднее время обработки вызова (секунды)'))\n",
    "# agg_df['Cреднее время обработки вызова (секунды)']=\n",
    "# df_i['Длительность'].sum()/len(df_i['ID вызова'].unique())\n"
   ],
   "metadata": {
    "collapsed": false,
    "pycharm": {
     "name": "#%%\n"
    }
   }
  },
  {
   "cell_type": "code",
   "execution_count": 524,
   "outputs": [
    {
     "data": {
      "text/plain": "                                                    Количество вызовов  \\\nИмя активности                                                           \nКнопка 1 - Распределился на группу продаж                        236.0   \nКнопка 2 - Повтор Главного Меню                                    1.0   \nКнопка 2 - Прослушал Главное Меню                                 18.0   \nКнопка 2 - Прослушал автоинформатор                               10.0   \nКнопка 2 - Распределился на оператора Поддержки                    7.0   \nКнопка 3 - Прослушал Главное Меню                                 41.0   \nКнопка 3 - Распределился на оператора Группы Ип...                35.0   \nКнопка 3 - Распределился на оператора Группы Кр...                 2.0   \nКнопка 4 - Голосовой помощник                                     23.0   \nПовтор Главного меню                                              22.0   \nПрослушал Главное меню                                           341.0   \nКнопка 3 - Потеряно в Меню                                         4.0   \nЖопа                                                               4.0   \n\n                                                       ПРОЦЕНТ  \nИмя активности                                                  \nКнопка 1 - Распределился на группу продаж            69.208211  \nКнопка 2 - Повтор Главного Меню                       0.293255  \nКнопка 2 - Прослушал Главное Меню                     5.278592  \nКнопка 2 - Прослушал автоинформатор                   2.932551  \nКнопка 2 - Распределился на оператора Поддержки       2.052786  \nКнопка 3 - Прослушал Главное Меню                    12.023460  \nКнопка 3 - Распределился на оператора Группы Ип...   10.263930  \nКнопка 3 - Распределился на оператора Группы Кр...    0.586510  \nКнопка 4 - Голосовой помощник                         6.744868  \nПовтор Главного меню                                  6.451613  \nПрослушал Главное меню                              100.000000  \nКнопка 3 - Потеряно в Меню                            1.173021  \nЖопа                                                  1.173021  ",
      "text/html": "<div>\n<style scoped>\n    .dataframe tbody tr th:only-of-type {\n        vertical-align: middle;\n    }\n\n    .dataframe tbody tr th {\n        vertical-align: top;\n    }\n\n    .dataframe thead th {\n        text-align: right;\n    }\n</style>\n<table border=\"1\" class=\"dataframe\">\n  <thead>\n    <tr style=\"text-align: right;\">\n      <th></th>\n      <th>Количество вызовов</th>\n      <th>ПРОЦЕНТ</th>\n    </tr>\n    <tr>\n      <th>Имя активности</th>\n      <th></th>\n      <th></th>\n    </tr>\n  </thead>\n  <tbody>\n    <tr>\n      <th>Кнопка 1 - Распределился на группу продаж</th>\n      <td>236.0</td>\n      <td>69.208211</td>\n    </tr>\n    <tr>\n      <th>Кнопка 2 - Повтор Главного Меню</th>\n      <td>1.0</td>\n      <td>0.293255</td>\n    </tr>\n    <tr>\n      <th>Кнопка 2 - Прослушал Главное Меню</th>\n      <td>18.0</td>\n      <td>5.278592</td>\n    </tr>\n    <tr>\n      <th>Кнопка 2 - Прослушал автоинформатор</th>\n      <td>10.0</td>\n      <td>2.932551</td>\n    </tr>\n    <tr>\n      <th>Кнопка 2 - Распределился на оператора Поддержки</th>\n      <td>7.0</td>\n      <td>2.052786</td>\n    </tr>\n    <tr>\n      <th>Кнопка 3 - Прослушал Главное Меню</th>\n      <td>41.0</td>\n      <td>12.023460</td>\n    </tr>\n    <tr>\n      <th>Кнопка 3 - Распределился на оператора Группы Ипотеки</th>\n      <td>35.0</td>\n      <td>10.263930</td>\n    </tr>\n    <tr>\n      <th>Кнопка 3 - Распределился на оператора Группы Кредитов</th>\n      <td>2.0</td>\n      <td>0.586510</td>\n    </tr>\n    <tr>\n      <th>Кнопка 4 - Голосовой помощник</th>\n      <td>23.0</td>\n      <td>6.744868</td>\n    </tr>\n    <tr>\n      <th>Повтор Главного меню</th>\n      <td>22.0</td>\n      <td>6.451613</td>\n    </tr>\n    <tr>\n      <th>Прослушал Главное меню</th>\n      <td>341.0</td>\n      <td>100.000000</td>\n    </tr>\n    <tr>\n      <th>Кнопка 3 - Потеряно в Меню</th>\n      <td>4.0</td>\n      <td>1.173021</td>\n    </tr>\n    <tr>\n      <th>Жопа</th>\n      <td>4.0</td>\n      <td>1.173021</td>\n    </tr>\n  </tbody>\n</table>\n</div>"
     },
     "execution_count": 524,
     "metadata": {},
     "output_type": "execute_result"
    }
   ],
   "source": [
    "agg_df.loc['Кнопка 3 - Потеряно в Меню']=agg_df.loc['Кнопка 3 - Прослушал Главное Меню']-agg_df.loc['Кнопка 3 - Распределился на оператора Группы Ипотеки']-agg_df.loc['Кнопка 3 - Распределился на оператора Группы Кредитов']\n",
    "agg_df"
   ],
   "metadata": {
    "collapsed": false,
    "pycharm": {
     "name": "#%%\n"
    }
   }
  },
  {
   "cell_type": "code",
   "execution_count": 163,
   "outputs": [
    {
     "data": {
      "text/plain": "                                                                                                                                      Количество вызовов  \\\nПрослушал Главное меню                   Кнопка 1 - Распределился на группу продаж NaN                                                               NaN   \n                                         Кнопка 2 - Прослушал Главное Меню         NaN                                                               NaN   \n                                                                                   Кнопка 2 - Прослушал автоинформатор                               NaN   \n                                                                                   Кнопка 2 - Распределился на оператора Поддержки                   NaN   \n                                                                                   Кнопка 2 - Повтор Главного Меню                                   NaN   \n                                         Кнопка 3 - Прослушал Главное Меню         NaN                                                               NaN   \n                                                                                   Кнопка 3 - Распределился на оператора Группы Ип...                NaN   \n                                                                                   Кнопка 3 - Распределился на оператора Группы Кр...                NaN   \n                                                                                   Кнопка 3 - Потеряно в Меню                                        NaN   \n                                         Кнопка 4 - Голосовой помощник             NaN                                                               NaN   \n                                         Повтор Главного меню                      NaN                                                               NaN   \nCреднее время обработки вызова (секунды)                                                                                                               0   \n\n                                                                                                                                      ПРОЦЕНТ  \nПрослушал Главное меню                   Кнопка 1 - Распределился на группу продаж NaN                                                    NaN  \n                                         Кнопка 2 - Прослушал Главное Меню         NaN                                                    NaN  \n                                                                                   Кнопка 2 - Прослушал автоинформатор                    NaN  \n                                                                                   Кнопка 2 - Распределился на оператора Поддержки        NaN  \n                                                                                   Кнопка 2 - Повтор Главного Меню                        NaN  \n                                         Кнопка 3 - Прослушал Главное Меню         NaN                                                    NaN  \n                                                                                   Кнопка 3 - Распределился на оператора Группы Ип...     NaN  \n                                                                                   Кнопка 3 - Распределился на оператора Группы Кр...     NaN  \n                                                                                   Кнопка 3 - Потеряно в Меню                             NaN  \n                                         Кнопка 4 - Голосовой помощник             NaN                                                    NaN  \n                                         Повтор Главного меню                      NaN                                                    NaN  \nCреднее время обработки вызова (секунды)                                                                                                    5  ",
      "text/html": "<div>\n<style scoped>\n    .dataframe tbody tr th:only-of-type {\n        vertical-align: middle;\n    }\n\n    .dataframe tbody tr th {\n        vertical-align: top;\n    }\n\n    .dataframe thead th {\n        text-align: right;\n    }\n</style>\n<table border=\"1\" class=\"dataframe\">\n  <thead>\n    <tr style=\"text-align: right;\">\n      <th></th>\n      <th></th>\n      <th></th>\n      <th>Количество вызовов</th>\n      <th>ПРОЦЕНТ</th>\n    </tr>\n  </thead>\n  <tbody>\n    <tr>\n      <th rowspan=\"11\" valign=\"top\">Прослушал Главное меню</th>\n      <th>Кнопка 1 - Распределился на группу продаж</th>\n      <th>NaN</th>\n      <td>NaN</td>\n      <td>NaN</td>\n    </tr>\n    <tr>\n      <th rowspan=\"4\" valign=\"top\">Кнопка 2 - Прослушал Главное Меню</th>\n      <th>NaN</th>\n      <td>NaN</td>\n      <td>NaN</td>\n    </tr>\n    <tr>\n      <th>Кнопка 2 - Прослушал автоинформатор</th>\n      <td>NaN</td>\n      <td>NaN</td>\n    </tr>\n    <tr>\n      <th>Кнопка 2 - Распределился на оператора Поддержки</th>\n      <td>NaN</td>\n      <td>NaN</td>\n    </tr>\n    <tr>\n      <th>Кнопка 2 - Повтор Главного Меню</th>\n      <td>NaN</td>\n      <td>NaN</td>\n    </tr>\n    <tr>\n      <th rowspan=\"4\" valign=\"top\">Кнопка 3 - Прослушал Главное Меню</th>\n      <th>NaN</th>\n      <td>NaN</td>\n      <td>NaN</td>\n    </tr>\n    <tr>\n      <th>Кнопка 3 - Распределился на оператора Группы Ипотеки</th>\n      <td>NaN</td>\n      <td>NaN</td>\n    </tr>\n    <tr>\n      <th>Кнопка 3 - Распределился на оператора Группы Кредитов</th>\n      <td>NaN</td>\n      <td>NaN</td>\n    </tr>\n    <tr>\n      <th>Кнопка 3 - Потеряно в Меню</th>\n      <td>NaN</td>\n      <td>NaN</td>\n    </tr>\n    <tr>\n      <th>Кнопка 4 - Голосовой помощник</th>\n      <th>NaN</th>\n      <td>NaN</td>\n      <td>NaN</td>\n    </tr>\n    <tr>\n      <th>Повтор Главного меню</th>\n      <th>NaN</th>\n      <td>NaN</td>\n      <td>NaN</td>\n    </tr>\n    <tr>\n      <th>Cреднее время обработки вызова (секунды)</th>\n      <th></th>\n      <th></th>\n      <td>0</td>\n      <td>5</td>\n    </tr>\n  </tbody>\n</table>\n</div>"
     },
     "execution_count": 163,
     "metadata": {},
     "output_type": "execute_result"
    }
   ],
   "source": [
    "tuples=[('Прослушал Главное меню','Кнопка 1 - Распределился на группу продаж'),\n",
    "       ('Прослушал Главное меню','Кнопка 2 - Прослушал Главное Меню'),\n",
    "        ('Прослушал Главное меню','Кнопка 2 - Прослушал Главное Меню','Кнопка 2 - Прослушал автоинформатор'),\n",
    "        ('Прослушал Главное меню','Кнопка 2 - Прослушал Главное Меню','Кнопка 2 - Распределился на оператора Поддержки'),\n",
    "        ('Прослушал Главное меню','Кнопка 2 - Прослушал Главное Меню','Кнопка 2 - Повтор Главного Меню'),\n",
    "\n",
    "        ('Прослушал Главное меню','Кнопка 3 - Прослушал Главное Меню'),\n",
    "        ('Прослушал Главное меню','Кнопка 3 - Прослушал Главное Меню','Кнопка 3 - Распределился на оператора Группы Ипотеки'),\n",
    "\n",
    "        ('Прослушал Главное меню','Кнопка 3 - Прослушал Главное Меню','Кнопка 3 - Распределился на оператора Группы Кредитов'),\n",
    "        ('Прослушал Главное меню','Кнопка 3 - Прослушал Главное Меню','Кнопка 3 - Потеряно в Меню'),\n",
    "        ('Прослушал Главное меню','Кнопка 4 - Голосовой помощник'),\n",
    "        ('Прослушал Главное меню','Повтор Главного меню')\n",
    "\n",
    "]\n",
    "ind=pd.MultiIndex.from_tuples(tuples)\n",
    "test_df=pd.DataFrame(agg_df,index=ind).T\n",
    "test_df['Cреднее время обработки вызова (секунды)']=[0,5]\n",
    "test_df=test_df.T\n",
    "test_df"
   ],
   "metadata": {
    "collapsed": false,
    "pycharm": {
     "name": "#%%\n"
    }
   }
  },
  {
   "cell_type": "code",
   "execution_count": 164,
   "outputs": [
    {
     "data": {
      "text/plain": "Прослушал Главное меню                    Кнопка 1 - Распределился на группу продаж  NaN                                                      NaN\n                                          Кнопка 2 - Прослушал Главное Меню          NaN                                                      NaN\n                                                                                     Кнопка 2 - Прослушал автоинформатор                      NaN\n                                                                                     Кнопка 2 - Распределился на оператора Поддержки          NaN\n                                                                                     Кнопка 2 - Повтор Главного Меню                          NaN\n                                          Кнопка 3 - Прослушал Главное Меню          NaN                                                      NaN\n                                                                                     Кнопка 3 - Распределился на оператора Группы Ипотеки     NaN\n                                                                                     Кнопка 3 - Распределился на оператора Группы Кредитов    NaN\n                                                                                     Кнопка 3 - Потеряно в Меню                               NaN\n                                          Кнопка 4 - Голосовой помощник              NaN                                                      NaN\n                                          Повтор Главного меню                       NaN                                                      NaN\nCреднее время обработки вызова (секунды)                                                                                                        0\nName: Количество вызовов, dtype: object"
     },
     "execution_count": 164,
     "metadata": {},
     "output_type": "execute_result"
    }
   ],
   "source": [
    "test_df['Количество вызовов']"
   ],
   "metadata": {
    "collapsed": false,
    "pycharm": {
     "name": "#%%\n"
    }
   }
  },
  {
   "cell_type": "code",
   "execution_count": 165,
   "outputs": [
    {
     "data": {
      "text/plain": "                                       Имя активности  Количество вызовов\n0           Кнопка 1 - Распределился на группу продаж                 236\n1                     Кнопка 2 - Повтор Главного Меню                   1\n2                   Кнопка 2 - Прослушал Главное Меню                  18\n3                 Кнопка 2 - Прослушал автоинформатор                  10\n4     Кнопка 2 - Распределился на оператора Поддержки                   7\n5                   Кнопка 3 - Прослушал Главное Меню                  41\n6   Кнопка 3 - Распределился на оператора Группы И...                  35\n7   Кнопка 3 - Распределился на оператора Группы К...                   2\n8                       Кнопка 4 - Голосовой помощник                  23\n9                                Повтор Главного меню                  22\n10                             Прослушал Главное меню                 341",
      "text/html": "<div>\n<style scoped>\n    .dataframe tbody tr th:only-of-type {\n        vertical-align: middle;\n    }\n\n    .dataframe tbody tr th {\n        vertical-align: top;\n    }\n\n    .dataframe thead th {\n        text-align: right;\n    }\n</style>\n<table border=\"1\" class=\"dataframe\">\n  <thead>\n    <tr style=\"text-align: right;\">\n      <th></th>\n      <th>Имя активности</th>\n      <th>Количество вызовов</th>\n    </tr>\n  </thead>\n  <tbody>\n    <tr>\n      <th>0</th>\n      <td>Кнопка 1 - Распределился на группу продаж</td>\n      <td>236</td>\n    </tr>\n    <tr>\n      <th>1</th>\n      <td>Кнопка 2 - Повтор Главного Меню</td>\n      <td>1</td>\n    </tr>\n    <tr>\n      <th>2</th>\n      <td>Кнопка 2 - Прослушал Главное Меню</td>\n      <td>18</td>\n    </tr>\n    <tr>\n      <th>3</th>\n      <td>Кнопка 2 - Прослушал автоинформатор</td>\n      <td>10</td>\n    </tr>\n    <tr>\n      <th>4</th>\n      <td>Кнопка 2 - Распределился на оператора Поддержки</td>\n      <td>7</td>\n    </tr>\n    <tr>\n      <th>5</th>\n      <td>Кнопка 3 - Прослушал Главное Меню</td>\n      <td>41</td>\n    </tr>\n    <tr>\n      <th>6</th>\n      <td>Кнопка 3 - Распределился на оператора Группы И...</td>\n      <td>35</td>\n    </tr>\n    <tr>\n      <th>7</th>\n      <td>Кнопка 3 - Распределился на оператора Группы К...</td>\n      <td>2</td>\n    </tr>\n    <tr>\n      <th>8</th>\n      <td>Кнопка 4 - Голосовой помощник</td>\n      <td>23</td>\n    </tr>\n    <tr>\n      <th>9</th>\n      <td>Повтор Главного меню</td>\n      <td>22</td>\n    </tr>\n    <tr>\n      <th>10</th>\n      <td>Прослушал Главное меню</td>\n      <td>341</td>\n    </tr>\n  </tbody>\n</table>\n</div>"
     },
     "execution_count": 165,
     "metadata": {},
     "output_type": "execute_result"
    }
   ],
   "source": [
    "df_i.groupby('Имя активности').agg({'Количество вызовов': 'count'}).reset_index()"
   ],
   "metadata": {
    "collapsed": false,
    "pycharm": {
     "name": "#%%\n"
    }
   }
  },
  {
   "cell_type": "code",
   "execution_count": 208,
   "outputs": [
    {
     "data": {
      "text/plain": "                                    МЕТРИКА  \\\n                     Прослушал Главное меню   \n                         Unnamed: 0_level_2   \n                         Unnamed: 0_level_3   \n                         Unnamed: 0_level_4   \n0                                       NaN   \n1                                       NaN   \n2                                       NaN   \n3                                       NaN   \n4                                       NaN   \n5                                       NaN   \n6                                       NaN   \n7                                       NaN   \n8  Cреднее время обработки вызова (секунды)   \n\n                                             \\\n                                              \n  Кнопка 1 - Распределился на группу продаж   \n          Кнопка 2 - Прослушал Главное Меню   \n                         Unnamed: 1_level_4   \n0                                       NaN   \n1                                       NaN   \n2         Кнопка 3 - Прослушал Главное Меню   \n3                                       NaN   \n4                                       NaN   \n5                                       NaN   \n6             Кнопка 4 - Голосовой помощник   \n7                      Повтор Главного меню   \n8                                       NaN   \n\n                                                     КОЛИЧЕСТВО ВЫЗОВОВ  \\\n                                                     Unnamed: 3_level_1   \n                                                     Unnamed: 3_level_2   \n                                                     Unnamed: 3_level_3   \n                 Кнопка 2 - Прослушал автоинформатор Unnamed: 3_level_4   \n0    Кнопка 2 - Распределился на оператора Поддержки                NaN   \n1                    Кнопка 2 - Повтор Главного Меню                NaN   \n2                                                NaN                NaN   \n3  Кнопка 3 - Распределился на оператора Группы И...                NaN   \n4  Кнопка 3 - Распределился на оператора Группы К...                NaN   \n5                         Кнопка 3 - Потеряно в Меню                0.0   \n6                                                NaN                NaN   \n7                                                NaN                NaN   \n8                                                NaN                NaN   \n\n  ПРОЦЕНТ  \n      NaN  \n      NaN  \n      NaN  \n      NaN  \n0     NaN  \n1     NaN  \n2     NaN  \n3     NaN  \n4     NaN  \n5     NaN  \n6     NaN  \n7     NaN  \n8     NaN  ",
      "text/html": "<div>\n<style scoped>\n    .dataframe tbody tr th:only-of-type {\n        vertical-align: middle;\n    }\n\n    .dataframe tbody tr th {\n        vertical-align: top;\n    }\n\n    .dataframe thead tr th {\n        text-align: left;\n    }\n</style>\n<table border=\"1\" class=\"dataframe\">\n  <thead>\n    <tr>\n      <th></th>\n      <th colspan=\"3\" halign=\"left\">МЕТРИКА</th>\n      <th>КОЛИЧЕСТВО ВЫЗОВОВ</th>\n      <th>ПРОЦЕНТ</th>\n    </tr>\n    <tr>\n      <th></th>\n      <th colspan=\"3\" halign=\"left\">Прослушал Главное меню</th>\n      <th>Unnamed: 3_level_1</th>\n      <th>NaN</th>\n    </tr>\n    <tr>\n      <th></th>\n      <th>Unnamed: 0_level_2</th>\n      <th colspan=\"2\" halign=\"left\">Кнопка 1 - Распределился на группу продаж</th>\n      <th>Unnamed: 3_level_2</th>\n      <th>NaN</th>\n    </tr>\n    <tr>\n      <th></th>\n      <th>Unnamed: 0_level_3</th>\n      <th colspan=\"2\" halign=\"left\">Кнопка 2 - Прослушал Главное Меню</th>\n      <th>Unnamed: 3_level_3</th>\n      <th>NaN</th>\n    </tr>\n    <tr>\n      <th></th>\n      <th>Unnamed: 0_level_4</th>\n      <th>Unnamed: 1_level_4</th>\n      <th>Кнопка 2 - Прослушал автоинформатор</th>\n      <th>Unnamed: 3_level_4</th>\n      <th>NaN</th>\n    </tr>\n  </thead>\n  <tbody>\n    <tr>\n      <th>0</th>\n      <td>NaN</td>\n      <td>NaN</td>\n      <td>Кнопка 2 - Распределился на оператора Поддержки</td>\n      <td>NaN</td>\n      <td>NaN</td>\n    </tr>\n    <tr>\n      <th>1</th>\n      <td>NaN</td>\n      <td>NaN</td>\n      <td>Кнопка 2 - Повтор Главного Меню</td>\n      <td>NaN</td>\n      <td>NaN</td>\n    </tr>\n    <tr>\n      <th>2</th>\n      <td>NaN</td>\n      <td>Кнопка 3 - Прослушал Главное Меню</td>\n      <td>NaN</td>\n      <td>NaN</td>\n      <td>NaN</td>\n    </tr>\n    <tr>\n      <th>3</th>\n      <td>NaN</td>\n      <td>NaN</td>\n      <td>Кнопка 3 - Распределился на оператора Группы И...</td>\n      <td>NaN</td>\n      <td>NaN</td>\n    </tr>\n    <tr>\n      <th>4</th>\n      <td>NaN</td>\n      <td>NaN</td>\n      <td>Кнопка 3 - Распределился на оператора Группы К...</td>\n      <td>NaN</td>\n      <td>NaN</td>\n    </tr>\n    <tr>\n      <th>5</th>\n      <td>NaN</td>\n      <td>NaN</td>\n      <td>Кнопка 3 - Потеряно в Меню</td>\n      <td>0.0</td>\n      <td>NaN</td>\n    </tr>\n    <tr>\n      <th>6</th>\n      <td>NaN</td>\n      <td>Кнопка 4 - Голосовой помощник</td>\n      <td>NaN</td>\n      <td>NaN</td>\n      <td>NaN</td>\n    </tr>\n    <tr>\n      <th>7</th>\n      <td>NaN</td>\n      <td>Повтор Главного меню</td>\n      <td>NaN</td>\n      <td>NaN</td>\n      <td>NaN</td>\n    </tr>\n    <tr>\n      <th>8</th>\n      <td>Cреднее время обработки вызова (секунды)</td>\n      <td>NaN</td>\n      <td>NaN</td>\n      <td>NaN</td>\n      <td>NaN</td>\n    </tr>\n  </tbody>\n</table>\n</div>"
     },
     "execution_count": 208,
     "metadata": {},
     "output_type": "execute_result"
    }
   ],
   "source": [
    "df_o=pd.read_excel('Task1_OUTPUT.xlsx',header=[0,1,2,3,4],)\n",
    "# df_o=pd.read_excel('Task1_OUTPUT.xlsx',header=None)\n",
    "df_o"
   ],
   "metadata": {
    "collapsed": false,
    "pycharm": {
     "name": "#%%\n"
    }
   }
  },
  {
   "cell_type": "code",
   "execution_count": 167,
   "outputs": [
    {
     "data": {
      "text/plain": "[('МЕТРИКА',\n  'Прослушал Главное меню',\n  'Unnamed: 0_level_2',\n  'Unnamed: 0_level_3',\n  'Unnamed: 0_level_4'),\n ('МЕТРИКА',\n  'Прослушал Главное меню',\n  'Кнопка 1 - Распределился на группу продаж',\n  'Кнопка 2 - Прослушал Главное Меню',\n  'Unnamed: 1_level_4'),\n ('МЕТРИКА',\n  'Прослушал Главное меню',\n  'Кнопка 1 - Распределился на группу продаж',\n  'Кнопка 2 - Прослушал Главное Меню',\n  'Кнопка 2 - Прослушал автоинформатор'),\n ('КОЛИЧЕСТВО ВЫЗОВОВ',\n  'Unnamed: 3_level_1',\n  'Unnamed: 3_level_2',\n  'Unnamed: 3_level_3',\n  'Unnamed: 3_level_4'),\n ('ПРОЦЕНТ', nan, nan, nan, nan)]"
     },
     "execution_count": 167,
     "metadata": {},
     "output_type": "execute_result"
    }
   ],
   "source": [
    "df_o.columns.to_list()"
   ],
   "metadata": {
    "collapsed": false,
    "pycharm": {
     "name": "#%%\n"
    }
   }
  },
  {
   "cell_type": "code",
   "execution_count": 209,
   "outputs": [
    {
     "data": {
      "text/plain": "                 МЕТРИКА                                            \\\n  Прослушал Главное меню                                             \n      Unnamed: 0_level_2 Кнопка 1 - Распределился на группу продаж   \n      Unnamed: 0_level_3         Кнопка 2 - Прослушал Главное Меню   \n      Unnamed: 0_level_4                        Unnamed: 1_level_4   \n0                    NaN                                       NaN   \n1                    NaN                                       NaN   \n2                    NaN                                       NaN   \n3                    NaN                                       NaN   \n4                    NaN                                       NaN   \n5                    NaN                                       NaN   \n6                    NaN                                       NaN   \n7                    NaN                                       NaN   \n8                    NaN                                       NaN   \n\n                                      КОЛИЧЕСТВО ВЫЗОВОВ ПРОЦЕНТ  \n                                      Unnamed: 3_level_1     NaN  \n                                      Unnamed: 3_level_2     NaN  \n                                      Unnamed: 3_level_3     NaN  \n  Кнопка 2 - Прослушал автоинформатор Unnamed: 3_level_4     NaN  \n0                                 NaN                NaN     NaN  \n1                                 NaN                NaN     NaN  \n2                                 NaN                NaN     NaN  \n3                                 NaN                NaN     NaN  \n4                                 NaN                NaN     NaN  \n5                                 NaN                NaN     NaN  \n6                                 NaN                NaN     NaN  \n7                                 NaN                NaN     NaN  \n8                                 NaN                NaN     NaN  ",
      "text/html": "<div>\n<style scoped>\n    .dataframe tbody tr th:only-of-type {\n        vertical-align: middle;\n    }\n\n    .dataframe tbody tr th {\n        vertical-align: top;\n    }\n\n    .dataframe thead tr th {\n        text-align: left;\n    }\n</style>\n<table border=\"1\" class=\"dataframe\">\n  <thead>\n    <tr>\n      <th></th>\n      <th colspan=\"3\" halign=\"left\">МЕТРИКА</th>\n      <th>КОЛИЧЕСТВО ВЫЗОВОВ</th>\n      <th>ПРОЦЕНТ</th>\n    </tr>\n    <tr>\n      <th></th>\n      <th colspan=\"3\" halign=\"left\">Прослушал Главное меню</th>\n      <th>Unnamed: 3_level_1</th>\n      <th>NaN</th>\n    </tr>\n    <tr>\n      <th></th>\n      <th>Unnamed: 0_level_2</th>\n      <th colspan=\"2\" halign=\"left\">Кнопка 1 - Распределился на группу продаж</th>\n      <th>Unnamed: 3_level_2</th>\n      <th>NaN</th>\n    </tr>\n    <tr>\n      <th></th>\n      <th>Unnamed: 0_level_3</th>\n      <th colspan=\"2\" halign=\"left\">Кнопка 2 - Прослушал Главное Меню</th>\n      <th>Unnamed: 3_level_3</th>\n      <th>NaN</th>\n    </tr>\n    <tr>\n      <th></th>\n      <th>Unnamed: 0_level_4</th>\n      <th>Unnamed: 1_level_4</th>\n      <th>Кнопка 2 - Прослушал автоинформатор</th>\n      <th>Unnamed: 3_level_4</th>\n      <th>NaN</th>\n    </tr>\n  </thead>\n  <tbody>\n    <tr>\n      <th>0</th>\n      <td>NaN</td>\n      <td>NaN</td>\n      <td>NaN</td>\n      <td>NaN</td>\n      <td>NaN</td>\n    </tr>\n    <tr>\n      <th>1</th>\n      <td>NaN</td>\n      <td>NaN</td>\n      <td>NaN</td>\n      <td>NaN</td>\n      <td>NaN</td>\n    </tr>\n    <tr>\n      <th>2</th>\n      <td>NaN</td>\n      <td>NaN</td>\n      <td>NaN</td>\n      <td>NaN</td>\n      <td>NaN</td>\n    </tr>\n    <tr>\n      <th>3</th>\n      <td>NaN</td>\n      <td>NaN</td>\n      <td>NaN</td>\n      <td>NaN</td>\n      <td>NaN</td>\n    </tr>\n    <tr>\n      <th>4</th>\n      <td>NaN</td>\n      <td>NaN</td>\n      <td>NaN</td>\n      <td>NaN</td>\n      <td>NaN</td>\n    </tr>\n    <tr>\n      <th>5</th>\n      <td>NaN</td>\n      <td>NaN</td>\n      <td>NaN</td>\n      <td>NaN</td>\n      <td>NaN</td>\n    </tr>\n    <tr>\n      <th>6</th>\n      <td>NaN</td>\n      <td>NaN</td>\n      <td>NaN</td>\n      <td>NaN</td>\n      <td>NaN</td>\n    </tr>\n    <tr>\n      <th>7</th>\n      <td>NaN</td>\n      <td>NaN</td>\n      <td>NaN</td>\n      <td>NaN</td>\n      <td>NaN</td>\n    </tr>\n    <tr>\n      <th>8</th>\n      <td>NaN</td>\n      <td>NaN</td>\n      <td>NaN</td>\n      <td>NaN</td>\n      <td>NaN</td>\n    </tr>\n  </tbody>\n</table>\n</div>"
     },
     "execution_count": 209,
     "metadata": {},
     "output_type": "execute_result"
    }
   ],
   "source": [
    "agg_df.reindex_like(df_o)"
   ],
   "metadata": {
    "collapsed": false,
    "pycharm": {
     "name": "#%%\n"
    }
   }
  },
  {
   "cell_type": "code",
   "execution_count": 102,
   "outputs": [
    {
     "data": {
      "text/plain": "                                  МЕТРИКА  \\\n                   Прослушал Главное меню   \n                       Unnamed: 0_level_2   \n                       Unnamed: 0_level_3   \n                       Unnamed: 0_level_4   \nКоличество вызовов                    NaN   \nПРОЦЕНТ                               NaN   \n\n                                                              \\\n                                                               \n                   Кнопка 1 - Распределился на группу продаж   \n                           Кнопка 2 - Прослушал Главное Меню   \n                                          Unnamed: 1_level_4   \nКоличество вызовов                                       NaN   \nПРОЦЕНТ                                                  NaN   \n\n                                                       КОЛИЧЕСТВО ВЫЗОВОВ  \\\n                                                       Unnamed: 3_level_1   \n                                                       Unnamed: 3_level_2   \n                                                       Unnamed: 3_level_3   \n                   Кнопка 2 - Прослушал автоинформатор Unnamed: 3_level_4   \nКоличество вызовов                                 NaN                NaN   \nПРОЦЕНТ                                            NaN                NaN   \n\n                   ПРОЦЕНТ  \n                       NaN  \n                       NaN  \n                       NaN  \n                       NaN  \nКоличество вызовов     NaN  \nПРОЦЕНТ                NaN  ",
      "text/html": "<div>\n<style scoped>\n    .dataframe tbody tr th:only-of-type {\n        vertical-align: middle;\n    }\n\n    .dataframe tbody tr th {\n        vertical-align: top;\n    }\n\n    .dataframe thead tr th {\n        text-align: left;\n    }\n</style>\n<table border=\"1\" class=\"dataframe\">\n  <thead>\n    <tr>\n      <th></th>\n      <th colspan=\"3\" halign=\"left\">МЕТРИКА</th>\n      <th>КОЛИЧЕСТВО ВЫЗОВОВ</th>\n      <th>ПРОЦЕНТ</th>\n    </tr>\n    <tr>\n      <th></th>\n      <th colspan=\"3\" halign=\"left\">Прослушал Главное меню</th>\n      <th>Unnamed: 3_level_1</th>\n      <th>NaN</th>\n    </tr>\n    <tr>\n      <th></th>\n      <th>Unnamed: 0_level_2</th>\n      <th colspan=\"2\" halign=\"left\">Кнопка 1 - Распределился на группу продаж</th>\n      <th>Unnamed: 3_level_2</th>\n      <th>NaN</th>\n    </tr>\n    <tr>\n      <th></th>\n      <th>Unnamed: 0_level_3</th>\n      <th colspan=\"2\" halign=\"left\">Кнопка 2 - Прослушал Главное Меню</th>\n      <th>Unnamed: 3_level_3</th>\n      <th>NaN</th>\n    </tr>\n    <tr>\n      <th></th>\n      <th>Unnamed: 0_level_4</th>\n      <th>Unnamed: 1_level_4</th>\n      <th>Кнопка 2 - Прослушал автоинформатор</th>\n      <th>Unnamed: 3_level_4</th>\n      <th>NaN</th>\n    </tr>\n  </thead>\n  <tbody>\n    <tr>\n      <th>Количество вызовов</th>\n      <td>NaN</td>\n      <td>NaN</td>\n      <td>NaN</td>\n      <td>NaN</td>\n      <td>NaN</td>\n    </tr>\n    <tr>\n      <th>ПРОЦЕНТ</th>\n      <td>NaN</td>\n      <td>NaN</td>\n      <td>NaN</td>\n      <td>NaN</td>\n      <td>NaN</td>\n    </tr>\n  </tbody>\n</table>\n</div>"
     },
     "execution_count": 102,
     "metadata": {},
     "output_type": "execute_result"
    }
   ],
   "source": [
    "pd.DataFrame(agg_df.T,columns=df_o.columns)\n"
   ],
   "metadata": {
    "collapsed": false,
    "pycharm": {
     "name": "#%%\n"
    }
   }
  }
 ],
 "metadata": {
  "kernelspec": {
   "display_name": "Python 3",
   "language": "python",
   "name": "python3"
  },
  "language_info": {
   "codemirror_mode": {
    "name": "ipython",
    "version": 2
   },
   "file_extension": ".py",
   "mimetype": "text/x-python",
   "name": "python",
   "nbconvert_exporter": "python",
   "pygments_lexer": "ipython2",
   "version": "2.7.6"
  }
 },
 "nbformat": 4,
 "nbformat_minor": 0
}