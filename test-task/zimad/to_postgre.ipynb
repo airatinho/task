{
 "cells": [
  {
   "cell_type": "code",
   "execution_count": 1,
   "outputs": [
    {
     "data": {
      "text/plain": "            event_time   event_name           user_id  event_value\n0  2021-09-29 17:58:14   game_start  9586e17375389649          NaN\n1  2021-09-23 16:02:12  game_finish  201bf35f4bb535fd          NaN\n2  2021-09-25 09:58:37  game_finish  700eeb451fbf5197          NaN\n3  2021-09-15 20:46:00   game_start  df651b8bdd042fd6          NaN\n4  2021-09-09 22:22:06  game_finish  e84c3f343a5a66df          NaN\n5  2021-09-08 15:04:49   game_start  059719ab42b98ee8          NaN\n6  2021-09-22 21:10:35  game_finish  d768e0fb37415e08          NaN\n7  2021-09-20 23:30:23   game_start  c0c9abcdc67fea24          NaN\n8  2021-09-22 13:46:08       launch  2ab5fe2d460ee3ba          NaN\n9  2021-09-19 15:33:55   game_start  3b75ce12ff0ff6ac          NaN",
      "text/html": "<div>\n<style scoped>\n    .dataframe tbody tr th:only-of-type {\n        vertical-align: middle;\n    }\n\n    .dataframe tbody tr th {\n        vertical-align: top;\n    }\n\n    .dataframe thead th {\n        text-align: right;\n    }\n</style>\n<table border=\"1\" class=\"dataframe\">\n  <thead>\n    <tr style=\"text-align: right;\">\n      <th></th>\n      <th>event_time</th>\n      <th>event_name</th>\n      <th>user_id</th>\n      <th>event_value</th>\n    </tr>\n  </thead>\n  <tbody>\n    <tr>\n      <th>0</th>\n      <td>2021-09-29 17:58:14</td>\n      <td>game_start</td>\n      <td>9586e17375389649</td>\n      <td>NaN</td>\n    </tr>\n    <tr>\n      <th>1</th>\n      <td>2021-09-23 16:02:12</td>\n      <td>game_finish</td>\n      <td>201bf35f4bb535fd</td>\n      <td>NaN</td>\n    </tr>\n    <tr>\n      <th>2</th>\n      <td>2021-09-25 09:58:37</td>\n      <td>game_finish</td>\n      <td>700eeb451fbf5197</td>\n      <td>NaN</td>\n    </tr>\n    <tr>\n      <th>3</th>\n      <td>2021-09-15 20:46:00</td>\n      <td>game_start</td>\n      <td>df651b8bdd042fd6</td>\n      <td>NaN</td>\n    </tr>\n    <tr>\n      <th>4</th>\n      <td>2021-09-09 22:22:06</td>\n      <td>game_finish</td>\n      <td>e84c3f343a5a66df</td>\n      <td>NaN</td>\n    </tr>\n    <tr>\n      <th>5</th>\n      <td>2021-09-08 15:04:49</td>\n      <td>game_start</td>\n      <td>059719ab42b98ee8</td>\n      <td>NaN</td>\n    </tr>\n    <tr>\n      <th>6</th>\n      <td>2021-09-22 21:10:35</td>\n      <td>game_finish</td>\n      <td>d768e0fb37415e08</td>\n      <td>NaN</td>\n    </tr>\n    <tr>\n      <th>7</th>\n      <td>2021-09-20 23:30:23</td>\n      <td>game_start</td>\n      <td>c0c9abcdc67fea24</td>\n      <td>NaN</td>\n    </tr>\n    <tr>\n      <th>8</th>\n      <td>2021-09-22 13:46:08</td>\n      <td>launch</td>\n      <td>2ab5fe2d460ee3ba</td>\n      <td>NaN</td>\n    </tr>\n    <tr>\n      <th>9</th>\n      <td>2021-09-19 15:33:55</td>\n      <td>game_start</td>\n      <td>3b75ce12ff0ff6ac</td>\n      <td>NaN</td>\n    </tr>\n  </tbody>\n</table>\n</div>"
     },
     "execution_count": 1,
     "metadata": {},
     "output_type": "execute_result"
    }
   ],
   "source": [
    "import psycopg2\n",
    "import pandas as pd\n",
    "import numpy as np\n",
    "from sqlalchemy import create_engine\n",
    "\n",
    "df=pd.read_csv('event.csv.gz')\n",
    "df.head(10)"
   ],
   "metadata": {
    "collapsed": false,
    "pycharm": {
     "name": "#%%\n"
    }
   }
  },
  {
   "cell_type": "code",
   "execution_count": 2,
   "outputs": [],
   "source": [
    "df.to_csv('test.csv')"
   ],
   "metadata": {
    "collapsed": false,
    "pycharm": {
     "name": "#%%\n"
    }
   }
  }
 ],
 "metadata": {
  "kernelspec": {
   "display_name": "Python 3",
   "language": "python",
   "name": "python3"
  },
  "language_info": {
   "codemirror_mode": {
    "name": "ipython",
    "version": 2
   },
   "file_extension": ".py",
   "mimetype": "text/x-python",
   "name": "python",
   "nbconvert_exporter": "python",
   "pygments_lexer": "ipython2",
   "version": "2.7.6"
  }
 },
 "nbformat": 4,
 "nbformat_minor": 0
}