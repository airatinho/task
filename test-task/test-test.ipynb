{
 "cells": [
  {
   "cell_type": "code",
   "execution_count": 346,
   "metadata": {
    "collapsed": true
   },
   "outputs": [],
   "source": [
    "%reset"
   ]
  },
  {
   "cell_type": "code",
   "execution_count": 347,
   "outputs": [],
   "source": [
    "import pandas as pd\n",
    "import numpy as np"
   ],
   "metadata": {
    "collapsed": false,
    "pycharm": {
     "name": "#%%\n"
    }
   }
  },
  {
   "cell_type": "code",
   "execution_count": 348,
   "outputs": [
    {
     "data": {
      "text/plain": "              country                               region  population  \\\n0        Afghanistan         ASIA (EX. NEAR EAST)             31056997   \n1            Albania   EASTERN EUROPE                          3581655   \n2            Algeria   NORTHERN AFRICA                        32930091   \n3     American Samoa   OCEANIA                                   57794   \n4            Andorra   WESTERN EUROPE                            71201   \n5             Angola   SUB-SAHARAN AFRICA                     12127071   \n6           Anguilla               LATIN AMER. & CARIB           13477   \n7  Antigua & Barbuda               LATIN AMER. & CARIB           69108   \n8          Argentina               LATIN AMER. & CARIB        39921833   \n9            Armenia                  C.W. OF IND. STATES      2976372   \n\n      area coastline net migration      GDP literacy phones_per_1000  \\\n0   647500         0         23,06    700.0       36             3,2   \n1    28748      1,26         -4,93   4500.0     86,5            71,2   \n2  2381740      0,04         -0,39   6000.0       70            78,1   \n3      199     58,29        -20,71   8000.0       97           259,5   \n4      468         0           6,6  19000.0      100           497,2   \n5  1246700      0,13             0   1900.0       42             7,8   \n6      102      59,8         10,76   8600.0       95             460   \n7      443     34,54         -6,15  11000.0       89           549,9   \n8  2766890      0,18          0,61  11200.0     97,1           220,4   \n9    29800         0         -6,47   3500.0     98,6           195,7   \n\n  birthrate deathrate agriculture industry service  \n0      46,6     20,34        0,38     0,24    0,38  \n1     15,11      5,22       0,232    0,188   0,579  \n2     17,14      4,61       0,101      0,6   0,298  \n3     22,46      3,27         NaN      NaN     NaN  \n4      8,71      6,25         NaN      NaN     NaN  \n5     45,11      24,2       0,096    0,658   0,246  \n6     14,17      5,34        0,04     0,18    0,78  \n7     16,93      5,37       0,038     0,22   0,743  \n8     16,73      7,55       0,095    0,358   0,547  \n9     12,07      8,23       0,239    0,343   0,418  ",
      "text/html": "<div>\n<style scoped>\n    .dataframe tbody tr th:only-of-type {\n        vertical-align: middle;\n    }\n\n    .dataframe tbody tr th {\n        vertical-align: top;\n    }\n\n    .dataframe thead th {\n        text-align: right;\n    }\n</style>\n<table border=\"1\" class=\"dataframe\">\n  <thead>\n    <tr style=\"text-align: right;\">\n      <th></th>\n      <th>country</th>\n      <th>region</th>\n      <th>population</th>\n      <th>area</th>\n      <th>coastline</th>\n      <th>net migration</th>\n      <th>GDP</th>\n      <th>literacy</th>\n      <th>phones_per_1000</th>\n      <th>birthrate</th>\n      <th>deathrate</th>\n      <th>agriculture</th>\n      <th>industry</th>\n      <th>service</th>\n    </tr>\n  </thead>\n  <tbody>\n    <tr>\n      <th>0</th>\n      <td>Afghanistan</td>\n      <td>ASIA (EX. NEAR EAST)</td>\n      <td>31056997</td>\n      <td>647500</td>\n      <td>0</td>\n      <td>23,06</td>\n      <td>700.0</td>\n      <td>36</td>\n      <td>3,2</td>\n      <td>46,6</td>\n      <td>20,34</td>\n      <td>0,38</td>\n      <td>0,24</td>\n      <td>0,38</td>\n    </tr>\n    <tr>\n      <th>1</th>\n      <td>Albania</td>\n      <td>EASTERN EUROPE</td>\n      <td>3581655</td>\n      <td>28748</td>\n      <td>1,26</td>\n      <td>-4,93</td>\n      <td>4500.0</td>\n      <td>86,5</td>\n      <td>71,2</td>\n      <td>15,11</td>\n      <td>5,22</td>\n      <td>0,232</td>\n      <td>0,188</td>\n      <td>0,579</td>\n    </tr>\n    <tr>\n      <th>2</th>\n      <td>Algeria</td>\n      <td>NORTHERN AFRICA</td>\n      <td>32930091</td>\n      <td>2381740</td>\n      <td>0,04</td>\n      <td>-0,39</td>\n      <td>6000.0</td>\n      <td>70</td>\n      <td>78,1</td>\n      <td>17,14</td>\n      <td>4,61</td>\n      <td>0,101</td>\n      <td>0,6</td>\n      <td>0,298</td>\n    </tr>\n    <tr>\n      <th>3</th>\n      <td>American Samoa</td>\n      <td>OCEANIA</td>\n      <td>57794</td>\n      <td>199</td>\n      <td>58,29</td>\n      <td>-20,71</td>\n      <td>8000.0</td>\n      <td>97</td>\n      <td>259,5</td>\n      <td>22,46</td>\n      <td>3,27</td>\n      <td>NaN</td>\n      <td>NaN</td>\n      <td>NaN</td>\n    </tr>\n    <tr>\n      <th>4</th>\n      <td>Andorra</td>\n      <td>WESTERN EUROPE</td>\n      <td>71201</td>\n      <td>468</td>\n      <td>0</td>\n      <td>6,6</td>\n      <td>19000.0</td>\n      <td>100</td>\n      <td>497,2</td>\n      <td>8,71</td>\n      <td>6,25</td>\n      <td>NaN</td>\n      <td>NaN</td>\n      <td>NaN</td>\n    </tr>\n    <tr>\n      <th>5</th>\n      <td>Angola</td>\n      <td>SUB-SAHARAN AFRICA</td>\n      <td>12127071</td>\n      <td>1246700</td>\n      <td>0,13</td>\n      <td>0</td>\n      <td>1900.0</td>\n      <td>42</td>\n      <td>7,8</td>\n      <td>45,11</td>\n      <td>24,2</td>\n      <td>0,096</td>\n      <td>0,658</td>\n      <td>0,246</td>\n    </tr>\n    <tr>\n      <th>6</th>\n      <td>Anguilla</td>\n      <td>LATIN AMER. &amp; CARIB</td>\n      <td>13477</td>\n      <td>102</td>\n      <td>59,8</td>\n      <td>10,76</td>\n      <td>8600.0</td>\n      <td>95</td>\n      <td>460</td>\n      <td>14,17</td>\n      <td>5,34</td>\n      <td>0,04</td>\n      <td>0,18</td>\n      <td>0,78</td>\n    </tr>\n    <tr>\n      <th>7</th>\n      <td>Antigua &amp; Barbuda</td>\n      <td>LATIN AMER. &amp; CARIB</td>\n      <td>69108</td>\n      <td>443</td>\n      <td>34,54</td>\n      <td>-6,15</td>\n      <td>11000.0</td>\n      <td>89</td>\n      <td>549,9</td>\n      <td>16,93</td>\n      <td>5,37</td>\n      <td>0,038</td>\n      <td>0,22</td>\n      <td>0,743</td>\n    </tr>\n    <tr>\n      <th>8</th>\n      <td>Argentina</td>\n      <td>LATIN AMER. &amp; CARIB</td>\n      <td>39921833</td>\n      <td>2766890</td>\n      <td>0,18</td>\n      <td>0,61</td>\n      <td>11200.0</td>\n      <td>97,1</td>\n      <td>220,4</td>\n      <td>16,73</td>\n      <td>7,55</td>\n      <td>0,095</td>\n      <td>0,358</td>\n      <td>0,547</td>\n    </tr>\n    <tr>\n      <th>9</th>\n      <td>Armenia</td>\n      <td>C.W. OF IND. STATES</td>\n      <td>2976372</td>\n      <td>29800</td>\n      <td>0</td>\n      <td>-6,47</td>\n      <td>3500.0</td>\n      <td>98,6</td>\n      <td>195,7</td>\n      <td>12,07</td>\n      <td>8,23</td>\n      <td>0,239</td>\n      <td>0,343</td>\n      <td>0,418</td>\n    </tr>\n  </tbody>\n</table>\n</div>"
     },
     "execution_count": 348,
     "metadata": {},
     "output_type": "execute_result"
    }
   ],
   "source": [
    "df=pd.read_csv(\"world_countries.csv\")\n",
    "df.head(10)"
   ],
   "metadata": {
    "collapsed": false,
    "pycharm": {
     "name": "#%%\n"
    }
   }
  },
  {
   "cell_type": "code",
   "execution_count": 349,
   "outputs": [
    {
     "name": "stdout",
     "output_type": "stream",
     "text": [
      "<class 'pandas.core.frame.DataFrame'>\n",
      "RangeIndex: 227 entries, 0 to 226\n",
      "Data columns (total 14 columns):\n",
      " #   Column           Non-Null Count  Dtype  \n",
      "---  ------           --------------  -----  \n",
      " 0   country          227 non-null    object \n",
      " 1   region           227 non-null    object \n",
      " 2   population       227 non-null    int64  \n",
      " 3   area             227 non-null    int64  \n",
      " 4   coastline        227 non-null    object \n",
      " 5   net migration    224 non-null    object \n",
      " 6   GDP              226 non-null    float64\n",
      " 7   literacy         209 non-null    object \n",
      " 8   phones_per_1000  223 non-null    object \n",
      " 9   birthrate        224 non-null    object \n",
      " 10  deathrate        223 non-null    object \n",
      " 11  agriculture      212 non-null    object \n",
      " 12  industry         211 non-null    object \n",
      " 13  service          212 non-null    object \n",
      "dtypes: float64(1), int64(2), object(11)\n",
      "memory usage: 25.0+ KB\n"
     ]
    }
   ],
   "source": [
    "df.info()"
   ],
   "metadata": {
    "collapsed": false,
    "pycharm": {
     "name": "#%%\n"
    }
   }
  },
  {
   "cell_type": "code",
   "execution_count": 350,
   "outputs": [
    {
     "data": {
      "text/plain": "Index(['country', 'region', 'population', 'area', 'coastline', 'net migration',\n       'GDP', 'literacy', 'phones_per_1000', 'birthrate', 'deathrate',\n       'agriculture', 'industry', 'service'],\n      dtype='object')"
     },
     "execution_count": 350,
     "metadata": {},
     "output_type": "execute_result"
    }
   ],
   "source": [
    "df.columns"
   ],
   "metadata": {
    "collapsed": false,
    "pycharm": {
     "name": "#%%\n"
    }
   }
  },
  {
   "cell_type": "code",
   "execution_count": 351,
   "outputs": [
    {
     "data": {
      "text/plain": "   country                         region  population     area coastline  \\\n42  China   ASIA (EX. NEAR EAST)           1313973713  9596960      0,15   \n\n   net migration     GDP literacy phones_per_1000 birthrate deathrate  \\\n42          -0,4  5000.0     90,9           266,7     13,25      6,97   \n\n   agriculture industry service  \n42       0,125    0,473   0,403  ",
      "text/html": "<div>\n<style scoped>\n    .dataframe tbody tr th:only-of-type {\n        vertical-align: middle;\n    }\n\n    .dataframe tbody tr th {\n        vertical-align: top;\n    }\n\n    .dataframe thead th {\n        text-align: right;\n    }\n</style>\n<table border=\"1\" class=\"dataframe\">\n  <thead>\n    <tr style=\"text-align: right;\">\n      <th></th>\n      <th>country</th>\n      <th>region</th>\n      <th>population</th>\n      <th>area</th>\n      <th>coastline</th>\n      <th>net migration</th>\n      <th>GDP</th>\n      <th>literacy</th>\n      <th>phones_per_1000</th>\n      <th>birthrate</th>\n      <th>deathrate</th>\n      <th>agriculture</th>\n      <th>industry</th>\n      <th>service</th>\n    </tr>\n  </thead>\n  <tbody>\n    <tr>\n      <th>42</th>\n      <td>China</td>\n      <td>ASIA (EX. NEAR EAST)</td>\n      <td>1313973713</td>\n      <td>9596960</td>\n      <td>0,15</td>\n      <td>-0,4</td>\n      <td>5000.0</td>\n      <td>90,9</td>\n      <td>266,7</td>\n      <td>13,25</td>\n      <td>6,97</td>\n      <td>0,125</td>\n      <td>0,473</td>\n      <td>0,403</td>\n    </tr>\n  </tbody>\n</table>\n</div>"
     },
     "execution_count": 351,
     "metadata": {},
     "output_type": "execute_result"
    }
   ],
   "source": [
    "df[(df['population']==df['population'].max())]"
   ],
   "metadata": {
    "collapsed": false,
    "pycharm": {
     "name": "#%%\n"
    }
   }
  },
  {
   "cell_type": "code",
   "execution_count": 352,
   "outputs": [
    {
     "data": {
      "text/plain": "                   country                               region  population  \\\n174  St Pierre & Miquelon   NORTHERN AMERICA                           7026   \n\n     area coastline net migration     GDP literacy phones_per_1000 birthrate  \\\n174   242     49,59         -4,86  6900.0       99           683,2     13,52   \n\n    deathrate agriculture industry service  \n174      6,83         NaN      NaN     NaN  ",
      "text/html": "<div>\n<style scoped>\n    .dataframe tbody tr th:only-of-type {\n        vertical-align: middle;\n    }\n\n    .dataframe tbody tr th {\n        vertical-align: top;\n    }\n\n    .dataframe thead th {\n        text-align: right;\n    }\n</style>\n<table border=\"1\" class=\"dataframe\">\n  <thead>\n    <tr style=\"text-align: right;\">\n      <th></th>\n      <th>country</th>\n      <th>region</th>\n      <th>population</th>\n      <th>area</th>\n      <th>coastline</th>\n      <th>net migration</th>\n      <th>GDP</th>\n      <th>literacy</th>\n      <th>phones_per_1000</th>\n      <th>birthrate</th>\n      <th>deathrate</th>\n      <th>agriculture</th>\n      <th>industry</th>\n      <th>service</th>\n    </tr>\n  </thead>\n  <tbody>\n    <tr>\n      <th>174</th>\n      <td>St Pierre &amp; Miquelon</td>\n      <td>NORTHERN AMERICA</td>\n      <td>7026</td>\n      <td>242</td>\n      <td>49,59</td>\n      <td>-4,86</td>\n      <td>6900.0</td>\n      <td>99</td>\n      <td>683,2</td>\n      <td>13,52</td>\n      <td>6,83</td>\n      <td>NaN</td>\n      <td>NaN</td>\n      <td>NaN</td>\n    </tr>\n  </tbody>\n</table>\n</div>"
     },
     "execution_count": 352,
     "metadata": {},
     "output_type": "execute_result"
    }
   ],
   "source": [
    "df[(df['population']==df['population'].min())]"
   ],
   "metadata": {
    "collapsed": false,
    "pycharm": {
     "name": "#%%\n"
    }
   }
  },
  {
   "cell_type": "code",
   "execution_count": 353,
   "outputs": [
    {
     "data": {
      "text/plain": "                   country  population\n42                  China   1313973713\n174  St Pierre & Miquelon         7026",
      "text/html": "<div>\n<style scoped>\n    .dataframe tbody tr th:only-of-type {\n        vertical-align: middle;\n    }\n\n    .dataframe tbody tr th {\n        vertical-align: top;\n    }\n\n    .dataframe thead th {\n        text-align: right;\n    }\n</style>\n<table border=\"1\" class=\"dataframe\">\n  <thead>\n    <tr style=\"text-align: right;\">\n      <th></th>\n      <th>country</th>\n      <th>population</th>\n    </tr>\n  </thead>\n  <tbody>\n    <tr>\n      <th>42</th>\n      <td>China</td>\n      <td>1313973713</td>\n    </tr>\n    <tr>\n      <th>174</th>\n      <td>St Pierre &amp; Miquelon</td>\n      <td>7026</td>\n    </tr>\n  </tbody>\n</table>\n</div>"
     },
     "execution_count": 353,
     "metadata": {},
     "output_type": "execute_result"
    }
   ],
   "source": [
    "\"\"\"1.1) Страны с минимальной и максимальной плотностью и их плотность\"\"\"\n",
    "df[(df['population']==df['population'].max())|(df['population']==df['population'].min())][['country','population']]"
   ],
   "metadata": {
    "collapsed": false,
    "pycharm": {
     "name": "#%%\n"
    }
   }
  },
  {
   "cell_type": "code",
   "execution_count": 354,
   "outputs": [
    {
     "name": "stdout",
     "output_type": "stream",
     "text": [
      "Процент стран без береговой линии = 19.38%\n"
     ]
    }
   ],
   "source": [
    "\"\"\"1.2)Число стран бе береговой линии\"\"\"\n",
    "df['coastline']=df['coastline'].apply(lambda x: float(x.replace(\",\",'.')))\n",
    "\n",
    "prc=100*(len(df[df['coastline']<=0]['country'].unique())/len(df['country'].unique()))\n",
    "print(f'Процент стран без береговой линии = {round(prc,2)}%')"
   ],
   "metadata": {
    "collapsed": false,
    "pycharm": {
     "name": "#%%\n"
    }
   }
  },
  {
   "cell_type": "code",
   "execution_count": 355,
   "outputs": [
    {
     "data": {
      "text/plain": "                                 region  phones_per_1000\n45  SUB-SAHARAN AFRICA                               0.2",
      "text/html": "<div>\n<style scoped>\n    .dataframe tbody tr th:only-of-type {\n        vertical-align: middle;\n    }\n\n    .dataframe tbody tr th {\n        vertical-align: top;\n    }\n\n    .dataframe thead th {\n        text-align: right;\n    }\n</style>\n<table border=\"1\" class=\"dataframe\">\n  <thead>\n    <tr style=\"text-align: right;\">\n      <th></th>\n      <th>region</th>\n      <th>phones_per_1000</th>\n    </tr>\n  </thead>\n  <tbody>\n    <tr>\n      <th>45</th>\n      <td>SUB-SAHARAN AFRICA</td>\n      <td>0.2</td>\n    </tr>\n  </tbody>\n</table>\n</div>"
     },
     "execution_count": 355,
     "metadata": {},
     "output_type": "execute_result"
    }
   ],
   "source": [
    "\"\"\"1.3)Регион, где меньше всего людей владеют телефонами\n",
    " (phones_per_1000 - количество людей, владеющих телефонами, на 1000 человек)\"\"\"\n",
    "#заполняем нанки средним значением\n",
    "mn_phones_per_1000=df['phones_per_1000'].fillna(str(0)).apply(lambda x: float(x.replace(\",\",'.'))).mean()\n",
    "df['phones_per_1000']=df['phones_per_1000'].fillna(str(mn_phones_per_1000)).apply(lambda x: float(x.replace(\",\",'.')))\n",
    "df[df['phones_per_1000']==df['phones_per_1000'].min()][['region','phones_per_1000']]"
   ],
   "metadata": {
    "collapsed": false,
    "pycharm": {
     "name": "#%%\n"
    }
   }
  },
  {
   "cell_type": "code",
   "execution_count": 356,
   "outputs": [
    {
     "data": {
      "text/plain": "        country  population literacy\n74  Gaza Strip      1428757      NaN",
      "text/html": "<div>\n<style scoped>\n    .dataframe tbody tr th:only-of-type {\n        vertical-align: middle;\n    }\n\n    .dataframe tbody tr th {\n        vertical-align: top;\n    }\n\n    .dataframe thead th {\n        text-align: right;\n    }\n</style>\n<table border=\"1\" class=\"dataframe\">\n  <thead>\n    <tr style=\"text-align: right;\">\n      <th></th>\n      <th>country</th>\n      <th>population</th>\n      <th>literacy</th>\n    </tr>\n  </thead>\n  <tbody>\n    <tr>\n      <th>74</th>\n      <td>Gaza Strip</td>\n      <td>1428757</td>\n      <td>NaN</td>\n    </tr>\n  </tbody>\n</table>\n</div>"
     },
     "execution_count": 356,
     "metadata": {},
     "output_type": "execute_result"
    }
   ],
   "source": [
    "\"\"\"1.4)Список стран, у которых отсутствует показатель грамотности (literacy),\n",
    "и при этом численность населения страны (population) более 1млн человек\"\"\"\n",
    "df[(df['literacy'].isna()==True)&(df['population'][df['population']>=10**6])][['country','population','literacy']]"
   ],
   "metadata": {
    "collapsed": false,
    "pycharm": {
     "name": "#%%\n"
    }
   }
  },
  {
   "cell_type": "code",
   "execution_count": 357,
   "outputs": [
    {
     "data": {
      "text/plain": "        country  birthrate  deathrate\n76     Germany        8.25      10.62\n101      Italy        8.72      10.40\n12     Austria        8.74       9.76\n120  Lithuania        8.75      10.98\n85    Guernsey        8.81      10.01",
      "text/html": "<div>\n<style scoped>\n    .dataframe tbody tr th:only-of-type {\n        vertical-align: middle;\n    }\n\n    .dataframe tbody tr th {\n        vertical-align: top;\n    }\n\n    .dataframe thead th {\n        text-align: right;\n    }\n</style>\n<table border=\"1\" class=\"dataframe\">\n  <thead>\n    <tr style=\"text-align: right;\">\n      <th></th>\n      <th>country</th>\n      <th>birthrate</th>\n      <th>deathrate</th>\n    </tr>\n  </thead>\n  <tbody>\n    <tr>\n      <th>76</th>\n      <td>Germany</td>\n      <td>8.25</td>\n      <td>10.62</td>\n    </tr>\n    <tr>\n      <th>101</th>\n      <td>Italy</td>\n      <td>8.72</td>\n      <td>10.40</td>\n    </tr>\n    <tr>\n      <th>12</th>\n      <td>Austria</td>\n      <td>8.74</td>\n      <td>9.76</td>\n    </tr>\n    <tr>\n      <th>120</th>\n      <td>Lithuania</td>\n      <td>8.75</td>\n      <td>10.98</td>\n    </tr>\n    <tr>\n      <th>85</th>\n      <td>Guernsey</td>\n      <td>8.81</td>\n      <td>10.01</td>\n    </tr>\n  </tbody>\n</table>\n</div>"
     },
     "execution_count": 357,
     "metadata": {},
     "output_type": "execute_result"
    }
   ],
   "source": [
    "\"\"\"1.5)Топ 5 стран с самым низким показателем рождаемости (birthrate)\n",
    "по отношению к показателю смертности (deathrate)\"\"\"\n",
    "\n",
    "mn_birthrate=df['birthrate'].fillna(str(0)).apply(lambda x: float(x.replace(\",\",'.'))).mean()\n",
    "df['birthrate']=df['birthrate'].fillna(str(mn_birthrate)).apply(lambda x: float(x.replace(\",\",'.')))\n",
    "\n",
    "mn_deathrate=df['deathrate'].fillna(str(0)).apply(lambda x: float(x.replace(\",\",'.'))).mean()\n",
    "df['deathrate']=df['deathrate'].fillna(str(mn_deathrate)).apply(lambda x: float(x.replace(\",\",'.')))\n",
    "\n",
    "\n",
    "df[df['birthrate']<df['deathrate']][['country','birthrate','deathrate']].sort_values(by = 'birthrate').head(5)"
   ],
   "metadata": {
    "collapsed": false,
    "pycharm": {
     "name": "#%%\n"
    }
   }
  },
  {
   "cell_type": "code",
   "execution_count": 343,
   "outputs": [],
   "source": [
    "\"\"\"1.6)Страны, в которых преобладает сельское хозяйство (agriculture) над промышленностью (industry)\n",
    " и сферой обслуживания (service) и при этом средний показатель миграции (net migration) по региону\n",
    "  положительный\"\"\"\n",
    "mn_net_migration=df['net migration'].fillna(str(0)).apply(lambda x: float(x.replace(\",\",'.'))).mean()\n",
    "df['net migration']=df['net migration'].fillna(str(mn_net_migration)).apply(lambda x: float(x.replace(\",\",'.')))\n",
    "\n",
    "df[['country','agriculture','industry','service','net migration']][(df['agriculture']>df['industry'])&\n",
    "                                                   (df['agriculture']>df['service'])&(df['net migration']>=0)]\n"
   ],
   "metadata": {
    "collapsed": false,
    "pycharm": {
     "name": "#%%\n"
    }
   }
  }
 ],
 "metadata": {
  "kernelspec": {
   "display_name": "Python 3",
   "language": "python",
   "name": "python3"
  },
  "language_info": {
   "codemirror_mode": {
    "name": "ipython",
    "version": 2
   },
   "file_extension": ".py",
   "mimetype": "text/x-python",
   "name": "python",
   "nbconvert_exporter": "python",
   "pygments_lexer": "ipython2",
   "version": "2.7.6"
  }
 },
 "nbformat": 4,
 "nbformat_minor": 0
}