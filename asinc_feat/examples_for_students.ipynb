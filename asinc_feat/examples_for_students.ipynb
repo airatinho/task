{
 "cells": [
  {
   "cell_type": "code",
   "execution_count": 1,
   "metadata": {
    "collapsed": true
   },
   "outputs": [
    {
     "name": "stdout",
     "output_type": "stream",
     "text": [
      "New order Паста\n",
      "Паста is ready\n",
      "New order Салат\n",
      "Салат is ready\n",
      "New order Отбивные\n",
      "Отбивные is ready\n"
     ]
    }
   ],
   "source": [
    "import time\n",
    "\n",
    "def waiter():\n",
    "    cook('Паста',8)\n",
    "    cook('Салат',3)\n",
    "    cook('Отбивные',16)\n",
    "def cook(order,prepare):\n",
    "    print(f\"New order {order}\")\n",
    "    time.sleep(prepare)\n",
    "    print(f\"{order} is ready\")\n",
    "waiter()"
   ]
  },
  {
   "cell_type": "code",
   "execution_count": 2,
   "outputs": [
    {
     "ename": "RuntimeError",
     "evalue": "asyncio.run() cannot be called from a running event loop",
     "output_type": "error",
     "traceback": [
      "\u001B[1;31m---------------------------------------------------------------------------\u001B[0m",
      "\u001B[1;31mRuntimeError\u001B[0m                              Traceback (most recent call last)",
      "\u001B[1;32m~\\AppData\\Local\\Temp/ipykernel_17556/2309466542.py\u001B[0m in \u001B[0;36m<module>\u001B[1;34m\u001B[0m\n\u001B[0;32m     13\u001B[0m     \u001B[0mprint\u001B[0m\u001B[1;33m(\u001B[0m\u001B[0morder\u001B[0m\u001B[1;33m,\u001B[0m \u001B[1;34m'- готово'\u001B[0m\u001B[1;33m)\u001B[0m\u001B[1;33m\u001B[0m\u001B[1;33m\u001B[0m\u001B[0m\n\u001B[0;32m     14\u001B[0m \u001B[1;33m\u001B[0m\u001B[0m\n\u001B[1;32m---> 15\u001B[1;33m \u001B[0masyncio\u001B[0m\u001B[1;33m.\u001B[0m\u001B[0mrun\u001B[0m\u001B[1;33m(\u001B[0m\u001B[0mwaiter\u001B[0m\u001B[1;33m(\u001B[0m\u001B[1;33m)\u001B[0m\u001B[1;33m)\u001B[0m\u001B[1;33m\u001B[0m\u001B[1;33m\u001B[0m\u001B[0m\n\u001B[0m\u001B[0;32m     16\u001B[0m \u001B[1;33m\u001B[0m\u001B[0m\n",
      "\u001B[1;32m~\\AppData\\Local\\Programs\\Python\\Python39\\lib\\asyncio\\runners.py\u001B[0m in \u001B[0;36mrun\u001B[1;34m(main, debug)\u001B[0m\n\u001B[0;32m     31\u001B[0m     \"\"\"\n\u001B[0;32m     32\u001B[0m     \u001B[1;32mif\u001B[0m \u001B[0mevents\u001B[0m\u001B[1;33m.\u001B[0m\u001B[0m_get_running_loop\u001B[0m\u001B[1;33m(\u001B[0m\u001B[1;33m)\u001B[0m \u001B[1;32mis\u001B[0m \u001B[1;32mnot\u001B[0m \u001B[1;32mNone\u001B[0m\u001B[1;33m:\u001B[0m\u001B[1;33m\u001B[0m\u001B[1;33m\u001B[0m\u001B[0m\n\u001B[1;32m---> 33\u001B[1;33m         raise RuntimeError(\n\u001B[0m\u001B[0;32m     34\u001B[0m             \"asyncio.run() cannot be called from a running event loop\")\n\u001B[0;32m     35\u001B[0m \u001B[1;33m\u001B[0m\u001B[0m\n",
      "\u001B[1;31mRuntimeError\u001B[0m: asyncio.run() cannot be called from a running event loop"
     ]
    }
   ],
   "source": [
    "\"\"\"Такой код можно читать следующим образом: «вызвать функцию cook и дождаться (await) ее результата, прежде чем переходить к следующей строке». Но это не процесс с блокировкой потока. Наоборот, он сообщает циклу следующее:\n",
    " «если есть другие запросы, можешь переходить к их выполнению,\n",
    " пока мы ждем, а мы дадим знать, когда текущий запрос завершится».\"\"\"\n",
    "import asyncio\n",
    "\n",
    "import time\n",
    "\n",
    "async def waiter() -> None:\n",
    "    await cook1('Паста', 8)\n",
    "    await cook1('Салат Цезарь', 3)\n",
    "    await cook1('Отбивные', 16)\n",
    "\n",
    "async def cook1(order, time_to_prepare):\n",
    "    print(f'Новый заказ: {order}')\n",
    "    await asyncio.sleep(time_to_prepare)\n",
    "    print(order, '- готово')\n",
    "\n",
    "asyncio.run(waiter())\n"
   ],
   "metadata": {
    "collapsed": false,
    "pycharm": {
     "name": "#%%\n"
    }
   }
  },
  {
   "cell_type": "code",
   "execution_count": null,
   "outputs": [],
   "source": [
    "\"\"\"\n",
    "1.Они используются для планирования последовательного выполнения сопрограмм;\n",
    "2.Задачи могут быть отменены при ожидании завершения их выполнения.\n",
    "\"\"\"\n",
    "import asyncio\n",
    "\n",
    "async def waiter():\n",
    "    task1 = asyncio.create_task(cook('Паста', 8))\n",
    "    task2 = asyncio.create_task(cook('Салат Цезарь', 3))\n",
    "    task3 = asyncio.create_task(cook('Отбивные', 16))\n",
    "\n",
    "    await task1\n",
    "    await task2\n",
    "    await task3\n",
    "\n",
    "async def cook(order, time_to_prepare):\n",
    "    print(f'Новый заказ: {order}')\n",
    "    await asyncio.sleep(time_to_prepare)\n",
    "    print(order, '- готово')\n",
    "\n",
    "asyncio.run(waiter())\n"
   ],
   "metadata": {
    "collapsed": false,
    "pycharm": {
     "name": "#%%\n"
    }
   }
  }
 ],
 "metadata": {
  "kernelspec": {
   "display_name": "Python 3",
   "language": "python",
   "name": "python3"
  },
  "language_info": {
   "codemirror_mode": {
    "name": "ipython",
    "version": 2
   },
   "file_extension": ".py",
   "mimetype": "text/x-python",
   "name": "python",
   "nbconvert_exporter": "python",
   "pygments_lexer": "ipython2",
   "version": "2.7.6"
  }
 },
 "nbformat": 4,
 "nbformat_minor": 0
}