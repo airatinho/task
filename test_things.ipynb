{
 "cells": [
  {
   "cell_type": "code",
   "execution_count": 6,
   "outputs": [],
   "source": [
    "from newsapi import NewsApiClient\n",
    "import newsapi"
   ],
   "metadata": {
    "collapsed": false,
    "pycharm": {
     "name": "#%%\n"
    }
   }
  },
  {
   "cell_type": "code",
   "execution_count": 7,
   "outputs": [],
   "source": [
    "news_cl=NewsApiClient('71d43dbc0df24f4ba0003576f0e88bc1')"
   ],
   "metadata": {
    "collapsed": false,
    "pycharm": {
     "name": "#%%\n"
    }
   }
  },
  {
   "cell_type": "code",
   "execution_count": 64,
   "outputs": [
    {
     "data": {
      "text/plain": "{'status': 'ok',\n 'totalResults': 33,\n 'articles': [{'source': {'id': None, 'name': 'Sportrbc.ru'},\n   'author': None,\n   'title': 'Кафельников назвал Australian Open 2022 «печальной картиной» для россиян - РБК Спорт',\n   'description': 'Олимпийский чемпион игр 2000 года отметил, что единственный россиянин оставшийся в розыгрыше турнира Даниил Медведев является главным фаворитом на звание чемпиона',\n   'url': 'https://sportrbc.ru/news/61ec05ad9a7947efd4ff7b23',\n   'urlToImage': 'https://s0.rbk.ru/v6_top_pics/media/img/3/04/756428590982043.jpg',\n   'publishedAt': '2022-01-22T13:48:35Z',\n   'content': ', Australian Open , . « » - .\\r\\n«Australian Open . , . , \\xa0 1/8 . , , , »,\\xa0— .\\r\\n 1/8 Australian Open. . 7:5, 7:6 (7:3), 3:6, 6:3 . .\\r\\n 28- , 18- , 6:7 (4:7), 7:6 (7:4), 5:7, 4:6.\\r\\n , 6:3, 6:2, 3:6, 6:1… [+12 chars]'},\n  {'source': {'id': None, 'name': 'Championat.com'},\n   'author': 'Яна Метлёва',\n   'title': 'Даниил Медведев — единственный россиянин, пробившийся во 2-ю неделю Australian Open — 2022 - Чемпионат',\n   'description': 'Вторая ракетка мира россиянин Даниил Медведев стал единственным представителем России, который сумел пробиться в 1/8 финала Открытого чемпионата Австралии – 2022.',\n   'url': 'https://www.championat.com/tennis/news-4584103-daniil-medvedev-edinstvennyj-rossiyanin-probivshijsya-vo-2-yu-nedelyu-australian-open-2022.html',\n   'urlToImage': 'https://img.championat.com/news2/social/2/09/4584103.jpg',\n   'publishedAt': '2022-01-22T12:54:29Z',\n   'content': ', 1/8 2022.\\r\\n 6:4, 6:4, 6:2. .\\r\\n , .\\r\\n , .\\r\\n Australian Open , , - . 2021 7:5, 6:2, 6:2.'},\n  {'source': {'id': None, 'name': 'Teleprogramma.pro'},\n   'author': 'Наталья Хамзина',\n   'title': 'Умер Мит Лоуф, певец и актер из «Бойцовского клуба» - TELEPROGRAMMA.PRO',\n   'description': 'Артист скончался на 75-м году жизни.',\n   'url': 'https://teleprogramma.pro/news/3093442-umer-akter-iz-boycovskogo-kluba-i-pevec-mit-u3802/',\n   'urlToImage': 'https://s5.cdn.teleprogramma.pro/wp-content/uploads/2022/01/9631cf74c7bd561546b01eb845e3af8a.jpg',\n   'publishedAt': '2022-01-22T12:51:56Z',\n   'content': ', , \"\" teleprogramma.pro« ». , 77-66912 22.08.2016\\r\\n , ( « 1000 » 2015-2018.. . 2012-2014.. «- » 2015 2019 ..): \\r\\n «»: teleprogramma.pro: - teleprogramma.pro: / ekaterina.bolgova@phkp.ru: / +7(495) 7… [+151 chars]'},\n  {'source': {'id': None, 'name': 'Ngs.ru'},\n   'author': None,\n   'title': 'Зеленский ввел санкции против 52 россиян — среди них есть судья из Новосибирской области - Новости Новосибирска – ngs.ru',\n   'description': 'Олег Устинов ранее работал в суде НСО',\n   'url': 'https://ngs.ru/text/world/2022/01/22/70394336/',\n   'urlToImage': 'https://static.ngs.ru/news/2015/social/bd1333d9e03fd9b5dc2ad6395b09e3.png',\n   'publishedAt': '2022-01-22T12:15:34Z',\n   'content': ', (« , , »). 18 , , .\\r\\n 13 1963 , , . \\r\\n, « ». : , . , .\\r\\n . 2014 . 2020 .'},\n  {'source': {'id': None, 'name': 'Gazeta.ru'},\n   'author': None,\n   'title': 'Биткоин обновил минимум с июля 2021 года - Газета.Ru',\n   'description': 'Биткоин в\\xa0ходе торговой сессии в\\xa0субботу снижался до\\xa0$34 161, свидетельствуют данные площадки Coindesk на 13:12 мск.',\n   'url': 'https://www.gazeta.ru/social/news/2022/01/22/17178127.shtml',\n   'urlToImage': 'https://img.gazeta.ru/files3/546/13598546/20201209_gaf_u55_746-pic_32ratio_900x600-900x600-78083.jpg',\n   'publishedAt': '2022-01-22T11:48:19Z',\n   'content': '$34 161, Coindesk 13:12 .\\r\\n \\xa013:48 , \\xa0 $35 486 (-9,01%).\\r\\n \\xa0 \\xa0 2021\\xa0.\\r\\n Quantum Fintech Group , \\xa0 \\xa0$400 , \\xa0900%. \\xa0 , - – , \\xa0- . \\xa0, , (), \\xa0 , .\\r\\n \\xa0 : , , . , — \\xa0 . \\xa0 «.Ru».'},\n  {'source': {'id': 'lenta', 'name': 'Lenta'},\n   'author': 'Варвара Кошечкина',\n   'title': 'МИД обвинил США в затягивании обсуждения предложений России по безопасности - Lenta.ru',\n   'description': 'США пытались всячески затянуть переговоры по гарантиям безопасности после того, как Россия представила свои предложения на этот счет. В этом Вашингтон обвинили в российском МИД. Там подчеркнули, что Вашингтон вместе со своими союзниками запустил «крайне токси…',\n   'url': 'https://lenta.ru/news/2022/01/22/zatyagivanie/',\n   'urlToImage': 'https://icdn.lenta.ru/images/2022/01/22/14/20220122144301928/share_23b4b1a7217198160637472656d0b08a.jpeg',\n   'publishedAt': '2022-01-22T11:44:00Z',\n   'content': ': Aleksander Polyakov / Globallookpress.com'},\n  {'source': {'id': None, 'name': 'Dtf.ru'},\n   'author': 'Flam1ngo',\n   'title': '3DMark TimeSpy: GeForce RTX 3050 оказалась на 20% быстрее Radeon RX 6500 XT — Железо на DTF - DTF',\n   'description': 'Похоже, что перед нами GTX 1660 Ti с поддержкой трассировки лучей и DLSS.',\n   'url': 'https://dtf.ru/hard/1046277-3dmark-timespy-geforce-rtx-3050-okazalas-na-20-bystree-radeon-rx-6500-xt',\n   'urlToImage': 'https://dtf.ru/cover/fb/c/1046277/1642850134/cover.jpg',\n   'publishedAt': '2022-01-22T10:57:01Z',\n   'content': ', GTX 1660 Ti DLSS.\\r\\nGeForce RTX 3050. 3DMark TimeSpy Radeon RX 6500 XT.\\r\\n TimeSpy RTX 3050 24%, FireStrike RX 6500 XT «» .\\r\\nRTX 3060, RTX 3050 GA106. 40% CUDA (3584 2560) 60% (360 224 /).\\r\\nGeForce R… [+172 chars]'},\n  {'source': {'id': 'lenta', 'name': 'Lenta'},\n   'author': 'Анастасия Борисова',\n   'title': 'Карпин отреагировал на готовность Дзюбы пойти навстречу сборной России - Lenta.ru',\n   'description': 'Главный тренер сборной России Валерий Карпин высказался о вероятности возвращения нападающего петербургского «Зенита» Артема Дзюбы в национальную команду. Тренер заявил, что ему непонятна фраза футболиста о том, что он готов пойти навстречу сборной. «Он футбо…',\n   'url': 'https://lenta.ru/news/2022/01/22/karpin/',\n   'urlToImage': 'https://icdn.lenta.ru/images/2022/01/22/13/20220122132043780/share_fb72c21a8118312f6503dd8908d73ede.jpeg',\n   'publishedAt': '2022-01-22T10:56:00Z',\n   'content': ': Alexander Kulebyakin / Globallookpress.com'},\n  {'source': {'id': None, 'name': 'Tass.ru'},\n   'author': 'ТАСС',\n   'title': 'МИД РФ назвал провокацией публикацию США о политике РФ на Украине перед встречей в Женеве - ТАСС',\n   'description': 'В дипведомстве отметили, что Вашингтон с момента получения российских предложений по гарантиям безопасности пытался в основном затянуть переговоры',\n   'url': 'https://tass.ru/politika/13498621',\n   'urlToImage': 'https://phototass4.cdnvideo.ru/width/1200_4ce85301/tass/m2/uploads/i/20220122/6572467.jpg',\n   'publishedAt': '2022-01-22T10:38:07Z',\n   'content': ', 22 . //. . .\" \" \" [] [] \", - .\\r\\n , 15 2021 , , .\\r\\n\" , , - , \"\", \" \" \"\" \", - . , , \" \".\\r\\nTelegram- , \" , \", , \" \".'},\n  {'source': {'id': None, 'name': 'Aif.ru'},\n   'author': None,\n   'title': 'Почему Леонида Куравлева перевели из реанимации в хоспис? - Аргументы и Факты – aif.ru',\n   'description': 'Леонида Куравлева выписали из Коммунарки.',\n   'url': 'https://aif.ru/culture/person/pochemu_leonida_kuravleva_pereveli_iz_reanimacii_v_hospis',\n   'urlToImage': 'https://aif-s3.aif.ru/images/026/502/0b1dab797ecebe4d4382792961ebd242.jpg',\n   'publishedAt': '2022-01-22T10:36:13Z',\n   'content': ', , . , , .\\r\\n\\xa0 ?\\r\\n. \\xa0Telegram- Baza, . . \\xa0 . .. .\\r\\n\\xa0 ?\\r\\n , . , - . .\\xa0\\r\\n?\\r\\n10 , . , . 85- 25 30 - .\\r\\n12 , .\\r\\n\\xa0:\\r\\nhttps://t.me/bazabazon/9483\\r\\nhttps://ren.tv/'},\n  {'source': {'id': None, 'name': 'Www.mk.ru'},\n   'author': None,\n   'title': 'Врач заявил о связи витамина D и штамма \"Омикрон\" - Московский Комсомолец',\n   'description': 'На фоне новой волны коронавируса COVID-19 в России, уже приведшей к значительному росту суточной заболеваемости, медики призывают граждан не паниковать и не принимать различные лекарства бездумно',\n   'url': 'https://www.mk.ru/science/2022/01/22/vrach-zayavil-o-svyazi-vitamina-d-i-shtamma-omikron.html',\n   'urlToImage': 'https://static.mk.ru/upload/entities/2022/01/22/13/articles/facebookPicture/6c/c3/80/ab/073447b2d315d1910a6a8cafd21dab9e.jpg',\n   'publishedAt': '2022-01-22T10:04:29Z',\n   'content': None},\n  {'source': {'id': None, 'name': 'Gazeta.ru'},\n   'author': None,\n   'title': 'Пашинян позвонил Путину - Газета.Ru',\n   'description': 'Премьер-министр Армении Никол Пашинян позвонил президенту России Владимиру Путину, сообщает пресс-служба Кремля.',\n   'url': 'https://www.gazeta.ru/politics/news/2022/01/22/17177773.shtml',\n   'urlToImage': 'https://img.gazeta.ru/files3/480/13550480/RIAN_6510661.HR-pic_32ratio_900x600-900x600-13091.jpg',\n   'publishedAt': '2022-01-22T09:45:41Z',\n   'content': None},\n  {'source': {'id': None, 'name': 'Ria.ru'},\n   'author': '',\n   'title': 'В посольстве Британии ответили на вопрос о визите главы МИД в Россию - РИА НОВОСТИ',\n   'description': 'Посольство Великобритании в Москве на фоне сообщения о возможном визите главы МИД этой страны в Москву заявило РИА Новости, что не комментирует публично планы... РИА Новости, 22.01.2022',\n   'url': 'https://ria.ru/20220122/britaniya-1769043842.html',\n   'urlToImage': 'https://cdnn21.img.ria.ru/images/sharing/article/1769043842.jpg?17502136371642843990',\n   'publishedAt': '2022-01-22T09:33:20Z',\n   'content': \"https://ria.ru/20220122/britaniya-1769043842.html\\r\\n/html/head/meta[@name='og:title']/@content\\r\\n/html/head/meta[@name='og:description']/@content\\r\\nhttps://cdnn21.img.ria.ru/images/07e5/09/0f/1750213655… [+610 chars]\"},\n  {'source': {'id': 'lenta', 'name': 'Lenta'},\n   'author': 'Таисия Косинцева',\n   'title': 'Дочь Пескова опубликовала фото в откровенном наряде и вызвала споры в сети - Lenta.ru',\n   'description': 'Дочь пресс-секретаря президента России Дмитрия Пескова Елизавета поделилась снимками в откровенном наряде и вызвала споры среди пользователей сети. На размещенных в сети кадрах 24-летняя знаменитость попозировала на выставке в Манеже, посвященной рок-музыкант…',\n   'url': 'https://lenta.ru/news/2022/01/22/liza/',\n   'urlToImage': 'https://icdn.lenta.ru/images/2022/01/22/11/20220122114452648/share_d67f76893a09bd2a95e9c440188dd36f.jpeg',\n   'publishedAt': '2022-01-22T08:46:00Z',\n   'content': '- . Instagram-.\\r\\n 24- , - . -, , - , Nike. . , .\\r\\n . « !», « », « , !», «, », .\\r\\n : « », « », « », « - ! », « !».\\r\\n 2020 . , . « 8/16. , . », .'},\n  {'source': {'id': 'rbc', 'name': 'RBC'},\n   'author': None,\n   'title': 'В Москве выявили рекордное число заболевших COVID-19 - РБК НОВОСТИ',\n   'description': 'За последние сутки в Москве выявили почти 16 тыс. новых заболевших коронавирусной инфекцией, сообщает оперативный штаб. Это максимальное число заболевших за сутки с начала пандемии в столице. По ...',\n   'url': 'https://www.rbc.ru/rbcfreenews/61ebc2c19a7947df9f541424',\n   'urlToImage': 'https://s0.rbk.ru/v6_top_pics/media/img/5/52/756428411520525.jpg',\n   'publishedAt': '2022-01-22T08:45:51Z',\n   'content': '16 . , . .\\r\\n , \\xa0\\xa01077 . () 506 . « 6,7%»,\\xa0— .\\r\\n 72 . \\xa0— 3\\xa0025 .\\r\\n 57\\xa0212 COVID-19. , \\xa0— 49\\xa0513 .'},\n  {'source': {'id': None, 'name': 'Dtf.ru'},\n   'author': 'Space Cowboy',\n   'title': 'THR: Мэри Элизабет Уинстэд присоединилась к актёрскому составу сериала «Асока» — Кино и сериалы на DTF - DTF',\n   'description': 'Кого предстоит сыграть актрисе – не уточняется.',\n   'url': 'https://dtf.ru/cinema/1045917-thr-meri-elizabet-uinsted-prisoedinilas-k-akterskomu-sostavu-seriala-asoka',\n   'urlToImage': 'https://dtf.ru/cover/fb/c/1045917/1642839245/cover.jpg',\n   'publishedAt': '2022-01-22T08:14:05Z',\n   'content': '5\\xa0 ) , .7 , . . , , . 8 , KotOR2, ( , , 7 ). 9 , .'},\n  {'source': {'id': None, 'name': 'Allboxing.ru'},\n   'author': None,\n   'title': 'Нганну-Ган: Битва взглядов, слова перед боем на UFC 270 (видео) - allboxing.ru',\n   'description': 'Официальная процедура взвешивания перед турниром UFC 270, в главном бою встретятся Фрэнсис Нганну и Сирил Ган, чтобы определить неоспоримого чемпиона UFC в тяжелом весе.',\n   'url': 'https://allboxing.ru/news/20220122-1102/ngannu-gan-bitva-vzglyadov-slova-pered-boem-na-ufc-270-video',\n   'urlToImage': 'https://allboxing.ru/sites/default/files/snimok_ekrana_2022-01-22_v_11.00.20.png',\n   'publishedAt': '2022-01-22T08:02:00Z',\n   'content': '«» \\r\\n , () 17 2017 . \\r\\n 77-71344\\r\\n 18+\\r\\n* , : « », « » (), «», « -», - (), «-», «-», «», « - », « », « », «» , «», « . », «», « », «-18», « -».\\r\\nChange privacy settings'},\n  {'source': {'id': None, 'name': 'Gazeta.ru'},\n   'author': None,\n   'title': 'Рогозин пообещал разобраться с невыдачей визы США российскому космонавту - Газета.Ru',\n   'description': 'Генеральный директор «Роскосмоса» Дмитрий Рогозин заявил, что запросит позицию NASA по\\xa0отказу США выдать российскому космонавту Николаю Чубу визу для\\xa0поездки на\\xa0тренировки.',\n   'url': 'https://www.gazeta.ru/science/news/2022/01/22/17177467.shtml',\n   'urlToImage': 'https://img.gazeta.ru/files3/684/13928684/upload-RIAN_6566255.HR-pic_32ratio_900x600-900x600-75770.jpg',\n   'publishedAt': '2022-01-22T07:52:17Z',\n   'content': '«» , NASA \\xa0 \\xa0 \\xa0.\\r\\n« ( ) \\xa0 \\xa0 \\xa0 . NASA \\xa0 . », — \\xa0Telegram-.\\r\\n \\xa0 , \\xa0 «» , \\xa0 \\xa0 \\xa0 \\xa0 .\\r\\n — NASA \\xa0 , . , -.'},\n  {'source': {'id': None, 'name': 'Ura.news'},\n   'author': None,\n   'title': 'Мишустин создал план по борьбе с COVID, которого требовал Путин - URA.RU',\n   'description': 'Читайте на URA.RU',\n   'url': 'https://ura.news/news/1052528753',\n   'urlToImage': 'https://s.ura.news/images/news/upload/smm/2022/01/22/facebook_72025b0a60cb45d15fa41a327c50975d.jpg',\n   'publishedAt': '2022-01-22T07:27:00Z',\n   'content': ', \\xa0\\xa0— «». \\xa0 - .\\r\\n« \\xa0 \\xa0 \\xa0 „“. \\xa0 »,\\xa0— \\xa0.\\r\\n :\\r\\n<ul><li> \\xa024\\xa0 , , \\xa0 . \\xa0 ;</li><li> \\xa0 ;</li><li> \\xa0 \\xa024\\xa0 \\xa0 \\xa0 ( 122).</li><li> \\xa0 \\xa0-, \\xa0 , \\xa0 . \\xa0 300 ;</li><li> () -. \\xa0— \\xa01\\xa0.</li></ul> \\xa0URA.RU \\xa0Google News\\r\\n, … [+45 chars]'},\n  {'source': {'id': None, 'name': 'Overclockers.ua'},\n   'author': 'Klamath',\n   'title': 'Intel инвестирует $20 млрд в производственный комплекс в Огайо - Украинский оверклокерский портал',\n   'description': 'На прошлой неделе стало известно о планах Intel построить на Среднем Западе США новую фабрику по производству полупроводников. Сейчас эта информация подтвердилась официально и раскрылись новые подробности: речь идет о строительстве двух фабрик,...',\n   'url': 'https://www.overclockers.ua/news/hardware/2022-01-22/130885/',\n   'urlToImage': 'https://www.overclockers.ua/news/other/130885-Intel-Ohio-1.jpg',\n   'publishedAt': '2022-01-22T07:05:00Z',\n   'content': 'Intel . : , , . $20 , $100 .\\r\\n, . , 3000 Intel 7000 , , .\\r\\n«» Intel . . 100 , .\\r\\n 2022 2025 . , Intel , , Intel. Intel, IDM 2.0.\\r\\n:Intel'}]}"
     },
     "execution_count": 64,
     "metadata": {},
     "output_type": "execute_result"
    }
   ],
   "source": [
    "top_headlines = news_cl.get_top_headlines(q='',\n",
    "                                          language='ru')\n",
    "top_headlines"
   ],
   "metadata": {
    "collapsed": false,
    "pycharm": {
     "name": "#%%\n"
    }
   }
  },
  {
   "cell_type": "code",
   "execution_count": 54,
   "outputs": [
    {
     "data": {
      "text/plain": "'Кафельников назвал Australian Open 2022 «печальной картиной» для россиян - РБК Спорт'"
     },
     "execution_count": 54,
     "metadata": {},
     "output_type": "execute_result"
    }
   ],
   "source": [
    "top_headlines['articles'][0]['title']"
   ],
   "metadata": {
    "collapsed": false,
    "pycharm": {
     "name": "#%%\n"
    }
   }
  },
  {
   "cell_type": "code",
   "execution_count": 30,
   "outputs": [
    {
     "data": {
      "text/plain": "'В России зарегистрировано максимальное число заболевших коронавирусом с начала пандемии; первый же международный рейс, прибывший на островное государство Кирибати, привел к локдауну; в США находят все новые подтверждения важности \"бустерной\" прививки.'"
     },
     "execution_count": 30,
     "metadata": {},
     "output_type": "execute_result"
    }
   ],
   "source": [
    "top_headlines['articles'][0]['description']"
   ],
   "metadata": {
    "collapsed": false,
    "pycharm": {
     "name": "#%%\n"
    }
   }
  },
  {
   "cell_type": "code",
   "execution_count": 59,
   "outputs": [
    {
     "data": {
      "text/plain": "33"
     },
     "execution_count": 59,
     "metadata": {},
     "output_type": "execute_result"
    }
   ],
   "source": [
    "top_headlines['totalResults']"
   ],
   "metadata": {
    "collapsed": false,
    "pycharm": {
     "name": "#%%\n"
    }
   }
  },
  {
   "cell_type": "code",
   "execution_count": 49,
   "outputs": [
    {
     "data": {
      "text/plain": "940"
     },
     "execution_count": 49,
     "metadata": {},
     "output_type": "execute_result"
    }
   ],
   "source": [
    "ran_str=\"для того что бы победить зло- достаточно его полюбить, полюбить не делая зло и радуясь злу, а просто начать любить всё зло в мире. И оно само деграднёт и вымрет.просто смотреть на злых людей как на умалишённых. Когда начнём смотреть так - их начнут лечить. потому что люди начнут говорить - это псих -его пора ложить в больничку.У меня есть контракт и по конракту все должны мне сосать -а потому что надо было видеть что вы подписываете,все суды на моей стороне.Но если вы в суд придете и увидите адекватного судью - он что скажет - что ваш контракт полностью юридически правильно составлен?нет -он будет опираться на свою нравственность.То есть-то что мы не делаем нормой в нашем мире- не имеет силы над нами и обществом.Проснуться от мысли,что человек может владеть землёй и тогда все увидят- что земля всегда пренадлежала самой себе, а мы тут гости.и ни какие деньги не имеющие ни какой реальной силы невозможно заставить сделать что либо пренадлежащим или не пренадлежащим кому либо.это просто развод - большой лоховской развод.а если хочешь помочь ббушке - найди ее внуков, дай им пиздюлин, что бы они начали ей помогать.\"\n",
    "len(ran_str.replace(' ',''))"
   ],
   "metadata": {
    "collapsed": false,
    "pycharm": {
     "name": "#%%\n"
    }
   }
  },
  {
   "cell_type": "code",
   "execution_count": 61,
   "outputs": [
    {
     "data": {
      "text/plain": "'fdf'"
     },
     "execution_count": 61,
     "metadata": {},
     "output_type": "execute_result"
    }
   ],
   "source": [
    "\"FDF\".lower()"
   ],
   "metadata": {
    "collapsed": false,
    "pycharm": {
     "name": "#%%\n"
    }
   }
  },
  {
   "cell_type": "code",
   "execution_count": 9,
   "outputs": [
    {
     "data": {
      "text/plain": "[('b', [1, 2, 3, 4, 5]), ('c', [2, 4, 6, 8]), ('a', [1, 3, 5, 6, 7])]"
     },
     "execution_count": 9,
     "metadata": {},
     "output_type": "execute_result"
    }
   ],
   "source": [
    "\n",
    "# 1. отсортировать список согласно увеличению суммы значений массива:\n",
    "\n",
    "l= [(\"a\",[1,3,5,6,7]),(\"b\",[1,2,3,4,5]),(\"c\",[2,4,6,8])]\n",
    "\n",
    "sorted(l,key=lambda x: sum(x[1]))"
   ],
   "metadata": {
    "collapsed": false,
    "pycharm": {
     "name": "#%%\n"
    }
   }
  },
  {
   "cell_type": "code",
   "execution_count": 12,
   "outputs": [
    {
     "data": {
      "text/plain": "[2, 4]"
     },
     "execution_count": 12,
     "metadata": {},
     "output_type": "execute_result"
    }
   ],
   "source": [
    "a=[2,4,5]\n",
    "list(filter(lambda x:x%2==0,a))"
   ],
   "metadata": {
    "collapsed": false,
    "pycharm": {
     "name": "#%%\n"
    }
   }
  },
  {
   "cell_type": "code",
   "execution_count": 40,
   "outputs": [
    {
     "data": {
      "text/plain": "[[6], [2, 4], [2, 4, 6, 8]]"
     },
     "execution_count": 40,
     "metadata": {},
     "output_type": "execute_result"
    }
   ],
   "source": [
    "# 2. Выбрать из списка только те элементы, которые содержат только четные значения:\n",
    "l= [(\"a\",[1,3,5,6,7]),(\"b\",[1,2,3,4,5]),(\"c\",[2,4,6,8])]\n",
    "\n",
    "def calc(l):\n",
    "    l1=l[1]\n",
    "    return list(filter(lambda x:x%2==0,l1))\n",
    "list(map(calc,l))"
   ],
   "metadata": {
    "collapsed": false,
    "pycharm": {
     "name": "#%%\n"
    }
   }
  },
  {
   "cell_type": "code",
   "execution_count": 99,
   "outputs": [
    {
     "data": {
      "text/plain": "{'a': [1, 3, 5, 6, 7], 'b': [1, 2, 3, 4, 5], 'c': [2, 4, 6, 8]}"
     },
     "execution_count": 99,
     "metadata": {},
     "output_type": "execute_result"
    }
   ],
   "source": [
    "l= [(\"a\",[1,3,5,6,7]),(\"b\",[1,2,3,4,5]),(\"c\",[2,4,6,8])]\n",
    "dict(l)"
   ],
   "metadata": {
    "collapsed": false,
    "pycharm": {
     "name": "#%%\n"
    }
   }
  },
  {
   "cell_type": "code",
   "execution_count": 58,
   "outputs": [
    {
     "data": {
      "text/plain": "[[6], [2, 4], [2, 4, 6, 8]]"
     },
     "execution_count": 58,
     "metadata": {},
     "output_type": "execute_result"
    }
   ],
   "source": [
    "# 3. Вывести список с произведением массива вместо самого массива:\n",
    "\n",
    "def calc(l):\n",
    "    l1=l[1]\n",
    "    product=1\n",
    "    for i in l1:\n",
    "        product*=i\n",
    "    return product\n",
    "list(map(calc,l))"
   ],
   "metadata": {
    "collapsed": false,
    "pycharm": {
     "name": "#%%\n"
    }
   }
  },
  {
   "cell_type": "code",
   "execution_count": 82,
   "outputs": [
    {
     "data": {
      "text/plain": "dict_values([[1, 3, 5, 6, 7], [1, 2, 3, 4, 5], [2, 4, 6, 8]])"
     },
     "execution_count": 82,
     "metadata": {},
     "output_type": "execute_result"
    }
   ],
   "source": [
    "import math\n",
    "list(map(lambda x: math.prod(x),dict(l).values()))"
   ],
   "metadata": {
    "collapsed": false,
    "pycharm": {
     "name": "#%%\n"
    }
   }
  },
  {
   "cell_type": "code",
   "execution_count": 84,
   "outputs": [
    {
     "data": {
      "text/plain": "[630, 120, 384]"
     },
     "execution_count": 84,
     "metadata": {},
     "output_type": "execute_result"
    }
   ],
   "source": [
    "import math\n",
    "list(map(lambda x: math.prod(x),dict(l).values()))"
   ],
   "metadata": {
    "collapsed": false,
    "pycharm": {
     "name": "#%%\n"
    }
   }
  },
  {
   "cell_type": "code",
   "execution_count": 62,
   "outputs": [
    {
     "data": {
      "text/plain": "'<Iampythonmaster!>'"
     },
     "execution_count": 62,
     "metadata": {},
     "output_type": "execute_result"
    }
   ],
   "source": [
    "# 4. Убрать лишние пробелы в тексте:\n",
    "s= \" < I am python master! >\"\n",
    "s.replace(' ','')"
   ],
   "metadata": {
    "collapsed": false,
    "pycharm": {
     "name": "#%%\n"
    }
   }
  },
  {
   "cell_type": "code",
   "execution_count": 66,
   "outputs": [
    {
     "ename": "ValueError",
     "evalue": "invalid literal for int() with base 10: '456b'",
     "output_type": "error",
     "traceback": [
      "\u001B[1;31m---------------------------------------------------------------------------\u001B[0m",
      "\u001B[1;31mValueError\u001B[0m                                Traceback (most recent call last)",
      "\u001B[1;32m~\\AppData\\Local\\Temp/ipykernel_2828/647624976.py\u001B[0m in \u001B[0;36m<module>\u001B[1;34m\u001B[0m\n\u001B[0;32m      9\u001B[0m     \u001B[1;32mreturn\u001B[0m \u001B[0ms\u001B[0m\u001B[1;33m\u001B[0m\u001B[1;33m\u001B[0m\u001B[0m\n\u001B[0;32m     10\u001B[0m \u001B[0ms\u001B[0m\u001B[1;33m=\u001B[0m \u001B[1;33m[\u001B[0m\u001B[1;34m\"123\"\u001B[0m\u001B[1;33m,\u001B[0m\u001B[1;34m\"456b\"\u001B[0m\u001B[1;33m,\u001B[0m\u001B[1;34m\"789\"\u001B[0m\u001B[1;33m,\u001B[0m\u001B[1;34m\"101112a\"\u001B[0m\u001B[1;33m]\u001B[0m\u001B[1;33m\u001B[0m\u001B[1;33m\u001B[0m\u001B[0m\n\u001B[1;32m---> 11\u001B[1;33m \u001B[0mlist\u001B[0m\u001B[1;33m(\u001B[0m\u001B[0mmap\u001B[0m\u001B[1;33m(\u001B[0m\u001B[1;32mlambda\u001B[0m \u001B[0mx\u001B[0m\u001B[1;33m:\u001B[0m \u001B[0mint\u001B[0m\u001B[1;33m(\u001B[0m\u001B[0mx\u001B[0m\u001B[1;33m)\u001B[0m \u001B[1;32mor\u001B[0m \u001B[1;34m\"invalid\"\u001B[0m\u001B[1;33m,\u001B[0m\u001B[0ms\u001B[0m\u001B[1;33m)\u001B[0m\u001B[1;33m)\u001B[0m\u001B[1;33m\u001B[0m\u001B[1;33m\u001B[0m\u001B[0m\n\u001B[0m\u001B[0;32m     12\u001B[0m \u001B[1;31m# converter(s)\u001B[0m\u001B[1;33m\u001B[0m\u001B[1;33m\u001B[0m\u001B[1;33m\u001B[0m\u001B[0m\n\u001B[0;32m     13\u001B[0m \u001B[1;33m\u001B[0m\u001B[0m\n",
      "\u001B[1;32m~\\AppData\\Local\\Temp/ipykernel_2828/647624976.py\u001B[0m in \u001B[0;36m<lambda>\u001B[1;34m(x)\u001B[0m\n\u001B[0;32m      9\u001B[0m     \u001B[1;32mreturn\u001B[0m \u001B[0ms\u001B[0m\u001B[1;33m\u001B[0m\u001B[1;33m\u001B[0m\u001B[0m\n\u001B[0;32m     10\u001B[0m \u001B[0ms\u001B[0m\u001B[1;33m=\u001B[0m \u001B[1;33m[\u001B[0m\u001B[1;34m\"123\"\u001B[0m\u001B[1;33m,\u001B[0m\u001B[1;34m\"456b\"\u001B[0m\u001B[1;33m,\u001B[0m\u001B[1;34m\"789\"\u001B[0m\u001B[1;33m,\u001B[0m\u001B[1;34m\"101112a\"\u001B[0m\u001B[1;33m]\u001B[0m\u001B[1;33m\u001B[0m\u001B[1;33m\u001B[0m\u001B[0m\n\u001B[1;32m---> 11\u001B[1;33m \u001B[0mlist\u001B[0m\u001B[1;33m(\u001B[0m\u001B[0mmap\u001B[0m\u001B[1;33m(\u001B[0m\u001B[1;32mlambda\u001B[0m \u001B[0mx\u001B[0m\u001B[1;33m:\u001B[0m \u001B[0mint\u001B[0m\u001B[1;33m(\u001B[0m\u001B[0mx\u001B[0m\u001B[1;33m)\u001B[0m \u001B[1;32mor\u001B[0m \u001B[1;34m\"invalid\"\u001B[0m\u001B[1;33m,\u001B[0m\u001B[0ms\u001B[0m\u001B[1;33m)\u001B[0m\u001B[1;33m)\u001B[0m\u001B[1;33m\u001B[0m\u001B[1;33m\u001B[0m\u001B[0m\n\u001B[0m\u001B[0;32m     12\u001B[0m \u001B[1;31m# converter(s)\u001B[0m\u001B[1;33m\u001B[0m\u001B[1;33m\u001B[0m\u001B[1;33m\u001B[0m\u001B[0m\n\u001B[0;32m     13\u001B[0m \u001B[1;33m\u001B[0m\u001B[0m\n",
      "\u001B[1;31mValueError\u001B[0m: invalid literal for int() with base 10: '456b'"
     ]
    }
   ],
   "source": [
    "# 5. вывести список со строками, если они могут быть преобразованы в числа\n",
    "# и \"invalid\", если не могут:\n",
    "def converter(s):\n",
    "    for i in range(len(s)):\n",
    "        try:\n",
    "            s[i]=int(s[i])\n",
    "        except Exception:\n",
    "            s[i]='invalid'\n",
    "    return s\n",
    "s= [\"123\",\"456b\",\"789\",\"101112a\"]\n",
    "list(map(lambda x: int(x) or \"invalid\",s))\n",
    "# converter(s)"
   ],
   "metadata": {
    "collapsed": false,
    "pycharm": {
     "name": "#%%\n"
    }
   }
  },
  {
   "cell_type": "code",
   "execution_count": 86,
   "outputs": [
    {
     "data": {
      "text/plain": "'2'"
     },
     "execution_count": 86,
     "metadata": {},
     "output_type": "execute_result"
    }
   ],
   "source": [
    "s[0][1]\n"
   ],
   "metadata": {
    "collapsed": false,
    "pycharm": {
     "name": "#%%\n"
    }
   }
  }
 ],
 "metadata": {
  "kernelspec": {
   "name": "python3",
   "language": "python",
   "display_name": "Python 3 (ipykernel)"
  },
  "language_info": {
   "codemirror_mode": {
    "name": "ipython",
    "version": 2
   },
   "file_extension": ".py",
   "mimetype": "text/x-python",
   "name": "python",
   "nbconvert_exporter": "python",
   "pygments_lexer": "ipython2",
   "version": "2.7.6"
  }
 },
 "nbformat": 4,
 "nbformat_minor": 0
}