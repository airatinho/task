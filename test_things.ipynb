{
 "cells": [
  {
   "cell_type": "code",
   "execution_count": null,
   "outputs": [],
   "source": [
    "import typing as typing\n",
    "from newsapi import NewsApiClient\n",
    "import newsapi"
   ],
   "metadata": {
    "collapsed": false,
    "pycharm": {
     "name": "#%%\n"
    }
   }
  },
  {
   "cell_type": "code",
   "execution_count": null,
   "outputs": [],
   "source": [
    "news_cl=NewsApiClient('71d43dbc0df24f4ba0003576f0e88bc1')"
   ],
   "metadata": {
    "collapsed": false,
    "pycharm": {
     "name": "#%%\n"
    }
   }
  },
  {
   "cell_type": "code",
   "execution_count": null,
   "outputs": [],
   "source": [
    "top_headlines = news_cl.get_top_headlines(q='',\n",
    "                                          language='ru')\n",
    "top_headlines"
   ],
   "metadata": {
    "collapsed": false,
    "pycharm": {
     "name": "#%%\n"
    }
   }
  },
  {
   "cell_type": "code",
   "execution_count": null,
   "outputs": [],
   "source": [
    "top_headlines['articles'][0]['title']"
   ],
   "metadata": {
    "collapsed": false,
    "pycharm": {
     "name": "#%%\n"
    }
   }
  },
  {
   "cell_type": "code",
   "execution_count": null,
   "outputs": [],
   "source": [
    "top_headlines['articles'][0]['description']"
   ],
   "metadata": {
    "collapsed": false,
    "pycharm": {
     "name": "#%%\n"
    }
   }
  },
  {
   "cell_type": "code",
   "execution_count": null,
   "outputs": [],
   "source": [
    "top_headlines['totalResults']"
   ],
   "metadata": {
    "collapsed": false,
    "pycharm": {
     "name": "#%%\n"
    }
   }
  },
  {
   "cell_type": "code",
   "execution_count": null,
   "outputs": [],
   "source": [
    "ran_str=\"для того что бы победить зло- достаточно его полюбить, полюбить не делая зло и радуясь злу, а просто начать любить всё зло в мире. И оно само деграднёт и вымрет.просто смотреть на злых людей как на умалишённых. Когда начнём смотреть так - их начнут лечить. потому что люди начнут говорить - это псих -его пора ложить в больничку.У меня есть контракт и по конракту все должны мне сосать -а потому что надо было видеть что вы подписываете,все суды на моей стороне.Но если вы в суд придете и увидите адекватного судью - он что скажет - что ваш контракт полностью юридически правильно составлен?нет -он будет опираться на свою нравственность.То есть-то что мы не делаем нормой в нашем мире- не имеет силы над нами и обществом.Проснуться от мысли,что человек может владеть землёй и тогда все увидят- что земля всегда пренадлежала самой себе, а мы тут гости.и ни какие деньги не имеющие ни какой реальной силы невозможно заставить сделать что либо пренадлежащим или не пренадлежащим кому либо.это просто развод - большой лоховской развод.а если хочешь помочь ббушке - найди ее внуков, дай им пиздюлин, что бы они начали ей помогать.\"\n",
    "len(ran_str.replace(' ',''))"
   ],
   "metadata": {
    "collapsed": false,
    "pycharm": {
     "name": "#%%\n"
    }
   }
  },
  {
   "cell_type": "code",
   "execution_count": null,
   "outputs": [],
   "source": [
    "\"FDF\".lower()"
   ],
   "metadata": {
    "collapsed": false,
    "pycharm": {
     "name": "#%%\n"
    }
   }
  },
  {
   "cell_type": "code",
   "execution_count": null,
   "outputs": [],
   "source": [
    "l=['3','1','10','5','2','15','4']\n",
    "sorted(l,key= lambda x: int(x))\n",
    "# l.sort(key= lambda x: int(x))"
   ],
   "metadata": {
    "collapsed": false,
    "pycharm": {
     "name": "#%%\n"
    }
   }
  },
  {
   "cell_type": "code",
   "execution_count": null,
   "outputs": [],
   "source": [
    "l"
   ],
   "metadata": {
    "collapsed": false,
    "pycharm": {
     "name": "#%%\n"
    }
   }
  },
  {
   "cell_type": "code",
   "execution_count": null,
   "outputs": [],
   "source": [
    "\n",
    "# 1. отсортировать список согласно увеличению суммы значений массива:\n",
    "\n",
    "l= [(\"a\",[1,3,5,6,7]),(\"b\",[1,2,3,4,5]),(\"c\",[2,4,6,8])]\n",
    "\n",
    "sorted(l,key=lambda x: sum(x[1]))"
   ],
   "metadata": {
    "collapsed": false,
    "pycharm": {
     "name": "#%%\n"
    }
   }
  },
  {
   "cell_type": "code",
   "execution_count": null,
   "outputs": [],
   "source": [
    "a=[2,4,5]\n",
    "list(filter(lambda x:x%2==0,a))"
   ],
   "metadata": {
    "collapsed": false,
    "pycharm": {
     "name": "#%%\n"
    }
   }
  },
  {
   "cell_type": "code",
   "execution_count": null,
   "outputs": [],
   "source": [
    "# 2. Выбрать из списка только те элементы, которые содержат только четные значения:\n",
    "l= [(\"a\",[1,3,5,6,7]),(\"b\",[1,2,3,4,5]),(\"c\",[2,4,6,8])]\n",
    "\n",
    "def calc(l):\n",
    "    l1=l[1]\n",
    "    return list(filter(lambda x:x%2==0,l1))\n",
    "list(map(calc,l))"
   ],
   "metadata": {
    "collapsed": false,
    "pycharm": {
     "name": "#%%\n"
    }
   }
  },
  {
   "cell_type": "code",
   "execution_count": null,
   "outputs": [],
   "source": [
    "l= [(\"a\",[1,3,5,6,7]),(\"b\",[1,2,3,4,5]),(\"c\",[2,4,6,8])]\n",
    "dict(l)"
   ],
   "metadata": {
    "collapsed": false,
    "pycharm": {
     "name": "#%%\n"
    }
   }
  },
  {
   "cell_type": "code",
   "execution_count": null,
   "outputs": [],
   "source": [
    "# 3. Вывести список с произведением массива вместо самого массива:\n",
    "\n",
    "def calc(l):\n",
    "    l1=l[1]\n",
    "    product=1\n",
    "    for i in l1:\n",
    "        product*=i\n",
    "    return product\n",
    "list(map(calc,l))"
   ],
   "metadata": {
    "collapsed": false,
    "pycharm": {
     "name": "#%%\n"
    }
   }
  },
  {
   "cell_type": "code",
   "execution_count": null,
   "outputs": [],
   "source": [
    "import math\n",
    "list(map(lambda x: math.prod(x),dict(l).values()))"
   ],
   "metadata": {
    "collapsed": false,
    "pycharm": {
     "name": "#%%\n"
    }
   }
  },
  {
   "cell_type": "code",
   "execution_count": null,
   "outputs": [],
   "source": [
    "import math\n",
    "list(map(lambda x: math.prod(x),dict(l).values()))"
   ],
   "metadata": {
    "collapsed": false,
    "pycharm": {
     "name": "#%%\n"
    }
   }
  },
  {
   "cell_type": "code",
   "execution_count": null,
   "outputs": [],
   "source": [
    "# 4. Убрать лишние пробелы в тексте:\n",
    "s= \" < I am python master! >\"\n",
    "s.replace(' ','')"
   ],
   "metadata": {
    "collapsed": false,
    "pycharm": {
     "name": "#%%\n"
    }
   }
  },
  {
   "cell_type": "code",
   "execution_count": null,
   "outputs": [],
   "source": [
    "# 5. вывести список со строками, если они могут быть преобразованы в числа\n",
    "# и \"invalid\", если не могут:\n",
    "def converter(s):\n",
    "    for i in range(len(s)):\n",
    "        try:\n",
    "            s[i]=int(s[i])\n",
    "        except Exception:\n",
    "            s[i]='invalid'\n",
    "    return s\n",
    "s= [\"123\",\"456b\",\"789\",\"101112a\"]\n",
    "list(map(lambda x: int(x) or \"invalid\",s))\n",
    "# converter(s)"
   ],
   "metadata": {
    "collapsed": false,
    "pycharm": {
     "name": "#%%\n"
    }
   }
  },
  {
   "cell_type": "code",
   "execution_count": null,
   "outputs": [],
   "source": [
    "s[0][1]"
   ],
   "metadata": {
    "collapsed": false,
    "pycharm": {
     "name": "#%%\n"
    }
   }
  },
  {
   "cell_type": "code",
   "execution_count": 7,
   "outputs": [
    {
     "data": {
      "text/plain": "<Response [200]>"
     },
     "execution_count": 7,
     "metadata": {},
     "output_type": "execute_result"
    }
   ],
   "source": [
    "import requests\n",
    "resp=requests.get(\"http://127.0.0.1:5000/dilers\")\n",
    "resp"
   ],
   "metadata": {
    "collapsed": false,
    "pycharm": {
     "name": "#%%\n"
    }
   }
  },
  {
   "cell_type": "code",
   "execution_count": 8,
   "outputs": [
    {
     "data": {
      "text/plain": "{'dilers_table': [{'address': 'Saint-Peterburg', 'id': 2, 'name': 'Albert'}]}"
     },
     "execution_count": 8,
     "metadata": {},
     "output_type": "execute_result"
    }
   ],
   "source": [
    "resp.json()"
   ],
   "metadata": {
    "collapsed": false,
    "pycharm": {
     "name": "#%%\n"
    }
   }
  },
  {
   "cell_type": "code",
   "execution_count": 6,
   "outputs": [
    {
     "data": {
      "text/plain": "<Response [201]>"
     },
     "execution_count": 6,
     "metadata": {},
     "output_type": "execute_result"
    }
   ],
   "source": [
    "# \"For dilers\"\n",
    "data={\n",
    "    'name': 'Albert', 'address': 'Saint-Peterburg'\n",
    "}\n",
    "resp=requests.post(\n",
    "    \"http://127.0.0.1:5000/dilers\",\n",
    "    json=data\n",
    ")\n",
    "resp"
   ],
   "metadata": {
    "collapsed": false,
    "pycharm": {
     "name": "#%%\n"
    }
   }
  },
  {
   "cell_type": "code",
   "execution_count": null,
   "outputs": [],
   "source": [
    "resp.json()"
   ],
   "metadata": {
    "collapsed": false,
    "pycharm": {
     "name": "#%%\n"
    }
   }
  },
  {
   "cell_type": "code",
   "execution_count": null,
   "outputs": [],
   "source": [
    "# \"For dilers\"\n",
    "data={\n",
    "    'name': 'Albertv Gallamov',\n",
    "    'address':\"Buinsk\"\n",
    "}\n",
    "resp=requests.put(\n",
    "    \"http://127.0.0.1:8000/dilers/1\",\n",
    "    json=data\n",
    ")\n",
    "resp"
   ],
   "metadata": {
    "collapsed": false,
    "pycharm": {
     "name": "#%%\n"
    }
   }
  },
  {
   "cell_type": "code",
   "execution_count": null,
   "outputs": [],
   "source": [
    "resp.text"
   ],
   "metadata": {
    "collapsed": false,
    "pycharm": {
     "name": "#%%\n"
    }
   }
  },
  {
   "cell_type": "code",
   "execution_count": null,
   "outputs": [],
   "source": [
    "\"\"\"За чтение (получение) данных отвечает тип запросов\n",
    "с именем GET \"\"\"\n",
    "import requests\n",
    "resp=requests.get(\"http://127.0.0.1:8000/\")\n",
    "resp"
   ],
   "metadata": {
    "collapsed": false,
    "pycharm": {
     "name": "#%%\n"
    }
   }
  },
  {
   "cell_type": "code",
   "execution_count": null,
   "outputs": [],
   "source": [
    "resp.json()"
   ],
   "metadata": {
    "collapsed": false,
    "pycharm": {
     "name": "#%%\n"
    }
   }
  },
  {
   "cell_type": "code",
   "execution_count": null,
   "outputs": [],
   "source": [
    "\"\"\"За создание(отправку) данных отвечает тип запросов\n",
    "с именем POST \"\"\"\n",
    "\n",
    "data={\n",
    "        \"name\":\"Берсерк\",\n",
    "        \"plot\":200000,\n",
    "        \"genres\":[\"Приключения\",\"Фэнтези\"],\n",
    "        \"casts\": [\"Кентаро\",\"Миуро\"]\n",
    "    }\n",
    "resp=requests.post(\n",
    "    \"http://127.0.0.1:8000/\",\n",
    "    json=data\n",
    ")\n",
    "resp"
   ],
   "metadata": {
    "collapsed": false,
    "pycharm": {
     "name": "#%%\n"
    }
   }
  },
  {
   "cell_type": "code",
   "execution_count": null,
   "outputs": [],
   "source": [
    "resp.json()"
   ],
   "metadata": {
    "collapsed": false,
    "pycharm": {
     "name": "#%%\n"
    }
   }
  },
  {
   "cell_type": "code",
   "execution_count": null,
   "outputs": [],
   "source": [
    "from datetime import date\n",
    "date(1978,12,1)."
   ],
   "metadata": {
    "collapsed": false,
    "pycharm": {
     "name": "#%%\n"
    }
   }
  },
  {
   "cell_type": "code",
   "execution_count": 11,
   "outputs": [
    {
     "data": {
      "text/plain": "<Response [201]>"
     },
     "execution_count": 11,
     "metadata": {},
     "output_type": "execute_result"
    }
   ],
   "source": [
    "from datetime import date\n",
    "test_car={'broken': False,\n",
    "   'color': 'black',\n",
    "   'diler_id': 2,\n",
    "   'name': 'Shevrolet',\n",
    "   'num_owners': 6,\n",
    "   'price': 130000,\n",
    "   'sold': False,\n",
    "   'year_of_manufacture': f\"{date(1978, 12, 1)}\"}\n",
    "resp=requests.post(\n",
    "    \"http://127.0.0.1:5000/cars\",\n",
    "    json=test_car\n",
    ")\n",
    "resp"
   ],
   "metadata": {
    "collapsed": false,
    "pycharm": {
     "name": "#%%\n"
    }
   }
  },
  {
   "cell_type": "code",
   "execution_count": 12,
   "outputs": [
    {
     "data": {
      "text/plain": "{'broken': False,\n 'color': 'black',\n 'diler_id': 2,\n 'name': 'Shevrolet',\n 'num_owners': 6,\n 'price': 130000,\n 'sold': False,\n 'year_of_manufacture': 'Fri, 01 Dec 1978 00:00:00 GMT'}"
     },
     "execution_count": 12,
     "metadata": {},
     "output_type": "execute_result"
    }
   ],
   "source": [
    "resp.json()"
   ],
   "metadata": {
    "collapsed": false,
    "pycharm": {
     "name": "#%%\n"
    }
   }
  },
  {
   "cell_type": "code",
   "execution_count": null,
   "outputs": [],
   "source": [
    "\"\"\"Для того, чтобы изменить данные используется\n",
    "запросы типа PUT\"\"\"\n",
    "\n",
    "data={\n",
    "        \"name\":\"Берсерк\",\n",
    "        \"plot\":200000,\n",
    "        \"genres\":[\"Приключения\",\"Фэнтези\",\"Аниме\"],\n",
    "        \"casts\": [\"Кентаро\",\"Миура\"]\n",
    "    }\n",
    "resp=requests.put(\n",
    "    \"http://127.0.0.1:8000/7\",\n",
    "    json=data\n",
    ")\n",
    "resp"
   ],
   "metadata": {
    "collapsed": false,
    "pycharm": {
     "name": "#%%\n"
    }
   }
  },
  {
   "cell_type": "code",
   "execution_count": null,
   "outputs": [],
   "source": [
    "resp.json()"
   ],
   "metadata": {
    "collapsed": false,
    "pycharm": {
     "name": "#%%\n"
    }
   }
  },
  {
   "cell_type": "code",
   "execution_count": null,
   "outputs": [],
   "source": [
    "\"\"\"Для того, чтобы удалить данные используется\n",
    "запросы типа DELETE\"\"\"\n",
    "\n",
    "resp=requests.delete(\n",
    "    \"http://127.0.0.1:8000/dilers/1\"\n",
    ")\n",
    "resp"
   ],
   "metadata": {
    "collapsed": false,
    "pycharm": {
     "name": "#%%\n"
    }
   }
  },
  {
   "cell_type": "code",
   "execution_count": null,
   "outputs": [],
   "source": [
    "\n",
    "resp=requests.delete(\n",
    "    \"http://127.0.0.1:5000/custom_diler/1\",\n",
    "    # json=data,\n",
    "    # data=params\n",
    ")\n",
    "resp"
   ],
   "metadata": {
    "collapsed": false,
    "pycharm": {
     "name": "#%%\n"
    }
   }
  },
  {
   "cell_type": "code",
   "execution_count": null,
   "outputs": [],
   "source": [
    "resp.json()"
   ],
   "metadata": {
    "collapsed": false,
    "pycharm": {
     "name": "#%%\n"
    }
   }
  },
  {
   "cell_type": "code",
   "execution_count": null,
   "outputs": [],
   "source": [
    "params={\"id\":2}\n",
    "data={\n",
    "        \"name\":\"Летят вороны\",\n",
    "        \"plot\":5000,\n",
    "        \"genres\":[\"Drama\"],\n",
    "        \"casts\": [\"Luidmila\"]\n",
    "    }\n",
    "resp=requests.delete(\n",
    "    \"http://127.0.0.1:8000/4\",\n",
    "    # json=data,\n",
    "    # data=params\n",
    ")\n",
    "resp"
   ],
   "metadata": {
    "collapsed": false,
    "pycharm": {
     "name": "#%%\n"
    }
   }
  },
  {
   "cell_type": "code",
   "execution_count": null,
   "outputs": [],
   "source": [
    "import sqlalchemy as sch\n",
    "\n",
    "engine = sch.create_engine(\"postgresql://postgres:1@localhost/movie_db\")\n",
    "engine"
   ],
   "metadata": {
    "collapsed": false,
    "pycharm": {
     "name": "#%%\n"
    }
   }
  },
  {
   "cell_type": "code",
   "execution_count": null,
   "outputs": [],
   "source": [
    "meta = sch.MetaData()\n",
    "movies = sch.Table('movies',meta, autoload_with = engine )\n",
    "movies"
   ],
   "metadata": {
    "collapsed": false,
    "pycharm": {
     "name": "#%%\n"
    }
   }
  },
  {
   "cell_type": "code",
   "execution_count": null,
   "outputs": [],
   "source": [
    "movies.columns"
   ],
   "metadata": {
    "collapsed": false,
    "pycharm": {
     "name": "#%%\n"
    }
   }
  },
  {
   "cell_type": "code",
   "execution_count": null,
   "outputs": [],
   "source": [
    "[ c.name for c in movies.columns]"
   ],
   "metadata": {
    "collapsed": false,
    "pycharm": {
     "name": "#%%\n"
    }
   }
  },
  {
   "cell_type": "code",
   "execution_count": null,
   "outputs": [],
   "source": [
    "query = \"select * from movies\"\n",
    "res_query=engine.execute(query)\n",
    "list(res_query)"
   ],
   "metadata": {
    "collapsed": false,
    "pycharm": {
     "name": "#%%\n"
    }
   }
  },
  {
   "cell_type": "code",
   "execution_count": null,
   "outputs": [],
   "source": [
    "query_meta_movies = movies.select().fetch(12)\n",
    "str(query_meta_movies)"
   ],
   "metadata": {
    "collapsed": false,
    "pycharm": {
     "name": "#%%\n"
    }
   }
  },
  {
   "cell_type": "code",
   "execution_count": null,
   "outputs": [],
   "source": [
    "res_query=engine.execute(query_meta_movies)\n",
    "list(res_query)"
   ],
   "metadata": {
    "collapsed": false,
    "pycharm": {
     "name": "#%%\n"
    }
   }
  },
  {
   "cell_type": "code",
   "execution_count": null,
   "outputs": [],
   "source": [
    "new_row_in_db ={\n",
    "    \"name\": \"Молчание ягнят\",\n",
    "    \"plot\": \"7000000\",\n",
    "    \"genres\": [\"Horror\",\"Adv\"],\n",
    "    \"casts\": [\"Ягненок\", \"Маньяк\"]\n",
    "}\n",
    "query_add_new_movie = movies.insert().values(**new_row_in_db)\n",
    "engine.execute(query_add_new_movie)"
   ],
   "metadata": {
    "collapsed": false,
    "pycharm": {
     "name": "#%%\n"
    }
   }
  },
  {
   "cell_type": "code",
   "execution_count": null,
   "outputs": [],
   "source": [
    "import pandas as pd\n",
    "query = \"select * from movies\"\n",
    "df = pd.read_sql(query,con=engine)\n",
    "df"
   ],
   "metadata": {
    "collapsed": false,
    "pycharm": {
     "name": "#%%\n"
    }
   }
  },
  {
   "cell_type": "code",
   "execution_count": null,
   "outputs": [],
   "source": [
    "df['plot']=df['plot'].astype(int)\n",
    "df['plot']"
   ],
   "metadata": {
    "collapsed": false,
    "pycharm": {
     "name": "#%%\n"
    }
   }
  },
  {
   "cell_type": "code",
   "execution_count": null,
   "outputs": [],
   "source": [
    "df.describe()"
   ],
   "metadata": {
    "collapsed": false,
    "pycharm": {
     "name": "#%%\n"
    }
   }
  },
  {
   "cell_type": "code",
   "execution_count": null,
   "outputs": [],
   "source": [
    "df['plot']"
   ],
   "metadata": {
    "collapsed": false,
    "pycharm": {
     "name": "#%%\n"
    }
   }
  },
  {
   "cell_type": "code",
   "execution_count": null,
   "outputs": [],
   "source": [
    "df['plot'] = df['plot'].apply(lambda x : x/2)\n",
    "df['plot']"
   ],
   "metadata": {
    "collapsed": false,
    "pycharm": {
     "name": "#%%\n"
    }
   }
  },
  {
   "cell_type": "code",
   "execution_count": null,
   "outputs": [],
   "source": [
    "df.to_sql(name='movies',con=engine,if_exists='replace')"
   ],
   "metadata": {
    "collapsed": false,
    "pycharm": {
     "name": "#%%\n"
    }
   }
  },
  {
   "cell_type": "code",
   "execution_count": 19,
   "outputs": [
    {
     "data": {
      "text/plain": "10"
     },
     "execution_count": 19,
     "metadata": {},
     "output_type": "execute_result"
    }
   ],
   "source": [
    "\"\"\"Атрибут - это переменна в классе,\n",
    "    метод - это функция в классе\"\"\"\n",
    "class MyCalc:\n",
    "    val = 5\n",
    "    def add_values(self):\n",
    "        return 5+self.val\n",
    "a = MyCalc()\n",
    "a.add_values()"
   ],
   "metadata": {
    "collapsed": false,
    "pycharm": {
     "name": "#%%\n"
    }
   }
  },
  {
   "cell_type": "code",
   "execution_count": 20,
   "outputs": [
    {
     "data": {
      "text/plain": "<__main__.MyCalc at 0x1e631ba4550>"
     },
     "execution_count": 20,
     "metadata": {},
     "output_type": "execute_result"
    }
   ],
   "source": [
    "a.mayonez = 'я майонез'\n",
    "a"
   ],
   "metadata": {
    "collapsed": false,
    "pycharm": {
     "name": "#%%\n"
    }
   }
  },
  {
   "cell_type": "code",
   "execution_count": 21,
   "outputs": [
    {
     "data": {
      "text/plain": "'я майонез'"
     },
     "execution_count": 21,
     "metadata": {},
     "output_type": "execute_result"
    }
   ],
   "source": [
    "a.mayonez\n"
   ],
   "metadata": {
    "collapsed": false,
    "pycharm": {
     "name": "#%%\n"
    }
   }
  },
  {
   "cell_type": "code",
   "execution_count": 26,
   "outputs": [
    {
     "data": {
      "text/plain": "{'mayonez': 'я майонез'}"
     },
     "execution_count": 26,
     "metadata": {},
     "output_type": "execute_result"
    }
   ],
   "source": [
    "a.__dict__\n"
   ],
   "metadata": {
    "collapsed": false,
    "pycharm": {
     "name": "#%%\n"
    }
   }
  },
  {
   "cell_type": "code",
   "execution_count": 89,
   "outputs": [],
   "source": [
    "class MyCalc:\n",
    "    a=5\n",
    "    _b=4\n",
    "    __c=3\n",
    "    def __init__(self,value1:int,value2:int):\n",
    "        \"\"\"Метод - конструктор класса\"\"\"\n",
    "        self.__value1 = value1\n",
    "        self.__value2 = value2\n",
    "\n",
    "    def __add_values(self,val1,val2):\n",
    "        \"\"\"Суммируем значения\"\"\"\n",
    "        return val1+val2\n",
    "\n",
    "    def multiply_values(self):\n",
    "        \"\"\"Умножаем значения\"\"\"\n",
    "        return self.__value1*self.__value2\n",
    "\n",
    "    def devide_values(self):\n",
    "        \"\"\"Делим значения\"\"\"\n",
    "        return self.__value1/self.__value2\n",
    "\n",
    "    def quadro_sum_values(self):\n",
    "        \"\"\"Считает и возвращает сумму квадратов\"\"\"\n",
    "        return self.__add_values(\n",
    "            self.__value1**2,\n",
    "            self.__value2**2\n",
    "        )\n",
    "\n",
    "\n",
    "a = MyCalc(-2,4)\n",
    "# a.quadro_sum_values()\n",
    "# a.__c"
   ],
   "metadata": {
    "collapsed": false,
    "pycharm": {
     "name": "#%%\n"
    }
   }
  },
  {
   "cell_type": "code",
   "execution_count": 90,
   "outputs": [],
   "source": [
    "class Calculator(MyCalc):\n",
    "    # def __init__(self, value1:int, value2:int):\n",
    "    #     \"\"\"Метод - конструктор класса\"\"\"\n",
    "    #     # self.__value1 = value1\n",
    "    #     # self.__value2 = value2\n",
    "    #     super().__init__(value1,value2)\n",
    "\n",
    "    def multiply_values(self):\n",
    "        \"\"\"Умножаем значения\"\"\"\n",
    "        return str(self.__value1*self.__value2)\n",
    "\n",
    "ex_calc = Calculator(-2,4)\n",
    "# print(b.quadro_sum_values())\n",
    "# ex_calc.__c"
   ],
   "metadata": {
    "collapsed": false,
    "pycharm": {
     "name": "#%%\n"
    }
   }
  },
  {
   "cell_type": "code",
   "execution_count": 98,
   "outputs": [
    {
     "data": {
      "text/plain": "4"
     },
     "execution_count": 98,
     "metadata": {},
     "output_type": "execute_result"
    }
   ],
   "source": [
    "class fafa(Calculator):\n",
    "    pass\n",
    "\n",
    "ex_fafa=fafa(-2,4)\n",
    "ex_fafa._b"
   ],
   "metadata": {
    "collapsed": false,
    "pycharm": {
     "name": "#%%\n"
    }
   }
  },
  {
   "cell_type": "code",
   "execution_count": 92,
   "outputs": [
    {
     "data": {
      "text/plain": "4"
     },
     "execution_count": 92,
     "metadata": {},
     "output_type": "execute_result"
    }
   ],
   "source": [
    "class fafa1(fafa):\n",
    "    pass\n",
    "\n",
    "ex_fafa1=fafa1(-2,4)\n",
    "ex_fafa1._b"
   ],
   "metadata": {
    "collapsed": false,
    "pycharm": {
     "name": "#%%\n"
    }
   }
  },
  {
   "cell_type": "code",
   "execution_count": 97,
   "outputs": [],
   "source": [
    "class fafa2(fafa1):\n",
    "    pass\n",
    "\n",
    "ex_fafa2=fafa2(-2,4)\n",
    "e1_fafa2=fafa2(-2,4)\n",
    "e1_fafa2._b =2"
   ],
   "metadata": {
    "collapsed": false,
    "pycharm": {
     "name": "#%%\n"
    }
   }
  },
  {
   "cell_type": "code",
   "execution_count": 4,
   "outputs": [
    {
     "name": "stdout",
     "output_type": "stream",
     "text": [
      "5\n",
      "5\n"
     ]
    }
   ],
   "source": [
    "a=5\n",
    "print(a)\n",
    "def cc(a):\n",
    "\n",
    "    a=a+1\n",
    "    return a\n",
    "cc(a)\n",
    "print(a)"
   ],
   "metadata": {
    "collapsed": false,
    "pycharm": {
     "name": "#%%\n"
    }
   }
  }
 ],
 "metadata": {
  "kernelspec": {
   "name": "python3",
   "language": "python",
   "display_name": "Python 3 (ipykernel)"
  },
  "language_info": {
   "codemirror_mode": {
    "name": "ipython",
    "version": 2
   },
   "file_extension": ".py",
   "mimetype": "text/x-python",
   "name": "python",
   "nbconvert_exporter": "python",
   "pygments_lexer": "ipython2",
   "version": "2.7.6"
  }
 },
 "nbformat": 4,
 "nbformat_minor": 0
}