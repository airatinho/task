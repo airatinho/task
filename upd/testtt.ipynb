{
 "cells": [
  {
   "cell_type": "code",
   "execution_count": null,
   "metadata": {
    "collapsed": true
   },
   "outputs": [],
   "source": [
    "class Node:\n",
    "    def __init__(self, value, next=None):\n",
    "        self.next=next\n",
    "        self.value=value\n",
    "\n",
    "ex=None(2,Node(1))\n",
    "e0=None\n",
    "while ex is not None:\n",
    "    if ex.next==e0:\n",
    "        ex"
   ]
  }
 ],
 "metadata": {
  "kernelspec": {
   "name": "pycharm-39114d3a",
   "language": "python",
   "display_name": "PyCharm (client_server)"
  },
  "language_info": {
   "codemirror_mode": {
    "name": "ipython",
    "version": 2
   },
   "file_extension": ".py",
   "mimetype": "text/x-python",
   "name": "python",
   "nbconvert_exporter": "python",
   "pygments_lexer": "ipython2",
   "version": "2.7.6"
  }
 },
 "nbformat": 4,
 "nbformat_minor": 0
}