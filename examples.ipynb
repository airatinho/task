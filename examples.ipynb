{
 "cells": [
  {
   "cell_type": "code",
   "execution_count": 0,
   "metadata": {
    "collapsed": true
   },
   "outputs": [],
   "source": [
    "#file #1\n",
    "import sys\n",
    "def help()->None:\n",
    "    print('Помощь')\n",
    "if __name__ == '__main__':\n",
    "    args = sys.argv\n",
    "    while True:\n",
    "        if len(args)==1:\n",
    "            print('ok')\n",
    "            break\n",
    "        else:\n",
    "            help()\n",
    "            raise RuntimeError"
   ]
  },
  {
   "cell_type": "code",
   "execution_count": null,
   "outputs": [],
   "source": [
    "#file #2\n",
    "class DeleteError(Exception):\n",
    "    pass\n",
    "\n",
    "class File:\n",
    "    def __init__(self,name:str):\n",
    "        self.name = name\n",
    "\n",
    "    def delete(self):\n",
    "        print(f'Удаляю имя файла {self.name}!')\n",
    "\n",
    "    def protect(self):\n",
    "        raise NotImplementedError\n",
    "\n",
    "class Artifact(File):\n",
    "\n",
    "    def protect(self):\n",
    "        raise DeleteError(f'Файл {self.name} защищен от удаления!')\n",
    "\n"
   ],
   "metadata": {
    "collapsed": false,
    "pycharm": {
     "name": "#%%\n"
    }
   }
  },
  {
   "cell_type": "code",
   "execution_count": null,
   "outputs": [],
   "source": [],
   "metadata": {
    "collapsed": false,
    "pycharm": {
     "name": "#%%\n"
    }
   }
  }
 ],
 "metadata": {
  "kernelspec": {
   "display_name": "Python 3",
   "language": "python",
   "name": "python3"
  },
  "language_info": {
   "codemirror_mode": {
    "name": "ipython",
    "version": 2
   },
   "file_extension": ".py",
   "mimetype": "text/x-python",
   "name": "python",
   "nbconvert_exporter": "python",
   "pygments_lexer": "ipython2",
   "version": "2.7.6"
  }
 },
 "nbformat": 4,
 "nbformat_minor": 0
}