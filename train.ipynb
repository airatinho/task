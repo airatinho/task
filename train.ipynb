{
 "cells": [
  {
   "cell_type": "code",
   "execution_count": 1,
   "outputs": [],
   "source": [
    "import secs as secs\n",
    "%reset"
   ],
   "metadata": {
    "collapsed": false,
    "pycharm": {
     "name": "#%%\n"
    }
   }
  },
  {
   "cell_type": "code",
   "execution_count": 2,
   "outputs": [
    {
     "data": {
      "text/plain": "6"
     },
     "execution_count": 2,
     "metadata": {},
     "output_type": "execute_result"
    }
   ],
   "source": [
    "def jopa(x):\n",
    "    for i in range(x):\n",
    "        x+=1\n",
    "        yield x\n",
    "b = jopa(5)\n",
    "next(b)"
   ],
   "metadata": {
    "collapsed": false,
    "pycharm": {
     "name": "#%%\n"
    }
   }
  },
  {
   "cell_type": "code",
   "execution_count": 3,
   "outputs": [
    {
     "data": {
      "text/plain": "0"
     },
     "execution_count": 3,
     "metadata": {},
     "output_type": "execute_result"
    }
   ],
   "source": [
    "def fib(m):\n",
    "    a,b=0,1\n",
    "    for i in range(m):\n",
    "       yield a\n",
    "       a,b=b,a+b\n",
    "f=fib(5)\n",
    "next(f)"
   ],
   "metadata": {
    "collapsed": false,
    "pycharm": {
     "name": "#%%\n"
    }
   }
  },
  {
   "cell_type": "code",
   "execution_count": 4,
   "outputs": [
    {
     "data": {
      "text/plain": "[(0, 0),\n (0, 0, 0, 0),\n (0, 0, 0, 0, 0, 0),\n (0, 0, 0, 0, 0, 0, 0, 0, 0, 0),\n (0, 0, 0, 0, 0, 0, 0, 0, 0, 0, 0, 0, 0, 0, 0, 0),\n (0,\n  0,\n  0,\n  0,\n  0,\n  0,\n  0,\n  0,\n  0,\n  0,\n  0,\n  0,\n  0,\n  0,\n  0,\n  0,\n  0,\n  0,\n  0,\n  0,\n  0,\n  0,\n  0,\n  0,\n  0,\n  0),\n (0,\n  0,\n  0,\n  0,\n  0,\n  0,\n  0,\n  0,\n  0,\n  0,\n  0,\n  0,\n  0,\n  0,\n  0,\n  0,\n  0,\n  0,\n  0,\n  0,\n  0,\n  0,\n  0,\n  0,\n  0,\n  0,\n  0,\n  0,\n  0,\n  0,\n  0,\n  0,\n  0,\n  0,\n  0,\n  0,\n  0,\n  0,\n  0,\n  0,\n  0,\n  0),\n (0,\n  0,\n  0,\n  0,\n  0,\n  0,\n  0,\n  0,\n  0,\n  0,\n  0,\n  0,\n  0,\n  0,\n  0,\n  0,\n  0,\n  0,\n  0,\n  0,\n  0,\n  0,\n  0,\n  0,\n  0,\n  0,\n  0,\n  0,\n  0,\n  0,\n  0,\n  0,\n  0,\n  0,\n  0,\n  0,\n  0,\n  0,\n  0,\n  0,\n  0,\n  0,\n  0,\n  0,\n  0,\n  0,\n  0,\n  0,\n  0,\n  0,\n  0,\n  0,\n  0,\n  0,\n  0,\n  0,\n  0,\n  0,\n  0,\n  0,\n  0,\n  0,\n  0,\n  0,\n  0,\n  0,\n  0,\n  0),\n (0,\n  0,\n  0,\n  0,\n  0,\n  0,\n  0,\n  0,\n  0,\n  0,\n  0,\n  0,\n  0,\n  0,\n  0,\n  0,\n  0,\n  0,\n  0,\n  0,\n  0,\n  0,\n  0,\n  0,\n  0,\n  0,\n  0,\n  0,\n  0,\n  0,\n  0,\n  0,\n  0,\n  0,\n  0,\n  0,\n  0,\n  0,\n  0,\n  0,\n  0,\n  0,\n  0,\n  0,\n  0,\n  0,\n  0,\n  0,\n  0,\n  0,\n  0,\n  0,\n  0,\n  0,\n  0,\n  0,\n  0,\n  0,\n  0,\n  0,\n  0,\n  0,\n  0,\n  0,\n  0,\n  0,\n  0,\n  0,\n  0,\n  0,\n  0,\n  0,\n  0,\n  0,\n  0,\n  0,\n  0,\n  0,\n  0,\n  0,\n  0,\n  0,\n  0,\n  0,\n  0,\n  0,\n  0,\n  0,\n  0,\n  0,\n  0,\n  0,\n  0,\n  0,\n  0,\n  0,\n  0,\n  0,\n  0,\n  0,\n  0,\n  0,\n  0,\n  0,\n  0,\n  0,\n  0,\n  0,\n  0,\n  0),\n (0,\n  0,\n  0,\n  0,\n  0,\n  0,\n  0,\n  0,\n  0,\n  0,\n  0,\n  0,\n  0,\n  0,\n  0,\n  0,\n  0,\n  0,\n  0,\n  0,\n  0,\n  0,\n  0,\n  0,\n  0,\n  0,\n  0,\n  0,\n  0,\n  0,\n  0,\n  0,\n  0,\n  0,\n  0,\n  0,\n  0,\n  0,\n  0,\n  0,\n  0,\n  0,\n  0,\n  0,\n  0,\n  0,\n  0,\n  0,\n  0,\n  0,\n  0,\n  0,\n  0,\n  0,\n  0,\n  0,\n  0,\n  0,\n  0,\n  0,\n  0,\n  0,\n  0,\n  0,\n  0,\n  0,\n  0,\n  0,\n  0,\n  0,\n  0,\n  0,\n  0,\n  0,\n  0,\n  0,\n  0,\n  0,\n  0,\n  0,\n  0,\n  0,\n  0,\n  0,\n  0,\n  0,\n  0,\n  0,\n  0,\n  0,\n  0,\n  0,\n  0,\n  0,\n  0,\n  0,\n  0,\n  0,\n  0,\n  0,\n  0,\n  0,\n  0,\n  0,\n  0,\n  0,\n  0,\n  0,\n  0,\n  0,\n  0,\n  0,\n  0,\n  0,\n  0,\n  0,\n  0,\n  0,\n  0,\n  0,\n  0,\n  0,\n  0,\n  0,\n  0,\n  0,\n  0,\n  0,\n  0,\n  0,\n  0,\n  0,\n  0,\n  0,\n  0,\n  0,\n  0,\n  0,\n  0,\n  0,\n  0,\n  0,\n  0,\n  0,\n  0,\n  0,\n  0,\n  0,\n  0,\n  0,\n  0,\n  0,\n  0,\n  0,\n  0,\n  0,\n  0,\n  0,\n  0,\n  0,\n  0,\n  0,\n  0,\n  0,\n  0,\n  0,\n  0,\n  0,\n  0,\n  0,\n  0,\n  0,\n  0,\n  0,\n  0,\n  0,\n  0,\n  0)]"
     },
     "execution_count": 4,
     "metadata": {},
     "output_type": "execute_result"
    }
   ],
   "source": [
    "def simple_fi(val):\n",
    "    emp_l=[]\n",
    "    n_val=0,0\n",
    "    for i in range(val):\n",
    "        emp_l.append(n_val)\n",
    "        if n_val==0:\n",
    "            n_val+=1\n",
    "            # emp_l.append(n_val)\n",
    "        else:\n",
    "            n_val+=emp_l[i-1]\n",
    "    return emp_l\n",
    "simple_fi(10)"
   ],
   "metadata": {
    "collapsed": false,
    "pycharm": {
     "name": "#%%\n"
    }
   }
  },
  {
   "cell_type": "code",
   "execution_count": 11,
   "outputs": [],
   "source": [
    "def generator(m):\n",
    "    yield from range(m)\n",
    "gena=generator(6)"
   ],
   "metadata": {
    "collapsed": false,
    "pycharm": {
     "name": "#%%\n"
    }
   }
  },
  {
   "cell_type": "code",
   "execution_count": 12,
   "outputs": [
    {
     "data": {
      "text/plain": "<generator object generator at 0x000001E1B9C8A580>"
     },
     "execution_count": 12,
     "metadata": {},
     "output_type": "execute_result"
    }
   ],
   "source": [
    "gena"
   ],
   "metadata": {
    "collapsed": false,
    "pycharm": {
     "name": "#%%\n"
    }
   }
  },
  {
   "cell_type": "code",
   "execution_count": 4,
   "outputs": [],
   "source": [
    "a=(i for i in range(10))"
   ],
   "metadata": {
    "collapsed": false,
    "pycharm": {
     "name": "#%%\n"
    }
   }
  },
  {
   "cell_type": "code",
   "execution_count": 10,
   "outputs": [
    {
     "name": "stdout",
     "output_type": "stream",
     "text": [
      "<generator object <genexpr> at 0x000001E1B956CCF0>\n"
     ]
    }
   ],
   "source": [
    "print(a)"
   ],
   "metadata": {
    "collapsed": false,
    "pycharm": {
     "name": "#%%\n"
    }
   }
  },
  {
   "cell_type": "code",
   "execution_count": 13,
   "outputs": [],
   "source": [
    "a=[1,2,3]"
   ],
   "metadata": {
    "collapsed": false,
    "pycharm": {
     "name": "#%%\n"
    }
   }
  },
  {
   "cell_type": "code",
   "execution_count": 17,
   "outputs": [
    {
     "data": {
      "text/plain": "1"
     },
     "execution_count": 17,
     "metadata": {},
     "output_type": "execute_result"
    }
   ],
   "source": [
    "next(iter(a))"
   ],
   "metadata": {
    "collapsed": false,
    "pycharm": {
     "name": "#%%\n"
    }
   }
  },
  {
   "cell_type": "code",
   "execution_count": 6,
   "outputs": [
    {
     "data": {
      "text/plain": "0"
     },
     "execution_count": 6,
     "metadata": {},
     "output_type": "execute_result"
    }
   ],
   "source": [
    "next(gena)"
   ],
   "metadata": {
    "collapsed": false,
    "pycharm": {
     "name": "#%%\n"
    }
   }
  },
  {
   "cell_type": "code",
   "execution_count": 8,
   "outputs": [
    {
     "name": "stdout",
     "output_type": "stream",
     "text": [
      "Вызван метод setattr\n",
      "Вызван метод getattribute\n",
      "Вызван метод setattr\n",
      "Вызван метод getattribute\n",
      "Вызван метод setattr\n",
      "Вызван метод getattribute\n",
      "Вызван метод setattr\n",
      "Вызван метод getattribute\n"
     ]
    }
   ],
   "source": [
    "class Ayrat:\n",
    "    def __init__(self,name,x=0,y=0):\n",
    "        self.word='Hello '\n",
    "        self.name=name\n",
    "        self.x=x\n",
    "        self.y=y\n",
    "    def __call__(self, *args, **kwargs):#чтобы класс вызывался как функция\n",
    "        print(self.word +self.name)\n",
    "\n",
    "    def __getattr__(self,attr):#чтобы что то выводилось если такого атрибута нет нет\n",
    "        print(\"Нет такого метода\")\n",
    "    @staticmethod # делает метод доступным без создания экземпляра класса\n",
    "    def mamethod(x,y):\n",
    "        return x+y\n",
    "    def __getattribute__(self, attr):#вызывается при обращении к любому атрибуту\n",
    "        print(\"Вызван метод getattribute\")\n",
    "        return object.__getattribute__(self,attr) #чтобы не было зацикливания и вызывался необходимый атрибут, нужно вызывать через объект\n",
    "    def __len__(self):\n",
    "        return 50\n",
    "    def __setattr__(self, key, value):#вызывается при обращении к любому атрибуту\n",
    "        print(\"Вызван метод setattr\")\n",
    "        self.__dict__[key]=value#чтобы не было зацикливания и вызывался необходимый атрибут, нужно вызывать через объект\n",
    "\n",
    "a =Ayrat(\"Вася\")"
   ],
   "metadata": {
    "collapsed": false,
    "pycharm": {
     "name": "#%%\n"
    }
   }
  },
  {
   "cell_type": "code",
   "execution_count": 8,
   "outputs": [
    {
     "data": {
      "text/plain": "6"
     },
     "execution_count": 8,
     "metadata": {},
     "output_type": "execute_result"
    }
   ],
   "source": [
    "Ayrat.mamethod(5,1)"
   ],
   "metadata": {
    "collapsed": false,
    "pycharm": {
     "name": "#%%\n"
    }
   }
  },
  {
   "cell_type": "code",
   "execution_count": 7,
   "outputs": [
    {
     "data": {
      "text/plain": "'900150983cd24fb0d6963f7d28e17f72'"
     },
     "execution_count": 7,
     "metadata": {},
     "output_type": "execute_result"
    }
   ],
   "source": [
    "import hashlib\n",
    "import io\n",
    "# vvod=input().encode('utf-8')\n",
    "h=hashlib.md5(\"abc\".encode('utf-8')).hexdigest()\n",
    "h"
   ],
   "metadata": {
    "collapsed": false,
    "pycharm": {
     "name": "#%%\n"
    }
   }
  },
  {
   "cell_type": "code",
   "execution_count": 6,
   "outputs": [
    {
     "data": {
      "text/plain": "False"
     },
     "execution_count": 6,
     "metadata": {},
     "output_type": "execute_result"
    }
   ],
   "source": [
    "h==hashlib.md5(\"abc\".encode('utf-8')).hexdigest()"
   ],
   "metadata": {
    "collapsed": false,
    "pycharm": {
     "name": "#%%\n"
    }
   }
  },
  {
   "cell_type": "code",
   "execution_count": 10,
   "outputs": [],
   "source": [
    "# parts=int(input())\n",
    "# num_hash=int(input())\n",
    "#\n",
    "# if num_hash%parts==0:\n",
    "#     bound=int(num_hash/parts)\n",
    "# else:\n",
    "#     print(\"невенрное соотношение\")\n",
    "#\n",
    "#\n",
    "#\n",
    "# for i in range(0,parts):\n",
    "#     d={}\n",
    "#     d[\"n\"]=[]\n",
    "#     for j in range(bound):\n",
    "#         d[\"n\"].append(hashlib.md5(str(j).encode('utf-8')).hexdigest())\n",
    "#     f=open(f'{i+1}.txt',\"w\")\n",
    "#     f.write(str(d))\n",
    "#     f.close()\n",
    "#\n",
    "#\n",
    "# hashlib.md5(str(10).encode('utf-8'))"
   ],
   "metadata": {
    "collapsed": false,
    "pycharm": {
     "name": "#%%\n"
    }
   }
  },
  {
   "cell_type": "code",
   "execution_count": 11,
   "outputs": [],
   "source": [
    "def ex(m):\n",
    "\n",
    "    for i in range(m):\n",
    "        i\n",
    "        yield i\n"
   ],
   "metadata": {
    "collapsed": false,
    "pycharm": {
     "name": "#%%\n"
    }
   }
  },
  {
   "cell_type": "code",
   "execution_count": 12,
   "outputs": [],
   "source": [
    "mama=ex(2)"
   ],
   "metadata": {
    "collapsed": false,
    "pycharm": {
     "name": "#%%\n"
    }
   }
  },
  {
   "cell_type": "code",
   "execution_count": 13,
   "outputs": [
    {
     "data": {
      "text/plain": "0"
     },
     "execution_count": 13,
     "metadata": {},
     "output_type": "execute_result"
    }
   ],
   "source": [
    "next(mama)"
   ],
   "metadata": {
    "collapsed": false,
    "pycharm": {
     "name": "#%%\n"
    }
   }
  },
  {
   "cell_type": "code",
   "execution_count": 14,
   "outputs": [],
   "source": [
    "\"\"\"интерфейс в отличие от класса не содержит реализацию, а только описание, и он\n",
    "принуждает использовать методы\"\"\"\n",
    "from abc import abstractmethod,ABC\n",
    "class ICar(ABC):\n",
    "    \"\"\"Интерфейс машины\"\"\"\n",
    "    @abstractmethod\n",
    "    def __init__(self,name):\n",
    "        self.name = name\n",
    "        \"\"\"модель машины\"\"\"\n",
    "        pass\n",
    "\n",
    "    @abstractmethod\n",
    "    def model(self,name):\n",
    "        \"\"\"модель машины\"\"\"\n",
    "        pass\n",
    "\n",
    "    @abstractmethod\n",
    "    def power(self,name):\n",
    "        \"\"\"количество лошадиных сил\"\"\"\n",
    "        pass\n",
    "\n",
    "    @abstractmethod\n",
    "    def information(self):\n",
    "        \"\"\"доп информация о машине\"\"\"\n",
    "        pass\n",
    "\n",
    "class Outroad(ICar):\n",
    "    def __init__(self, name):\n",
    "        super().__init__(name)\n",
    "        self.name = name\n",
    "    def model(self,name):\n",
    "        print(f\"{name} является внедорожником!\")\n",
    "\n",
    "    def power(self,name):\n",
    "        print(f\"{name} имеет мощный двигатель и высокую подвеску!\")\n",
    "\n",
    "    def information(self):\n",
    "        print(f\"{self.name} ест много топлива и  обладает низкой скоростью, но \"\n",
    "              f\" выскокой проходимостью\")\n",
    "\n",
    "\n",
    "class Sportcar(ICar):\n",
    "    def __init__(self, name):\n",
    "        super().__init__(name)\n",
    "        self.name = name\n",
    "    def model(self,name):\n",
    "        print(f\"{name} является спорткаром!\")\n",
    "\n",
    "    def power(self,name):\n",
    "        print(f\"{name} имеет мощный двигатель и низкую подвеску!\")\n",
    "\n",
    "    def information(self):\n",
    "        print(f\"{self.name} ест  топливо в зависимости от мощности\"\n",
    "              f\" и  обладает высокой скоростью, но \"\n",
    "              f\" низкой проходимостью\")\n",
    "\n",
    "class NewUaz(Outroad):\n",
    "    def __init__(self, name):\n",
    "        super().__init__(name)\n",
    "        self.name = name\n",
    "    def information(self):\n",
    "        print(f\"Выпущен {self.name}\")\n",
    "\n",
    "class OldUaz(Outroad):\n",
    "    def __init__(self, date, num, name):\n",
    "        super().__init__(name)\n",
    "        self.date = date\n",
    "        self.num=num\n",
    "    def information(self):\n",
    "        print(f\"Выпущен {self.date}\")\n",
    "        return self.date\n",
    "    def __show_num_owners(self):\n",
    "        print(f\"имел {self.num} хозяев\")\n",
    "        return self.num\n",
    "    def __num_owners(self,num):\n",
    "        self.num=num\n",
    "        print(f\"имеет {self.num} хозяев\")\n",
    "        # return self.num\n",
    "    prop=property(__show_num_owners,__num_owners)# так задается свойство 1-setter,2-getter\n",
    "\n",
    "class Dolboeb:\n",
    "    __slots__ = (\"name\",\"car\")#позволяет ограничивать количество и значение атрибутов, что увеличивает скорость работы\n",
    "    def ride(self,car):\n",
    "        # print(f\"Долбоеб едет на {car}\")\n",
    "        car.information()\n",
    "        try:\n",
    "            car.num_owners()\n",
    "        except Exception:\n",
    "            print(\"Тачка новая\")\n",
    "            car.model(car.name)\n",
    "            car.information()\n",
    "        car.model(car.name)\n",
    "        car.power(car.name)\n",
    "    def crash(self,name):\n",
    "        print(f\"Машина {name} разъебана долбоебом\")"
   ],
   "metadata": {
    "collapsed": false,
    "pycharm": {
     "name": "#%%\n"
    }
   }
  },
  {
   "cell_type": "code",
   "execution_count": 15,
   "outputs": [
    {
     "name": "stdout",
     "output_type": "stream",
     "text": [
      "Lamborgini sv8 имеет мощный двигатель и низкую подвеску!\n",
      "Lamborgini sv8 является спорткаром!\n"
     ]
    },
    {
     "data": {
      "text/plain": "'Lamborgini sv8'"
     },
     "execution_count": 15,
     "metadata": {},
     "output_type": "execute_result"
    }
   ],
   "source": [
    "s=Sportcar(\"Lamborgini sv8\")\n",
    "s.power(\"Lamborgini sv8\")\n",
    "s.model(\"Lamborgini sv8\")\n",
    "s.name"
   ],
   "metadata": {
    "collapsed": false,
    "pycharm": {
     "name": "#%%\n"
    }
   }
  },
  {
   "cell_type": "code",
   "execution_count": 16,
   "outputs": [
    {
     "name": "stdout",
     "output_type": "stream",
     "text": [
      "Уаз A12 ест много топлива и  обладает низкой скоростью, но  выскокой проходимостью\n"
     ]
    },
    {
     "data": {
      "text/plain": "'Уаз A12'"
     },
     "execution_count": 16,
     "metadata": {},
     "output_type": "execute_result"
    }
   ],
   "source": [
    "o=Outroad(\"Уаз A12\")\n",
    "o.information()\n",
    "o.name"
   ],
   "metadata": {
    "collapsed": false,
    "pycharm": {
     "name": "#%%\n"
    }
   }
  },
  {
   "cell_type": "code",
   "execution_count": 17,
   "outputs": [
    {
     "name": "stdout",
     "output_type": "stream",
     "text": [
      "имел 5 хозяев\n",
      "имеет 6 хозяев\n"
     ]
    }
   ],
   "source": [
    "cu=OldUaz(name=\"Уаз A10\",num=5,date='20/21')\n",
    "# cu.information('20.21')\n",
    "cu.prop\n",
    "cu.prop=6"
   ],
   "metadata": {
    "collapsed": false,
    "pycharm": {
     "name": "#%%\n"
    }
   }
  },
  {
   "cell_type": "code",
   "execution_count": 18,
   "outputs": [
    {
     "name": "stdout",
     "output_type": "stream",
     "text": [
      "Машина Lamborgini sv8 разъебана долбоебом\n"
     ]
    }
   ],
   "source": [
    "d=Dolboeb()\n",
    "d.crash(\"Lamborgini sv8\")\n",
    "# d.name=\"Lamborgini sv8\"\n",
    "# d.car"
   ],
   "metadata": {
    "collapsed": false,
    "pycharm": {
     "name": "#%%\n"
    }
   }
  },
  {
   "cell_type": "code",
   "execution_count": 19,
   "outputs": [
    {
     "name": "stdout",
     "output_type": "stream",
     "text": [
      "Выпущен 20/21\n",
      "Тачка новая\n",
      "Уаз A10 является внедорожником!\n",
      "Выпущен 20/21\n",
      "Уаз A10 является внедорожником!\n",
      "Уаз A10 имеет мощный двигатель и высокую подвеску!\n"
     ]
    }
   ],
   "source": [
    "d.ride(cu)"
   ],
   "metadata": {
    "collapsed": false,
    "pycharm": {
     "name": "#%%\n"
    }
   }
  },
  {
   "cell_type": "code",
   "execution_count": 20,
   "outputs": [
    {
     "data": {
      "text/plain": "230"
     },
     "execution_count": 20,
     "metadata": {},
     "output_type": "execute_result"
    }
   ],
   "source": [
    "import numpy as np\n",
    "from itertools import permutations\n",
    "def TimeDifference(strArr):\n",
    "  # code goes here\n",
    "\n",
    "    time_in_min_arr=[]\n",
    "    diff_arr=[]\n",
    "    for i in range(len(strArr)):\n",
    "        if \"pm\" in strArr[i]:\n",
    "          # pm_arr.append(strArr[i].replace('pm',''))\n",
    "          hours,minutes=strArr[i].replace('pm','').split(':')\n",
    "          time_in_min=(int(hours)+12)*60 + int(minutes)\n",
    "          time_in_min_arr.append(time_in_min)\n",
    "        else:\n",
    "          hours,minutes=strArr[i].replace('am','').split(':')\n",
    "          time_in_min=int(hours)*60 + int(minutes)\n",
    "          time_in_min_arr.append(time_in_min)\n",
    "    possibilities = list(permutations(time_in_min_arr))\n",
    "    for possibility in possibilities:\n",
    "\n",
    "            diff_arr.append(abs(possibility[0]-possibility[1]))\n",
    "    return min(diff_arr)\n",
    "\n",
    "TimeDifference([\"1:10pm\", \"4:40am\", \"5:00pm\"])"
   ],
   "metadata": {
    "collapsed": false,
    "pycharm": {
     "name": "#%%\n"
    }
   }
  },
  {
   "cell_type": "code",
   "execution_count": 21,
   "outputs": [],
   "source": [
    "from scipy.special import perm,comb\n",
    "abv=[1,2,3,4,0]\n"
   ],
   "metadata": {
    "collapsed": false,
    "pycharm": {
     "name": "#%%\n"
    }
   }
  },
  {
   "cell_type": "code",
   "execution_count": 22,
   "outputs": [
    {
     "data": {
      "text/plain": "('10', '30')"
     },
     "execution_count": 22,
     "metadata": {},
     "output_type": "execute_result"
    }
   ],
   "source": [
    "cde=\"10:30\"\n",
    "a,b=cde.split(':')\n",
    "a,b"
   ],
   "metadata": {
    "collapsed": false,
    "pycharm": {
     "name": "#%%\n"
    }
   }
  },
  {
   "cell_type": "code",
   "execution_count": 23,
   "outputs": [
    {
     "data": {
      "text/plain": "0"
     },
     "execution_count": 23,
     "metadata": {},
     "output_type": "execute_result"
    }
   ],
   "source": [
    "abv=[1,2,3,4,0]\n",
    "min(abv)"
   ],
   "metadata": {
    "collapsed": false,
    "pycharm": {
     "name": "#%%\n"
    }
   }
  },
  {
   "cell_type": "code",
   "execution_count": 24,
   "outputs": [
    {
     "data": {
      "text/plain": "4"
     },
     "execution_count": 24,
     "metadata": {},
     "output_type": "execute_result"
    }
   ],
   "source": [
    "a = np.array([1, 2, 3, 4])\n",
    "\n",
    "a[np.abs(a - 6).argmin()]"
   ],
   "metadata": {
    "collapsed": false,
    "pycharm": {
     "name": "#%%\n"
    }
   }
  },
  {
   "cell_type": "code",
   "execution_count": 25,
   "outputs": [
    {
     "data": {
      "text/plain": "4"
     },
     "execution_count": 25,
     "metadata": {},
     "output_type": "execute_result"
    }
   ],
   "source": [
    "len(a)\n"
   ],
   "metadata": {
    "collapsed": false,
    "pycharm": {
     "name": "#%%\n"
    }
   }
  },
  {
   "cell_type": "code",
   "execution_count": 26,
   "outputs": [
    {
     "data": {
      "text/plain": "[1, 2, 3, 12]"
     },
     "execution_count": 26,
     "metadata": {},
     "output_type": "execute_result"
    }
   ],
   "source": [
    "b=[12,2,1,3]\n",
    "sorted(b)\n"
   ],
   "metadata": {
    "collapsed": false,
    "pycharm": {
     "name": "#%%\n"
    }
   }
  },
  {
   "cell_type": "code",
   "execution_count": 27,
   "outputs": [
    {
     "name": "stdout",
     "output_type": "stream",
     "text": [
      "pm\n"
     ]
    }
   ],
   "source": [
    "m_str=\"10:15pm\"\n",
    "if \"pm\" in m_str:\n",
    "    print(\"pm\")\n"
   ],
   "metadata": {
    "collapsed": false,
    "pycharm": {
     "name": "#%%\n"
    }
   }
  },
  {
   "cell_type": "code",
   "execution_count": 28,
   "outputs": [
    {
     "data": {
      "text/plain": "5"
     },
     "execution_count": 28,
     "metadata": {},
     "output_type": "execute_result"
    }
   ],
   "source": [
    "a=\"kyaak\"\n",
    "len(a)"
   ],
   "metadata": {
    "collapsed": false,
    "pycharm": {
     "name": "#%%\n"
    }
   }
  },
  {
   "cell_type": "code",
   "execution_count": 29,
   "outputs": [
    {
     "data": {
      "text/plain": "False"
     },
     "execution_count": 29,
     "metadata": {},
     "output_type": "execute_result"
    }
   ],
   "source": [
    "a='baccdfeaaaa'\n",
    "b='bacфdfeaaaa'\n",
    "set(a)==set(b)\n",
    "\n"
   ],
   "metadata": {
    "collapsed": false,
    "pycharm": {
     "name": "#%%\n"
    }
   }
  },
  {
   "cell_type": "code",
   "execution_count": 30,
   "outputs": [
    {
     "name": "stdout",
     "output_type": "stream",
     "text": [
      "Counter({'a': 5, 'c': 2, 'b': 1, 'd': 1, 'f': 1, 'e': 1})\n",
      "Counter({'a': 5, 'b': 1, 'c': 1, 'ф': 1, 'd': 1, 'f': 1, 'e': 1})\n"
     ]
    }
   ],
   "source": [
    "from collections import Counter\n",
    "print(str(Counter(a))+\n",
    "      '\\n'+str(Counter(b)))"
   ],
   "metadata": {
    "collapsed": false,
    "pycharm": {
     "name": "#%%\n"
    }
   }
  },
  {
   "cell_type": "code",
   "execution_count": 31,
   "outputs": [
    {
     "data": {
      "text/plain": "Counter({'c': 1})"
     },
     "execution_count": 31,
     "metadata": {},
     "output_type": "execute_result"
    }
   ],
   "source": [
    "Counter(a)-Counter(b)"
   ],
   "metadata": {
    "collapsed": false,
    "pycharm": {
     "name": "#%%\n"
    }
   }
  },
  {
   "cell_type": "code",
   "execution_count": 32,
   "outputs": [
    {
     "data": {
      "text/plain": "[98, 97, 99, 99, 100, 102, 101, 97, 97, 97, 97]"
     },
     "execution_count": 32,
     "metadata": {},
     "output_type": "execute_result"
    }
   ],
   "source": [
    "def str_to_num(str_name:str)->list:\n",
    "    str_num=[]\n",
    "    for i in str_name:\n",
    "        str_num.append(ord(i))\n",
    "    return str_num\n",
    "str_to_num(a)"
   ],
   "metadata": {
    "collapsed": false,
    "pycharm": {
     "name": "#%%\n"
    }
   }
  },
  {
   "cell_type": "code",
   "execution_count": 33,
   "outputs": [
    {
     "data": {
      "text/plain": "[98, 97, 99, 1092, 100, 102, 101, 97, 97, 97, 97]"
     },
     "execution_count": 33,
     "metadata": {},
     "output_type": "execute_result"
    }
   ],
   "source": [
    "str_to_num(b)\n"
   ],
   "metadata": {
    "collapsed": false,
    "pycharm": {
     "name": "#%%\n"
    }
   }
  },
  {
   "cell_type": "code",
   "execution_count": 34,
   "outputs": [
    {
     "name": "stdout",
     "output_type": "stream",
     "text": [
      "Не похожи\n"
     ]
    }
   ],
   "source": [
    "a_l=str_to_num(a)\n",
    "b_l=str_to_num(b)\n",
    "if len(a_l)==len(b_l):\n",
    "    for i in range(len(a_l)):\n",
    "        if a_l[i]-b_l[i]!=0:\n",
    "            print(\"Не похожи\")\n",
    "            break\n",
    "else:\n",
    "    print(\"Не похожи\")"
   ],
   "metadata": {
    "collapsed": false,
    "pycharm": {
     "name": "#%%\n"
    }
   }
  },
  {
   "cell_type": "code",
   "execution_count": 35,
   "outputs": [
    {
     "name": "stdout",
     "output_type": "stream",
     "text": [
      "не похожи\n",
      "Ошибка на итерации номер №3\n",
      "c из списка 'а' \n",
      "не равно ф из списка 'b'\n"
     ]
    }
   ],
   "source": [
    "if len(a)==len(b):\n",
    "    for i in range(len(a)):\n",
    "        if a[i]!=b[i]:\n",
    "            print(\"не похожи\")\n",
    "            print(f\"Ошибка на итерации номер №{i}\")\n",
    "            print(f\"{a[i]} из списка 'а' \\nне равно {b[i]} из списка 'b'\")\n",
    "else:\n",
    "    print(\"Не похожи\")\n",
    "\n"
   ],
   "metadata": {
    "collapsed": false,
    "pycharm": {
     "name": "#%%\n"
    }
   }
  },
  {
   "cell_type": "code",
   "execution_count": 36,
   "outputs": [
    {
     "data": {
      "text/plain": "'1'"
     },
     "execution_count": 36,
     "metadata": {},
     "output_type": "execute_result"
    }
   ],
   "source": [
    "abc='123123'\n",
    "abc[3]"
   ],
   "metadata": {
    "collapsed": false,
    "pycharm": {
     "name": "#%%\n"
    }
   }
  },
  {
   "cell_type": "code",
   "execution_count": 37,
   "outputs": [
    {
     "data": {
      "text/plain": "['1', '2', '3', '1', '2', '3']"
     },
     "execution_count": 37,
     "metadata": {},
     "output_type": "execute_result"
    }
   ],
   "source": [
    "list(abc)\n"
   ],
   "metadata": {
    "collapsed": false,
    "pycharm": {
     "name": "#%%\n"
    }
   }
  },
  {
   "cell_type": "code",
   "execution_count": 38,
   "outputs": [],
   "source": [
    "def addTwoNumbers( l1: list, l2: list) -> list:\n",
    "        str_l1=''\n",
    "        str_l2=''\n",
    "\n",
    "        for i in l1:\n",
    "            str_l1+=str(i)\n",
    "\n",
    "        for j in l2:\n",
    "            str_l2+=str(j)\n",
    "\n",
    "        int_sum_l1_l2=int(str_l1)+int(str_l2)\n",
    "        str_sum_l1_l2=str(int_sum_l1_l2)\n",
    "        list_str_sum_l1_l2=list(str_sum_l1_l2)\n",
    "        list_str_sum_l1_l2.reverse()\n",
    "        print( list_str_sum_l1_l2)"
   ],
   "metadata": {
    "collapsed": false,
    "pycharm": {
     "name": "#%%\n"
    }
   }
  },
  {
   "cell_type": "code",
   "execution_count": 39,
   "outputs": [
    {
     "name": "stdout",
     "output_type": "stream",
     "text": [
      "['8', '9', '9', '9', '0', '0', '0', '1']\n"
     ]
    }
   ],
   "source": [
    "fafa1 = [9,9,9,9,9,9,9]\n",
    "fafa2 = [9,9,9,9]\n",
    "addTwoNumbers(fafa1,fafa2)"
   ],
   "metadata": {
    "collapsed": false,
    "pycharm": {
     "name": "#%%\n"
    }
   }
  },
  {
   "cell_type": "code",
   "execution_count": 40,
   "outputs": [
    {
     "data": {
      "text/plain": "['3', '2', '1', '3', '2', '1']"
     },
     "execution_count": 40,
     "metadata": {},
     "output_type": "execute_result"
    }
   ],
   "source": [
    "abc_list=list(abc)\n",
    "abc_list.reverse()\n",
    "abc_list"
   ],
   "metadata": {
    "collapsed": false,
    "pycharm": {
     "name": "#%%\n"
    }
   }
  },
  {
   "cell_type": "code",
   "execution_count": 41,
   "outputs": [
    {
     "data": {
      "text/plain": "0"
     },
     "execution_count": 41,
     "metadata": {},
     "output_type": "execute_result"
    }
   ],
   "source": [
    "abc.count('a')"
   ],
   "metadata": {
    "collapsed": false,
    "pycharm": {
     "name": "#%%\n"
    }
   }
  },
  {
   "cell_type": "code",
   "execution_count": 42,
   "outputs": [
    {
     "name": "stdout",
     "output_type": "stream",
     "text": [
      "ырше\n"
     ]
    }
   ],
   "source": [
    "abc='abcabc'\n",
    "if 'abc' in abc:\n",
    "    print('ырше')"
   ],
   "metadata": {
    "collapsed": false,
    "pycharm": {
     "name": "#%%\n"
    }
   }
  },
  {
   "cell_type": "code",
   "execution_count": 43,
   "outputs": [
    {
     "data": {
      "text/plain": "''"
     },
     "execution_count": 43,
     "metadata": {},
     "output_type": "execute_result"
    }
   ],
   "source": [
    "abc.replace('abc','')\n"
   ],
   "metadata": {
    "collapsed": false,
    "pycharm": {
     "name": "#%%\n"
    }
   }
  },
  {
   "cell_type": "code",
   "execution_count": 44,
   "outputs": [
    {
     "data": {
      "text/plain": "6"
     },
     "execution_count": 44,
     "metadata": {},
     "output_type": "execute_result"
    }
   ],
   "source": [
    "len(abc)\n"
   ],
   "metadata": {
    "collapsed": false,
    "pycharm": {
     "name": "#%%\n"
    }
   }
  },
  {
   "cell_type": "code",
   "execution_count": 45,
   "outputs": [
    {
     "name": "stdout",
     "output_type": "stream",
     "text": [
      "0\n",
      "1\n",
      "2\n",
      "3\n",
      "4\n",
      "5\n"
     ]
    }
   ],
   "source": [
    "for ind,_ in enumerate(abc):\n",
    "    print(ind)"
   ],
   "metadata": {
    "collapsed": false,
    "pycharm": {
     "name": "#%%\n"
    }
   }
  },
  {
   "cell_type": "code",
   "execution_count": 46,
   "outputs": [],
   "source": [
    "# %reset"
   ],
   "metadata": {
    "collapsed": false,
    "pycharm": {
     "name": "#%%\n"
    }
   }
  },
  {
   "cell_type": "code",
   "execution_count": 47,
   "outputs": [
    {
     "name": "stdout",
     "output_type": "stream",
     "text": [
      "Я здесь 3 \n",
      "['a', 'ab', 'abc', 'abca', 'abcab', 'abcabc', 'abcabc', '']\n",
      "\n",
      "abcabc\n"
     ]
    },
    {
     "data": {
      "text/plain": "3"
     },
     "execution_count": 47,
     "metadata": {},
     "output_type": "execute_result"
    }
   ],
   "source": [
    "#Работает заебись\n",
    "def lengthOfLongestSubstring(s: str) -> int:\n",
    "        if len(s)==0:\n",
    "            print(\"Я здесь 1\")\n",
    "            return 0\n",
    "        elif len(s)==1:\n",
    "            print(\"Я здесь 2\")\n",
    "            return 1\n",
    "        else:\n",
    "            print(\"Я здесь 3 \")\n",
    "            str_list=[]\n",
    "            str_comb=''\n",
    "            for ind,val in enumerate(s):\n",
    "                if ind!=(len(s)-1):\n",
    "\n",
    "                    if val==s[ind+1]:\n",
    "                        str_list.append(str_comb)\n",
    "                        str_comb=''\n",
    "                    else:\n",
    "                        str_comb+=val\n",
    "                        str_list.append(str_comb)\n",
    "                else:\n",
    "                    str_list.append(str_comb)\n",
    "            print(str_list)\n",
    "            print(str_comb)\n",
    "            max_len=0\n",
    "            for j in str_list:\n",
    "                if len(j)>max_len:\n",
    "                    max_len=len(j)\n",
    "                    val=j\n",
    "            print(val)\n",
    "            min_val=len(val)\n",
    "            for i in val:\n",
    "                if val.find(i)!=val.rfind(i):\n",
    "                    if min_val>=val.rfind(i):\n",
    "                        min_val=val.rfind(i)\n",
    "            new_str=val[:min_val]\n",
    "\n",
    "\n",
    "\n",
    "            return len(new_str)\n",
    "\n",
    "abc=\"abcabcbb\"\n",
    "lengthOfLongestSubstring(abc)"
   ],
   "metadata": {
    "collapsed": false,
    "pycharm": {
     "name": "#%%\n"
    }
   }
  },
  {
   "cell_type": "code",
   "execution_count": 48,
   "outputs": [],
   "source": [
    "import re\n",
    "m_str='abcabc'\n",
    "# re.findall('a',m_str).count()"
   ],
   "metadata": {
    "collapsed": false,
    "pycharm": {
     "name": "#%%\n"
    }
   }
  },
  {
   "cell_type": "code",
   "execution_count": 49,
   "outputs": [
    {
     "data": {
      "text/plain": "4"
     },
     "execution_count": 49,
     "metadata": {},
     "output_type": "execute_result"
    }
   ],
   "source": [
    "m_str.rfind('b')\n",
    "# emp_str=str()\n",
    "# m=re.findall('a',m_str)\n",
    "# len(m)"
   ],
   "metadata": {
    "collapsed": false,
    "pycharm": {
     "name": "#%%\n"
    }
   }
  },
  {
   "cell_type": "code",
   "execution_count": 50,
   "outputs": [
    {
     "data": {
      "text/plain": "'abca'"
     },
     "execution_count": 50,
     "metadata": {},
     "output_type": "execute_result"
    }
   ],
   "source": [
    "m_str[:4]"
   ],
   "metadata": {
    "collapsed": false,
    "pycharm": {
     "name": "#%%\n"
    }
   }
  },
  {
   "cell_type": "code",
   "execution_count": 51,
   "outputs": [
    {
     "data": {
      "text/plain": "'abc'"
     },
     "execution_count": 51,
     "metadata": {},
     "output_type": "execute_result"
    }
   ],
   "source": [
    "min_val=len(m_str)\n",
    "for i in m_str:\n",
    "    if m_str.find(i)!=m_str.rfind(i):\n",
    "        if min_val>=m_str.rfind(i):\n",
    "            min_val=m_str.rfind(i)\n",
    "new_str=m_str[:min_val]\n",
    "new_str\n"
   ],
   "metadata": {
    "collapsed": false,
    "pycharm": {
     "name": "#%%\n"
    }
   }
  },
  {
   "cell_type": "code",
   "execution_count": 52,
   "outputs": [
    {
     "data": {
      "text/plain": "1"
     },
     "execution_count": 52,
     "metadata": {},
     "output_type": "execute_result"
    }
   ],
   "source": [
    "m_str.find('b')"
   ],
   "metadata": {
    "collapsed": false,
    "pycharm": {
     "name": "#%%\n"
    }
   }
  },
  {
   "cell_type": "code",
   "execution_count": 53,
   "outputs": [
    {
     "data": {
      "text/plain": "6"
     },
     "execution_count": 53,
     "metadata": {},
     "output_type": "execute_result"
    }
   ],
   "source": [
    "len(m_str)\n"
   ],
   "metadata": {
    "collapsed": false,
    "pycharm": {
     "name": "#%%\n"
    }
   }
  },
  {
   "cell_type": "code",
   "execution_count": 54,
   "outputs": [
    {
     "data": {
      "text/plain": "3"
     },
     "execution_count": 54,
     "metadata": {},
     "output_type": "execute_result"
    }
   ],
   "source": [
    "s=\"abcabcbb\"\n",
    "i =0\n",
    "j = 0\n",
    "d={}\n",
    "ans = 0\n",
    "while j < len(s):\n",
    " if s[j] not in d or i>d[s[j]]:\n",
    "    ans = max(ans,(j-i+1))\n",
    "    d[s[j]] = j\n",
    " else:\n",
    "    i = d[s[j]]+1\n",
    "    ans = max(ans,(j-i+1))\n",
    "    j-=1\n",
    " #print(ans)\n",
    " j+=1\n",
    "ans\n",
    "#сложная хуйня, но тоже работает)"
   ],
   "metadata": {
    "collapsed": false,
    "pycharm": {
     "name": "#%%\n"
    }
   }
  },
  {
   "cell_type": "code",
   "execution_count": 55,
   "outputs": [
    {
     "name": "stdout",
     "output_type": "stream",
     "text": [
      "2\n",
      "1\n",
      "0\n"
     ]
    }
   ],
   "source": [
    "from itertools import permutations\n",
    "inp=['a','b','c']\n",
    "def combo(inp:str)->None:\n",
    "    len_inp=len(inp)\n",
    "\n",
    "# inp[0]+inp[2]+inp[1]\n",
    "# inp[0],inp[2]\n",
    "for i in reversed(range(len(inp))):\n",
    "    print(i)\n",
    "# list(permutations(inp))"
   ],
   "metadata": {
    "collapsed": false,
    "pycharm": {
     "name": "#%%\n"
    }
   }
  },
  {
   "cell_type": "code",
   "execution_count": 56,
   "outputs": [
    {
     "data": {
      "text/plain": "[3, 2, 1]"
     },
     "execution_count": 56,
     "metadata": {},
     "output_type": "execute_result"
    }
   ],
   "source": [
    "list(range(len(inp), 0, -1))"
   ],
   "metadata": {
    "collapsed": false,
    "pycharm": {
     "name": "#%%\n"
    }
   }
  },
  {
   "cell_type": "code",
   "execution_count": 57,
   "outputs": [
    {
     "data": {
      "text/plain": "['c']"
     },
     "execution_count": 57,
     "metadata": {},
     "output_type": "execute_result"
    }
   ],
   "source": [
    "inp[2:]"
   ],
   "metadata": {
    "collapsed": false,
    "pycharm": {
     "name": "#%%\n"
    }
   }
  },
  {
   "cell_type": "code",
   "execution_count": 58,
   "outputs": [
    {
     "data": {
      "text/plain": "[]"
     },
     "execution_count": 58,
     "metadata": {},
     "output_type": "execute_result"
    }
   ],
   "source": [
    "inp[3:]"
   ],
   "metadata": {
    "collapsed": false,
    "pycharm": {
     "name": "#%%\n"
    }
   }
  },
  {
   "cell_type": "code",
   "execution_count": 59,
   "outputs": [
    {
     "data": {
      "text/plain": "['c']"
     },
     "execution_count": 59,
     "metadata": {},
     "output_type": "execute_result"
    }
   ],
   "source": [
    "inp[2:3]"
   ],
   "metadata": {
    "collapsed": false,
    "pycharm": {
     "name": "#%%\n"
    }
   }
  },
  {
   "cell_type": "code",
   "execution_count": 105,
   "outputs": [
    {
     "name": "stdout",
     "output_type": "stream",
     "text": [
      "[3, 2, 1]\n",
      "[0, 2, 1]\n",
      "[1, 0, 2]\n",
      "[1, 2, 0]\n",
      "[2, 0, 1]\n",
      "[2, 1, 0]\n"
     ]
    },
    {
     "data": {
      "text/plain": "[(1, 2, 3), (1, 3, 2), (2, 1, 3), (2, 3, 1), (3, 1, 2), (3, 2, 1)]"
     },
     "execution_count": 105,
     "metadata": {},
     "output_type": "execute_result"
    }
   ],
   "source": [
    "def permut(iterable, r=None):\n",
    "    # permutations('ABCD', 2) --> AB AC AD BA BC BD CA CB CD DA DB DC\n",
    "    # permutations(range(3)) --> 012 021 102 120 201 210\n",
    "    pool = tuple(iterable)\n",
    "    n = len(pool)\n",
    "    r = n if r is None else r\n",
    "    if r > n:\n",
    "        return\n",
    "    indices = list(range(n))\n",
    "    cycles = list(range(n, n-r, -1))\n",
    "    print(cycles)\n",
    "    yield tuple(pool[i] for i in indices[:r])\n",
    "    while n:\n",
    "        for i in reversed(range(r)):\n",
    "            cycles[i] -= 1\n",
    "            if cycles[i] == 0:\n",
    "                indices[i:] = indices[i+1:] + indices[i:i+1]\n",
    "                cycles[i] = n - i\n",
    "            else:\n",
    "                j = cycles[i]\n",
    "                indices[i], indices[-j] = indices[-j], indices[i]\n",
    "                print(indices)\n",
    "                yield tuple(pool[i] for i in indices[:r])\n",
    "                break\n",
    "        else:\n",
    "            return\n",
    "list(permut([1,2,3]))"
   ],
   "metadata": {
    "collapsed": false,
    "pycharm": {
     "name": "#%%\n"
    }
   }
  },
  {
   "cell_type": "code",
   "execution_count": 126,
   "outputs": [
    {
     "name": "stdout",
     "output_type": "stream",
     "text": [
      "Секрет\n"
     ]
    },
    {
     "data": {
      "text/plain": "{'coordX': 10, 'coordY': 2}"
     },
     "execution_count": 126,
     "metadata": {},
     "output_type": "execute_result"
    }
   ],
   "source": [
    "class CoordValue:\n",
    "    \"\"\"класс дескриптор\"\"\"\n",
    "    def __set_name__(self, owner, name):\n",
    "        self.__name = name\n",
    "    def __get__(self, instance, owner):\n",
    "        return instance.__dict__[self.__name]\n",
    "    def __set__(self, instance, value):\n",
    "        instance.__dict__[self.__name] = value\n",
    "\n",
    "class Point:\n",
    "    coordX=CoordValue()\n",
    "    coordY=CoordValue()\n",
    "\n",
    "    def __init__(self,x=0,y=0):\n",
    "        self.coordX=x\n",
    "        self.coordY=y\n",
    "\n",
    "    @staticmethod\n",
    "    def secret():\n",
    "        \"\"\"этот метод для вывода свойств непосредствеnно этого класса\"\"\"\n",
    "        print(\"Секрет\")\n",
    "pt=Point(1,2)\n",
    "pt1=Point(10,2)\n",
    "pt1.secret()\n",
    "pt1.__dict__"
   ],
   "metadata": {
    "collapsed": false,
    "pycharm": {
     "name": "#%%\n"
    }
   }
  },
  {
   "cell_type": "code",
   "execution_count": 63,
   "outputs": [],
   "source": [
    "\"\"\"создание синглетона\"\"\"\n",
    "class Singleton:\n",
    "    __instance=None\n",
    "    def __new__(cls, *args, **kwargs):\n",
    "        if not isinstance(cls.__instance,cls):\n",
    "            cls.__instance=super(Singleton,cls).__new__(cls)\n",
    "\n",
    "        else:\n",
    "            print(\"ex exist\")\n"
   ],
   "metadata": {
    "collapsed": false,
    "pycharm": {
     "name": "#%%\n"
    }
   }
  },
  {
   "cell_type": "code",
   "execution_count": 40,
   "outputs": [
    {
     "ename": "TypeError",
     "evalue": "update_forward_refs() takes 1 positional argument but 2 were given",
     "output_type": "error",
     "traceback": [
      "\u001B[1;31m---------------------------------------------------------------------------\u001B[0m",
      "\u001B[1;31mTypeError\u001B[0m                                 Traceback (most recent call last)",
      "\u001B[1;32m~\\AppData\\Local\\Temp/ipykernel_13352/588424717.py\u001B[0m in \u001B[0;36m<module>\u001B[1;34m\u001B[0m\n\u001B[0;32m     11\u001B[0m \u001B[0mreq_data\u001B[0m\u001B[1;33m=\u001B[0m\u001B[1;33m{\u001B[0m\u001B[1;34m\"user\"\u001B[0m\u001B[1;33m:\u001B[0m\u001B[1;36m5\u001B[0m\u001B[1;33m,\u001B[0m \u001B[1;34m\"password\"\u001B[0m\u001B[1;33m:\u001B[0m\u001B[1;34m\"111\"\u001B[0m\u001B[1;33m,\u001B[0m\u001B[1;34m\"zhopa\"\u001B[0m\u001B[1;33m:\u001B[0m\u001B[1;33m(\u001B[0m\u001B[1;36m1\u001B[0m\u001B[1;33m,\u001B[0m\u001B[1;36m2\u001B[0m\u001B[1;33m,\u001B[0m\u001B[1;36m3\u001B[0m\u001B[1;33m)\u001B[0m\u001B[1;33m}\u001B[0m\u001B[1;33m\u001B[0m\u001B[1;33m\u001B[0m\u001B[0m\n\u001B[0;32m     12\u001B[0m \u001B[1;31m# Base.parse_obj(req_data).dict()\u001B[0m\u001B[1;33m\u001B[0m\u001B[1;33m\u001B[0m\u001B[1;33m\u001B[0m\u001B[0m\n\u001B[1;32m---> 13\u001B[1;33m \u001B[0mBase\u001B[0m\u001B[1;33m.\u001B[0m\u001B[0mupdate_forward_refs\u001B[0m\u001B[1;33m(\u001B[0m\u001B[0mreq_data\u001B[0m\u001B[1;33m[\u001B[0m\u001B[1;34m'user'\u001B[0m\u001B[1;33m]\u001B[0m\u001B[1;33m)\u001B[0m\u001B[1;33m\u001B[0m\u001B[1;33m\u001B[0m\u001B[0m\n\u001B[0m",
      "\u001B[1;31mTypeError\u001B[0m: update_forward_refs() takes 1 positional argument but 2 were given"
     ]
    }
   ],
   "source": [
    "from typing import Union, List, Sequence\n",
    "import pydantic as pyd\n",
    "from pydantic.dataclasses import dataclass\n",
    "from uuid import UUID\n",
    "\n",
    "class Base(pyd.BaseModel):\n",
    "    user:str\n",
    "    password:int\n",
    "    zhopa:Sequence[int]\n",
    "\n",
    "req_data={\"user\":5, \"password\":\"111\",\"zhopa\":(1,2,3)}\n",
    "# Base.parse_obj(req_data).dict()\n",
    "Base.update_forward_refs(req_data['user'])"
   ],
   "metadata": {
    "collapsed": false,
    "pycharm": {
     "name": "#%%\n"
    }
   }
  },
  {
   "cell_type": "code",
   "execution_count": 24,
   "outputs": [
    {
     "data": {
      "text/plain": "['user', 'password', 'zhopa']"
     },
     "execution_count": 24,
     "metadata": {},
     "output_type": "execute_result"
    }
   ],
   "source": [
    "[*req_data.keys()]"
   ],
   "metadata": {
    "collapsed": false,
    "pycharm": {
     "name": "#%%\n"
    }
   }
  },
  {
   "cell_type": "code",
   "execution_count": 6,
   "outputs": [
    {
     "data": {
      "text/plain": "[{'id': 1, 'car': 'mazeratti', 'sum': 5000},\n {'id': 2, 'car': 'LADA', 'sum': 5000}]"
     },
     "execution_count": 6,
     "metadata": {},
     "output_type": "execute_result"
    }
   ],
   "source": [
    "from pydantic import BaseModel\n",
    "from typing import List\n",
    "db_implementation=[\n",
    "    {\n",
    "        \"id\":1,\n",
    "        \"car\":\"mazeratti\",\n",
    "        \"sum\":5000\n",
    "    },\n",
    "    {\n",
    "        \"id\": \"2\",\n",
    "        \"car\": \"LADA\",\n",
    "        \"sum\": 5000\n",
    "    }\n",
    "\n",
    "]\n",
    "class Transaction(BaseModel):\n",
    "    id: int\n",
    "    car: str\n",
    "    sum: int\n",
    "\n",
    "class Transactions(BaseModel):\n",
    "    transaction:List[Transaction]\n",
    "Transactions(transaction=db_implementation).dict()['transaction']"
   ],
   "metadata": {
    "collapsed": false,
    "pycharm": {
     "name": "#%%\n"
    }
   }
  },
  {
   "cell_type": "code",
   "execution_count": 18,
   "outputs": [
    {
     "data": {
      "text/plain": "{'dilers_info': [(1, 'vasya', 'kazan'), (2, 'petya', 'moscow')]}"
     },
     "execution_count": 18,
     "metadata": {},
     "output_type": "execute_result"
    }
   ],
   "source": [
    "from pydantic import BaseModel\n",
    "from typing import List,NamedTuple\n",
    "\n",
    "val=[\n",
    "    (1, 'vasya', 'kazan'),\n",
    "    (2, 'petya', 'moscow')\n",
    "]\n",
    "class DilerVal(NamedTuple):\n",
    "    id: int\n",
    "    name: str\n",
    "    address: str\n",
    "\n",
    "class DilersVal(BaseModel):\n",
    "    dilers_info:List[DilerVal]\n",
    "DilersVal(dilers_info=val).dict()"
   ],
   "metadata": {
    "collapsed": false,
    "pycharm": {
     "name": "#%%\n"
    }
   }
  },
  {
   "cell_type": "code",
   "execution_count": null,
   "outputs": [],
   "source": [
    "from pydantic import BaseModel\n",
    "from typing import List,NamedTuple,Optional\n",
    "\n",
    "from datetime import date\n",
    "class DilerVal(BaseModel):\n",
    "    id: int\n",
    "    name: str\n",
    "    address: str\n",
    "\n",
    "data={\n",
    "    'name': 'Ivan', 'address': 'chelny'\n",
    "}"
   ],
   "metadata": {
    "collapsed": false,
    "pycharm": {
     "name": "#%%\n"
    }
   }
  },
  {
   "cell_type": "code",
   "execution_count": 65,
   "outputs": [
    {
     "data": {
      "text/plain": "UserGroup(group='jopy', users=[User(external_uid=123131, name='asdada'), User(external_uid=880055533535, name='jopa')])"
     },
     "execution_count": 65,
     "metadata": {},
     "output_type": "execute_result"
    }
   ],
   "source": [
    "@dataclass\n",
    "class User:\n",
    "    external_uid:int\n",
    "    name:str\n",
    "@dataclass\n",
    "class UserGroup:\n",
    "    group:str\n",
    "    users:List[User]\n",
    "user1={'external_uid':\"123131\",'name':\"asdada\"}\n",
    "user2={'external_uid':\"880055533535\",'name':\"jopa\"}\n",
    "users={'group':\"jopy\",\"users\":[user1,user2]}\n",
    "UserGroup(**users)"
   ],
   "metadata": {
    "collapsed": false,
    "pycharm": {
     "name": "#%%\n"
    }
   }
  },
  {
   "cell_type": "code",
   "execution_count": 66,
   "outputs": [
    {
     "data": {
      "text/plain": "(3, 3)"
     },
     "execution_count": 66,
     "metadata": {},
     "output_type": "execute_result"
    }
   ],
   "source": [
    "\"\"\"статические свойства классов\"\"\"\n",
    "class Point:\n",
    "    __count=0\n",
    "    def __init__(self,x=0,y=0):\n",
    "        Point.__count+=1\n",
    "        self.coordX=x\n",
    "        self.coordY=y\n",
    "    @staticmethod #делает метод доступным без создания экземпляра класса\n",
    "    def getCount():\n",
    "        return Point.__count\n",
    "pt1=Point()\n",
    "pt2=Point()\n",
    "pt3=Point()\n",
    "# pt1.count=1\n",
    "# Point.count=10\n",
    "# pt1.count,pt2.count,pt3.count\n",
    "pt1.getCount(),Point.getCount()"
   ],
   "metadata": {
    "collapsed": false,
    "pycharm": {
     "name": "#%%\n"
    }
   }
  },
  {
   "cell_type": "code",
   "execution_count": 67,
   "outputs": [
    {
     "name": "stdout",
     "output_type": "stream",
     "text": [
      "ex exist\n",
      "ex exist\n",
      "140734627552472 140734627552472 140734627552472\n"
     ]
    },
    {
     "data": {
      "text/plain": "3"
     },
     "execution_count": 67,
     "metadata": {},
     "output_type": "execute_result"
    }
   ],
   "source": [
    "\"\"\"создает только один экземпляр, остальные экземпляры будут ссылаться на первый\"\"\"\n",
    "class Singleton_NEW:\n",
    "    __instance=None\n",
    "    __count=0\n",
    "    def __new__(cls, *args, **kwargs):\n",
    "        if not isinstance(cls.__instance,cls):\n",
    "            cls.__instance=super(Singleton_NEW,cls).__new__(cls)\n",
    "\n",
    "        else:\n",
    "            print(\"ex exist\")\n",
    "    def __init__(self,x=0,y=0):\n",
    "        Singleton_NEW.__count+=1\n",
    "        self.coordX=x\n",
    "        self.coordY=y\n",
    "    def getCount(self):\n",
    "        return Singleton_NEW.__count\n",
    "pt1=Singleton_NEW()\n",
    "pt2=Singleton_NEW()\n",
    "pt3=Singleton_NEW()\n",
    "print(id(pt1),id(pt2),id(pt3))\n",
    "Point.getCount()"
   ],
   "metadata": {
    "collapsed": false,
    "pycharm": {
     "name": "#%%\n"
    }
   }
  },
  {
   "cell_type": "code",
   "execution_count": 68,
   "outputs": [
    {
     "data": {
      "text/plain": "6"
     },
     "execution_count": 68,
     "metadata": {},
     "output_type": "execute_result"
    }
   ],
   "source": [
    "class Rectangle:\n",
    "    perimeter=0\n",
    "    def __init__(self,a:int=0,b:int=0):\n",
    "        Rectangle.perimeter=self.calc_perimeter(a,b)\n",
    "\n",
    "\n",
    "    @staticmethod\n",
    "    def calc_perimeter(a:int=0,b:int=0)->int:\n",
    "        return a+b\n",
    "Rectangle.calc_perimeter(5,1)"
   ],
   "metadata": {
    "collapsed": false,
    "pycharm": {
     "name": "#%%\n"
    }
   }
  },
  {
   "cell_type": "code",
   "execution_count": 69,
   "outputs": [
    {
     "data": {
      "text/plain": "6"
     },
     "execution_count": 69,
     "metadata": {},
     "output_type": "execute_result"
    }
   ],
   "source": [
    "pt=Rectangle(5,1)\n",
    "\n",
    "Rectangle.perimeter"
   ],
   "metadata": {
    "collapsed": false,
    "pycharm": {
     "name": "#%%\n"
    }
   }
  },
  {
   "cell_type": "code",
   "execution_count": 70,
   "outputs": [
    {
     "name": "stdout",
     "output_type": "stream",
     "text": [
      "Exist over 5\n"
     ]
    },
    {
     "data": {
      "text/plain": "(<__main__.Dog at 0x2a2ff505970>,\n <__main__.Dog at 0x2a2ff505d00>,\n <__main__.Dog at 0x2a2ff505b50>,\n <__main__.Dog at 0x2a2ff505820>,\n <__main__.Dog at 0x2a2ff505e80>)"
     },
     "execution_count": 70,
     "metadata": {},
     "output_type": "execute_result"
    }
   ],
   "source": [
    "class Dog:\n",
    "    __count=0\n",
    "\n",
    "    def __init__(self,name,poroda,age):\n",
    "        Dog.__count+=1\n",
    "        if Dog.__count<=5:\n",
    "            self.name=name\n",
    "            self.poroda=poroda\n",
    "            self.age=age\n",
    "        else:\n",
    "            print(\"Exist over 5\")\n",
    "\n",
    "\n",
    "dog1=Dog(\"bob\",\"bilt\",5)\n",
    "dog2=Dog(\"marge\",\"bilt\",6)\n",
    "dog3=Dog(\"fin\",\"bilt\",7)\n",
    "dog4=Dog(\"ilmir\",\"bilt\",12)\n",
    "dog5=Dog(\"vasya\",\"bilt\",56)\n",
    "dog6=Dog(\"ttt\",\"bilt\",1)\n",
    "dog1,dog2,dog3,dog4,dog5"
   ],
   "metadata": {
    "collapsed": false,
    "pycharm": {
     "name": "#%%\n"
    }
   }
  },
  {
   "cell_type": "code",
   "execution_count": 71,
   "outputs": [
    {
     "data": {
      "text/plain": "(2899091413360,\n 2899091414272,\n 2899091413840,\n 2899091413024,\n 2899091414656,\n 2899091412160)"
     },
     "execution_count": 71,
     "metadata": {},
     "output_type": "execute_result"
    }
   ],
   "source": [
    "id(dog1),id(dog2),id(dog3),id(dog4),id(dog5),id(dog6)"
   ],
   "metadata": {
    "collapsed": false,
    "pycharm": {
     "name": "#%%\n"
    }
   }
  },
  {
   "cell_type": "code",
   "execution_count": 72,
   "outputs": [
    {
     "name": "stdout",
     "output_type": "stream",
     "text": [
      "Идет подготовка потока 0\n",
      "\n",
      "Поток 0 запущен!\n",
      "\n",
      "Идет подготовка потока 1\n",
      "\n",
      "Поток 1 запущен!\n",
      "\n",
      "Идет подготовка потока 2\n",
      "\n",
      "Поток 2 запущен!\n",
      "\n",
      "Идет подготовка потока 3\n",
      "\n",
      "Поток 3 запущен!\n",
      "\n",
      "Идет подготовка потока 4\n",
      "\n",
      "Поток 4 запущен!\n",
      "\n",
      "Идет подготовка потока 5\n",
      "\n",
      "Поток 5 запущен!\n",
      "\n",
      "Идет подготовка потока 6\n",
      "\n",
      "Поток 6 запущен!\n",
      "\n",
      "Идет подготовка потока 7\n",
      "\n",
      "Поток 7 запущен!\n",
      "\n",
      "Идет подготовка потока 8\n",
      "Поток 8 запущен!\n",
      "\n",
      "\n",
      "Идет подготовка потока 9\n",
      "\n",
      "Поток 9 запущен!\n",
      "\n",
      "Изображение отправлено\n",
      "Изображение отправлено\n",
      "Изображение отправлено\n",
      "Изображение отправлено\n",
      "\n",
      "Изображение отправлено\n",
      "\n",
      "\n",
      "\n",
      "Изображение отправлено\n",
      "Изображение отправлено\n",
      "\n",
      "Изображение отправлено\n",
      "\n",
      "\n",
      "Изображение отправлено\n",
      "\n",
      "Изображение отправлено\n",
      "\n",
      "\n"
     ]
    }
   ],
   "source": [
    "\"\"\"Event-ы\"\"\"\n",
    "import threading\n",
    "import time\n",
    "\n",
    "event=threading.Event()\n",
    "def image_hanlder():\n",
    "    thr_num=threading.current_thread().name\n",
    "    print(f\"Идет подготовка потока {thr_num}\\n\")\n",
    "    event.wait()\n",
    "    print(\"Изображение отправлено\\n\")\n",
    "\n",
    "for i in range(10):\n",
    "    threading.Thread(target=image_hanlder,name=str(i)).start()\n",
    "    print(f\"Поток {i} запущен!\\n\")\n",
    "    time.sleep(1)\n",
    "\n",
    "if threading.active_count()>=10:\n",
    "    event.set()\n"
   ],
   "metadata": {
    "collapsed": false,
    "pycharm": {
     "name": "#%%\n"
    }
   }
  },
  {
   "cell_type": "code",
   "execution_count": 73,
   "outputs": [
    {
     "name": "stdout",
     "output_type": "stream",
     "text": [
      "Получили событие!\n",
      "\n"
     ]
    }
   ],
   "source": [
    "from threading import Condition\n",
    "cond = Condition()\n",
    "def f1():\n",
    "    while True:\n",
    "        with cond:\n",
    "            cond.wait()\n",
    "            print(\"Получили событие!\\n\")\n",
    "\n",
    "def f2():\n",
    "    for i in range(50):\n",
    "        if i%10==0:\n",
    "            with cond:\n",
    "                cond.notify()\n",
    "        else:\n",
    "            print(f\"f1:{i}\")\n",
    "        time.sleep(1)\n",
    "threading.Thread(target=f1).start()\n",
    "threading.Thread(target=f2).start()"
   ],
   "metadata": {
    "collapsed": false,
    "pycharm": {
     "name": "#%%\n"
    }
   }
  },
  {
   "cell_type": "code",
   "execution_count": 74,
   "outputs": [
    {
     "data": {
      "text/plain": "['', 'aaa', 'aaaaa', 'bbb', 'cccc', 'fffff']"
     },
     "execution_count": 74,
     "metadata": {},
     "output_type": "execute_result"
    }
   ],
   "source": [
    "from collections import defaultdict\n",
    "a='aaa bbb cccc fffff aaaaa aaa aaa bbb '\n",
    "worlds=a.split(' ')\n",
    "b= {}\n",
    "for i in worlds:\n",
    "    b[i]=worlds.count(i)\n",
    "sorted(b)"
   ],
   "metadata": {
    "collapsed": false,
    "pycharm": {
     "name": "#%%\n"
    }
   }
  },
  {
   "cell_type": "code",
   "execution_count": 75,
   "outputs": [
    {
     "ename": "AttributeError",
     "evalue": "'Line' object has no attribute 'drawline'",
     "output_type": "error",
     "traceback": [
      "\u001B[1;31m---------------------------------------------------------------------------\u001B[0m",
      "\u001B[1;31mAttributeError\u001B[0m                            Traceback (most recent call last)",
      "\u001B[1;32m~\\AppData\\Local\\Temp/ipykernel_12480/1452869865.py\u001B[0m in \u001B[0;36m<module>\u001B[1;34m\u001B[0m\n\u001B[0;32m     69\u001B[0m \u001B[1;33m\u001B[0m\u001B[0m\n\u001B[0;32m     70\u001B[0m \u001B[0ml\u001B[0m\u001B[1;33m=\u001B[0m\u001B[0mLine\u001B[0m\u001B[1;33m(\u001B[0m\u001B[0mPoint\u001B[0m\u001B[1;33m(\u001B[0m\u001B[1;36m1\u001B[0m\u001B[1;33m,\u001B[0m\u001B[1;36m2\u001B[0m\u001B[1;33m)\u001B[0m\u001B[1;33m,\u001B[0m \u001B[0mPoint\u001B[0m\u001B[1;33m(\u001B[0m\u001B[1;36m2\u001B[0m\u001B[1;33m,\u001B[0m\u001B[1;36m3\u001B[0m\u001B[1;33m)\u001B[0m\u001B[1;33m)\u001B[0m\u001B[1;33m\u001B[0m\u001B[1;33m\u001B[0m\u001B[0m\n\u001B[1;32m---> 71\u001B[1;33m \u001B[0ml\u001B[0m\u001B[1;33m.\u001B[0m\u001B[0mdrawline\u001B[0m\u001B[1;33m(\u001B[0m\u001B[1;33m)\u001B[0m\u001B[1;33m\u001B[0m\u001B[1;33m\u001B[0m\u001B[0m\n\u001B[0m\u001B[0;32m     72\u001B[0m \u001B[0ml\u001B[0m\u001B[1;33m.\u001B[0m\u001B[0mset_coords\u001B[0m\u001B[1;33m(\u001B[0m\u001B[0mPoint\u001B[0m\u001B[1;33m(\u001B[0m\u001B[1;36m10\u001B[0m\u001B[1;33m,\u001B[0m\u001B[1;36m20\u001B[0m\u001B[1;33m)\u001B[0m\u001B[1;33m)\u001B[0m\u001B[1;33m\u001B[0m\u001B[1;33m\u001B[0m\u001B[0m\n\u001B[0;32m     73\u001B[0m \u001B[0ml\u001B[0m\u001B[1;33m.\u001B[0m\u001B[0mdrawline\u001B[0m\u001B[1;33m(\u001B[0m\u001B[1;33m)\u001B[0m\u001B[1;33m\u001B[0m\u001B[1;33m\u001B[0m\u001B[0m\n",
      "\u001B[1;31mAttributeError\u001B[0m: 'Line' object has no attribute 'drawline'"
     ]
    }
   ],
   "source": [
    "\"\"\"наследование и приватности)\"\"\"\n",
    "class Point:\n",
    "    def __init__(self,x=0,y=0):\n",
    "        self.__x=x\n",
    "        self.__y=y\n",
    "    def __repr__(self):\n",
    "        return f\"({self.__x,self.__y})\"\n",
    "    def is_digit(self):\n",
    "        if (\n",
    "                (isinstance(self.__x,int) or issubclass(self.__x,float)) and (isinstance(self.__y,int) or issubclass(self.__y,float))\n",
    "        ):\n",
    "            return True\n",
    "        return False\n",
    "\n",
    "    def is_int(self):\n",
    "        if (\n",
    "                isinstance(self.__x,int) and isinstance(self.__y,int)\n",
    "        ):\n",
    "            return True\n",
    "        return False\n",
    "\n",
    "class Prop:\n",
    "    def __init__(self,sp:Point,ep:Point,color:str='red',width:int=1):\n",
    "        self._sp=sp\n",
    "        self._ep=ep\n",
    "        self._color=color\n",
    "        self.__width=width\n",
    "    def get_width(self):\n",
    "        return self.__width\n",
    "    def set_coords(self,sp,ep):\n",
    "        if sp.is_digit() and ep.is_digit():\n",
    "            self._sp=sp\n",
    "            self._ep=ep\n",
    "        else:\n",
    "            print(\"Координаты должны быть числами!\")\n",
    "    # @abstractmethod\n",
    "    def draw(self):\n",
    "        raise NotImplementedError\n",
    "class Line(Prop):\n",
    "    pass\n",
    "    # def __init__(self, *args):\n",
    "    #     print(\"Конструктор класса Line\")\n",
    "    #     super().__init__(*args)\n",
    "    # def drawline(self):\n",
    "    #     print(f\"Рисуем линию: {self._sp},{self._ep},{self._color},{self.get_width()}\")\n",
    "    # def __set_one_coord(self,sp,ep):\n",
    "    #     if sp is None:\n",
    "    #       if ep.is_int():\n",
    "    #           self._ep=ep\n",
    "    #     elif ep is None:\n",
    "    #       if sp.is_int():\n",
    "    #           self._sp=sp\n",
    "    #     else:\n",
    "    #         print(\"Координаты должны быть целочисленными!\")\n",
    "    # def __set_two_coords(self,sp,ep):\n",
    "    #     if sp.is_int() and ep.is_int():\n",
    "    #         self._sp=sp\n",
    "    #         self._ep=ep\n",
    "    #     else:\n",
    "    #         print(\"Координаты должны быть целочисленными!\")\n",
    "    # def set_coords(self,sp:Point=None,ep:Point=None): #перегрузка методов\n",
    "    #     if (sp is None) or (ep is None):\n",
    "    #         self.__set_one_coord(sp,ep)\n",
    "    #     else:\n",
    "    #         self.__set_two_coords(sp,ep)\n",
    "class Rect(Prop):\n",
    "    def drawline(self):\n",
    "        print(f\"Рисуем прямоугольник: {self._sp},{self._ep},{self._color},{self.get_width()}\")\n",
    "\n",
    "l=Line(Point(1,2), Point(2,3))\n",
    "l.drawline()\n",
    "l.set_coords(Point(10,20))\n",
    "l.drawline()\n",
    "# l.__dict__"
   ],
   "metadata": {
    "collapsed": false,
    "pycharm": {
     "name": "#%%\n"
    }
   }
  },
  {
   "cell_type": "code",
   "execution_count": null,
   "outputs": [],
   "source": [
    "l.__dict__['_sp']"
   ],
   "metadata": {
    "collapsed": false,
    "pycharm": {
     "name": "#%%\n"
    }
   }
  },
  {
   "cell_type": "code",
   "execution_count": null,
   "outputs": [],
   "source": [
    "\"\"\"убейте меня пожалуйста\"\"\"\n",
    "class PC:\n",
    "    def __init__(self, memory_in_gb:int=100,model:str='Pentium III',cpu:int=4):\n",
    "        self.__memory_in_gb=memory_in_gb\n",
    "        self.__model=model\n",
    "        self.__cpu=cpu\n",
    "    def get_pc_params(self,param):\n",
    "        if f'_{self.__class__.__name__}__{param}' in self.__dict__.keys():\n",
    "            return self.__dict__[f'_{self.__class__.__name__}__{param}']\n",
    "        elif issubclass(self.__class__,PC):\n",
    "            return self.__dict__[f'_PC__{param}']\n",
    "\n",
    "class PortablePC(PC):\n",
    "    def __init__(self, monitor:str, mouse:str,keyboard:str, diag_monitor:float,size_keyboard:float, size_mouse:float, *args):\n",
    "        super().__init__(*args)\n",
    "        self.__monitor=monitor\n",
    "        self.__keyboard=keyboard\n",
    "        self.__mouse=mouse\n",
    "        self.__diag_monitor=diag_monitor\n",
    "        self.__size_keyboard=size_keyboard\n",
    "        self.__size_mouse=size_mouse\n",
    "\n",
    "    def get_params(self,param):\n",
    "        if f'_{self.__class__.__name__}__{param}' in self.__dict__.keys():\n",
    "            return self.__dict__[f'_{self.__class__.__name__}__{param}']\n",
    "\n",
    "        else:\n",
    "            self.__init_subclass__()\n",
    "            return \"такого параметра нет, иди на хуй\"\n",
    "\n",
    "class NotebookPC(PC):\n",
    "    def __init__(self, diag_monitor:float, *args):\n",
    "        super().__init__(*args)\n",
    "        self.__diag_monitor=diag_monitor\n",
    "\n",
    "    def get_params(self,param):\n",
    "        if f'_{self.__class__.__name__}__{param}' in self.__dict__.keys():\n",
    "            return self.__dict__[f'_{self.__class__.__name__}__{param}']\n",
    "        else:\n",
    "            return \"такого параметра нет, иди на хуй\"\n",
    "\n"
   ],
   "metadata": {
    "collapsed": false,
    "pycharm": {
     "name": "#%%\n"
    }
   }
  },
  {
   "cell_type": "code",
   "execution_count": null,
   "outputs": [],
   "source": [
    "pc=PC()\n",
    "pc.get_pc_params('cpu')"
   ],
   "metadata": {
    "collapsed": false,
    "pycharm": {
     "name": "#%%\n"
    }
   }
  },
  {
   "cell_type": "code",
   "execution_count": null,
   "outputs": [],
   "source": [
    "pc1=PortablePC(monitor='samsung', mouse=\"logitech\",keyboard=\"logitech\", diag_monitor=30.0,size_keyboard=12.0, size_mouse=5.5)\n",
    "pc1.get_pc_params('cpu')"
   ],
   "metadata": {
    "collapsed": false,
    "pycharm": {
     "name": "#%%\n"
    }
   }
  },
  {
   "cell_type": "code",
   "execution_count": null,
   "outputs": [],
   "source": [],
   "metadata": {
    "collapsed": false,
    "pycharm": {
     "name": "#%%\n"
    }
   }
  },
  {
   "cell_type": "code",
   "execution_count": null,
   "outputs": [],
   "source": [
    "\"\"\"сортировка вставками\n",
    "Первое значение(нулевое) - берется как самое минимальное.\n",
    "Каждое следующее значние сравнивается с предудущим до упора в 0 индекс\"\"\"\n",
    "vals_l=[1,0,14,3,2,7,6,9,1,4,2,5,8]\n",
    "for i in range(1,len(vals_l)+1):\n",
    "    top=i-1\n",
    "    while top:\n",
    "        if vals_l[top]<vals_l[top-1]:\n",
    "            vals_l[top-1],vals_l[top]=vals_l[top],vals_l[top-1]\n",
    "        top-=1\n",
    "vals_l"
   ],
   "metadata": {
    "collapsed": false,
    "pycharm": {
     "name": "#%%\n"
    }
   }
  },
  {
   "cell_type": "code",
   "execution_count": null,
   "outputs": [],
   "source": [
    "\"\"\"сортировка методом выбора (choise sort) - при невыполнении условия\n",
    "элементы меняются местами начиная от 0,1,2..len - т.е. сортировка слева направо\"\"\"\n",
    "vals_l=[1,0,14,3,2,7,6,9,1,4,2,5,8]\n",
    "for i in range(len(vals_l)-1):\n",
    "    for j in range(i+1, len(vals_l)):\n",
    "        if vals_l[j]<vals_l[i]:\n",
    "            vals_l[i],vals_l[j]=vals_l[j],vals_l[i]\n",
    "\n",
    "vals_l"
   ],
   "metadata": {
    "collapsed": false,
    "pycharm": {
     "name": "#%%\n"
    }
   }
  },
  {
   "cell_type": "code",
   "execution_count": null,
   "outputs": [],
   "source": [
    "\"\"\"сортировка пузырьками - сортировка каждым с каждым до тех пор, пока не будет отсортировано.\n",
    "Т.е. сортировка справа налево\"\"\"\n",
    "vals_l=[1,0,14,3,2,7,6,9,1,4,2,5,8]\n",
    "\n",
    "for i in range(1,len(vals_l)):\n",
    "    for j in range(0,len(vals_l)-i):\n",
    "        if vals_l[j]>vals_l[j+1]:\n",
    "            vals_l[j],vals_l[j+1]=vals_l[j+1],vals_l[j]\n",
    "vals_l\n"
   ],
   "metadata": {
    "collapsed": false,
    "pycharm": {
     "name": "#%%\n"
    }
   }
  },
  {
   "cell_type": "code",
   "execution_count": null,
   "outputs": [],
   "source": [
    "vals_l=[1,0,14,3,2,7,6,9,1,4,2,5,8]\n",
    "\n",
    "\"\"\"Быстрая сортирвка - сортировка Хоара\"\"\"\n",
    "def quick_sort(array:list)->list or None:\n",
    "    if len(array)<=1:\n",
    "        return\n",
    "    barrier=array[0]\n",
    "    L=[]\n",
    "    M=[]\n",
    "    R=[]\n",
    "    for elem in array:\n",
    "       if elem<barrier:\n",
    "           L.append(elem)\n",
    "       elif elem==barrier:\n",
    "           M.append(elem)\n",
    "       else:\n",
    "           R.append(elem)\n",
    "    quick_sort(L)\n",
    "    quick_sort(R)\n",
    "    k=0\n",
    "    for i in L+M+R:\n",
    "        array[k]=i\n",
    "        k+=1\n",
    "    return array\n",
    "quick_sort(vals_l)"
   ],
   "metadata": {
    "collapsed": false,
    "pycharm": {
     "name": "#%%\n"
    }
   }
  },
  {
   "cell_type": "code",
   "execution_count": null,
   "outputs": [],
   "source": [
    "\"\"\"каскадная сортировка - сортировка Хоара.\n",
    "Реализуется обозначением барьера и сравнения с этим барьером\"\"\"\n",
    "vals_l=[1,0,14,3,2,7,6,9,1,4,2,5,8]\n",
    "\n",
    "for i in range(1,len(vals_l)):\n",
    "    pass\n",
    "vals_l"
   ],
   "metadata": {
    "collapsed": false,
    "pycharm": {
     "name": "#%%\n"
    }
   }
  },
  {
   "cell_type": "code",
   "execution_count": null,
   "outputs": [],
   "source": [
    "\"\"\"Сортировка слиянием \"\"\"\n",
    "vals_l=[1,0,14,3,2,7,6,9,1,4,2,5,8]\n",
    "\n",
    "for i in range(1,len(vals_l)):\n",
    "    pass\n",
    "vals_l"
   ],
   "metadata": {
    "collapsed": false,
    "pycharm": {
     "name": "#%%\n"
    }
   }
  },
  {
   "cell_type": "code",
   "execution_count": null,
   "outputs": [],
   "source": [
    "\"\"\"Бинарный поиск - разделяй властвуй\n",
    "сложность O(log n)\"\"\"\n",
    "def BinarySearch(lys, val):\n",
    "    first = 0\n",
    "    last = len(lys)-1\n",
    "    index = -1\n",
    "    while (first <= last) and (index == -1):\n",
    "        mid = (first+last)//2\n",
    "        if lys[mid] == val:\n",
    "            index = mid\n",
    "        else:\n",
    "            if val<lys[mid]:\n",
    "                last = mid -1\n",
    "            else:\n",
    "                first = mid +1\n",
    "    return index"
   ],
   "metadata": {
    "collapsed": false,
    "pycharm": {
     "name": "#%%\n"
    }
   }
  },
  {
   "cell_type": "code",
   "execution_count": null,
   "outputs": [],
   "source": [
    "\"\"\"permutations\"\"\"\n",
    "def generate_permutations(n,m=-1,prefix=None):\n",
    "    m=n if m==-1 else m\n",
    "    prefix = prefix or []\n",
    "    if m==0:\n",
    "        print(prefix)\n",
    "        return\n",
    "    for number in range(1,n+1):\n",
    "        if number in prefix:\n",
    "            continue\n",
    "        prefix.append(number)\n",
    "        generate_permutations(n,m-1,prefix)\n",
    "        prefix.pop()\n",
    "generate_permutations(3)"
   ],
   "metadata": {
    "collapsed": false,
    "pycharm": {
     "name": "#%%\n"
    }
   }
  },
  {
   "cell_type": "code",
   "execution_count": 124,
   "outputs": [
    {
     "name": "stdout",
     "output_type": "stream",
     "text": [
      "[[1, 2, 3]]\n",
      "[[1, 3, 2]]\n",
      "[[2, 1, 3]]\n",
      "[[2, 3, 1]]\n",
      "[[3, 1, 2]]\n",
      "[[3, 2, 1]]\n"
     ]
    },
    {
     "data": {
      "text/plain": "[]"
     },
     "execution_count": 124,
     "metadata": {},
     "output_type": "execute_result"
    }
   ],
   "source": [
    "# res=[]\n",
    "\"\"\"permutations\"\"\"\n",
    "def generate_permutations(n,m=-1,prefix=None,res=None):\n",
    "    m=len(n) if m==-1 else m\n",
    "    res = res or []\n",
    "    prefix = prefix or []\n",
    "    if m==0:\n",
    "        # print(prefix)\n",
    "        # res=res.copy()\n",
    "        res.append(prefix)\n",
    "        print(res)\n",
    "        return res\n",
    "    for number in n:\n",
    "        if number in prefix:\n",
    "            continue\n",
    "        prefix.append(number)\n",
    "        generate_permutations(n,m-1,prefix,res)\n",
    "        prefix.pop()\n",
    "    return res\n",
    "# generate_permutations([1,2,3])\n",
    "a =generate_permutations([1,2,3])\n",
    "# list(generate_permutations([1,2,3]))\n",
    "a"
   ],
   "metadata": {
    "collapsed": false,
    "pycharm": {
     "name": "#%%\n"
    }
   }
  },
  {
   "cell_type": "code",
   "execution_count": 81,
   "outputs": [
    {
     "data": {
      "text/plain": "[[1, 2, 3], [2, 1, 3], [3, 2, 1], [1, 3, 2], [3, 1, 2], [2, 3, 1]]"
     },
     "execution_count": 81,
     "metadata": {},
     "output_type": "execute_result"
    }
   ],
   "source": [
    "faf=[1,2,3]\n",
    "# a=[2,3,1] i=0\n",
    "# a=[2,1,3] i=1\n",
    "# a=[3,1,2] i=1\n",
    "def my_permut(nums:list):\n",
    "    new_a=[]\n",
    "    lenght=len(nums)\n",
    "    for i in range(lenght):\n",
    "        # print(faf)\n",
    "        nums=nums.copy()\n",
    "        new_a.append(nums)\n",
    "        val=nums.pop(i)\n",
    "        nums.insert(0,val)\n",
    "    for i in range(0,lenght):\n",
    "        # print(faf)\n",
    "        nums=nums.copy()\n",
    "\n",
    "        val=nums.pop(-i)\n",
    "        nums.insert(0,val)\n",
    "\n",
    "        if nums not in new_a:\n",
    "            new_a.append(nums)\n",
    "        if i +1 == lenght:\n",
    "            nums=nums.copy()\n",
    "            val=nums.pop()\n",
    "            nums.insert(0,val)\n",
    "            if nums not in new_a:\n",
    "                new_a.append(nums)\n",
    "    return new_a\n",
    "my_permut(faf)"
   ],
   "metadata": {
    "collapsed": false,
    "pycharm": {
     "name": "#%%\n"
    }
   }
  },
  {
   "cell_type": "code",
   "execution_count": null,
   "outputs": [],
   "source": [
    "v=[1,2,3]\n",
    "# len(v[1:])\n",
    "b=v[1:]\n",
    "v=[v[0]]\n",
    "v.append(b[0])\n",
    "v.append(b[1])\n",
    "v"
   ],
   "metadata": {
    "collapsed": false,
    "pycharm": {
     "name": "#%%\n"
    }
   }
  },
  {
   "cell_type": "code",
   "execution_count": 40,
   "outputs": [
    {
     "data": {
      "text/plain": "[1, 3]"
     },
     "execution_count": 40,
     "metadata": {},
     "output_type": "execute_result"
    }
   ],
   "source": [],
   "metadata": {
    "collapsed": false,
    "pycharm": {
     "name": "#%%\n"
    }
   }
  },
  {
   "cell_type": "code",
   "execution_count": null,
   "outputs": [],
   "source": [
    "class TestClass:\n",
    "    # __slots__ = (\"x\",\"y\",\"__x\",\"__y\")\n",
    "    def __init__(self,x,y):\n",
    "        self.__x=x\n",
    "        self.__y=y\n",
    "\n",
    "tc=TestClass(1,2)\n",
    "# tc.__x=5\n",
    "print(tc.__dict__)\n",
    "tc._TestClass__x=5\n",
    "print(tc.__dict__)"
   ],
   "metadata": {
    "collapsed": false,
    "pycharm": {
     "name": "#%%\n"
    }
   }
  },
  {
   "cell_type": "code",
   "execution_count": null,
   "outputs": [],
   "source": [
    "class Calculator:\n",
    "    def __init__(self,x=0,y=0):\n",
    "        self.__x=x\n",
    "        self.__y=y\n",
    "\n",
    "    @property\n",
    "    def sum_val(self):\n",
    "        # self.__x=x\n",
    "        # self.__y=y\n",
    "        return self.__x+self.__y\n",
    "\n",
    "    @sum_val.setter\n",
    "    def sum_val(self,vals):\n",
    "        x,y=vals\n",
    "        if (isinstance(x,int) or isinstance(x,float)) and \\\n",
    "        (isinstance(y,int) or isinstance(y,float)):\n",
    "            self.__x=x\n",
    "            self.__y=y\n",
    "        else:\n",
    "            print('Пошел на хуй')\n",
    "calc=Calculator()\n",
    "# calc.sum(1,2)\n",
    "calc.sum_val=(\"a\",2)\n",
    "calc.sum_val"
   ],
   "metadata": {
    "collapsed": false,
    "pycharm": {
     "name": "#%%\n"
    }
   }
  },
  {
   "cell_type": "code",
   "execution_count": null,
   "outputs": [],
   "source": [
    "def positive_result(function):\n",
    "    def wrapper(*args,**kwargs):\n",
    "        result=function(*args,**kwargs)\n",
    "        if result<0:\n",
    "            return 'Уравнение не имеет корней!'\n",
    "        return result\n",
    "\n",
    "    wrapper.__name__=function.__name__\n",
    "    wrapper.__doc__=function.__doc__\n",
    "    return wrapper\n",
    "\n",
    "@positive_result\n",
    "def discr(a,b,c):\n",
    "    return (b**2) - (4*a*c)\n",
    "\n",
    "\n",
    "print(discr(1,1,-2))\n",
    "\n"
   ],
   "metadata": {
    "collapsed": false,
    "pycharm": {
     "name": "#%%\n"
    }
   }
  },
  {
   "cell_type": "code",
   "execution_count": null,
   "outputs": [],
   "source": [
    "def bounded(min:int,max:int):\n",
    "    def decor(function):\n",
    "        def wrapper(*args,**kwargs):\n",
    "            result=function(*args,**kwargs)\n",
    "            if result<min:\n",
    "                return min\n",
    "            elif result>max:\n",
    "                return max\n",
    "            return result\n",
    "        wrapper.__name__=function.__name__\n",
    "        wrapper.__doc__=function.__doc__\n",
    "        return wrapper\n",
    "    return decor\n",
    "\n",
    "@bounded(0,100)\n",
    "def cal_percent(val, total):\n",
    "    return val/total\n",
    "cal_percent(1000,1)\n"
   ],
   "metadata": {
    "collapsed": false,
    "pycharm": {
     "name": "#%%\n"
    }
   }
  },
  {
   "cell_type": "code",
   "execution_count": null,
   "outputs": [],
   "source": [
    "func=lambda x : x%2==0\n",
    "func.__sizeof__()"
   ],
   "metadata": {
    "collapsed": false,
    "pycharm": {
     "name": "#%%\n"
    }
   }
  },
  {
   "cell_type": "code",
   "execution_count": null,
   "outputs": [],
   "source": [
    "%time\n",
    "def isEven(value):\n",
    "    # value//2==int\n",
    "    return value%2 is not None\n",
    "isEven(5)"
   ],
   "metadata": {
    "collapsed": false,
    "pycharm": {
     "name": "#%%\n"
    }
   }
  },
  {
   "cell_type": "code",
   "execution_count": null,
   "outputs": [],
   "source": [
    "class Point:\n",
    "    def __init__(self,x=0,y=0):\n",
    "        self.__x=x\n",
    "        self.__y=y\n",
    "    def __repr__(self):\n",
    "        return f\"({self.__x,},{self.__y})\"\n",
    "    def isDigit(self):\n",
    "        if (isinstance(self.__x,int) or isinstance(self.__x,float)) and \\\n",
    "            (isinstance(self.__y,int) or isinstance(self.__y,float)):\n",
    "            return True\n",
    "        return False\n",
    "    def isInt(self):\n",
    "        if isinstance(self.__x,int) and isinstance(self.__y,int):\n",
    "            return True\n",
    "        return False\n",
    "class Prop:\n",
    "    def __init__(self,sp:Point,ep:Point, color:str='red',width:int=1):\n",
    "        self._sp=sp\n",
    "        self._ep=ep\n",
    "        self._color=color\n",
    "        self._width=width\n",
    "    def set_coords(self,sp,ep):\n",
    "        if sp.isDigit() and ep.isDigit():\n",
    "            self._sp=sp\n",
    "            self._ep=ep\n",
    "        else:\n",
    "            print(\"Координаты должны быть числами\")\n",
    "\n",
    "class Line(Prop):\n",
    "    def drawline(self):\n",
    "        print(f\"Рисование линии : {self._sp,self._ep,self._color,self._width}\")\n",
    "\n",
    "    def __set_one_coord(self,sp=None,ep=None):\n",
    "        if sp:\n",
    "            if sp.isInt():\n",
    "                self._sp=sp\n",
    "            else:\n",
    "                print(\"Координата должна быть целочисленной\")\n",
    "        elif ep:\n",
    "            if ep.isInt():\n",
    "                self._ep=ep\n",
    "            else:\n",
    "                print(\"Координата должна быть целочисленной\")\n",
    "        else:\n",
    "            print('Обе координаты не могут быть пустыми')\n",
    "    def __set_two_coords(self,sp:Point,ep:Point):\n",
    "        if sp.isInt() and ep.isInt():\n",
    "            self._sp=sp\n",
    "            self._ep=ep\n",
    "        else:\n",
    "            print(\"Координаты должны быть целочисленными\")\n",
    "    def set_coords(self,sp=None,ep=None):\n",
    "        if sp is None or ep is None:\n",
    "            self.__set_one_coord(sp,ep)\n",
    "        else:\n",
    "            self.__set_two_coords(sp,ep)\n",
    "\n",
    "\n",
    "l=Line(Point(1,2),Point(10,20))\n",
    "l.drawline()\n",
    "l.set_coords(Point(10,20),Point(1,2))\n",
    "l.drawline()\n",
    "l.set_coords(Point(10,21))\n",
    "l.drawline()"
   ],
   "metadata": {
    "collapsed": false,
    "pycharm": {
     "name": "#%%\n"
    }
   }
  },
  {
   "cell_type": "code",
   "execution_count": null,
   "outputs": [],
   "source": [
    "class Point:\n",
    "    def __init__(self,x=0,y=0):\n",
    "        self.__x=x\n",
    "        self.__y=y\n",
    "    def __repr__(self):\n",
    "        return f\"({self.__x,},{self.__y})\"\n",
    "\n",
    "class Styles:\n",
    "    def __init__(self,color='red',width=1):\n",
    "        print(\"Constructur Styles\")\n",
    "        self._color=color\n",
    "        self._width=width\n",
    "class Pos:\n",
    "    def __init__(self,sp:Point,ep:Point):\n",
    "        print(\"Constructur Pos\")\n",
    "        self._sp=sp\n",
    "        self._ep=ep\n",
    "class Line(Pos,Styles):\n",
    "    def __init__(self, sp:Point, ep:Point, color='red', width=1):\n",
    "        super().__init__(color,width)\n",
    "        super().__init__(sp, ep)\n",
    "        self._ep=ep\n",
    "        self._sp=sp\n",
    "        self._color=color\n",
    "        self._width=width\n",
    "    def draw(self):\n",
    "        print(f\"Draw :{self._sp,self._ep,self._color,self._width}\")\n",
    "l=Line(Point(10,10),Point(100,100),\"grey\", 5)\n",
    "l.draw()\n",
    "\n",
    "\n"
   ],
   "metadata": {
    "collapsed": false,
    "pycharm": {
     "name": "#%%\n"
    }
   }
  },
  {
   "cell_type": "code",
   "execution_count": null,
   "outputs": [],
   "source": [
    "class Clock:\n",
    "    __day=86400\n",
    "    def __init__(self,secs:int):\n",
    "        if not isinstance(secs,int):\n",
    "            raise ValueError(\"Секунды должны быть числом\")\n",
    "\n",
    "        self.__secs=secs%self.__day\n",
    "\n",
    "    def get_format_time(self):\n",
    "        s=self.__secs%60\n",
    "        m=(self.__secs//60)%60\n",
    "        h=(self.__secs//3600)%24\n",
    "        return f\"{Clock._get_format(h)}:{Clock._get_format(m)}:{Clock._get_format(s)}\"\n",
    "\n",
    "    @staticmethod\n",
    "    def _get_format(x):\n",
    "        return str(x) if x>9 else \"0\"+str(x)\n",
    "\n",
    "    def get_seconds(self):\n",
    "        return self.__secs\n",
    "    def __add__(self, other):\n",
    "        if not isinstance(other,Clock):\n",
    "            raise ArithmeticError(\"оба операнда должны принадлежать Clock\")\n",
    "        return Clock(self.__secs+other.__secs)\n",
    "\n",
    "    def __getitem__(self, item):\n",
    "        if not isinstance(item,str):\n",
    "            raise TypeError(\"Item shuld be str type\")\n",
    "        if item=='hour':\n",
    "            return (self.__secs//3600)%24\n",
    "        elif item=='min':\n",
    "            return (self.__secs//60)%60\n",
    "        elif item=='sec':\n",
    "            return self.__secs%60\n",
    "\n",
    "    def __setitem__(self, item,value):\n",
    "        if not isinstance(item,str):\n",
    "            raise TypeError(\"Item shuld be str type\")\n",
    "        if not isinstance(value,int):\n",
    "            raise TypeError(\"Item shuld be int type\")\n",
    "\n",
    "        s=self.__secs%60\n",
    "        m=(self.__secs//60)%60\n",
    "        h=(self.__secs//3600)%24\n",
    "\n",
    "\n",
    "        if item=='hour':\n",
    "            self.__secs= s+60*m+value*3600\n",
    "            # return (self.__secs//3600)%24\n",
    "        elif item=='min':\n",
    "            # return (self.__secs//60)%60\n",
    "            self.__secs= s+60*value+h*3600\n",
    "        elif item=='sec':\n",
    "            self.__secs= value+60*value+h*3600\n",
    "            # return self.__secs%60\n",
    "\n",
    "cl1=Clock(800)\n",
    "cl1.get_format_time()\n",
    "cl2=Clock(300)\n",
    "cl2.get_format_time()\n",
    "c3=cl1+cl2\n",
    "c3.get_format_time()\n",
    "print(cl1.get_format_time(),cl1['sec'])\n",
    "cl1['hour']=5\n",
    "print(cl1.get_format_time(),cl1['hour'],cl1['min'],cl1['sec'])"
   ],
   "metadata": {
    "collapsed": false,
    "pycharm": {
     "name": "#%%\n"
    }
   }
  },
  {
   "cell_type": "code",
   "execution_count": null,
   "outputs": [],
   "source": [
    "class CoordError(Exception):\n",
    "    pass\n",
    "class  ImageXiterator:\n",
    "    def __init__(self,img, y:int):\n",
    "        self.__limit=img.width\n",
    "        self.__img=img\n",
    "        self.__x=0\n",
    "        self.__y=y\n",
    "    def __iter__(self):\n",
    "        return self\n",
    "    def __next__(self):\n",
    "        if self.__x>=self.__limit:\n",
    "            raise StopIteration\n",
    "        self.__x+=1\n",
    "        return self.__img[self.__x-1,self.__y]\n",
    "\n",
    "class  ImageYiterator:\n",
    "    def __init__(self,img):\n",
    "        self.__limit=img.height\n",
    "        self.__img=img\n",
    "        self.__y=0\n",
    "    def __iter__(self):\n",
    "        return self\n",
    "    def __next__(self):\n",
    "        if self.__y>=self.__limit:\n",
    "            raise StopIteration\n",
    "        self.__y+=1\n",
    "        return ImageXiterator(self.__img,self.__y-1)\n",
    "\n",
    "class Image:\n",
    "    def __init__(self,width,height,background=\"_\"):\n",
    "        self.__background=background\n",
    "        self.__pixels={}\n",
    "        self.__width=width\n",
    "        self.__height=height\n",
    "        self.__colors={self.__background}\n",
    "\n",
    "    @property\n",
    "    def width(self):\n",
    "        return self.__width\n",
    "\n",
    "    @width.setter\n",
    "    def width(self,width):\n",
    "        self.__width=width\n",
    "\n",
    "    @property\n",
    "    def height(self):\n",
    "        return self.__height\n",
    "\n",
    "    @height.setter\n",
    "    def height(self,height):\n",
    "        self.__height=height\n",
    "\n",
    "    def __check_coord(self,coord):\n",
    "        if not isinstance(coord,tuple) or len(coord)!=2:\n",
    "            raise CoordError('Не то значение')\n",
    "\n",
    "        if not (0<=coord[0]<self.__width) or not (0<=coord[1]<self.height):\n",
    "            raise CoordError(\"Значение координаты выходит за пределы изображения\")\n",
    "\n",
    "\n",
    "    def __setitem__(self, coord, color):\n",
    "        self.__check_coord(coord)\n",
    "\n",
    "        if color==self.__background:\n",
    "            self.__pixels.pop(coord,None)\n",
    "        else:\n",
    "            self.__pixels[coord]=color\n",
    "            self.__colors.add(color)\n",
    "\n",
    "    def __getitem__(self, coord):\n",
    "        self.__check_coord(coord)\n",
    "        return self.__pixels.get(coord,self.__background)\n",
    "\n",
    "    def __iter__(self):\n",
    "        return ImageYiterator(self)\n",
    "\n",
    "\n",
    "\n",
    "img=Image(20,4)\n",
    "\n",
    "img[1,1]=\"*\";img[2,1]=\"*\";img[3,1]=\"*\"\n",
    "# print(img.width,img.height,color)\n",
    "for row in img:\n",
    "    for pix in row:\n",
    "        print(pix,sep=\" \",end=\"\")\n",
    "    print()"
   ],
   "metadata": {
    "collapsed": false,
    "pycharm": {
     "name": "#%%\n"
    }
   }
  },
  {
   "cell_type": "code",
   "execution_count": null,
   "outputs": [],
   "source": [
    "class Buffer:\n",
    "    \"\"\"FIFO buffer\"\"\"\n",
    "    __slots__ = (\"size\",\"enter_container\",\"__size\",\"__num\",\"__container\")\n",
    "    def __init__(self,size:int=0,enter_container:list=None):\n",
    "        self.__size=size if not enter_container else len(enter_container)\n",
    "        self.__num=0\n",
    "        self.__container=enter_container if enter_container else []\n",
    "\n",
    "    def __check_container(self):\n",
    "        if not isinstance(self.__container,list):\n",
    "            raise TypeError(\"Enter container should be list\")\n",
    "\n",
    "    # def __check_val(self,value):\n",
    "    #     if not (isinstance(value,int) or isinstance(value,float)):\n",
    "    #         raise ValueError(\"Value should be int or float\")\n",
    "    def append(self,value):\n",
    "        # self.__check_val(value)\n",
    "        if len(self.__container)>=self.__size:\n",
    "            self.__container.pop(0)\n",
    "            self.__container.append(value)\n",
    "        else:\n",
    "            self.__container.append(value)\n",
    "\n",
    "    @property\n",
    "    def container(self):\n",
    "        return self.__container\n",
    "\n",
    "\n",
    "    def __iter__(self):\n",
    "        return iter(reversed(self.__container))\n",
    "\n",
    "    def __next__(self):\n",
    "        if self.__num>=self.__size:\n",
    "            raise StopIteration\n",
    "\n",
    "        self.__num+=1\n",
    "        return self.__container[self.__num]\n",
    "# abc=[1,2,3,5]\n",
    "# b=Buffer(enter_container=abc)\n",
    "b=Buffer(size=3)\n",
    "b.append('a')\n",
    "b.append('b')\n",
    "b.append('c')\n",
    "# for i in range(0,15):\n",
    "#     b.append(i)\n",
    "for i in b:\n",
    "    print(i)\n",
    "# b.container"
   ],
   "metadata": {
    "collapsed": false,
    "pycharm": {
     "name": "#%%\n"
    }
   }
  },
  {
   "cell_type": "code",
   "execution_count": null,
   "outputs": [],
   "source": [
    "\"\"\"функторы -  экземпляры класса как функции\"\"\"\n",
    "class Counter:\n",
    "    def __init__(self):\n",
    "        self.__counter=0\n",
    "    def __call__(self, *args, **kwargs):\n",
    "        self.__counter+=1\n",
    "        print(self.__counter)\n",
    "        return self.__counter\n",
    "\n",
    "c=Counter()\n",
    "c()\n",
    "c()"
   ],
   "metadata": {
    "collapsed": false,
    "pycharm": {
     "name": "#%%\n"
    }
   }
  },
  {
   "cell_type": "code",
   "execution_count": null,
   "outputs": [],
   "source": [
    "class Functor:\n",
    "    def __init__(self,chars):\n",
    "        self.__chars = chars\n",
    "    def __call__(self, *args, **kwargs):\n",
    "        if not isinstance(args[0],str):\n",
    "            raise TypeError(\"Неверный тип данных\")\n",
    "\n",
    "        return args[0].strip(self.__chars)\n",
    "\n",
    "#аналог через функтор\n",
    "# def Functor(chars):\n",
    "#     def my_funct(string):\n",
    "#         if not isinstance(string,str):\n",
    "#             raise TypeError(\"Неверный тип данных\")\n",
    "#\n",
    "#         return string.strip(chars)\n",
    "#     return my_funct\n",
    "ex=Functor(\"&?%\")\n",
    "ex(\"&?hellow world %\")"
   ],
   "metadata": {
    "collapsed": false,
    "pycharm": {
     "name": "#%%\n"
    }
   }
  },
  {
   "cell_type": "code",
   "execution_count": null,
   "outputs": [],
   "source": [
    "from datetime import date,datetime\n",
    "import pandas as pd\n",
    "from dateutil.rrule import rrule, MONTHLY\n",
    "a = date(2009, 5, 30)\n",
    "b = date(2009, 9, 9)\n",
    "\n",
    "START_INSTALL_DATE = datetime.strptime('2019-07-01', '%Y-%m-%d') #'2020-01-01'\n",
    "END_INSTALL_DATE =datetime.strptime('2021-12-31', '%Y-%m-%d')  #(dt.date.today() - dt.timedelta(days=2)).strftime(\"%Y-%m-%d\")\n",
    "END_DATE =datetime.strptime('2022-01-31', '%Y-%m-%d')\n",
    "for dt in rrule(MONTHLY, dtstart=START_INSTALL_DATE, until=END_DATE):\n",
    "    print(dt.strftime(\"%Y-%m-%d\"))"
   ],
   "metadata": {
    "collapsed": false,
    "pycharm": {
     "name": "#%%\n"
    }
   }
  },
  {
   "cell_type": "code",
   "execution_count": null,
   "outputs": [],
   "source": [
    "a='abc'\n",
    "b='cde'\n",
    "list(zip(a,b))\n",
    "# for i,j in list(zip(a,b)):\n",
    "#     print(i,j)"
   ],
   "metadata": {
    "collapsed": false,
    "pycharm": {
     "name": "#%%\n"
    }
   }
  },
  {
   "cell_type": "code",
   "execution_count": null,
   "outputs": [],
   "source": [
    "list(map(lambda x:x+1,list(range(3))))\n"
   ],
   "metadata": {
    "collapsed": false,
    "pycharm": {
     "name": "#%%\n"
    }
   }
  },
  {
   "cell_type": "code",
   "execution_count": null,
   "outputs": [],
   "source": [
    "from typing import List\n",
    "def jump(nums: List[int],jumps_list=None,jumps=0):\n",
    "        # jumps=0\n",
    "        jumps_list=jumps_list or []\n",
    "        lenght_nums=len(nums)\n",
    "\n",
    "        if nums[0] ==0:\n",
    "            return\n",
    "\n",
    "        for ind,val in enumerate(nums):\n",
    "\n",
    "            for steps in list(map(lambda x:x+1,list(range(val)))):\n",
    "                if len(nums)>=ind+steps+1:\n",
    "                    if (lenght_nums - ind - 1) == steps:\n",
    "                        jumps_list.append(jumps+1)\n",
    "                    else:\n",
    "                        print(nums[ind+steps:])\n",
    "                        jumps=+1\n",
    "                        jump(nums[ind+steps:],jumps_list,jumps)\n",
    "\n",
    "        return min(jumps_list)\n",
    "jump([2,3,0,1,4])"
   ],
   "metadata": {
    "collapsed": false,
    "pycharm": {
     "name": "#%%\n"
    }
   }
  },
  {
   "cell_type": "code",
   "execution_count": null,
   "outputs": [],
   "source": [
    "in_count=[0,1,2,3,4]\n",
    "for i in in_count:\n",
    "    for j in range(1, len(in_count)):\n",
    "        in_count[j], in_count[j+1 - len(in_count)] = in_count[j+1 - len(in_count)], in_count[j]\n",
    "        print(in_count)\n"
   ],
   "metadata": {
    "collapsed": false,
    "pycharm": {
     "name": "#%%\n"
    }
   }
  },
  {
   "cell_type": "code",
   "execution_count": null,
   "outputs": [],
   "source": [
    "from itertools import permutations\n",
    "len(list(permutations(in_count)))"
   ],
   "metadata": {
    "collapsed": false,
    "pycharm": {
     "name": "#%%\n"
    }
   }
  },
  {
   "cell_type": "code",
   "execution_count": 87,
   "outputs": [
    {
     "data": {
      "text/plain": "[0.8973865177137986,\n 0.9665336260018482,\n 0.9553672125845557,\n 0.9441996769750308,\n 0.9660563428533532]"
     },
     "execution_count": 87,
     "metadata": {},
     "output_type": "execute_result"
    }
   ],
   "source": [
    "import random\n",
    "class MyNetwork:\n",
    "    def __init__(self,list_in,list_out):\n",
    "        self.__in=list_in\n",
    "        self.__out=list_out\n",
    "        self.__value=0\n",
    "\n",
    "    @property\n",
    "    def list_in(self):\n",
    "        return self.__in\n",
    "    @list_in.setter\n",
    "    def list_in(self,lst):\n",
    "        self.__in=lst\n",
    "\n",
    "    @property\n",
    "    def list_out(self):\n",
    "        return self.__out\n",
    "    @list_out.setter\n",
    "    def list_out(self,lst):\n",
    "        self.__out=lst\n",
    "\n",
    "    def act(self,x):\n",
    "        return 1/(1+np.exp(-x))\n",
    "\n",
    "class Link:\n",
    "    def __init__(self,n_in,n_out,w=0):\n",
    "        self.__in=n_in\n",
    "        self.__out=n_out\n",
    "        self.__w=w\n",
    "    @property\n",
    "    def n_in(self):\n",
    "        return self.__in\n",
    "\n",
    "    @property\n",
    "    def n_out(self):\n",
    "        return self.n_out\n",
    "\n",
    "    @property\n",
    "    def w(self):\n",
    "        return self.__w\n",
    "\n",
    "class Network:\n",
    "    def __init__(self,*args):\n",
    "        self.__nlayers=len(args) #num layers\n",
    "        self.__neuros=args       #num neurons per each layer\n",
    "        self.__layers=[]\n",
    "\n",
    "        #создаем нейроны в каждом слое\n",
    "        for i in range(self.__nlayers):\n",
    "            self.__layers.append(\n",
    "                [MyNetwork([],[]) for n in range(self.__neuros[i])]\n",
    "            )\n",
    "        #создаем связи между нейронами\n",
    "        for i in range(self.__nlayers):\n",
    "            for neuro in self.__layers[i]:\n",
    "                list_in=0 if i==0 else [Link(n_in,neuro,random.random()) for n_in in self.__layers[i-1]]\n",
    "                list_out=0 if i==self.__nlayers-1 else [Link(neuro,n_out,random.random()) for n_out in self.__layers[i+1]]\n",
    "                neuro.list_in=list_in\n",
    "                neuro.list_out=list_out\n",
    "\n",
    "    def run(self,v):\n",
    "        #подаем на вход нейронной сети сигнал v\n",
    "        for neuro,inp in zip(self.__layers[0],v):\n",
    "            neuro.value=neuro.list_in=inp\n",
    "\n",
    "        #проводим сигнал по нейронной сети\n",
    "        for i in range(1,self.__nlayers):\n",
    "            for neuro in self.__layers[i]:\n",
    "                v= [ (link.n_in.value*link.w) for link in neuro.list_in]\n",
    "                neuro.value=neuro.act(sum(v))\n",
    "\n",
    "    def output(self):\n",
    "        return [neuro.value for neuro in self.__layers[-1]]\n",
    "\n",
    "\n",
    "\n",
    "\n",
    "\n",
    "\n",
    "\n",
    "net=Network(10,5,5)\n",
    "net.run([1.0,0.5,0.1,0.2,0.7,0.9,1.0,0.6,0.3,0.1])\n",
    "out=net.output()\n",
    "out\n",
    "\n",
    "\n"
   ],
   "metadata": {
    "collapsed": false,
    "pycharm": {
     "name": "#%%\n"
    }
   }
  },
  {
   "cell_type": "code",
   "execution_count": 92,
   "outputs": [
    {
     "data": {
      "text/plain": "[1, 2, 3]"
     },
     "execution_count": 92,
     "metadata": {},
     "output_type": "execute_result"
    }
   ],
   "source": [
    "a=[1,2,3]\n",
    "a\n"
   ],
   "metadata": {
    "collapsed": false,
    "pycharm": {
     "name": "#%%\n"
    }
   }
  },
  {
   "cell_type": "code",
   "execution_count": 98,
   "outputs": [
    {
     "data": {
      "text/plain": "1 2 3"
     },
     "execution_count": 98,
     "metadata": {},
     "output_type": "execute_result"
    }
   ],
   "source": [
    "\"\"\"Дорабатываем класс list чтобы отображал содержимое как нам нужно\"\"\"\n",
    "class Vector(list):\n",
    "    def __repr__(self):\n",
    "        return \" \".join(map(str,self))\n",
    "\n",
    "v=Vector(a)\n",
    "v"
   ],
   "metadata": {
    "collapsed": false,
    "pycharm": {
     "name": "#%%\n"
    }
   }
  },
  {
   "cell_type": "code",
   "execution_count": 25,
   "outputs": [
    {
     "ename": "AttributeError",
     "evalue": "'Slave' object has no attribute 'mro'",
     "output_type": "error",
     "traceback": [
      "\u001B[1;31m---------------------------------------------------------------------------\u001B[0m",
      "\u001B[1;31mAttributeError\u001B[0m                            Traceback (most recent call last)",
      "\u001B[1;32m~\\AppData\\Local\\Temp/ipykernel_11464/293804485.py\u001B[0m in \u001B[0;36m<module>\u001B[1;34m\u001B[0m\n\u001B[0;32m      9\u001B[0m         \u001B[0mself\u001B[0m\u001B[1;33m.\u001B[0m\u001B[0ma\u001B[0m\u001B[1;33m=\u001B[0m\u001B[1;36m10\u001B[0m\u001B[1;33m\u001B[0m\u001B[1;33m\u001B[0m\u001B[0m\n\u001B[0;32m     10\u001B[0m \u001B[0ms\u001B[0m\u001B[1;33m=\u001B[0m\u001B[0mSlave\u001B[0m\u001B[1;33m(\u001B[0m\u001B[1;36m10\u001B[0m\u001B[1;33m)\u001B[0m\u001B[1;33m\u001B[0m\u001B[1;33m\u001B[0m\u001B[0m\n\u001B[1;32m---> 11\u001B[1;33m \u001B[0ms\u001B[0m\u001B[1;33m.\u001B[0m\u001B[0mmro\u001B[0m\u001B[1;33m(\u001B[0m\u001B[1;33m)\u001B[0m\u001B[1;33m\u001B[0m\u001B[1;33m\u001B[0m\u001B[0m\n\u001B[0m\u001B[0;32m     12\u001B[0m \u001B[1;33m\u001B[0m\u001B[0m\n\u001B[0;32m     13\u001B[0m \u001B[1;33m\u001B[0m\u001B[0m\n",
      "\u001B[1;31mAttributeError\u001B[0m: 'Slave' object has no attribute 'mro'"
     ]
    }
   ],
   "source": [
    "\"\"\"super(a,b) - a тип, к предкам которого хотим обратиться, а b - тип,\n",
    " к которому надо привязаться\"\"\"\n",
    "class Master:\n",
    "    def __init__(self,a):\n",
    "        self.a=5\n",
    "class Slave(Master):\n",
    "    def __init__(self,a):\n",
    "        super().__init__(a)\n",
    "        self.a=10\n",
    "s=Slave(10)\n",
    "s.\n",
    "\n",
    "\n"
   ],
   "metadata": {
    "collapsed": false,
    "pycharm": {
     "name": "#%%\n"
    }
   }
  },
  {
   "cell_type": "code",
   "execution_count": 30,
   "outputs": [
    {
     "name": "stdout",
     "output_type": "stream",
     "text": [
      "D called\n",
      "A called\n"
     ]
    }
   ],
   "source": [
    "\"\"\"Это MRO\n",
    "D->super->A->super->B->super->C->super->O\"\"\"\n",
    "class O:\n",
    "    def method(self):\n",
    "        print('I am O')\n",
    "class A(O):\n",
    "    def method(self):\n",
    "        print('A called')\n",
    "        super().method()\n",
    "        print('I am A')\n",
    "class B(O):\n",
    "    def method(self):\n",
    "        print('B called')\n",
    "        super().method()\n",
    "        print('I am B')\n",
    "class C(O):\n",
    "    def method(self):\n",
    "        print('C called')\n",
    "        # super().method()\n",
    "        # print('I am C')\n",
    "class D(A, B, C):\n",
    "    def method(self):\n",
    "        print('D called')\n",
    "        super().method()\n",
    "        print('I am D')\n",
    "D().method()"
   ],
   "metadata": {
    "collapsed": false,
    "pycharm": {
     "name": "#%%\n"
    }
   }
  },
  {
   "cell_type": "code",
   "execution_count": 6,
   "outputs": [
    {
     "name": "stdout",
     "output_type": "stream",
     "text": [
      "0\n",
      "1\n",
      "2\n",
      "4\n",
      "5\n"
     ]
    }
   ],
   "source": [
    "a=[0,4,5,2,1]\n",
    "s=3\n",
    "v=set(a)\n",
    "for i in v:\n",
    "    print(i)"
   ],
   "metadata": {
    "collapsed": false,
    "pycharm": {
     "name": "#%%\n"
    }
   }
  },
  {
   "cell_type": "code",
   "execution_count": 1,
   "outputs": [
    {
     "ename": "ValueError",
     "evalue": "Неверный тип значения",
     "output_type": "error",
     "traceback": [
      "\u001B[1;31m---------------------------------------------------------------------------\u001B[0m",
      "\u001B[1;31mValueError\u001B[0m                                Traceback (most recent call last)",
      "\u001B[1;32m~\\AppData\\Local\\Temp/ipykernel_15728/1353586958.py\u001B[0m in \u001B[0;36m<module>\u001B[1;34m\u001B[0m\n\u001B[0;32m     38\u001B[0m             \u001B[1;32mraise\u001B[0m \u001B[0mValueError\u001B[0m\u001B[1;33m(\u001B[0m\u001B[1;34m\"Неверный тип значения\"\u001B[0m\u001B[1;33m)\u001B[0m\u001B[1;33m\u001B[0m\u001B[1;33m\u001B[0m\u001B[0m\n\u001B[0;32m     39\u001B[0m \u001B[0mt\u001B[0m\u001B[1;33m=\u001B[0m\u001B[0mPoint2D\u001B[0m\u001B[1;33m(\u001B[0m\u001B[1;36m1\u001B[0m\u001B[1;33m,\u001B[0m\u001B[1;36m2\u001B[0m\u001B[1;33m)\u001B[0m\u001B[1;33m\u001B[0m\u001B[1;33m\u001B[0m\u001B[0m\n\u001B[1;32m---> 40\u001B[1;33m \u001B[0mt\u001B[0m\u001B[1;33m.\u001B[0m\u001B[0mx\u001B[0m\u001B[1;33m=\u001B[0m\u001B[1;33m-\u001B[0m\u001B[1;36m1.2\u001B[0m\u001B[1;33m\u001B[0m\u001B[1;33m\u001B[0m\u001B[0m\n\u001B[0m\u001B[0;32m     41\u001B[0m \u001B[0mt\u001B[0m\u001B[1;33m.\u001B[0m\u001B[0m__dict__\u001B[0m\u001B[1;33m\u001B[0m\u001B[1;33m\u001B[0m\u001B[0m\n\u001B[0;32m     42\u001B[0m \u001B[1;33m\u001B[0m\u001B[0m\n",
      "\u001B[1;32m~\\AppData\\Local\\Temp/ipykernel_15728/1353586958.py\u001B[0m in \u001B[0;36mx\u001B[1;34m(self, value)\u001B[0m\n\u001B[0;32m     24\u001B[0m             \u001B[0mself\u001B[0m\u001B[1;33m.\u001B[0m\u001B[0m__x\u001B[0m\u001B[1;33m=\u001B[0m\u001B[0mvalue\u001B[0m\u001B[1;33m\u001B[0m\u001B[1;33m\u001B[0m\u001B[0m\n\u001B[0;32m     25\u001B[0m         \u001B[1;32melse\u001B[0m\u001B[1;33m:\u001B[0m\u001B[1;33m\u001B[0m\u001B[1;33m\u001B[0m\u001B[0m\n\u001B[1;32m---> 26\u001B[1;33m             \u001B[1;32mraise\u001B[0m \u001B[0mValueError\u001B[0m\u001B[1;33m(\u001B[0m\u001B[1;34m\"Неверный тип значения\"\u001B[0m\u001B[1;33m)\u001B[0m\u001B[1;33m\u001B[0m\u001B[1;33m\u001B[0m\u001B[0m\n\u001B[0m\u001B[0;32m     27\u001B[0m \u001B[1;33m\u001B[0m\u001B[0m\n\u001B[0;32m     28\u001B[0m \u001B[1;33m\u001B[0m\u001B[0m\n",
      "\u001B[1;31mValueError\u001B[0m: Неверный тип значения"
     ]
    }
   ],
   "source": [
    "\"\"\"Дескрипторы\"\"\"\n",
    "\n",
    "class Point2D:\n",
    "    \"\"\"Пример неправильного класса,так как при увеличени\n",
    "    числа параметров - увеличивается число свойств функций.\n",
    "    Дескрипторы - решают эту проблему\"\"\"\n",
    "    def __init__(self,x,y):\n",
    "        self.__x=x\n",
    "        self.__y=y\n",
    "\n",
    "    @staticmethod\n",
    "    def __check_int_value(value):\n",
    "        if isinstance(value,int):\n",
    "          return True\n",
    "        else:\n",
    "            return False\n",
    "    @property\n",
    "    def x(self):\n",
    "        return self.__x\n",
    "\n",
    "    @x.setter\n",
    "    def x(self,value):\n",
    "        if self.__check_int_value(value):\n",
    "            self.__x=value\n",
    "        else:\n",
    "            raise ValueError(\"Неверный тип значения\")\n",
    "\n",
    "\n",
    "    @property\n",
    "    def y(self):\n",
    "        return self.__y\n",
    "\n",
    "    @y.setter\n",
    "    def y(self,value):\n",
    "        if self.__check_int_value(value):\n",
    "            self.__y=value\n",
    "        else:\n",
    "            raise ValueError(\"Неверный тип значения\")\n",
    "t=Point2D(1,2)\n",
    "t.x=-1.2\n",
    "t.__dict__"
   ],
   "metadata": {
    "collapsed": false,
    "pycharm": {
     "name": "#%%\n"
    }
   }
  },
  {
   "cell_type": "code",
   "execution_count": 1,
   "outputs": [
    {
     "name": "stdout",
     "output_type": "stream",
     "text": [
      "Печатаю _Point2D__x=1\n",
      "Печатаю _Point2D__y=2\n",
      "Печатаю _Point2D__y=5\n"
     ]
    },
    {
     "data": {
      "text/plain": "5"
     },
     "execution_count": 1,
     "metadata": {},
     "output_type": "execute_result"
    }
   ],
   "source": [
    "class SetValue:\n",
    "    \"\"\"класс дескриптор\"\"\"\n",
    "    def __set_name__(self, owner, name): #owner -ссылка на класс 2d\n",
    "        self.__name = f\"_{owner.__name__}__\"+name\n",
    "    def __get__(self,instance,owner):#instance -ссылка на класс 2d\n",
    "        # return instance.__dict__[self.__name]\n",
    "        return getattr(instance,self.__name)\n",
    "    def __set__(self, instance, value):#instance -ссылка на класс 2d\n",
    "        if self.__check_int_value(value):\n",
    "            print(f\"Печатаю {self.__name}={value}\")\n",
    "            # instance.__dict__[self.__name]=value\n",
    "            setattr(instance,self.__name,value)\n",
    "        else:\n",
    "            raise TypeError(\"На вход подан\"\n",
    "                            \" неверный тип данных\")\n",
    "    @staticmethod\n",
    "    def __check_int_value(value):\n",
    "        if isinstance(value,int):\n",
    "          return True\n",
    "        else:\n",
    "            return False\n",
    "class Point2D:\n",
    "    \"\"\"Пример правильного класса  сприменением дескриптора\"\"\"\n",
    "    __slots__ = (\"__x\",\"__y\")\n",
    "    x=SetValue()\n",
    "    y=SetValue()\n",
    "    def __init__(self,x,y):\n",
    "        self.x=x\n",
    "        self.y=y\n",
    "\n",
    "\n",
    "t=Point2D(1,2)\n",
    "# t._Point2D__x=17\n",
    "t.y=5\n",
    "t._Point2D__y\n",
    "# t.y"
   ],
   "metadata": {
    "collapsed": false,
    "pycharm": {
     "name": "#%%\n"
    }
   }
  },
  {
   "cell_type": "code",
   "execution_count": 5,
   "outputs": [
    {
     "data": {
      "text/plain": "529344067295497451"
     },
     "execution_count": 5,
     "metadata": {},
     "output_type": "execute_result"
    }
   ],
   "source": [
    "t.f=5"
   ],
   "metadata": {
    "collapsed": false,
    "pycharm": {
     "name": "#%%\n"
    }
   }
  },
  {
   "cell_type": "code",
   "execution_count": 3,
   "outputs": [
    {
     "ename": "TypeError",
     "evalue": "'int' object is not callable",
     "output_type": "error",
     "traceback": [
      "\u001B[1;31m---------------------------------------------------------------------------\u001B[0m",
      "\u001B[1;31mTypeError\u001B[0m                                 Traceback (most recent call last)",
      "\u001B[1;32m~\\AppData\\Local\\Temp/ipykernel_15872/3846707248.py\u001B[0m in \u001B[0;36m<module>\u001B[1;34m\u001B[0m\n\u001B[0;32m      9\u001B[0m     \u001B[1;32mreturn\u001B[0m \u001B[0mchain\u001B[0m\u001B[1;33m\u001B[0m\u001B[1;33m\u001B[0m\u001B[0m\n\u001B[0;32m     10\u001B[0m     \u001B[1;31m# return res\u001B[0m\u001B[1;33m\u001B[0m\u001B[1;33m\u001B[0m\u001B[1;33m\u001B[0m\u001B[0m\n\u001B[1;32m---> 11\u001B[1;33m \u001B[0mchain_sum\u001B[0m\u001B[1;33m(\u001B[0m\u001B[1;36m5\u001B[0m\u001B[1;33m)\u001B[0m\u001B[1;33m(\u001B[0m\u001B[1;36m1\u001B[0m\u001B[1;33m)\u001B[0m\u001B[1;33m(\u001B[0m\u001B[1;33m)\u001B[0m\u001B[1;33m\u001B[0m\u001B[1;33m\u001B[0m\u001B[0m\n\u001B[0m\u001B[0;32m     12\u001B[0m \u001B[1;33m\u001B[0m\u001B[0m\n",
      "\u001B[1;31mTypeError\u001B[0m: 'int' object is not callable"
     ]
    }
   ],
   "source": [
    "def chain_sum(val):\n",
    "    res=val\n",
    "    def chain(next_val=None):\n",
    "        nonlocal res\n",
    "        if next_val is None:\n",
    "            return res\n",
    "        res+=next_val\n",
    "        return res\n",
    "    return chain\n",
    "    # return res\n",
    "chain_sum(5)(1)()"
   ],
   "metadata": {
    "collapsed": false,
    "pycharm": {
     "name": "#%%\n"
    }
   }
  },
  {
   "cell_type": "code",
   "execution_count": 20,
   "outputs": [
    {
     "data": {
      "text/plain": "['__repr__',\n '__getattribute__',\n '__get__',\n '__init__',\n '__new__',\n '__thisclass__',\n '__self__',\n '__self_class__',\n '__doc__',\n '__hash__',\n '__str__',\n '__setattr__',\n '__delattr__',\n '__lt__',\n '__le__',\n '__eq__',\n '__ne__',\n '__gt__',\n '__ge__',\n '__reduce_ex__',\n '__reduce__',\n '__subclasshook__',\n '__init_subclass__',\n '__format__',\n '__sizeof__',\n '__dir__',\n '__class__']"
     },
     "execution_count": 20,
     "metadata": {},
     "output_type": "execute_result"
    }
   ],
   "source": [
    "super(int).__dir__()"
   ],
   "metadata": {
    "collapsed": false,
    "pycharm": {
     "name": "#%%\n"
    }
   }
  }
 ],
 "metadata": {
  "kernelspec": {
   "name": "python3",
   "language": "python",
   "display_name": "Python 3 (ipykernel)"
  },
  "language_info": {
   "codemirror_mode": {
    "name": "ipython",
    "version": 2
   },
   "file_extension": ".py",
   "mimetype": "text/x-python",
   "name": "python",
   "nbconvert_exporter": "python",
   "pygments_lexer": "ipython2",
   "version": "2.7.6"
  }
 },
 "nbformat": 4,
 "nbformat_minor": 0
}