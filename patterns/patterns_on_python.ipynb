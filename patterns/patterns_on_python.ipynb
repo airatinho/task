{
 "cells": [
  {
   "cell_type": "code",
   "execution_count": null,
   "metadata": {
    "collapsed": true
   },
   "outputs": [],
   "source": [
    "\"\"\"создание синглетона\"\"\"\n",
    "class Singleton:\n",
    "    __instance=None\n",
    "    def __new__(cls, *args, **kwargs):\n",
    "        if not isinstance(cls.__instance,cls):\n",
    "            cls.__instance=super(Singleton,cls).__new__(cls)\n",
    "\n",
    "        else:\n",
    "            print(\"ex exist\")\n"
   ]
  },
  {
   "cell_type": "code",
   "execution_count": null,
   "outputs": [],
   "source": [
    "\"\"\"класс регистр\"\"\"\n"
   ],
   "metadata": {
    "collapsed": false,
    "pycharm": {
     "name": "#%%\n"
    }
   }
  },
  {
   "cell_type": "code",
   "execution_count": null,
   "outputs": [],
   "source": [
    "\"\"\"класс фабрика - она выдает все готовое \"\"\"\n"
   ],
   "metadata": {
    "collapsed": false,
    "pycharm": {
     "name": "#%%\n"
    }
   }
  },
  {
   "cell_type": "code",
   "execution_count": 1,
   "outputs": [
    {
     "name": "stdout",
     "output_type": "stream",
     "text": [
      "<ul>\n",
      "  <li>\n",
      "    Hello\n",
      "  </li>\n",
      "  <li>\n",
      "    world\n",
      "  </li>\n",
      "</ul>\n"
     ]
    }
   ],
   "source": [
    "\"\"\"класс строитель - в нем идет процесс производства  \"\"\"\n",
    "class HtmlElement:\n",
    "    ident_size=2\n",
    "    def __init__(self,name:str=\"\",text:str=\"\"):\n",
    "        self.text=text\n",
    "        self.name=name\n",
    "        self.elements=[]\n",
    "    def __str(self,indent:int):\n",
    "        lines=[]\n",
    "        i=\" \"*(indent*self.ident_size)\n",
    "        lines.append(f\"{i}<{self.name}>\")\n",
    "        if self.text:\n",
    "            i1=\" \"*((indent+1)*self.ident_size)\n",
    "            lines.append(f\"{i1}{self.text}\")\n",
    "        for e in self.elements:\n",
    "            lines.append(e.__str(indent+1))\n",
    "        lines.append(f\"{i}</{self.name}>\")\n",
    "        return  '\\n'.join(lines)\n",
    "    def __str__(self):\n",
    "        return self.__str(0)\n",
    "class HtmlBuilder:\n",
    "    def __init__(self,root_name):\n",
    "        self.root_name=root_name\n",
    "        self.__root=HtmlElement(name=root_name)\n",
    "    def add_child(self,child_name,child_text):\n",
    "        self.__root.elements.append(\n",
    "            HtmlElement(child_name,child_text)\n",
    "        )\n",
    "    def __str__(self):\n",
    "        return str(self.__root)\n",
    "builder=HtmlBuilder('ul')\n",
    "builder.add_child('li','Hello')\n",
    "builder.add_child('li','world')\n",
    "print(builder)"
   ],
   "metadata": {
    "collapsed": false,
    "pycharm": {
     "name": "#%%\n"
    }
   }
  },
  {
   "cell_type": "code",
   "execution_count": 6,
   "outputs": [
    {
     "name": "stdout",
     "output_type": "stream",
     "text": [
      "John live at 123 London Road, London, UK\n",
      "John live at 123 London Road, London, UK\n",
      "Jane live at 123 London Road, London, UK\n"
     ]
    }
   ],
   "source": [
    "import copy\n",
    "\"\"\"класс прототип - выдает прототип того, что на входе \"\"\"\n",
    "class Address:\n",
    "    def __init__(self,street_address,city,country):\n",
    "        self.city = city\n",
    "        self.street_address = street_address\n",
    "        self.country = country\n",
    "    def __str__(self):\n",
    "        return f\"{self.street_address}, {self.city}\" \\\n",
    "               f\", {self.country}\"\n",
    "class Person:\n",
    "    def __init__(self,name,address):\n",
    "        self.name = name\n",
    "        self.address = address\n",
    "    def __str__(self):\n",
    "        return f\"{self.name} live at {self.address}\"\n",
    "address = Address(\"123 London Road\",\"London\",\"UK\")\n",
    "john=Person(\"John\",address)\n",
    "print(john)\n",
    "jane=copy.copy(john)\n",
    "jane.name='Jane'\n",
    "print(john)\n",
    "print(jane)"
   ],
   "metadata": {
    "collapsed": false,
    "pycharm": {
     "name": "#%%\n"
    }
   }
  },
  {
   "cell_type": "code",
   "execution_count": 13,
   "outputs": [
    {
     "name": "stdout",
     "output_type": "stream",
     "text": [
      "x :5, y :5 x :1.4183109273161312, y :-4.794621373315692\n"
     ]
    }
   ],
   "source": [
    "\"\"\"Фабричный метод\"\"\"\n",
    "from math import sin,cos\n",
    "\n",
    "class Point:\n",
    "    def __init__(self,x,y):\n",
    "        self.x = x\n",
    "        self.y = y\n",
    "    def __str__(self):\n",
    "        return f\"x :{self.x}, y :{self.y}\"\n",
    "    @staticmethod\n",
    "    def new_cartesian_point(x,y):\n",
    "        return Point(x,y)\n",
    "    @staticmethod\n",
    "    def new_polar_point(rho,theta):\n",
    "        return Point(rho*cos(theta),rho*sin(theta))\n",
    "pt=Point(5,5)\n",
    "pt2=Point.new_polar_point(5,5)\n",
    "print(pt,pt2)"
   ],
   "metadata": {
    "collapsed": false,
    "pycharm": {
     "name": "#%%\n"
    }
   }
  },
  {
   "cell_type": "code",
   "execution_count": 1,
   "outputs": [],
   "source": [
    "\"\"\"Паттерн проектирования -\n",
    "Моносостояние = много экземпляров класса,\n",
    "изменение в одном из них приведет к такому же изменению в других\"\"\"\n",
    "\n",
    "class ThreadData:\n",
    "    __shared_attrs={\n",
    "        \"name\":\"thread1:\",\n",
    "        \"data\":{},\n",
    "        \"id\":1\n",
    "    }\n",
    "    def __init__(self):\n",
    "        self.__dict__=self.__shared_attrs\n",
    "thr1=ThreadData()\n",
    "thr2=ThreadData()\n",
    "thr2.id=5\n",
    "thr2.creator='Ayratinho'"
   ],
   "metadata": {
    "collapsed": false,
    "pycharm": {
     "name": "#%%\n"
    }
   }
  },
  {
   "cell_type": "code",
   "execution_count": 3,
   "outputs": [
    {
     "data": {
      "text/plain": "{'name': 'thread1:', 'data': {}, 'id': 5, 'creator': 'Ayratinho'}"
     },
     "execution_count": 3,
     "metadata": {},
     "output_type": "execute_result"
    }
   ],
   "source": [
    "thr1.__dict__"
   ],
   "metadata": {
    "collapsed": false,
    "pycharm": {
     "name": "#%%\n"
    }
   }
  }
 ],
 "metadata": {
  "kernelspec": {
   "display_name": "Python 3",
   "language": "python",
   "name": "python3"
  },
  "language_info": {
   "codemirror_mode": {
    "name": "ipython",
    "version": 2
   },
   "file_extension": ".py",
   "mimetype": "text/x-python",
   "name": "python",
   "nbconvert_exporter": "python",
   "pygments_lexer": "ipython2",
   "version": "2.7.6"
  }
 },
 "nbformat": 4,
 "nbformat_minor": 0
}