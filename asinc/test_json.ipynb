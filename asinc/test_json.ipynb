{
 "cells": [
  {
   "cell_type": "code",
   "execution_count": 1,
   "metadata": {
    "collapsed": true
   },
   "outputs": [],
   "source": [
    "import os\n",
    "import json\n",
    "import asyncio"
   ]
  },
  {
   "cell_type": "code",
   "execution_count": 2,
   "outputs": [
    {
     "data": {
      "text/plain": "3"
     },
     "execution_count": 2,
     "metadata": {},
     "output_type": "execute_result"
    }
   ],
   "source": [
    "path=\"jsons/\"\n",
    "num_f=len(os.listdir(path))\n",
    "num_f"
   ],
   "metadata": {
    "collapsed": false,
    "pycharm": {
     "name": "#%%\n"
    }
   }
  },
  {
   "cell_type": "code",
   "execution_count": 47,
   "outputs": [
    {
     "data": {
      "text/plain": "{'1': [{'id': 1, 'name': 'Test 1'},\n  {'id': 2, 'name': 'Test 2'},\n  {'id': 3, 'name': 'Test 3'},\n  {'id': 4, 'name': 'Test 4'},\n  {'id': 5, 'name': 'Test 5'},\n  {'id': 6, 'name': 'Test 6'},\n  {'id': 7, 'name': 'Test 7'},\n  {'id': 8, 'name': 'Test 8'},\n  {'id': 9, 'name': 'Test 9'},\n  {'id': 10, 'name': 'Test 10'},\n  {'id': 31, 'name': 'Test 31'},\n  {'id': 32, 'name': 'Test 32'},\n  {'id': 33, 'name': 'Test 33'},\n  {'id': 34, 'name': 'Test 34'},\n  {'id': 35, 'name': 'Test 35'},\n  {'id': 36, 'name': 'Test 36'},\n  {'id': 37, 'name': 'Test 37'},\n  {'id': 38, 'name': 'Test 38'},\n  {'id': 39, 'name': 'Test 39'},\n  {'id': 40, 'name': 'Test 40'}]}"
     },
     "execution_count": 47,
     "metadata": {},
     "output_type": "execute_result"
    }
   ],
   "source": [
    "data = json.load(open(\"jsons/source_1.json\",encoding=\"utf-8\"))\n",
    "data"
   ],
   "metadata": {
    "collapsed": false,
    "pycharm": {
     "name": "#%%\n"
    }
   }
  },
  {
   "cell_type": "code",
   "execution_count": 1,
   "outputs": [],
   "source": [
    "def qw(a=[]):\n",
    "   a.append(1)\n",
    "   print(a)"
   ],
   "metadata": {
    "collapsed": false,
    "pycharm": {
     "name": "#%%\n"
    }
   }
  },
  {
   "cell_type": "code",
   "execution_count": 7,
   "outputs": [
    {
     "name": "stdout",
     "output_type": "stream",
     "text": [
      "[1, 1, 1]\n"
     ]
    }
   ],
   "source": [
    "qw()"
   ],
   "metadata": {
    "collapsed": false,
    "pycharm": {
     "name": "#%%\n"
    }
   }
  },
  {
   "cell_type": "code",
   "execution_count": null,
   "outputs": [],
   "source": [
    "data[\"1\"][0]"
   ],
   "metadata": {
    "collapsed": false,
    "pycharm": {
     "name": "#%%\n"
    }
   }
  },
  {
   "cell_type": "code",
   "execution_count": 58,
   "outputs": [],
   "source": [
    "results=[]"
   ],
   "metadata": {
    "collapsed": false,
    "pycharm": {
     "name": "#%%\n"
    }
   }
  },
  {
   "cell_type": "code",
   "execution_count": 59,
   "outputs": [
    {
     "data": {
      "text/plain": "[{'id': 1, 'name': 'Test 1'},\n {'id': 2, 'name': 'Test 2'},\n {'id': 3, 'name': 'Test 3'},\n {'id': 4, 'name': 'Test 4'},\n {'id': 5, 'name': 'Test 5'},\n {'id': 6, 'name': 'Test 6'},\n {'id': 7, 'name': 'Test 7'},\n {'id': 8, 'name': 'Test 8'},\n {'id': 9, 'name': 'Test 9'},\n {'id': 10, 'name': 'Test 10'},\n {'id': 31, 'name': 'Test 31'},\n {'id': 32, 'name': 'Test 32'},\n {'id': 33, 'name': 'Test 33'},\n {'id': 34, 'name': 'Test 34'},\n {'id': 35, 'name': 'Test 35'},\n {'id': 36, 'name': 'Test 36'},\n {'id': 37, 'name': 'Test 37'},\n {'id': 38, 'name': 'Test 38'},\n {'id': 39, 'name': 'Test 39'},\n {'id': 40, 'name': 'Test 40'}]"
     },
     "execution_count": 59,
     "metadata": {},
     "output_type": "execute_result"
    }
   ],
   "source": [
    "data.get(str(1))"
   ],
   "metadata": {
    "collapsed": false,
    "pycharm": {
     "name": "#%%\n"
    }
   }
  },
  {
   "cell_type": "code",
   "execution_count": 60,
   "outputs": [],
   "source": [
    "results.extend(data.get(str(1)))"
   ],
   "metadata": {
    "collapsed": false,
    "pycharm": {
     "name": "#%%\n"
    }
   }
  },
  {
   "cell_type": "code",
   "execution_count": 61,
   "outputs": [
    {
     "data": {
      "text/plain": "[{'id': 1, 'name': 'Test 1'},\n {'id': 2, 'name': 'Test 2'},\n {'id': 3, 'name': 'Test 3'},\n {'id': 4, 'name': 'Test 4'},\n {'id': 5, 'name': 'Test 5'},\n {'id': 6, 'name': 'Test 6'},\n {'id': 7, 'name': 'Test 7'},\n {'id': 8, 'name': 'Test 8'},\n {'id': 9, 'name': 'Test 9'},\n {'id': 10, 'name': 'Test 10'},\n {'id': 31, 'name': 'Test 31'},\n {'id': 32, 'name': 'Test 32'},\n {'id': 33, 'name': 'Test 33'},\n {'id': 34, 'name': 'Test 34'},\n {'id': 35, 'name': 'Test 35'},\n {'id': 36, 'name': 'Test 36'},\n {'id': 37, 'name': 'Test 37'},\n {'id': 38, 'name': 'Test 38'},\n {'id': 39, 'name': 'Test 39'},\n {'id': 40, 'name': 'Test 40'}]"
     },
     "execution_count": 61,
     "metadata": {},
     "output_type": "execute_result"
    }
   ],
   "source": [
    "results"
   ],
   "metadata": {
    "collapsed": false,
    "pycharm": {
     "name": "#%%\n"
    }
   }
  },
  {
   "cell_type": "code",
   "execution_count": 62,
   "outputs": [],
   "source": [
    "results = sorted(results, key=lambda k: k['id'])"
   ],
   "metadata": {
    "collapsed": false,
    "pycharm": {
     "name": "#%%\n"
    }
   }
  },
  {
   "cell_type": "code",
   "execution_count": 63,
   "outputs": [
    {
     "data": {
      "text/plain": "[{'id': 1, 'name': 'Test 1'},\n {'id': 2, 'name': 'Test 2'},\n {'id': 3, 'name': 'Test 3'},\n {'id': 4, 'name': 'Test 4'},\n {'id': 5, 'name': 'Test 5'},\n {'id': 6, 'name': 'Test 6'},\n {'id': 7, 'name': 'Test 7'},\n {'id': 8, 'name': 'Test 8'},\n {'id': 9, 'name': 'Test 9'},\n {'id': 10, 'name': 'Test 10'},\n {'id': 31, 'name': 'Test 31'},\n {'id': 32, 'name': 'Test 32'},\n {'id': 33, 'name': 'Test 33'},\n {'id': 34, 'name': 'Test 34'},\n {'id': 35, 'name': 'Test 35'},\n {'id': 36, 'name': 'Test 36'},\n {'id': 37, 'name': 'Test 37'},\n {'id': 38, 'name': 'Test 38'},\n {'id': 39, 'name': 'Test 39'},\n {'id': 40, 'name': 'Test 40'}]"
     },
     "execution_count": 63,
     "metadata": {},
     "output_type": "execute_result"
    }
   ],
   "source": [
    "results\n"
   ],
   "metadata": {
    "collapsed": false,
    "pycharm": {
     "name": "#%%\n"
    }
   }
  },
  {
   "cell_type": "code",
   "execution_count": 78,
   "outputs": [],
   "source": [
    "results=[]\n",
    "async def m_funct(i:int)->None:\n",
    "    \"\"\"Сортирует айдишники из json от трех источников\"\"\"\n",
    "    # results=[]\n",
    "    global results\n",
    "\n",
    "    data = await asyncio.wait_for(\n",
    "        json.load(\n",
    "            open(f\"jsons/source_{i+1}.json\",encoding=\"utf-8\")\n",
    "        )\n",
    "    )#ошибка таймаута 2 секунды, после которых падаем в ошибку asyncio.TimeoutError\n",
    "    await results.extend(data.get(str(i+1)))\n",
    "\n",
    "\n",
    "\n",
    "async def hello_world():\n",
    "\n",
    "    global results\n",
    "\n",
    "    for i in range(num_f):\n",
    "        try:\n",
    "            task= await asyncio.create_task(await m_funct(i))\n",
    "            print(f\"task{i} created\")\n",
    "            print(await task.result())\n",
    "        except Exception:\n",
    "            continue\n",
    "\n",
    "    result=sorted(await results, key= itemgetter('id'))\n",
    "    return f\"{await result}\"\n",
    "\n",
    "# asyncio.create_task(hello_world())"
   ],
   "metadata": {
    "collapsed": false,
    "pycharm": {
     "name": "#%%\n"
    }
   }
  },
  {
   "cell_type": "code",
   "execution_count": 79,
   "outputs": [
    {
     "name": "stderr",
     "output_type": "stream",
     "text": [
      "<ipython-input-79-3fdfca30f9e1>:1: RuntimeWarning: coroutine 'hello_world' was never awaited\n",
      "  t=hello_world()\n",
      "RuntimeWarning: Enable tracemalloc to get the object allocation traceback\n"
     ]
    }
   ],
   "source": [
    "t=hello_world()"
   ],
   "metadata": {
    "collapsed": false,
    "pycharm": {
     "name": "#%%\n"
    }
   }
  },
  {
   "cell_type": "code",
   "execution_count": 47,
   "outputs": [
    {
     "ename": "AttributeError",
     "evalue": "'coroutine' object has no attribute '__anext__'",
     "output_type": "error",
     "traceback": [
      "\u001B[1;31m---------------------------------------------------------------------------\u001B[0m",
      "\u001B[1;31mAttributeError\u001B[0m                            Traceback (most recent call last)",
      "\u001B[1;32m<ipython-input-47-f048fdbd5537>\u001B[0m in \u001B[0;36m<module>\u001B[1;34m\u001B[0m\n\u001B[1;32m----> 1\u001B[1;33m \u001B[1;32mawait\u001B[0m \u001B[0mt\u001B[0m\u001B[1;33m.\u001B[0m\u001B[0m__anext__\u001B[0m\u001B[1;33m(\u001B[0m\u001B[1;33m)\u001B[0m\u001B[1;33m\u001B[0m\u001B[1;33m\u001B[0m\u001B[0m\n\u001B[0m",
      "\u001B[1;31mAttributeError\u001B[0m: 'coroutine' object has no attribute '__anext__'"
     ]
    }
   ],
   "source": [
    "await t.__anext__()"
   ],
   "metadata": {
    "collapsed": false,
    "pycharm": {
     "name": "#%%\n"
    }
   }
  },
  {
   "cell_type": "code",
   "execution_count": 125,
   "outputs": [
    {
     "name": "stderr",
     "output_type": "stream",
     "text": [
      "Exception in thread Thread-10:\n",
      "Traceback (most recent call last):\n",
      "  File \"C:\\Users\\karim\\Anaconda3\\lib\\threading.py\", line 932, in _bootstrap_inner\n",
      "Exception in thread     self.run()\n",
      "  File \"<ipython-input-125-2e7385a40c1a>\", line 16, in run\n",
      "Thread-11:\n",
      "Traceback (most recent call last):\n",
      "  File \"C:\\Users\\karim\\Anaconda3\\lib\\threading.py\", line 932, in _bootstrap_inner\n",
      "Exception in thread Thread-12:\n",
      "Traceback (most recent call last):\n",
      "  File \"C:\\Users\\karim\\Anaconda3\\lib\\threading.py\", line 932, in _bootstrap_inner\n",
      "    self.run()\n",
      "  File \"<ipython-input-125-2e7385a40c1a>\", line 16, in run\n",
      "    self.run()\n",
      "  File \"<ipython-input-125-2e7385a40c1a>\", line 16, in run\n",
      "TypeError: 'NoneType' object is not iterable\n",
      "TypeError: 'NoneType' object is not iterable\n",
      "TypeError: 'NoneType' object is not iterable\n"
     ]
    },
    {
     "name": "stdout",
     "output_type": "stream",
     "text": [
      "Start task\n",
      "[{'id': 1, 'name': 'Test 1'}, {'id': 2, 'name': 'Test 2'}, {'id': 3, 'name': 'Test 3'}, {'id': 4, 'name': 'Test 4'}, {'id': 5, 'name': 'Test 5'}, {'id': 6, 'name': 'Test 6'}, {'id': 7, 'name': 'Test 7'}, {'id': 8, 'name': 'Test 8'}, {'id': 9, 'name': 'Test 9'}, {'id': 10, 'name': 'Test 10'}, {'id': 31, 'name': 'Test 31'}, {'id': 32, 'name': 'Test 32'}, {'id': 33, 'name': 'Test 33'}, {'id': 34, 'name': 'Test 34'}, {'id': 35, 'name': 'Test 35'}, {'id': 36, 'name': 'Test 36'}, {'id': 37, 'name': 'Test 37'}, {'id': 38, 'name': 'Test 38'}, {'id': 39, 'name': 'Test 39'}, {'id': 40, 'name': 'Test 40'}]\n"
     ]
    }
   ],
   "source": [
    "import threading\n",
    "\n",
    "class myThread(threading.Thread):\n",
    "    def __init__(self, ind, lock):\n",
    "        threading.Thread.__init__(self)\n",
    "        threading.TIMEOUT_MAX=2\n",
    "        self.ind = ind\n",
    "        self.lock = lock\n",
    "\n",
    "    def run(self):\n",
    "        global results\n",
    "        with open(f'jsons/source_{self.ind+1}.json',encoding=\"utf-8\") as data_file:\n",
    "            data = json.load(data_file)\n",
    "\n",
    "        with self.lock:\n",
    "            results.extend(data.get(str(self.ind)))\n",
    "\n",
    "\n",
    "\n",
    "def test_task():\n",
    "    global results\n",
    "    print(\"Start task\")\n",
    "    lock = threading.Lock()\n",
    "    threads = [myThread(x, lock) for x in range(num_f)]\n",
    "    for t in threads:\n",
    "        t.start()\n",
    "    for t in threads:\n",
    "        t.join()\n",
    "    results = sorted(results, key=lambda k: k['id'])\n",
    "    print(results)\n",
    "test_task()"
   ],
   "metadata": {
    "collapsed": false,
    "pycharm": {
     "name": "#%%\n"
    }
   }
  },
  {
   "cell_type": "code",
   "execution_count": 40,
   "outputs": [],
   "source": [
    "def m_funct1(num_f:int)->list:\n",
    "    \"\"\"Сортирует айдишники из json от трех источников\"\"\"\n",
    "    results=[]\n",
    "    for i in range(num_f):\n",
    "        try:\n",
    "            data = json.load(\n",
    "                    open(f\"jsons/source_{i+1}.json\",encoding=\"utf-8\")\n",
    "                )#ошибка таймаута 2 секунды, после которых падаем в ошибку asyncio.TimeoutError\n",
    "            results.extend( data.get(str(i+1)))\n",
    "        except Exception:\n",
    "            continue\n",
    "    return  sorted(results,key=lambda k: k['id'])\n",
    "\n"
   ],
   "metadata": {
    "collapsed": false,
    "pycharm": {
     "name": "#%%\n"
    }
   }
  },
  {
   "cell_type": "code",
   "execution_count": 61,
   "outputs": [
    {
     "data": {
      "text/plain": "[{'id': 1, 'name': 'Test 1'},\n {'id': 2, 'name': 'Test 2'},\n {'id': 3, 'name': 'Test 3'},\n {'id': 4, 'name': 'Test 4'},\n {'id': 5, 'name': 'Test 5'},\n {'id': 6, 'name': 'Test 6'},\n {'id': 7, 'name': 'Test 7'},\n {'id': 8, 'name': 'Test 8'},\n {'id': 9, 'name': 'Test 9'},\n {'id': 10, 'name': 'Test 10'},\n {'id': 11, 'name': 'Test 11'},\n {'id': 12, 'name': 'Test 12'},\n {'id': 13, 'name': 'Test 13'},\n {'id': 14, 'name': 'Test 14'},\n {'id': 15, 'name': 'Test 15'},\n {'id': 16, 'name': 'Test 16'},\n {'id': 17, 'name': 'Test 17'},\n {'id': 18, 'name': 'Test 18'},\n {'id': 19, 'name': 'Test 19'},\n {'id': 20, 'name': 'Test 20'},\n {'id': 21, 'name': 'Test 21'},\n {'id': 22, 'name': 'Test 22'},\n {'id': 23, 'name': 'Test 23'},\n {'id': 24, 'name': 'Test 24'},\n {'id': 25, 'name': 'Test 25'},\n {'id': 26, 'name': 'Test 26'},\n {'id': 27, 'name': 'Test 27'},\n {'id': 28, 'name': 'Test 28'},\n {'id': 29, 'name': 'Test 29'},\n {'id': 30, 'name': 'Test 30'},\n {'id': 31, 'name': 'Test 31'},\n {'id': 32, 'name': 'Test 32'},\n {'id': 33, 'name': 'Test 33'},\n {'id': 34, 'name': 'Test 34'},\n {'id': 35, 'name': 'Test 35'},\n {'id': 36, 'name': 'Test 36'},\n {'id': 37, 'name': 'Test 37'},\n {'id': 38, 'name': 'Test 38'},\n {'id': 39, 'name': 'Test 39'},\n {'id': 40, 'name': 'Test 40'},\n {'id': 41, 'name': 'Test 41'},\n {'id': 42, 'name': 'Test 42'},\n {'id': 43, 'name': 'Test 43'},\n {'id': 44, 'name': 'Test 44'},\n {'id': 45, 'name': 'Test 45'},\n {'id': 46, 'name': 'Test 46'},\n {'id': 47, 'name': 'Test 47'},\n {'id': 48, 'name': 'Test 48'},\n {'id': 49, 'name': 'Test 49'},\n {'id': 50, 'name': 'Test 50'},\n {'id': 51, 'name': 'Test 51'},\n {'id': 52, 'name': 'Test 52'},\n {'id': 53, 'name': 'Test 53'},\n {'id': 54, 'name': 'Test 54'},\n {'id': 55, 'name': 'Test 55'},\n {'id': 56, 'name': 'Test 56'},\n {'id': 57, 'name': 'Test 57'},\n {'id': 58, 'name': 'Test 58'},\n {'id': 59, 'name': 'Test 59'},\n {'id': 60, 'name': 'Test 60'}]"
     },
     "execution_count": 61,
     "metadata": {},
     "output_type": "execute_result"
    }
   ],
   "source": [
    "afa=m_funct1(num_f)\n",
    "afa"
   ],
   "metadata": {
    "collapsed": false,
    "pycharm": {
     "name": "#%%\n"
    }
   }
  },
  {
   "cell_type": "code",
   "execution_count": 67,
   "outputs": [
    {
     "data": {
      "text/plain": "[1,\n 2,\n 3,\n 4,\n 5,\n 6,\n 7,\n 8,\n 9,\n 10,\n 11,\n 12,\n 13,\n 14,\n 15,\n 16,\n 17,\n 18,\n 19,\n 20,\n 21,\n 22,\n 23,\n 24,\n 25,\n 26,\n 27,\n 28,\n 29,\n 30,\n 31,\n 32,\n 33,\n 34,\n 35,\n 36,\n 37,\n 38,\n 39,\n 40,\n 41,\n 42,\n 43,\n 44,\n 45,\n 46,\n 47,\n 48,\n 49,\n 50,\n 51,\n 52,\n 53,\n 54,\n 55,\n 56,\n 57,\n 58,\n 59,\n 60]"
     },
     "execution_count": 67,
     "metadata": {},
     "output_type": "execute_result"
    }
   ],
   "source": [
    "[afa[i]['id']for i in range(len(afa))]"
   ],
   "metadata": {
    "collapsed": false,
    "pycharm": {
     "name": "#%%\n"
    }
   }
  },
  {
   "cell_type": "code",
   "execution_count": 66,
   "outputs": [
    {
     "name": "stdout",
     "output_type": "stream",
     "text": [
      "1 Test 1\n",
      "2 Test 2\n",
      "3 Test 3\n",
      "4 Test 4\n",
      "5 Test 5\n",
      "6 Test 6\n",
      "7 Test 7\n",
      "8 Test 8\n",
      "9 Test 9\n",
      "10 Test 10\n",
      "11 Test 11\n",
      "12 Test 12\n",
      "13 Test 13\n",
      "14 Test 14\n",
      "15 Test 15\n",
      "16 Test 16\n",
      "17 Test 17\n",
      "18 Test 18\n",
      "19 Test 19\n",
      "20 Test 20\n",
      "21 Test 21\n",
      "22 Test 22\n",
      "23 Test 23\n",
      "24 Test 24\n",
      "25 Test 25\n",
      "26 Test 26\n",
      "27 Test 27\n",
      "28 Test 28\n",
      "29 Test 29\n",
      "30 Test 30\n",
      "31 Test 31\n",
      "32 Test 32\n",
      "33 Test 33\n",
      "34 Test 34\n",
      "35 Test 35\n",
      "36 Test 36\n",
      "37 Test 37\n",
      "38 Test 38\n",
      "39 Test 39\n",
      "40 Test 40\n",
      "41 Test 41\n",
      "42 Test 42\n",
      "43 Test 43\n",
      "44 Test 44\n",
      "45 Test 45\n",
      "46 Test 46\n",
      "47 Test 47\n",
      "48 Test 48\n",
      "49 Test 49\n",
      "50 Test 50\n",
      "51 Test 51\n",
      "52 Test 52\n",
      "53 Test 53\n",
      "54 Test 54\n",
      "55 Test 55\n",
      "56 Test 56\n",
      "57 Test 57\n",
      "58 Test 58\n",
      "59 Test 59\n",
      "60 Test 60\n"
     ]
    }
   ],
   "source": [
    "for i in range(len(afa)):\n",
    "    print(afa[i]['id'],afa[i]['name'])\n"
   ],
   "metadata": {
    "collapsed": false,
    "pycharm": {
     "name": "#%%\n"
    }
   }
  },
  {
   "cell_type": "code",
   "execution_count": 68,
   "outputs": [],
   "source": [
    "from operator import itemgetter\n"
   ],
   "metadata": {
    "collapsed": false,
    "pycharm": {
     "name": "#%%\n"
    }
   }
  }
 ],
 "metadata": {
  "kernelspec": {
   "name": "python3",
   "language": "python",
   "display_name": "Python 3 (ipykernel)"
  },
  "language_info": {
   "codemirror_mode": {
    "name": "ipython",
    "version": 2
   },
   "file_extension": ".py",
   "mimetype": "text/x-python",
   "name": "python",
   "nbconvert_exporter": "python",
   "pygments_lexer": "ipython2",
   "version": "2.7.6"
  }
 },
 "nbformat": 4,
 "nbformat_minor": 0
}